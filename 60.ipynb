{
 "cells": [
  {
   "cell_type": "markdown",
   "id": "76e3954b-1478-4d8c-8826-bdb1611366bf",
   "metadata": {
    "vscode": {
     "languageId": "python"
    }
   },
   "source": [
    "### Configuring an auto-generated form \n",
    "\n",
    "We can add more settings in the Meta class. For instance we can have an attribute called labels, which accepts a dictionary as its value. The key, value pairs of this dictionary are 'field_name' as keys and 'desired_label' for the values, so if you have field called 'user_name' and you want to give it a label of 'Your Name' you should do as follows:"
   ]
  },
  {
   "cell_type": "code",
   "execution_count": null,
   "id": "6cd490be",
   "metadata": {},
   "outputs": [],
   "source": [
    "labels = { \"user_name\": \"Your Name\" }"
   ]
  },
  {
   "cell_type": "markdown",
   "id": "c55bab7a",
   "metadata": {},
   "source": [
    "Configure you ReviewForm class and its Meta class so that it sets the following labels for their fields.<br>\n",
    "\n",
    "- \"user_name\": \"Your Name\"\n",
    "- \"review_text\": \"Your Feedback\"\n",
    "- \"rating\": \"Your Rating\"\n",
    "\n",
    "Your ReviewForm Class Should look like the following block:"
   ]
  },
  {
   "cell_type": "code",
   "execution_count": null,
   "id": "81a33f19",
   "metadata": {},
   "outputs": [],
   "source": [
    "from django import forms\n",
    "from .models import Review\n",
    "\n",
    "class ReviewForm(forms.ModelForm):\n",
    "    class Meta:\n",
    "        model = Review\n",
    "        # fields = '__all__'\n",
    "        fields = ['user_name', 'review_text', 'rating']\n",
    "        # exclude = ['field1', 'field2', ...]\n",
    "        labels = {\n",
    "            'user_name': 'Your Name',\n",
    "            'review_text': 'Your Feedback',\n",
    "            'rating': \"Your Rating (out of 10)\"\n",
    "        }"
   ]
  },
  {
   "cell_type": "markdown",
   "id": "1a65c908",
   "metadata": {},
   "source": [
    "What else we can configure? well, you could do the same thing that you have done with the lebls, with the errors.<br>\n",
    "The name of attribute you need to modify here is 'error_messages' and this also accepts a dictionary but with a little difference.<br>\n",
    "The difference is that as the key of the dictionary you need to pass the field name, but for the value you need to pass a dictionary of rule:message, so for example, if you want to set a message like 'You can Not leave this field empty!' for the required rule of the field called 'user_name', you should do as follows:"
   ]
  },
  {
   "cell_type": "code",
   "execution_count": null,
   "id": "bc2919a5",
   "metadata": {},
   "outputs": [],
   "source": [
    "error_messages = {\n",
    "    \"user_name\": {\n",
    "        \"required\":\"You can Not leave this field empty!\"\n",
    "    }\n",
    "}"
   ]
  },
  {
   "cell_type": "markdown",
   "id": "30c4dc8b",
   "metadata": {},
   "source": [
    "Go a head a set your desired error messages.\n",
    "\n",
    "My error_messages attribute is look like the following block:"
   ]
  },
  {
   "cell_type": "code",
   "execution_count": null,
   "id": "02458d34",
   "metadata": {},
   "outputs": [],
   "source": [
    "from django import forms\n",
    "from .models import Review\n",
    "\n",
    "class ReviewForm(forms.ModelForm):\n",
    "    class Meta:\n",
    "        model = Review\n",
    "        # fields = '__all__'\n",
    "        fields = ['user_name', 'review_text', 'rating']\n",
    "        # exclude = ['field1', 'field2', ...]\n",
    "        labels = {\n",
    "            'user_name': 'Your Name',\n",
    "            'review_text': 'Your Feedback',\n",
    "            'rating': \"Your Rating (out of 10)\"\n",
    "        }\n",
    "        error_messages = {\n",
    "            \"user_name\": {\n",
    "                \"required\":\"You can Not leave this field empty!\",\n",
    "                \"max_length\": \"Your name can not exceed 100 characters!\"\n",
    "            },\n",
    "            \"review_text\":{\n",
    "                \"required\":\"You can NOT leave this field empty!\"\n",
    "            },\n",
    "            \"rating\":{\n",
    "                \"required\":\"You can NOT leave this field empty!\"\n",
    "            }\n",
    "        }"
   ]
  },
  {
   "cell_type": "markdown",
   "id": "460b6572",
   "metadata": {},
   "source": [
    "What you may ask here is that how are we suppose to target fields with validators and write error messages for them?<br>\n",
    "\n",
    "Well, to do this you can not use the form class! instead you need to go to your model class and after the integer value you provided for that specific validator, you will provide an argument called message and assign it with the error message that you desire.<br>\n",
    "\n",
    "Here is how I have achieved this in my models.py file:"
   ]
  },
  {
   "cell_type": "code",
   "execution_count": null,
   "id": "e43167f6",
   "metadata": {},
   "outputs": [],
   "source": [
    "from django.db import models\n",
    "from django.core.validators import MinValueValidator, MaxValueValidator\n",
    "\n",
    "class Review(models.Model):\n",
    "    user_name = models.CharField(max_length=100)\n",
    "    review_text = models.TextField()\n",
    "    rating = models.IntegerField(validators=[\n",
    "                                    MinValueValidator(0, message=\"The rating cannot be less than 0!\"),\n",
    "                                    MaxValueValidator(10, message=\"The rating cannot be More than 10!\")])\n",
    "\n",
    "    def __str__(self):\n",
    "        return f'Review by {self.user_name} - Rating: {self.rating}'\n",
    "    \n",
    "    class Meta:\n",
    "        verbose_name_plural = 'All Reviews'"
   ]
  },
  {
   "cell_type": "markdown",
   "id": "d12a23d5",
   "metadata": {},
   "source": [
    "In the next notebook you will learn how to create calss-based views."
   ]
  }
 ],
 "metadata": {
  "kernelspec": {
   "display_name": "Python 3",
   "language": "python",
   "name": "python3"
  },
  "language_info": {
   "codemirror_mode": {
    "name": "ipython",
    "version": 3
   },
   "file_extension": ".py",
   "mimetype": "text/x-python",
   "name": "python",
   "nbconvert_exporter": "python",
   "pygments_lexer": "ipython3",
   "version": "3.10.11"
  }
 },
 "nbformat": 4,
 "nbformat_minor": 5
}
