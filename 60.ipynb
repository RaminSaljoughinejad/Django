{
 "cells": [
  {
   "cell_type": "markdown",
   "id": "76e3954b-1478-4d8c-8826-bdb1611366bf",
   "metadata": {
    "vscode": {
     "languageId": "python"
    }
   },
   "source": [
    "### Configuring an auto-generated form \n",
    "\n"
   ]
  }
 ],
 "metadata": {
  "kernelspec": {
   "display_name": "",
   "name": ""
  },
  "language_info": {
   "name": ""
  }
 },
 "nbformat": 4,
 "nbformat_minor": 5
}
