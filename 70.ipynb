{
 "cells": [
  {
   "cell_type": "markdown",
   "id": "eba01aa6",
   "metadata": {},
   "source": [
    "### ImageField:\n",
    "\n",
    "You've already learned how to use FileField to upload files in our Django applications. Now, I am going to dive into something super useful: the ImageField. 📸\n",
    "<br><br>\n",
    "What's the Big Deal with ImageField?\n",
    "\n",
    "ImageField is like a superhero version of FileField! It does everything FileField does, but it also makes sure the uploaded file is actually an image. This is really important for a few reasons:\n",
    "\n",
    "- Security: 🚨\n",
    "    - Imagine if someone could upload any kind of file to your server. They might upload a malicious script, a virus, or something else nasty. By using ImageField, Django helps make sure that only images get through, protecting your site from potential attacks.\n",
    "\n",
    "- User Experience: 😊\n",
    "    - When users upload a file expecting it to be an image, it's frustrating if something goes wrong. ImageField ensures that the file is an image, so users don’t accidentally upload the wrong type of file.\n",
    "\n",
    "- Image-Specific Features: 🌟\n",
    "    - With ImageField, you can easily access cool image-specific features like getting the image’s width and height. This can be super handy for displaying images nicely on your site.\n",
    "\n",
    "Why Is It Important to Check the File Type?\n",
    "\n",
    "Let's get real for a moment. Why is it so important to check that the uploaded file is actually an image? Here's the scoop:\n",
    "\n",
    "- Avoiding Security Risks: 🛡️\n",
    "    - If you let users upload any file without checking, someone could upload a harmful file. This could lead to security breaches where an attacker gains access to your system, steals data, or even takes down your site. We definitely don't want that!\n",
    "\n",
    "- Preventing Errors: ❌\n",
    "    - Your application might expect an image and try to process it as one. If the file isn't an image, it could cause errors and crash your application. Checking the file type helps keep everything running smoothly.\n",
    "\n",
    "- Ensuring Correct Usage: ✅\n",
    "    - By restricting uploads to images only, you ensure that the files can be properly displayed and used in your application. This keeps your site functioning correctly and looking good."
   ]
  },
  {
   "cell_type": "markdown",
   "id": "908066eb",
   "metadata": {},
   "source": [
    "### Lets move on:\n",
    "\n",
    "If you replace the FileField to ImageField and save everything you will face an error! This error is due to a dependency! Django needs a madule called Pillow in order to work with images! To fix this error you need to install pillow.\n",
    "\n",
    "Here is the code to install pillow:"
   ]
  },
  {
   "cell_type": "code",
   "execution_count": null,
   "id": "dc27baa8",
   "metadata": {
    "vscode": {
     "languageId": "powershell"
    }
   },
   "outputs": [],
   "source": [
    "python -m  pip install --upgrade pillow"
   ]
  },
  {
   "cell_type": "markdown",
   "id": "ca764878",
   "metadata": {},
   "source": [
    "Please note that you also need to change the your forms.py! there you need to change the form field from FileField to ImageField<br>\n",
    "\n",
    "\n",
    "Now you can save everything and reload the page you will see that everything works!\n",
    "\n",
    "By the way, if you inspect the input field! you will see that it now only accepts images!\n",
    "\n",
    "Please understand that now you can only upload images and not anyother files."
   ]
  },
  {
   "cell_type": "markdown",
   "id": "bbe3f667",
   "metadata": {},
   "source": [
    "### More specialized views regarding file uploads...\n",
    "\n",
    "It the moment our view is being created by the form class we defined. however, if you don't have any specific configuratins for example labels, or error messages, you can use some of more specialized views!\n",
    "\n",
    "lets do this:\n",
    "\n",
    "1. Navigate to your views.py file\n",
    "2. from django.views.generic.edit import CreateView\n",
    "3. Now, recreate your IndexView based on that view"
   ]
  },
  {
   "cell_type": "markdown",
   "id": "c480bf68",
   "metadata": {},
   "source": [
    "class IndexView(CreateView):\n",
    "    pass"
   ]
  },
  {
   "cell_type": "markdown",
   "id": "4c6acdcd",
   "metadata": {
    "vscode": {
     "languageId": "powershell"
    }
   },
   "source": [
    "4. As you remember this view does not need the post or get method, and you just need to provide it with the template_name<br>\n",
    "5. You also need to set the model\n",
    "6. And the fields you want (__all__ in our case) \n",
    "7. The last thing you need to set is the success_url\n",
    "Now everything, even the validation is done by django itself.\n",
    "\n",
    "Your IndexView Class should look like the following block:"
   ]
  },
  {
   "cell_type": "code",
   "execution_count": null,
   "id": "33533acf",
   "metadata": {
    "vscode": {
     "languageId": "powershell"
    }
   },
   "outputs": [],
   "source": [
    "from django.views.generic.edit import CreateView\n",
    "\n",
    "class IndexView(CreateView):\n",
    "    template_name = 'profiles/index.html'\n",
    "    model = UserProfile\n",
    "    fields = '__all__'\n",
    "    success_url = '/profiles'"
   ]
  },
  {
   "cell_type": "markdown",
   "id": "439a4869",
   "metadata": {
    "vscode": {
     "languageId": "powershell"
    }
   },
   "source": [
    "Now, you dont need the class you defined in the forms.py file and can delete it! (You could also use it in the createView if you wish)<br>\n",
    "\n",
    "In the next notebook you will learn how you can serve (use) the uploaded files."
   ]
  }
 ],
 "metadata": {
  "kernelspec": {
   "display_name": "Python 3",
   "language": "python",
   "name": "python3"
  },
  "language_info": {
   "codemirror_mode": {
    "name": "ipython",
    "version": 3
   },
   "file_extension": ".py",
   "mimetype": "text/x-python",
   "name": "python",
   "nbconvert_exporter": "python",
   "pygments_lexer": "ipython3",
   "version": "3.10.11"
  }
 },
 "nbformat": 4,
 "nbformat_minor": 5
}
