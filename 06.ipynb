{
 "cells": [
  {
   "cell_type": "markdown",
   "id": "a000b545-39b0-47cb-9845-6cc490f3bcc0",
   "metadata": {},
   "source": [
    "### Function Overloading like behaviour?\n",
    "\n",
    "Yeah, it is not a mistake! altought that python does not support function overloading like C++ or Java, this phenomenal is somehow achieveable inside django.\n",
    "\n",
    "But, maybe you don't event know what function overloading is; and if this is the case, please read the following before jumping to the coding section..."
   ]
  },
  {
   "cell_type": "markdown",
   "id": "71392246-fa9e-471c-9f70-a2a61cab2e5c",
   "metadata": {},
   "source": [
    "Consider a case where the ending url could be both a string or an integer, and depending on the type that it has! we are supposed to return a different response.\n",
    "\n",
    "What we did in the previous notebook tells the django server to cast the given url to an integer regardless of its value. This can cause a huge problem, what if the user passes an url which is not castable to an integer?<br>\n",
    "\n",
    "What is going to happen? (Go ahead! test it to get a better understanding)"
   ]
  },
  {
   "cell_type": "markdown",
   "id": "db815b7c-5392-437a-9d7a-a01d5b28c8da",
   "metadata": {},
   "source": [
    "This is What is going to happen.\n",
    "<img src=\"images/2-functionOverloading.png\">"
   ]
  },
  {
   "cell_type": "markdown",
   "id": "ebb9fda2-c5ce-4c2a-af23-c4c527b19976",
   "metadata": {},
   "source": [
    "### Solution:\n",
    "Function overloading allows multiple functions within the same scope to have the same name but different parameter lists. The appropriate function is called based on the type of parameters provided when the function is invoked. In our case, one function would be called when a string is passed as an argument, and another function would be called when an integer is passed. <span style='color:red;'>THIS IS NOT ACHIEVEABLE IN PYTHON</span>.\n",
    "\n",
    "Please note that we are NOT going to define multiple views functions with the same name. We are going to call different view functions based on the type of the url.<br><br>\n",
    "\n",
    "Lets do this:\n",
    "\n",
    "Open your urls file and add a new path after the existing path but this time cast its identifier to a string.\n",
    "\n",
    "IMPORTANT: THE PATH WITH INTEGER CASTING SHOULD BE ALWAYS PLACED BEFORE THE PATH WITH STRING CASTING. THIS IS DUE TO THE FACT THAT EVERY DATA TYPE IN PYTHON COULD BE CONVERTED TO STRING, SO, WHEN YOU CALL THE PATH WITH THE STRING CASTING FIRST, YOU ARE STOPING THE DJANGO SERVER FROM CHECKING WHETHER THE VALUE IS CASTABLE TO OTHER TYPES OR NOT.\n",
    "\n",
    "Your urls file should looks like the following:"
   ]
  },
  {
   "cell_type": "code",
   "execution_count": null,
   "id": "76728c42-d3ec-42ad-ab82-bc62e754b3b3",
   "metadata": {},
   "outputs": [],
   "source": [
    "from django.urls import path\n",
    "from . import views\n",
    "\n",
    "urlpatterns = [\n",
    "    path(\"<int:exercise>\", views.url_handler_int),\n",
    "    path(\"<str:exercise>\", views.url_handler_str)\n",
    "]"
   ]
  },
  {
   "cell_type": "markdown",
   "id": "9eaf0926-42bb-4381-91a4-8821e00c4e5f",
   "metadata": {},
   "source": [
    "Now open the views file inside your app, and define a new function. This function should return something completely different.\n",
    "\n",
    "Your views file should looks like the following:"
   ]
  },
  {
   "cell_type": "code",
   "execution_count": null,
   "id": "c54570d9-11df-4d90-84f9-dd1206592ef1",
   "metadata": {},
   "outputs": [],
   "source": [
    "from django.shortcuts import render\n",
    "from django.http import HttpResponse, HttpResponseNotFound\n",
    "\n",
    "_dict = {\n",
    "    1:'Variables!',\n",
    "    2:'If-Statements',\n",
    "    3:'Loops',\n",
    "}\n",
    "# Create your views here.\n",
    "def url_handler_str(request,  exercise):\n",
    "    return HttpResponse(f\"The url is looking for {exercise} address and is a string.\")\n",
    "\n",
    "def url_handler_int(request,  exercise):\n",
    "    if exercise in _dict:\n",
    "        return HttpResponse(_dict[exercise])\n",
    "    else:\n",
    "        return HttpResponseNotFound(\"This Page Does Not Exists\")"
   ]
  }
 ],
 "metadata": {
  "kernelspec": {
   "display_name": "Python 3 (ipykernel)",
   "language": "python",
   "name": "python3"
  },
  "language_info": {
   "codemirror_mode": {
    "name": "ipython",
    "version": 3
   },
   "file_extension": ".py",
   "mimetype": "text/x-python",
   "name": "python",
   "nbconvert_exporter": "python",
   "pygments_lexer": "ipython3",
   "version": "3.10.11"
  }
 },
 "nbformat": 4,
 "nbformat_minor": 5
}
