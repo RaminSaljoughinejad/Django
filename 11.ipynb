{
 "cells": [
  {
   "cell_type": "markdown",
   "id": "a4ee57ed-7865-48fd-9ebb-5288274276f5",
   "metadata": {},
   "source": [
    "## Chapter 2"
   ]
  },
  {
   "cell_type": "markdown",
   "id": "7bf85be4-c1c0-47c5-921f-7ea307868ebf",
   "metadata": {
    "jp-MarkdownHeadingCollapsed": true
   },
   "source": [
    "Lets face it. What we did at the end of the pervious chapter was nor pretty or practical.<br>\n",
    "We constructed an html page using a for-loop. True, it is possible for small content and did what we want! but are we able to construct complex webpages using this technique and even if we are, is it rational?<br>"
   ]
  },
  {
   "cell_type": "markdown",
   "id": "c64a5221-44ad-49da-8420-2f16046348db",
   "metadata": {},
   "source": [
    "### Introducing Templates\n",
    "Templates are Dynamic HTML pages that could be returned as a response to HTML requests. This dynamic HTML pages could contain data that we provided them.<br>\n",
    "\n",
    "One important thing to note here is that, Django has a template language that we need to understand in order to use templates.\n",
    "\n",
    "In this chapter we are going to learn about:\n",
    "1- What templates are.\n",
    "2- Django Template Language Features\n",
    "3- Working with Static Files (CSS, JavaScript, Images)"
   ]
  }
 ],
 "metadata": {
  "kernelspec": {
   "display_name": "Python 3 (ipykernel)",
   "language": "python",
   "name": "python3"
  },
  "language_info": {
   "codemirror_mode": {
    "name": "ipython",
    "version": 3
   },
   "file_extension": ".py",
   "mimetype": "text/x-python",
   "name": "python",
   "nbconvert_exporter": "python",
   "pygments_lexer": "ipython3",
   "version": "3.10.11"
  }
 },
 "nbformat": 4,
 "nbformat_minor": 5
}
