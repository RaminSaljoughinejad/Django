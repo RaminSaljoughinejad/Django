{
 "cells": [
  {
   "cell_type": "markdown",
   "id": "f33a777c-c28f-436c-8a86-70cbbcf1def3",
   "metadata": {},
   "source": [
    "### Form Validation:\n",
    "\n",
    "Something you have probebly noticed is that you can submit the form without entering anything in the input field!<br>\n",
    "\n",
    "Do you consider it ok? well if you view code is dependent on that specific field, not sending it will cause an error.<br>\n",
    "\n",
    "What you want to do is to validate the user input:\n",
    "1. Create an if statement and if the user input is empty, just return to the root index!\n",
    "\n",
    "Your view function should look like the following block:"
   ]
  },
  {
   "cell_type": "code",
   "execution_count": null,
   "id": "844009b0-89d2-41b8-bebb-22a9d86722a0",
   "metadata": {},
   "outputs": [],
   "source": [
    "def index(request):\n",
    "    if request.method =='POST':\n",
    "        entered_username = request.POST['uname']\n",
    "        if entered_username!=\"\":\n",
    "            return HttpResponseRedirect('/results')\n",
    "    return render(request, 'reviews/index.html')"
   ]
  },
  {
   "cell_type": "markdown",
   "id": "10ec2474-903e-4b40-81cb-50182960f2e5",
   "metadata": {},
   "source": [
    "What you could also do at this point to tell the user about the input input field! you could do it by passing some data to the template."
   ]
  },
  {
   "cell_type": "code",
   "execution_count": null,
   "id": "50ee78ac-e41d-42a5-92f9-6248471b3649",
   "metadata": {},
   "outputs": [],
   "source": [
    "def index(request):\n",
    "    has_error = False\n",
    "    if request.method =='POST':\n",
    "        entered_username = request.POST['uname']\n",
    "        if entered_username!=\"\":\n",
    "            return HttpResponseRedirect('/results')\n",
    "        has_error=True\n",
    "    return render(request, 'reviews/index.html',{\n",
    "        'has_error':has_error\n",
    "    })"
   ]
  },
  {
   "cell_type": "markdown",
   "id": "843d3c82-cf67-4ce8-a7b8-d84af8592ca9",
   "metadata": {},
   "source": [
    "Now you can modify your index.html to show the error.<br>"
   ]
  },
  {
   "cell_type": "raw",
   "id": "f2a7f10f-7642-4398-bd1c-53d4204184bb",
   "metadata": {},
   "source": [
    "{% extends \"base.html\" %}\n",
    "{% load static %}\n",
    "\n",
    "{% block css_files %}\n",
    "    <link rel=\"stylesheet\" href=\"{% static \"reviews/index.css\" %}\">\n",
    "{% endblock css_files %}\n",
    "\n",
    "{% block page_title %}Reviews {% endblock page_title %}root\n",
    "\n",
    "{% block content %}\n",
    "    <form action='/' method='POST'>\n",
    "        {% csrf_token %}\n",
    "        {% if has_error %}\n",
    "            <p>Invalid form!</p>\n",
    "        {% endif %}\n",
    "        <label for='username'>Your Name</label>\n",
    "        <input type=\"text\" placeholder='exp: Ramin' name=\"uname\" id=\"username\">\n",
    "        <button>Send</button>\n",
    "    </form>\n",
    "{% endblock content %}"
   ]
  },
  {
   "cell_type": "markdown",
   "id": "c30bb50b-2c7e-4007-83b1-f3c3eb606bfd",
   "metadata": {},
   "source": [
    "What we have done here is something we mostly want with our form! But the problem is that we have to do many extra work!<br>\n",
    "Ofc our form here is small! but in reality you could have a very big form an within that form you would need a number of validations such as input length validation! input type validation and ....<br>\n",
    "\n",
    "This would be alot!<br>\n",
    "\n",
    "Well, because it is very comman thing,Django has foreseen this and created something called django-forms-support<br>\n",
    "\n",
    "### Django Forms Support:\n",
    "\n",
    "To start with this you need to create a file called forms.py in you app's director. Please understand tha the name of the file is up to you, but it is common to call it forms.py<br>\n",
    "\n",
    "This form basically defines a form and let you use it in a template, then django itself will validate it automatically.<br>\n",
    "\n",
    "To define a form we need to create a class, the new is again up to you (I'm gonna name it ReviewForm).<br>\n",
    "This class needs to inherit from the a django builtin class called Form.<br>\n",
    "Import this form class from djano \"from django import forms\"<br>\n",
    "This class is very similar to our datamodel classes in looks!<br>\n",
    "Please understand that they just look the same and this new class has nothing to do with datbases.<br>\n",
    "\n",
    "Your forms.py file should look like the following block:"
   ]
  },
  {
   "cell_type": "code",
   "execution_count": null,
   "id": "2543b703",
   "metadata": {},
   "outputs": [],
   "source": [
    "from django import forms\n",
    "\n",
    "class ReviewForm(forms.Form):\n",
    "    user_name = forms.CharField()"
   ]
  },
  {
   "cell_type": "markdown",
   "id": "596b46bb",
   "metadata": {
    "vscode": {
     "languageId": "raw"
    }
   },
   "source": [
    "Very similar right?? thats the beauty of django!"
   ]
  },
  {
   "cell_type": "markdown",
   "id": "ce6b38c6",
   "metadata": {
    "vscode": {
     "languageId": "raw"
    }
   },
   "source": [
    "### Lets work on the view now:\n",
    "- Navigate to your views.py file, and comment what you had in the index view function.\n",
    "- Also, from .forms import ReviewForm class so you can use it here.\n",
    "- Inside your index view function define a variable can assign ReviewForm() to it.\n",
    "- Now you need to pass this form to the render method with a key called form.<br>\n",
    "Your view.py file should look like the following block now:"
   ]
  },
  {
   "cell_type": "code",
   "execution_count": null,
   "id": "dda3049c",
   "metadata": {},
   "outputs": [],
   "source": [
    "from django.shortcuts import render\n",
    "from django.http import HttpResponseRedirect\n",
    "from .forms import ReviewForm\n",
    "\n",
    "\n",
    "def index(request):\n",
    "    # has_error = False\n",
    "    # if request.method =='POST':\n",
    "    #     entered_username = request.POST['uname']\n",
    "    #     if entered_username!=\"\":\n",
    "    #         return HttpResponseRedirect('/results')\n",
    "    #     has_error=True\n",
    "    # return render(request, 'reviews/index.html',{\n",
    "    #     'has_error':has_error\n",
    "    # })\n",
    "    form = ReviewForm()\n",
    "    return render(request, 'reviews/index.html',{\n",
    "        'form':form\n",
    "    })\n",
    "\n",
    "\n",
    "def res(request):\n",
    "    return render(request, 'reviews/res.html')"
   ]
  },
  {
   "cell_type": "markdown",
   "id": "fb70de6a",
   "metadata": {},
   "source": [
    "- Navigate to your template and delete the label and input field (Not the button) from the form tag.\n",
    "- Use the form variable to show your form:\n",
    "\n",
    "Your index.html file should look like the following block:"
   ]
  },
  {
   "cell_type": "raw",
   "id": "0d0fe9f4",
   "metadata": {},
   "source": [
    "{% extends \"base.html\" %}\n",
    "{% load static %}\n",
    "\n",
    "{% block css_files %}\n",
    "    <link rel=\"stylesheet\" href=\"{% static \"reviews/index.css\" %}\">\n",
    "{% endblock css_files %}\n",
    "\n",
    "{% block page_title %}Reviews {% endblock page_title %}root\n",
    "\n",
    "{% block content %}\n",
    "    <form action='/' method='POST'>\n",
    "        {% csrf_token %}\n",
    "        {{ form }}\n",
    "        <button>Send</button>\n",
    "    </form>\n",
    "{% endblock content %}"
   ]
  },
  {
   "cell_type": "markdown",
   "id": "a57ee26a",
   "metadata": {
    "vscode": {
     "languageId": "raw"
    }
   },
   "source": [
    "Save everything and request 127.0.0.1:8000, then view the page source code to have a better understanding"
   ]
  },
  {
   "cell_type": "markdown",
   "id": "d91938b3",
   "metadata": {},
   "source": [
    "As you can see it is not what we have created in our template and is automatically generated by django!<br>\n",
    "So, how to validate?\n",
    "\n",
    "1. Navigate to your views.py file and inside your index view function\n",
    "2. Uncomment everything\n",
    "3. You do not need to manualy check if the input is empty anymore! so delete that part!\n",
    "4. create the form object and pass request.POST to its constractor.\n",
    "5. Now, that you passed request.POST to the constractor of your class. You could run .is_valid on its object.\n",
    "    - 'is_valid' does 3 things for us:\n",
    "        1. It validates our input fields (all fields are required by default).\n",
    "        2. Checks if the form as a whole is valid!\n",
    "        3. If the form is valid it will populate another field with that valid data (.cleaned_data).\n",
    "\n",
    "Your index view function should look like the following block:"
   ]
  },
  {
   "cell_type": "code",
   "execution_count": null,
   "id": "aaf42cba",
   "metadata": {},
   "outputs": [],
   "source": [
    "def index(request):\n",
    "    if request.method =='POST':\n",
    "        form = ReviewForm(request.POST)\n",
    "        if form.is_valid():\n",
    "            print(form.cleaned_data)\n",
    "            return HttpResponseRedirect('/results')\n",
    "    \n",
    "    form = ReviewForm()\n",
    "    return render(request, 'reviews/index.html',{\n",
    "        'form':form\n",
    "    })"
   ]
  },
  {
   "cell_type": "markdown",
   "id": "f905cb46",
   "metadata": {},
   "source": [
    "Save everything an check the index page"
   ]
  },
  {
   "cell_type": "markdown",
   "id": "6a20e575",
   "metadata": {},
   "source": [
    "If enter my name and press send, in the console I will see the following thing."
   ]
  },
  {
   "cell_type": "code",
   "execution_count": null,
   "id": "d84780d2",
   "metadata": {},
   "outputs": [],
   "source": [
    "{'user_name': 'ramin'}"
   ]
  },
  {
   "cell_type": "markdown",
   "id": "a347463a",
   "metadata": {},
   "source": [
    "The above dictionary is what is inside the '.clean_data' attribute"
   ]
  },
  {
   "cell_type": "markdown",
   "id": "d8062e24",
   "metadata": {},
   "source": [
    "So, what if there was an error! at the moment we are not showing them to the user, how can we do that?<br>\n",
    "\n",
    "What we are doing is that everytime the form is not valid we are creating a brand new form and are showing it to the user without any data from the previous form. This is not good! we should tell the user where they have errors so they can fix it.<br>\n",
    "\n",
    "To achieve this, fist we need to make sure that the post is submited! this could be checked with the request.method == 'POST' which have done already, so we just need to add an else block where we create a brand new form if the form is not submited and it is the first time it is being shown.<br>\n",
    "\n",
    "Whats next? nothing! <br>\n",
    "Since everything about form validation is automated in django you really dont need to do anything else! just sending a validated form to the user will show the errors to them.<br>\n",
    "\n",
    "Please understand that all the previouslt entered data will be saved for them if they have errors in their forms.<br>\n",
    "\n",
    "Your index view function should look like the following block:"
   ]
  },
  {
   "cell_type": "code",
   "execution_count": null,
   "id": "14d3359d",
   "metadata": {},
   "outputs": [],
   "source": [
    "def index(request):\n",
    "    if request.method =='POST':\n",
    "        form = ReviewForm(request.POST)\n",
    "        if form.is_valid():\n",
    "            print(form.cleaned_data)\n",
    "            return HttpResponseRedirect('/results')\n",
    "    else:\n",
    "        form = ReviewForm()\n",
    "    return render(request, 'reviews/index.html',{\n",
    "        'form':form\n",
    "    })"
   ]
  },
  {
   "cell_type": "markdown",
   "id": "d881dca5",
   "metadata": {},
   "source": [
    "Note: Try to deleted the required section by inspecting the input field! then you can submit the form.\n",
    "\n",
    "In the next notebook you will how to configure your form behaviour."
   ]
  }
 ],
 "metadata": {
  "kernelspec": {
   "display_name": "Python 3 (ipykernel)",
   "language": "python",
   "name": "python3"
  },
  "language_info": {
   "codemirror_mode": {
    "name": "ipython",
    "version": 3
   },
   "file_extension": ".py",
   "mimetype": "text/x-python",
   "name": "python",
   "nbconvert_exporter": "python",
   "pygments_lexer": "ipython3",
   "version": "3.10.11"
  }
 },
 "nbformat": 4,
 "nbformat_minor": 5
}
