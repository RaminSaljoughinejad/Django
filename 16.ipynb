{
 "cells": [
  {
   "cell_type": "markdown",
   "id": "2a0377bc-a4ea-4d33-86d7-c5f78e401a27",
   "metadata": {},
   "source": [
    "### Filters\n",
    "\n",
    "DTL, in its syntax, offers a set of functions that are called Filters and are used to transform the values of variables and tag arguments.<br>\n",
    "\n",
    "In the next notebooks, we are going to learn about these built-in filters, but before that, please understand that you are not able to use python functions inside your html files using DTL, and can only use functions which are provided by DTL. \n",
    "\n",
    "You can see all these filters by checking the following link!<br>\n",
    "\n",
    "https://docs.djangoproject.com/en/5.0/ref/templates/builtins/#built-in-filter-reference"
   ]
  },
  {
   "cell_type": "markdown",
   "id": "1fb2bdaf-e457-489b-a620-d21d3863fd13",
   "metadata": {},
   "source": [
    "<span style='color:white;background-color:blue;'>If you want DTL auto completion in visual studio code, Install Django extension from Baptiste Darthenay</span>"
   ]
  },
  {
   "cell_type": "markdown",
   "id": "49e0b25a-b7d7-48c1-9d1a-2887602673b6",
   "metadata": {},
   "source": [
    "### Tags\n",
    "Now that we have learned about Variables, filters, and templates. It is time for tags!<br>\n",
    "Tags are something that you have already heard about when I introduced filters.<br>\n",
    "Tags are simply another sintax fiture thats built in DTL and if you check the tags reference you will see that there are a lot of tags. Some tags you will use rarely, but there are sometags that you need to use in every project.<br>\n",
    "An example of these common tags is the for tag...<br>"
   ]
  },
  {
   "cell_type": "markdown",
   "id": "3d3fbe90-dcf0-4f84-aa2a-9f7d9bff1a84",
   "metadata": {},
   "source": [
    "### The For Tag:\n",
    "The for tag allows us to loop through content.<br>\n",
    "\n",
    "Lets have an example to make it more understanding...<br>\n",
    "\n",
    "If you go to your \"Python Fundamentals\" project and then navigate to your views.py file, you will see that inside your index function! we hardcoded a list using html tags and python for loop. This is not what we are supposed to do.<br>\n",
    "<br><br>\n",
    "let me explain what we have done here once again to make sure that we are all on the same page.<br>\n",
    "\n",
    "The index function is supposed to handle requests made to \"http://127.0.0.1:8000/Python_Fundamentals/\".<br>\n",
    "This function creates a string called 'response_text' and puts <span style='color:orange;'>\\<ul></span> starting tag inside it. Then a loop is writen so we can go through all the keys and values stored in a dictionary called _dict (this dictionary is created at the begining of the file and just after importing the libraries and other files), inside the loop we use string concadination to add new tags with values stored inside key and value variables; outside the loop, the <span style='color:orange;'>\\</ul></span> ending tag is concadinated to the 'response_text' string so that we have a complete umordered list, the function then returns a HttpResponse with the 'response_text' variable.<br>\n",
    "<br><br>\n",
    "\n",
    "#### So... How are supposed to do this? what is the proper way?\n",
    "ok... let me explain it to you by actually doing it.<br>\n",
    "1- Navigate to your templates folder and then create a file called index.html next to your 'exercise.html' file inside the Python_Fundamentals subfolder.<br>\n",
    "2- Inside the file you have just created, code the standard html structure.<br>\n",
    "3- Give your html file a proper title by hardcoding a string like 'All Exercise' inside the title tag.<br>\n",
    "4- Now inside your body, put both the starting and ending tag of an unordered list.<br>\n",
    "5- Inside the ul tag is where the magic comes in! BUT before we do anything here we need to go back to our view function and change the code inside the index function so we would have a response that we can loop through inside our html file.<br>\n",
    "6- Delete everything inside your index function.<br>\n",
    "7- Now return a render function.<br>\n",
    "8- The arguments for this function would be the request, address of the template file, and the data that you want to send to the template.<br>\n",
    "9- To  be able to loop through the data inside our dictionary, we need to create a list from the its values, and inorder to do so you need to run the values function on your dictionary, convert the results into a list and then store them inside a new varible. This variable then could be sent as a part of your third argument inside the render function.<br>\n",
    "<br>\n",
    "Your html index function look somthing like the folowing block:"
   ]
  },
  {
   "cell_type": "code",
   "execution_count": null,
   "id": "537abe40-8de6-48fc-ae10-ded6bd769d11",
   "metadata": {},
   "outputs": [],
   "source": [
    "def index(request):\n",
    "    values = list(_dict.values())\n",
    "    return render(request, 'Python_Fundamentals/index.html', {\"exercises\": values})"
   ]
  },
  {
   "cell_type": "markdown",
   "id": "5e10a48f-2fb9-464d-8c47-c99b6d8fc29f",
   "metadata": {},
   "source": [
    "10- Navigate to your index.html template.<br>\n",
    "11- Put the following code inside your ul tag."
   ]
  },
  {
   "cell_type": "code",
   "execution_count": null,
   "id": "3f657bfa-5edb-4613-86ed-4f52fa7d0469",
   "metadata": {},
   "outputs": [],
   "source": [
    "<ul>\n",
    "{% for exercise in exercises %}\n",
    "<li><a href=''>{{ exercise|title }}</a></li>\n",
    "{% endfor %}\n",
    "</ul>"
   ]
  },
  {
   "cell_type": "markdown",
   "id": "6460e6a4-3ae4-4b1c-963a-efecfa0be57c",
   "metadata": {},
   "source": [
    "Let me explain what have just done here...<br>\n",
    "On the first line, we created a loop on the 'exercises' list we sent from the index function.<br>\n",
    "Inside the loop we used the excersise variable to access the value inside it and also used |title filter to capitalize the string. \n",
    "On the last line we closed the loop.<br>\n",
    "Closing a loop is needed because unlike python, DTL does not support indentation and hence we need to inform it of where the loop is finished.<br>\n",
    "<br>\n",
    "Your index.html file look somthing like the folowing block:"
   ]
  },
  {
   "cell_type": "code",
   "execution_count": null,
   "id": "61eff59e-51d1-4f02-83a9-eabc2eebe15a",
   "metadata": {},
   "outputs": [],
   "source": [
    "<!DOCTYPE html>\n",
    "<html lang=\"en\">\n",
    "<head>\n",
    "    <meta charset=\"UTF-8\">\n",
    "    <meta name=\"viewport\" content=\"width=device-width, initial-scale=1.0\">\n",
    "    <title></title>\n",
    "</head>\n",
    "<body>\n",
    "    <ul>\n",
    "    {% for exercise in exercises %}\n",
    "        <li><a href=''>{{ exercise|title }}</a></li>\n",
    "    {% endfor %}\n",
    "    </ul>\n",
    "</body>\n",
    "</html> "
   ]
  },
  {
   "cell_type": "markdown",
   "id": "f4c64660-48e7-4a1b-a21b-f42ac5c285f1",
   "metadata": {},
   "source": [
    "If you save everything and rerun the page there shouldn't be any changes. Except that the links wont work anymore.<br>\n",
    "In the next notebook we are going to fix the links."
   ]
  }
 ],
 "metadata": {
  "kernelspec": {
   "display_name": "Python 3 (ipykernel)",
   "language": "python",
   "name": "python3"
  },
  "language_info": {
   "codemirror_mode": {
    "name": "ipython",
    "version": 3
   },
   "file_extension": ".py",
   "mimetype": "text/x-python",
   "name": "python",
   "nbconvert_exporter": "python",
   "pygments_lexer": "ipython3",
   "version": "3.10.11"
  }
 },
 "nbformat": 4,
 "nbformat_minor": 5
}
