{
 "cells": [
  {
   "cell_type": "markdown",
   "id": "91da9901-05db-41aa-8aa2-1180c5f5cd24",
   "metadata": {},
   "source": [
    "### Root URL\n",
    "\n",
    "So far, we created an app and within it we created URLs and views. This is good! but before we jump into the next chapter of our course, there is one another thing that I want to cover and that is Root URL.\n",
    "\n",
    "But what is root URL?</br>\n",
    "The root URL is the URL ending in the name of app.</br>\n",
    "for instance, with the project that we have created, a root url is like the following:</br>\n",
    "http://127.0.0.1:8000/Python_Fundamentals</br>\n",
    "\n",
    "If you try to visit the given URL you will get a NotFound Error meaning that The requested URL is not registered(supported) and therfore there is no view that handles its response.</br></br>\n",
    "\n",
    "\n",
    "Now, lets register this URL ...</br>\n",
    "Do you see the problem? or can you guess what it would be?</br></br>\n",
    "\n",
    "The problem is that we do not know what are we supposed to use as the path when there is none!</br>\n",
    "\n",
    "So, the answer?<br>\n",
    "Well, let the string to be empty, and you can then reference it to any views   :)\n",
    "\n",
    "Your urls file should look like the following now:"
   ]
  },
  {
   "cell_type": "code",
   "execution_count": null,
   "id": "f32c77bc-3466-4ebb-a1b6-83fe8fd25a51",
   "metadata": {},
   "outputs": [],
   "source": [
    "from django.urls import path\n",
    "from . import views\n",
    "\n",
    "urlpatterns = [\n",
    "    path(\"\", views.index),\n",
    "    path(\"<int:exercise>\", views.url_handler_int),\n",
    "    path(\"<str:exercise>\", views.url_handler_str, name='py_fun')\n",
    "]"
   ]
  },
  {
   "cell_type": "markdown",
   "id": "e6afc807-fdae-4987-982d-9dec43caffbd",
   "metadata": {},
   "source": [
    "Now, Go to your views file and create a view function for it.\n",
    "\n",
    "Your Views file should looks like the following:"
   ]
  },
  {
   "cell_type": "code",
   "execution_count": null,
   "id": "98bdbac9-03c5-4036-a00d-c7e043ae7f0e",
   "metadata": {},
   "outputs": [],
   "source": [
    "from django.shortcuts import render\n",
    "from django.http import HttpResponse, HttpResponseNotFound, HttpResponseRedirect\n",
    "from django.urls import reverse\n",
    "\n",
    "_dict = {\n",
    "    1:'Variables!',\n",
    "    2:'If-Statements',\n",
    "    3:'Loops',\n",
    "    53:'This is the last notebook of this course.'\n",
    "}\n",
    "\n",
    "_redirections = {\n",
    "    'intro':'1',\n",
    "    'final':'53'\n",
    "}\n",
    "\n",
    "def index(request):\n",
    "    return HttpResponse(\"Main Page\")\n",
    "\n",
    "# Create your views here.\n",
    "def url_handler_str(request,  exercise):\n",
    "    if exercise in _redirections:\n",
    "        return HttpResponseRedirect(reverse('py_fun',args=[_redirections[exercise]]))\n",
    "    return HttpResponse(f\"The url is looking for '{exercise}' address and is a string.\")\n",
    "\n",
    "def url_handler_int(request,  exercise):\n",
    "    if exercise in _dict:\n",
    "        return HttpResponse(f\"<h1>{_dict[exercise]}</h1>\")\n",
    "    else:\n",
    "        return HttpResponseNotFound(\"<h1>This Page Does Not Exists<h1>\")"
   ]
  },
  {
   "cell_type": "markdown",
   "id": "0a317419-ace5-448d-844d-14d913ec7ea1",
   "metadata": {},
   "source": [
    "## Exercise:                                              \n",
    "Do your best to return a html list with links to different pages (use reference for links)"
   ]
  },
  {
   "cell_type": "markdown",
   "id": "e5b2e0e5-ce21-4008-9ddc-aef70b4c27ea",
   "metadata": {},
   "source": [
    "### Solution:"
   ]
  },
  {
   "cell_type": "code",
   "execution_count": null,
   "id": "923bc871-92ee-4c3f-94b9-85913ce1689d",
   "metadata": {},
   "outputs": [],
   "source": [
    "from django.shortcuts import render\n",
    "from django.http import HttpResponse, HttpResponseNotFound, HttpResponseRedirect\n",
    "from django.urls import reverse\n",
    "\n",
    "_dict = {\n",
    "    1:'Variables!',\n",
    "    2:'If-Statements',\n",
    "    3:'Loops',\n",
    "    53:'This is the last notebook of this course.'\n",
    "}\n",
    "\n",
    "_redirections = {\n",
    "    'intro':'1',\n",
    "    'final':'53'\n",
    "}\n",
    "\n",
    "def index(request):\n",
    "    response_text = \"<ul>\"\n",
    "    for key,value in _dict.items():\n",
    "        response_text+=f\"<li><a href='{reverse('py_fun',args=[key])}'>Exercise {value}</a></li>\"\n",
    "    response_text += \"</ul>\"\n",
    "    return HttpResponse(response_text)\n",
    "\n",
    "\n",
    "def url_handler_str(request,  exercise):\n",
    "    if exercise in _redirections:\n",
    "        return HttpResponseRedirect(reverse('py_fun',args=[_redirections[exercise]]))\n",
    "    return HttpResponse(f\"The url is looking for '{exercise}' address and is a string.\")\n",
    "\n",
    "def url_handler_int(request,  exercise):\n",
    "    if exercise in _dict:\n",
    "        return HttpResponse(f\"<h1>{_dict[exercise]}</h1>\")\n",
    "    else:\n",
    "        return HttpResponseNotFound(\"<h1>This Page Does Not Exists<h1>\")"
   ]
  },
  {
   "cell_type": "markdown",
   "id": "c0bbb3d5-28b4-45c5-8413-4078ce192d8c",
   "metadata": {},
   "source": [
    "## End of Chapter 1"
   ]
  }
 ],
 "metadata": {
  "kernelspec": {
   "display_name": "Python 3 (ipykernel)",
   "language": "python",
   "name": "python3"
  },
  "language_info": {
   "codemirror_mode": {
    "name": "ipython",
    "version": 3
   },
   "file_extension": ".py",
   "mimetype": "text/x-python",
   "name": "python",
   "nbconvert_exporter": "python",
   "pygments_lexer": "ipython3",
   "version": "3.10.11"
  }
 },
 "nbformat": 4,
 "nbformat_minor": 5
}
