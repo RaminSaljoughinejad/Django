{
 "cells": [
  {
   "cell_type": "markdown",
   "id": "2606d0bd-c9b2-4987-a39a-f883e417bdf4",
   "metadata": {},
   "source": [
    "### Creating a SQLite Database:\n",
    "\n",
    "When you create a Django project, django will create a file called db.sqlite3 in your root directory next to manage.py file.<br>\n",
    "Here is a picture of where you should have it. IF YOU DON'T HAVE IT, don't worry just create file and call it db.sqlite3<br>\n",
    "You won't need any 3rd-party application of software for creating and using SQLite databeses.<br>\n",
    "If you want to use MySQL, You will need to install it. I am going to tell you how in future chapters when we need a better Databse.<br>\n",
    "<img src='images/7-sqlite.png' width='200px' style=\"margin-top:1rem;\">"
   ]
  },
  {
   "cell_type": "markdown",
   "id": "5e428614-7b2e-4b2c-bb97-e662ea1a88b5",
   "metadata": {},
   "source": [
    "### Creating a SQLite Table:\n",
    "\n",
    "Here is the query for creating a SQLite table:"
   ]
  },
  {
   "cell_type": "code",
   "execution_count": null,
   "id": "c6364904-52c1-4456-940e-6dcbd43b4a49",
   "metadata": {},
   "outputs": [],
   "source": [
    "CREATE TABLE books (\n",
    "    id INTEGER PRIMARY KEY AUTOINCREMENT.\n",
    "    title TEXT NOT NULL,\n",
    "    rating INTEGER Not NULL\n",
    ");"
   ]
  },
  {
   "cell_type": "markdown",
   "id": "329923ae-81ed-4cef-a2f3-9b41da468961",
   "metadata": {},
   "source": [
    "### Inserting Data into a SQLite table:\n",
    "Here is the query for Inserting data into a SQLite table:"
   ]
  },
  {
   "cell_type": "code",
   "execution_count": null,
   "id": "e3802f07-2d15-4f5a-b799-270953a799c5",
   "metadata": {},
   "outputs": [],
   "source": [
    "INSERT INTO books(title, rating) VALUES ('Harry Potter and The Goblet of Fire', 8);"
   ]
  },
  {
   "cell_type": "markdown",
   "id": "ff36a2d3-a24a-4a24-a94a-e9c5966673f7",
   "metadata": {},
   "source": [
    "### Retriving Data from a SQLite Table:\n",
    "Here is the query for retriving data into a SQLite table:"
   ]
  },
  {
   "cell_type": "code",
   "execution_count": null,
   "id": "de015ba2-9610-4a76-8cf1-27c08972a35a",
   "metadata": {},
   "outputs": [],
   "source": [
    "SELECT * FROM books WHERE rating>5;"
   ]
  },
  {
   "cell_type": "markdown",
   "id": "115be73d-713c-4cdf-aae1-fc11a691a090",
   "metadata": {},
   "source": [
    "Hard to understand right??? Thankfully you do not need to write any of the queries! Django has a builtin feature called Models that will do it for you.<br>\n",
    "You just need to know how to work with models! and to be honest its way easier than learning DBMS specific queries.<br>"
   ]
  },
  {
   "cell_type": "markdown",
   "id": "7d3c03e9-833a-4ccf-84e5-91bc13aa478e",
   "metadata": {
    "jp-MarkdownHeadingCollapsed": true
   },
   "source": [
    "### Django Models\n",
    "\n",
    "Django Models will help us focus on data, not on queries!<br>\n",
    "\n",
    "We would need to define data models and use objects based on those models to run commmon operations."
   ]
  }
 ],
 "metadata": {
  "kernelspec": {
   "display_name": "Python 3 (ipykernel)",
   "language": "python",
   "name": "python3"
  },
  "language_info": {
   "codemirror_mode": {
    "name": "ipython",
    "version": 3
   },
   "file_extension": ".py",
   "mimetype": "text/x-python",
   "name": "python",
   "nbconvert_exporter": "python",
   "pygments_lexer": "ipython3",
   "version": "3.10.11"
  }
 },
 "nbformat": 4,
 "nbformat_minor": 5
}
