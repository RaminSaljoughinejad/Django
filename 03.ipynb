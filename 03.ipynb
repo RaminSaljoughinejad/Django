{
 "cells": [
  {
   "cell_type": "markdown",
   "id": "3dcae70c-44b1-407c-a5d8-5ad83c1915cd",
   "metadata": {},
   "source": [
    "### URL and View Batch Management\n",
    "Consider a project where you are creating a blog! Do you know how many posts this website is going to have in the future or what urls are needed?\n",
    "\n",
    "This is where we need to come up with a system capable of handling URLs and Views in a way that you do not need to write new views and define new urls explicitly."
   ]
  },
  {
   "cell_type": "markdown",
   "id": "fadba847-7098-4ac3-a321-744d89f0f320",
   "metadata": {},
   "source": [
    "### Solution: Dynamic Path Segmentation (Passing URLs as variables in views)\n",
    "\n",
    "<span style='color:blue;'>1-</span> Open your app urls.py file and remove the previously defined paths.<br>\n",
    "Now add a new path with \"\\<varname>\" and views.batchurlhandler into your urlpatterns.<br>\n",
    "Please Note that instead of varname and batchurlhandler you can use any other name that you find convenient.\n",
    "\n",
    "The varname you provided the path function is called an identifier, and is at most important when you want to access the value it holds inside the view function, so make sure you memorize the name.\n",
    "\n",
    "Your urls file should look like the following block."
   ]
  },
  {
   "cell_type": "code",
   "execution_count": null,
   "id": "95d35c98-37c8-497f-baf9-8692c8973d20",
   "metadata": {},
   "outputs": [],
   "source": [
    "from django.urls import path\n",
    "from . import views\n",
    "\n",
    "urlpatterns = [\n",
    "    path(\"<exercise>\", views.url_handler)\n",
    "]"
   ]
  },
  {
   "cell_type": "markdown",
   "id": "a9540ee2-bbc0-40ba-94dc-93afd4cd2e0b",
   "metadata": {},
   "source": [
    "<span style='color:blue;'>2-</span> Now go to your views file and start making the following changes.<br>\n",
    "First, delete all the views functions you created earlier.<br>\n",
    "Then define a new function  with the name that maches what you referenced in the urls file.<br>\n",
    "This function should have 2 input variables, the first one is request and the second one should match the name of the identifier you created in your url file.<br>\n",
    "\n",
    "now, inside your function you can check the identifier value and depending on it return a different response (use if statements or match case!).<br>\n",
    "\n",
    "\n",
    "Your views file should look like the following block."
   ]
  },
  {
   "cell_type": "code",
   "execution_count": null,
   "id": "d0f49c72-a641-4fe6-8e43-ca344d0b0ac2",
   "metadata": {},
   "outputs": [],
   "source": [
    "from django.shortcuts import render\n",
    "from django.http import HttpResponse\n",
    "\n",
    "\n",
    "# Create your views here.\n",
    "\n",
    "def url_handler(request,  exercise):\n",
    "    if exercise == '001':\n",
    "        return HttpResponse(\"001 is working...\")\n",
    "    elif exercise == '002':\n",
    "        return HttpResponse(\"002 is working...\")\n",
    "    else:\n",
    "        return HttpResponse(\"Not Found!\")"
   ]
  },
  {
   "cell_type": "markdown",
   "id": "8dbe2191-1fa7-4485-868b-a65087c5c659",
   "metadata": {},
   "source": [
    "Pelase Understand that what we did here is still not considered a good practice due to 2 reasons...<br>\n",
    "First, we are hardcoding every response! and second the 'Not Found' error should not be handled like this!"
   ]
  },
  {
   "cell_type": "markdown",
   "id": "ccf47316-0609-4dc2-8b57-3596ff30da57",
   "metadata": {},
   "source": [
    "### Handling The NotFound Error in a proper way!\n",
    "In order to handle the notfound error properly, you need to import HttpResponseNotFound from the djang.http and then return it when it is needed!</br>\n",
    "Note that you can still return a string too.<br><br>\n",
    "The HttpResponseNotFound returns 404 as the response status which we are going to cover in the next section.\n",
    "\n",
    "So, your views file should look like the following now."
   ]
  },
  {
   "cell_type": "code",
   "execution_count": null,
   "id": "ed7fc104-6925-445a-96ec-c29c29c76c92",
   "metadata": {},
   "outputs": [],
   "source": [
    "from django.shortcuts import render\n",
    "from django.http import HttpResponse, HttpResponseNotFound\n",
    "\n",
    "\n",
    "# Create your views here.\n",
    "\n",
    "def url_handler(request,  exercise):\n",
    "    if exercise == '001':\n",
    "        return HttpResponse(\"001 is working...\")\n",
    "    elif exercise == '002':\n",
    "        return HttpResponse(\"002 is working...\")\n",
    "    else:\n",
    "        return HttpResponseNotFound(\"This Page Does Not Exists\")"
   ]
  },
  {
   "cell_type": "markdown",
   "id": "264830e8-6474-43bd-a0a0-7cbaa6751122",
   "metadata": {},
   "source": [
    "## Exercise:\n",
    "Try to come up with a solution so that you do not need to hardcode if-statements  for every urls and views.<br>\n",
    "HINT: Use a dictionary where the keys are the urls and values are the desired response."
   ]
  }
 ],
 "metadata": {
  "kernelspec": {
   "display_name": "Python 3 (ipykernel)",
   "language": "python",
   "name": "python3"
  },
  "language_info": {
   "codemirror_mode": {
    "name": "ipython",
    "version": 3
   },
   "file_extension": ".py",
   "mimetype": "text/x-python",
   "name": "python",
   "nbconvert_exporter": "python",
   "pygments_lexer": "ipython3",
   "version": "3.10.11"
  }
 },
 "nbformat": 4,
 "nbformat_minor": 5
}
