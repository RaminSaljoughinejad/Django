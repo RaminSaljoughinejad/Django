{
 "cells": [
  {
   "cell_type": "markdown",
   "id": "b1c19fc6",
   "metadata": {},
   "source": [
    "### Chapter 14 - Authentication, Authorization, MixinViews, and Translation:\n",
    "\n",
    "\n",
    "In the last chapter we only created a new project to work on CustomUserView and reCaptcha. In this chapter, not only we are going to do all we have done the privious chapter but also in all the other chapters before that.\n",
    "\n",
    "\n",
    "### Project - Game Watch:\n",
    "A website where different games are being subjected to reviews. On the main page of the website a list of the last 10 reviewed games are presented and if a user clicks on them they will be navigated to a detailed webpage where they can read a full review. Also on the main page there is a list which shows different game categories:\n",
    "- PC Games\n",
    "- Console Games\n",
    "- Mobile Games\n",
    "\n",
    "\n",
    "If a user clicks on a category, they will be sent to a page with a list of games under that category.<br>\n",
    "The website has Sign in and Sign up option! Useres can register to the website and after that, like and leave comments under the reviews. Registered users can request for a game review once they are loged in, through a form at the bottom of the website main page.<br>\n",
    "The website asks for the user profile-image, full-name, email address, and password when they are registering to the website.<br>\n",
    "The website has three types of users, owner, author, general user.<br>\n",
    "The rank of the user is set by the website owner.<br>\n",
    "Only owner/authors can create a new review.<br>\n",
    "All users can leave comments, and like a review.<br>\n",
    "All users can have a description(about me) section that is public to all users.<br>\n",
    "A users can decide if their email should be presented on their profile page.<br>\n",
    "The website should have reCaptcha in the login, signup, comments, and review request sections.<br>\n",
    "A game when defined should have the following attributes:<br>\n",
    "- Reviewer\n",
    "- Title\n",
    "- Platform (PC, Console, or Mobile)\n",
    "- Date of release\n",
    "- Rating (Positive decimal value between 0 and 5, where the floating value is either 0 or 5)\n",
    "- Publisher\n",
    "- Image\n",
    "- Crack Status (Yes or No)\n",
    "<br>\n",
    "Regarding the reviews: only the author who created a review can edit or delete a review. Also website owner can edit or delete reviews.<br>\n",
    "\n",
    "Comments need to be approved by the reviewer author before shown to public. A user should be able to see their comments even if they are not approved yet.<br>\n",
    "\n",
    "website owner can delete comments. Authors can only delete comments of their reviews.<br>\n",
    "\n",
    "The websire should be avalible in English - Persian<br>\n",
    "\n",
    "Forgot Password/ Change password should be implemented.<br>\n",
    "\n",
    "Use bootstrap to style the website.<br>\n",
    "\n",
    "404 error should be handled.<br>\n",
    "\n",
    "Owner should be able to suspend a user (general user/author) and if a user is suspended, they are no longer able to leave comments or create a review in case they are an author.<br>\n",
    "Suspended users can create a ticket in their profile page to apeal for their suspension. And the website owner can answer those tickets.<br>"
   ]
  },
  {
   "cell_type": "markdown",
   "id": "cde2c1b5",
   "metadata": {},
   "source": []
  }
 ],
 "metadata": {
  "kernelspec": {
   "display_name": "Python 3",
   "language": "python",
   "name": "python3"
  },
  "language_info": {
   "codemirror_mode": {
    "name": "ipython",
    "version": 3
   },
   "file_extension": ".py",
   "mimetype": "text/x-python",
   "name": "python",
   "nbconvert_exporter": "python",
   "pygments_lexer": "ipython3",
   "version": "3.10.11"
  }
 },
 "nbformat": 4,
 "nbformat_minor": 5
}
