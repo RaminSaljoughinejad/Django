{
 "cells": [
  {
   "cell_type": "markdown",
   "id": "af2f64fb-335b-4be6-85a6-db30c2e14c32",
   "metadata": {},
   "source": [
    "### Adding a Form:\n",
    "\n",
    "Add a fomr inside the index.html file, the form should have the following inpust:\n",
    "- 1x text input\n",
    "- 1x button\n",
    "\n",
    "Your index.html file should look like the following block:"
   ]
  },
  {
   "cell_type": "raw",
   "id": "60a908ad-47e4-4627-b1f9-4ec5d6783c0a",
   "metadata": {},
   "source": [
    "{% extends \"base.html\" %}\n",
    "{% load static %}\n",
    "\n",
    "{% block css_files %}\n",
    "    <link rel=\"stylesheet\" href=\"{% static \"reviews/index.css\" %}\">\n",
    "{% endblock css_files %}\n",
    "\n",
    "{% block page_title %}Reviews {% endblock page_title %}root\n",
    "\n",
    "{% block content %}\n",
    "    <form>\n",
    "        <label for='username'>Your Name</label>\n",
    "        <input type=\"text\" placeholder='exp: Ramin' name=\"uname\" id=\"username\">\n",
    "        <button>Send</button>\n",
    "    </form>\n",
    "{% endblock content %}"
   ]
  },
  {
   "cell_type": "markdown",
   "id": "61854117-8e8a-4627-8c9a-97fd89300e8b",
   "metadata": {},
   "source": [
    "If you save everything and request the root address, you will see that everything works just fine.<br><br>\n",
    "Additionally, if you click on the send button, you will notice that the uname input field and its value get added to the URL of the page.<br>\n",
    "Please understand that each time you click the send button, your form gets submitted and the page reloads.<br><br>\n",
    "What you have witnessed is the standard behavior of HTML buttons inside the form tag. The reason for this is that the default type of buttons within a form tag is submit. You can change the button type to button if you do not want the form to be submitted when you click on it.<br>"
   ]
  },
  {
   "cell_type": "markdown",
   "id": "19e55afe-d844-4445-9bd4-7e42aa2f3f33",
   "metadata": {},
   "source": [
    "### What Submitting a Form Means\n",
    "\n",
    "Submitting a form means sending the data entered in the form fields to the server for processing. This is typically done in one of two ways:\n",
    "\n",
    "1. GET Method: When the form data is appended to the URL as query parameters. This is useful for search forms where you want the URL to be shareable.\n",
    "2. POST Method: When the form data is sent in the body of the HTTP request, making it more suitable for sensitive information or larger datasets.\n",
    "\n",
    "When a form is submitted, the browser performs the following steps:\n",
    "\n",
    "1. Gathers all the form data.\n",
    "2. Sends an HTTP request to the server with this data.\n",
    "3. The server processes the request and returns a response.\n",
    "4. The browser then reloads the page with the server's response.\n",
    "\n",
    "By default, forms use the GET method if no method is specified. You can specify the method by adding the method attribute to the form tag, like so:"
   ]
  },
  {
   "cell_type": "code",
   "execution_count": null,
   "id": "4c18116c-1492-4014-b3bb-ad712e27638c",
   "metadata": {},
   "outputs": [],
   "source": [
    "<form method=\"post\">"
   ]
  },
  {
   "cell_type": "markdown",
   "id": "e5a06e6e-35d1-4514-b693-a664d27710ee",
   "metadata": {},
   "source": [
    "### Changing Button Behavior\n",
    "\n",
    "If you don't want the form to submit when a button is clicked, you can change the button type to button instead of submit:"
   ]
  },
  {
   "cell_type": "code",
   "execution_count": null,
   "id": "1f3e79ca-5d66-4485-bfcb-de9d57aec06a",
   "metadata": {},
   "outputs": [],
   "source": [
    "<button type=\"button\">Click Me</button>"
   ]
  },
  {
   "cell_type": "markdown",
   "id": "82be4d16-4116-4672-8dd9-8ccc93cc9747",
   "metadata": {},
   "source": [
    "This way, the button can be used for other actions, like triggering JavaScript functions, without submitting the form."
   ]
  },
  {
   "cell_type": "markdown",
   "id": "4f164066-5bfd-4789-bd0d-06529441b9f7",
   "metadata": {},
   "source": [
    "### Changing the Form Method to POST\n",
    "\n",
    "To change the form method to POST, you need to add an attribute called method and set it to POST.\n",
    "\n",
    "Your form tag should look like the following block:"
   ]
  },
  {
   "cell_type": "raw",
   "id": "2cd43cdf-3b3d-424e-8e60-8ee5ef32b4af",
   "metadata": {},
   "source": [
    "<form method='POST'>\n",
    "    <label for='username'>Your Name</label>\n",
    "    <input type=\"text\" placeholder='e.g., Ramin' name=\"uname\" id=\"username\">\n",
    "    <button>Send</button>\n",
    "</form>"
   ]
  },
  {
   "cell_type": "markdown",
   "id": "72ad4034-8e2e-496e-9f74-b47f5c60b17d",
   "metadata": {},
   "source": [
    "### If you save everything, reload the page, and click on send, you will get a Forbidden error.\n",
    "\n",
    "The reason is that Django has built-in protection against Cross-Site Request Forgery (CSRF) attacks. When you use the POST method, Django requires a CSRF token to be included in the form to validate the request.\n",
    "\n",
    "#### What is CSRF?\n",
    "\n",
    "CSRF stands for Cross-Site Request Forgery. It is a type of security vulnerability in web applications where an attacker tricks a user into performing actions on a web application in which they are authenticated, without their consent. This can lead to unauthorized actions being performed on behalf of the user.\n",
    "\n",
    "#### How CSRF Attacks Work:\n",
    "\n",
    "1. Authentication Context: The user is logged into a web application.\n",
    "2. Malicious Request: The attacker crafts a malicious request (usually in the form of a URL, form submission, or an image load) and somehow convinces the user to execute it (by visiting a malicious website, for example).\n",
    "3. Automatic Submission: The browser automatically includes the user's session cookies or other authentication tokens with the request.\n",
    "4. Unauthorized Actions: The web application receives the request and performs the action, assuming it was made by the authenticated user.\n",
    "\n",
    "#### Example of a CSRF Attack:\n",
    "\n",
    "Imagine a user is logged into a banking website. The attacker sends the user an email with a link to a malicious website that contains a hidden form that submits a fund transfer request to the banking site. If the user visits the malicious website while still logged into their bank, the hidden form is submitted automatically, transferring money without the user’s consent.\n",
    "CSRF Protection in Django\n",
    "\n",
    "Django includes built-in protection against CSRF attacks by requiring a CSRF token to be included with any POST request that modifies data. This token is a unique, secret value that the server generates and sends to the client. The client must send it back with each subsequent POST request, allowing the server to verify that the request is legitimate.\n",
    "\n",
    "### Adding the CSRF Token\n",
    "\n",
    "To include the CSRF token, you need to add the {% csrf_token %} template tag inside your form. This tag generates a hidden input field with a token that Django will check to ensure the request is coming from a trusted source.\n",
    "\n",
    "Your updated form should look like this:"
   ]
  },
  {
   "cell_type": "code",
   "execution_count": null,
   "id": "2c982aa1-6cd8-46a9-b451-dc82dc118faf",
   "metadata": {},
   "outputs": [],
   "source": [
    "<form method='POST'>\n",
    "    {% csrf_token %}\n",
    "    <label for='username'>Your Name</label>\n",
    "    <input type=\"text\" placeholder='e.g., Ramin' name=\"uname\" id=\"username\">\n",
    "    <button>Send</button>\n",
    "</form>"
   ]
  },
  {
   "cell_type": "markdown",
   "id": "e9f9b6fe-59fa-4083-9331-4345785e006c",
   "metadata": {},
   "source": [
    "If you relof the page and check the page source code you will see a new input is added (user cant see it in the webpage), and this input has a value which is the CSRF token created by django.<br>"
   ]
  },
  {
   "cell_type": "code",
   "execution_count": null,
   "id": "2f9ee37e-33f7-46a2-bad9-93ac1d39563d",
   "metadata": {},
   "outputs": [],
   "source": [
    "<input type=\"hidden\" name=\"csrfmiddlewaretoken\" value=\"eqb822ROPcUY6AWpeHXN0pEfJYt1aOIOdeCdeSy9uM5h82K19VIMHgxTMuTBHUFw\">"
   ]
  },
  {
   "cell_type": "markdown",
   "id": "6b770fea-ea6c-4832-b564-dbfda404666d",
   "metadata": {},
   "source": [
    "### In the next notebook you will lern how to utilize the sent data"
   ]
  }
 ],
 "metadata": {
  "kernelspec": {
   "display_name": "Python 3 (ipykernel)",
   "language": "python",
   "name": "python3"
  },
  "language_info": {
   "codemirror_mode": {
    "name": "ipython",
    "version": 3
   },
   "file_extension": ".py",
   "mimetype": "text/x-python",
   "name": "python",
   "nbconvert_exporter": "python",
   "pygments_lexer": "ipython3",
   "version": "3.10.11"
  }
 },
 "nbformat": 4,
 "nbformat_minor": 5
}
