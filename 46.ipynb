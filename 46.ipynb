{
 "cells": [
  {
   "cell_type": "markdown",
   "id": "67b62c43-9eb9-4b12-a9a2-29bf9f2ca069",
   "metadata": {},
   "source": [
    "#### Using What we have learned in the project:\n",
    "\n",
    "1- Navigate to your apps admin.py and make sure you display the movies main act in the admin page.<br>\n",
    "Also, remove all the other columns except for the title for making it simpler.<br>\n",
    "\n",
    "Your admin.py file should look like the following block:"
   ]
  },
  {
   "cell_type": "code",
   "execution_count": null,
   "id": "e43e9c14-0a68-4df5-882b-d9153b8e43f5",
   "metadata": {},
   "outputs": [],
   "source": [
    "from django.contrib import admin\n",
    "from .models import Movie, Actor\n",
    "\n",
    "class ActorAdmin(admin.ModelAdmin):\n",
    "    list_display = ['first_name', 'last_name']\n",
    "\n",
    "\n",
    "class MovieAdmin(admin.ModelAdmin):\n",
    "    prepopulated_fields = {'slug':('title',)}\n",
    "    list_filter = ('rating', 'is_bestselling')\n",
    "    list_display = ['title''main_act']\n",
    "\n",
    "admin.site.register(Movie, MovieAdmin)\n",
    "admin.site.register(Actor, ActorAdmin)"
   ]
  },
  {
   "cell_type": "markdown",
   "id": "3c84b55a-fa42-4492-935c-0b5776610292",
   "metadata": {},
   "source": [
    "If you open the administrative page, can open the movie table! you will see that instead of the first name and the last name of the actor it shows an object.<br>\n",
    "to fix this and show the actual first name and last name:<br>\n",
    "2- Open models.py and redefine the str magical method for the Actor class, this will help you to display the first name and last name properly.<br>\n",
    "Your Actor class should looklike the following block:"
   ]
  },
  {
   "cell_type": "code",
   "execution_count": null,
   "id": "fdbdc389-ba68-43e9-94d6-b925351e1a6d",
   "metadata": {},
   "outputs": [],
   "source": [
    "class Actor(models.Model):\n",
    "    first_name = models.CharField(max_length=100)\n",
    "    last_name  = models.CharField(max_length=100)\n",
    "\n",
    "    def __str__(self):\n",
    "        return f\"{self.first_name} {self.last_name}\""
   ]
  },
  {
   "cell_type": "markdown",
   "id": "7ae5fc37-35f5-4fef-b49e-d068d28878f0",
   "metadata": {},
   "source": [
    "Now, if you check the admin webpage everything should be they way it supposed to be."
   ]
  },
  {
   "cell_type": "markdown",
   "id": "88da9dd7-c7bf-46b2-8f32-c1e29130222e",
   "metadata": {},
   "source": [
    "One thing you could also do, was that to define a method calle full_name and then call it in the str dunder method.<br>\n",
    "Lets do it:\n",
    "\n",
    "Your Actor class should looklike the following block:"
   ]
  },
  {
   "cell_type": "code",
   "execution_count": null,
   "id": "cfde617d-c196-4cc9-9269-53d272d02157",
   "metadata": {},
   "outputs": [],
   "source": [
    "class Actor(models.Model):\n",
    "    first_name = models.CharField(max_length=100)\n",
    "    last_name  = models.CharField(max_length=100)\n",
    "\n",
    "    def full_name(self):\n",
    "        return f\"{self.first_name} {self.last_name}\"\n",
    "    \n",
    "    def __str__(self):\n",
    "        return self.full_name()"
   ]
  },
  {
   "cell_type": "markdown",
   "id": "0c8084e9-86e7-4f50-9a72-c58468270b97",
   "metadata": {},
   "source": [
    "This way you can use the full_name method in other places too."
   ]
  },
  {
   "cell_type": "markdown",
   "id": "bb70fd9a-8f2a-42d1-b17e-9f0b4aab3ec8",
   "metadata": {},
   "source": [
    "There is one more thing that i want to mention here! not that we made the connection. If you go to the Movie table and click on one of the rows. you will see that not only django shows the main actor! but it also provides you with a select box where you can select and change the main_act field! the values are from the Actor table and you are also given the option to add new Actors to the Actor table by clicking on the plus symbol.<br>\n",
    "Here is a picture:<br><br>\n",
    "<img src=\"images/8-admin.png\">"
   ]
  },
  {
   "cell_type": "markdown",
   "id": "86323f68-bd20-4f3c-9f1a-1126fd746541",
   "metadata": {},
   "source": [
    "So the relation that we defined here! was a One-to-Many relation!\n",
    "\n",
    "In the next notebook, you will learn about One-toOne relations."
   ]
  }
 ],
 "metadata": {
  "kernelspec": {
   "display_name": "Python 3 (ipykernel)",
   "language": "python",
   "name": "python3"
  },
  "language_info": {
   "codemirror_mode": {
    "name": "ipython",
    "version": 3
   },
   "file_extension": ".py",
   "mimetype": "text/x-python",
   "name": "python",
   "nbconvert_exporter": "python",
   "pygments_lexer": "ipython3",
   "version": "3.10.11"
  }
 },
 "nbformat": 4,
 "nbformat_minor": 5
}
