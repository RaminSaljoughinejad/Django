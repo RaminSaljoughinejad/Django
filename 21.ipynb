{
 "cells": [
  {
   "cell_type": "markdown",
   "id": "4d755742-795c-473e-baa9-594852f58745",
   "metadata": {},
   "source": [
    "### Creating a template for The 404 Response\n",
    "\n",
    "Currently our 404 response is a hard coded html code, something we should always try to avoid.<br>\n",
    "Lets fix it.<br>\n",
    "\n",
    "1- Create a file called 404.html inside the templates folder where you created the base.html file.\n",
    "2- Extend it from the base.html and add the neccessary data into it.\n",
    "\n",
    "Your file should look something like the following:"
   ]
  },
  {
   "cell_type": "code",
   "execution_count": null,
   "id": "3b4fe58a-b810-4a83-b456-1e1eccb1f7c9",
   "metadata": {},
   "outputs": [],
   "source": [
    "{% extends \"base.html\" %}\n",
    "\n",
    "{% block page_title %}\n",
    "    Something went wrong - we could not find that page!\n",
    "{% endblock page_title %}\n",
    "\n",
    "{% block content %}\n",
    "    <h1>We could not find that page!</h1>\n",
    "    <p>Sorry but we could not find that page.</p>\n",
    "{% endblock content %}"
   ]
  },
  {
   "cell_type": "markdown",
   "id": "0bb99566-9369-45bf-8aff-bfbdb5919107",
   "metadata": {},
   "source": [
    "Now we can add this page as a response to 404 responses.<br>\n",
    "2- Navigate to views.py inside your app folder. and import render_to_string function from django.template.loader<br>\n",
    "3- Now make the required changes in the url_handler_int function to send the 404.html page you created as a response.<br>\n",
    "<br>\n",
    "Your views.py file should look something like the following block:"
   ]
  },
  {
   "cell_type": "code",
   "execution_count": null,
   "id": "af240798-ffa8-455f-a2ab-97eb8c8014c6",
   "metadata": {},
   "outputs": [],
   "source": [
    "from django.shortcuts import render\n",
    "from django.http import HttpResponse, HttpResponseNotFound, HttpResponseRedirect\n",
    "from django.urls import reverse\n",
    "from django.template.loader import render_to_string\n",
    "\n",
    "_dict = {\n",
    "    1:'Variables!',\n",
    "    2:'If-Statements',\n",
    "    3:'Loops',\n",
    "    4:None,\n",
    "    53:'This is the last notebook of this course.'\n",
    "}\n",
    "\n",
    "_redirections = {\n",
    "    'intro':'1',\n",
    "    'final':'53'\n",
    "}\n",
    "\n",
    "\n",
    "def index(request):\n",
    "    return render(request,\n",
    "                  'Python_Fundamentals/index.html',\n",
    "                 {\n",
    "                     \"exercises\": _dict\n",
    "                 })\n",
    "\n",
    "# Create your views here.\n",
    "def url_handler_str(request,  exercise):\n",
    "    if exercise in _redirections:\n",
    "        return HttpResponseRedirect(reverse('py_fun',args=[_redirections[exercise]]))\n",
    "    return HttpResponse(f\"The url is looking for '{exercise}' address and is a string.\")\n",
    "\n",
    "\n",
    "def url_handler_int(request,  exercise):\n",
    "    if exercise in _dict:\n",
    "        return render(request, 'Python_Fundamentals\\exercise.html', {'text':_dict[exercise], 'ex_num': exercise})\n",
    "    else:\n",
    "        response_data = render_to_string(\"404.html\")\n",
    "        return HttpResponseNotFound(response_data)"
   ]
  },
  {
   "cell_type": "markdown",
   "id": "a22aa2fa-743b-46c5-bfe9-659a10a69986",
   "metadata": {},
   "source": [
    "Now, save eveything and try to access a page that does not exists. Everything should work, just fine.<br>\n",
    "Please understand that we have also sent the 404 response status to the user which is realy important."
   ]
  },
  {
   "cell_type": "markdown",
   "id": "8694a2ae-727a-4fd0-9d3b-9710f44021fc",
   "metadata": {},
   "source": [
    "### A better solution:\n",
    "\n",
    "Since 404response is a very tipical case in every project Django has implemented a function to havdle it easier.<br>\n",
    "For this, you should impport Http404 from django.http and then replace it with the render_to_string and HttpResponse.\n",
    "\n",
    "An important thing that you need to understand here is that unlike other responses that you have seen so far Http404 is not something to return.<br>\n",
    "The reason is that unlike other responses which were functions, Http404 is a class and hence should be raised where it is needed.<br>\n",
    "Http404 Class does not require any values for its constructor method and automatically searches the roots templates folders for a 404.html file to load.<br>\n",
    "Please Understand that the name of the file is fixed and should not be changed.<br><br>\n",
    "Your url_handler_int function should look something like the following block:"
   ]
  },
  {
   "cell_type": "code",
   "execution_count": null,
   "id": "4d401cfa-3f9f-409f-98a7-9d9884f11194",
   "metadata": {},
   "outputs": [],
   "source": [
    "def url_handler_int(request,  exercise):\n",
    "    if exercise in _dict:\n",
    "        return render(request, 'Python_Fundamentals\\exercise.html', {'text':_dict[exercise], 'ex_num': exercise})\n",
    "    else:\n",
    "        raise Http404()"
   ]
  },
  {
   "cell_type": "markdown",
   "id": "746715dc-3d60-4cea-86b0-604e67b007c2",
   "metadata": {},
   "source": [
    "Now if you try to access a page that does not exists you will see the folowing:"
   ]
  },
  {
   "cell_type": "markdown",
   "id": "966d6aea-ae98-4ae3-9b32-9fcfb09e6b65",
   "metadata": {},
   "source": [
    "<img src='Images/4-404.png'>"
   ]
  },
  {
   "cell_type": "markdown",
   "id": "69f32b4a-24e9-4a2d-8f17-0910730313c9",
   "metadata": {},
   "source": [
    "Don't worry everything is working just fine. Its just that youa re currently on the development server and have the DEBUG set to True. Once you deploy your website into an actual server and set the DEBUG to FALSE, you will see that the template works just fine.<br>\n",
    "Please Understand that you are not supposed to turn the DEBUG to FALSE at the moment and if you do your development server stops working."
   ]
  },
  {
   "cell_type": "markdown",
   "id": "74ef24f8-c70c-4caa-ad51-9d76e04d1228",
   "metadata": {},
   "source": [
    "Next we are going to add css to our template files."
   ]
  }
 ],
 "metadata": {
  "kernelspec": {
   "display_name": "Python 3 (ipykernel)",
   "language": "python",
   "name": "python3"
  },
  "language_info": {
   "codemirror_mode": {
    "name": "ipython",
    "version": 3
   },
   "file_extension": ".py",
   "mimetype": "text/x-python",
   "name": "python",
   "nbconvert_exporter": "python",
   "pygments_lexer": "ipython3",
   "version": "3.10.11"
  }
 },
 "nbformat": 4,
 "nbformat_minor": 5
}
