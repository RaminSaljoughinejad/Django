{
 "cells": [
  {
   "cell_type": "markdown",
   "id": "184054a2",
   "metadata": {},
   "source": [
    "### Reset Password\n",
    "\n",
    "In this notebook we are going to add two new functions to our project:\n",
    "1. Forgot Password\n",
    "2. Change Password\n",
    "\n",
    "- If you naviagte to auth.url you will see that the following four urls are predefined\n",
    "    - passowrd_change\n",
    "    - password_change/done\n",
    "    - password_reset\n",
    "    - password_reset/done<br>\n",
    "\n",
    "You can access these urls and if you do django will nagivate you to adminstartive area.<br>\n",
    "Please note that you need to be loged in if you want to access those urls.\n",
    "\n",
    "Its is better if you check the view class connected to each of these urls and check their template names, you will need to create them later."
   ]
  },
  {
   "cell_type": "markdown",
   "id": "b2c05239",
   "metadata": {
    "vscode": {
     "languageId": "plaintext"
    }
   },
   "source": [
    "### Lets start with the second one (Change Passowrd):\n",
    "\n",
    "If you check PasswordResetView you will see that it uses a view called 'password_change_form'.<br>\n",
    "1. Create a new template called password_change_form and its associate css file (they should be in your accounts app)\n",
    "\n",
    "Save everything and check if you can access the templates you just created."
   ]
  },
  {
   "cell_type": "markdown",
   "id": "ed330c51",
   "metadata": {
    "vscode": {
     "languageId": "plaintext"
    }
   },
   "source": [
    "{% extends \"base.html\" %}\n",
    "{% load static %}\n",
    "\n",
    "{% block page_title %}\n",
    "    Password Change\n",
    "{% endblock page_title %}\n",
    "\n",
    "{% block css_files %}\n",
    "    <link rel=\"stylesheet\" href=\"{% static \"registration/password_change_form.css\" %}\">\n",
    "{% endblock css_files %}\n",
    "\n",
    "{% block content %}\n",
    "    \n",
    "{% endblock content %}"
   ]
  },
  {
   "cell_type": "markdown",
   "id": "91858de2",
   "metadata": {
    "vscode": {
     "languageId": "plaintext"
    }
   },
   "source": [
    "2. Load the form inside your template, dont forget form tag, csrf token and submit button."
   ]
  },
  {
   "cell_type": "code",
   "execution_count": null,
   "id": "d7a2bb2a",
   "metadata": {
    "vscode": {
     "languageId": "html"
    }
   },
   "outputs": [],
   "source": [
    "{% block content %}\n",
    "<div class=\"main-wrapper\">\n",
    "    <form action=\"\" method=\"post\">\n",
    "        {% csrf_token %}\n",
    "        {{ form.as_p }}\n",
    "        <button type=\"submit\">Change Password</button>\n",
    "    </form>\n",
    "</div>\n",
    "{% endblock content %}"
   ]
  },
  {
   "cell_type": "markdown",
   "id": "a4f9ef84",
   "metadata": {
    "vscode": {
     "languageId": "plaintext"
    }
   },
   "source": [
    "Style the page using css.\n",
    "\n",
    "Now if you save everything and access the url, you will see that you can chnage the password, but once you enter the fields input and click on Change Password button you will be send to a predefined template! we dont want that, so check the name of the tempalte from the auth.views.py and create a new temaplte for it. "
   ]
  },
  {
   "cell_type": "code",
   "execution_count": null,
   "id": "40509a20",
   "metadata": {
    "vscode": {
     "languageId": "html"
    }
   },
   "outputs": [],
   "source": []
  },
  {
   "cell_type": "markdown",
   "id": "aec9af8f",
   "metadata": {},
   "source": [
    "Lets start with the first one (Forgot Password):\n",
    "\n",
    "1. Navigate to login.html template\n",
    "2. Add a link under the 'log in' button and pass 'Forgot Passowrd?' as its innerHTML.\n",
    "- Don't forget to style the link using css\n",
    "\n",
    "Now, we should create the template. If you check PasswordResetView you will see that it uses a view called 'password_reset_form'.\n",
    "3. Create a new template and its associated css file and name them 'password_reset_form' (they should be in accounts.templates.registration and accounts.static.registration)\n",
    "\n",
    "Its time to create a view for it"
   ]
  }
 ],
 "metadata": {
  "kernelspec": {
   "display_name": "Python 3",
   "language": "python",
   "name": "python3"
  },
  "language_info": {
   "codemirror_mode": {
    "name": "ipython",
    "version": 3
   },
   "file_extension": ".py",
   "mimetype": "text/x-python",
   "name": "python",
   "nbconvert_exporter": "python",
   "pygments_lexer": "ipython3",
   "version": "3.10.11"
  }
 },
 "nbformat": 4,
 "nbformat_minor": 5
}
