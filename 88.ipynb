{
 "cells": [
  {
   "cell_type": "markdown",
   "id": "184054a2",
   "metadata": {},
   "source": [
    "### Reset Password\n",
    "\n",
    "In this notebook we are going to add two new functions to our project:\n",
    "1. Forgot Password\n",
    "2. Change Password\n",
    "\n",
    "- If you naviagte to auth.url you will see that the following four urls are predefined\n",
    "    - passowrd_change\n",
    "    - password_change/done\n",
    "    - password_reset\n",
    "    - password_reset/done<br>\n",
    "\n",
    "You can access these urls and if you do django will nagivate you to adminstartive area.<br>\n",
    "Please note that you need to be loged in if you want to access those urls.\n",
    "\n",
    "Its is better if you check the view class connected to each of these urls and check their template names, you will need to create them later."
   ]
  },
  {
   "cell_type": "markdown",
   "id": "b2c05239",
   "metadata": {
    "vscode": {
     "languageId": "plaintext"
    }
   },
   "source": [
    "### Lets start with the second one (Change Passowrd):\n",
    "\n",
    "If you check PasswordResetView you will see that it uses a view called 'password_change_form'.<br>\n",
    "1. Create a new template called password_change_form and its associate css file (they should be in your accounts app)\n",
    "\n",
    "Save everything and check if you can access the templates you just created."
   ]
  },
  {
   "cell_type": "markdown",
   "id": "ed330c51",
   "metadata": {
    "vscode": {
     "languageId": "plaintext"
    }
   },
   "source": [
    "{% extends \"base.html\" %}\n",
    "{% load static %}\n",
    "\n",
    "{% block page_title %}\n",
    "    Password Change\n",
    "{% endblock page_title %}\n",
    "\n",
    "{% block css_files %}\n",
    "    <link rel=\"stylesheet\" href=\"{% static \"registration/password_change_form.css\" %}\">\n",
    "{% endblock css_files %}\n",
    "\n",
    "{% block content %}\n",
    "    \n",
    "{% endblock content %}"
   ]
  },
  {
   "cell_type": "markdown",
   "id": "91858de2",
   "metadata": {
    "vscode": {
     "languageId": "plaintext"
    }
   },
   "source": [
    "2. Load the form inside your template, dont forget form tag, csrf token and submit button."
   ]
  },
  {
   "cell_type": "code",
   "execution_count": null,
   "id": "d7a2bb2a",
   "metadata": {
    "vscode": {
     "languageId": "html"
    }
   },
   "outputs": [],
   "source": [
    "{% block content %}\n",
    "<div class=\"main-wrapper\">\n",
    "    <form action=\"\" method=\"post\">\n",
    "        {% csrf_token %}\n",
    "        {{ form.as_p }}\n",
    "        <button type=\"submit\">Change Password</button>\n",
    "    </form>\n",
    "</div>\n",
    "{% endblock content %}"
   ]
  },
  {
   "cell_type": "markdown",
   "id": "a4f9ef84",
   "metadata": {
    "vscode": {
     "languageId": "plaintext"
    }
   },
   "source": [
    "Style the page using css.\n",
    "\n",
    "Now if you save everything and access the url, you will see that you can chnage the password, but once you enter the fields input and click on Change Password button you will be send to a predefined template! we dont want that, so check the name of the tempalte from the auth.views.py and create a new temaplte for it. "
   ]
  },
  {
   "cell_type": "code",
   "execution_count": null,
   "id": "40509a20",
   "metadata": {
    "vscode": {
     "languageId": "html"
    }
   },
   "outputs": [],
   "source": [
    "{% extends \"base.html\" %}\n",
    "{% load static %}\n",
    "\n",
    "{% block page_title %}\n",
    "    Password Change Successful\n",
    "{% endblock page_title %}\n",
    "\n",
    "{% block css_files %}\n",
    "    <link rel=\"stylesheet\" href=\"{% static \"registration/password_change_done.css\" %}\">\n",
    "{% endblock css_files %}\n",
    "\n",
    "{% block content %}\n",
    "<div class=\"main-wrapper\">\n",
    "    <h2>Passowrd Change Successful</h2>\n",
    "    <p>Your password has been changed.</p>\n",
    "</div>\n",
    "{% endblock content %}"
   ]
  },
  {
   "cell_type": "markdown",
   "id": "aec9af8f",
   "metadata": {},
   "source": [
    "Lets start with the first one (Forgot Password):\n",
    "\n",
    "The forgot password proccess is a complex process. It involves sending an email to the user email address.\n",
    "Lets talk about the steps:\n",
    "- Getting the user account email address (a template)\n",
    "- Checking our database for the email\n",
    "- Generating a password reset link\n",
    "- Creating and email and sending it to the user-email-address\n",
    "- Telling the user that the eamil is sent (a template)\n",
    "- Obtaining the new password from the user (a template)\n",
    "- Setting the new password (a template)\n",
    "\n",
    "\n",
    "Now, lets do this:<br>\n",
    "\n",
    "1. Navigate to login.html template\n",
    "2. Add a link under the 'log in' button and pass 'Forgot Passowrd?' as its innerHTML.\n",
    "- Don't forget to style the link using css\n",
    "\n",
    "Now, we should create the template. If you check PasswordResetView you will see that it uses a view called 'password_reset_form'. Also, like the password change, password reset requires a password_reset_done template, so while you are on it make both of them.<br><br>\n",
    "3. Create two new templates and their associated css files and name them 'password_reset_form' and 'password_reset_done'.\n",
    "\n",
    "4. extend both templates from the base template and use {{form}} inside the first one to create a form for the user (dont forget csrf token, form tag, and the button). Also style the page using css."
   ]
  },
  {
   "cell_type": "markdown",
   "id": "33ba6b36",
   "metadata": {},
   "source": [
    "<div class=\"main-wrapper\">\n",
    "    <h2>Password Reset Form</h2>\n",
    "    <form action=\"\" method=\"post\">\n",
    "        {% csrf_token %}\n",
    "        {{form.as_p}}\n",
    "        <button type=\"submit\">Set Password</button>\n",
    "    </form>\n",
    "</div>"
   ]
  },
  {
   "cell_type": "code",
   "execution_count": null,
   "id": "6d463e93",
   "metadata": {
    "vscode": {
     "languageId": "html"
    }
   },
   "outputs": [],
   "source": [
    "<div class=\"main-wrapper\">\n",
    "    <h2>Email Sent Successful</h2>\n",
    "    <p>An email containing the instruction for changing your password has been sent to your email address.</p>\n",
    "</div>"
   ]
  },
  {
   "cell_type": "markdown",
   "id": "49c477c5",
   "metadata": {
    "vscode": {
     "languageId": "html"
    }
   },
   "source": [
    "5. Now, its the time to work on sending email.\n",
    "\n",
    "Navigate to BookStore.settings.py\n",
    "\n",
    "- Add a new variable called 'EMAIL_BACKEND' and pass 'django.core.mail.backends.console.EmailBackend'<br>\n",
    "\n",
    "Now, if you use the password forgot option for an account that has an email address, an email will be sent to the user-email-address (actualy the email won't be sent because we haven't set an email provider yet), and you can see the email in the console! (we are going to use the password reset link which is now printed in the console).\n",
    "\n",
    "Use the link and reset a pwword just to see the process.\n",
    "\n",
    "As you may have noticed there are two templates involed here! one getting the new passwrd from the user and one showing the password change message.\n",
    "\n",
    "At the moment django is using the admin tempaltes for the job. and we need to change it.\n",
    "\n",
    "- Naviagte to auth.urls and see if you can locate the views we need.\n",
    "    - PasswordResetConfirmView\n",
    "    - PasswordResetCompleteView\n",
    "\n",
    "Could you tell which one is which?\n",
    "\n",
    "- The 'PasswordResetConfirmView' is for getting a new password from the user and 'PasswordResetCompleteView' is for telling the user that the password is changed.\n",
    "\n",
    "\n",
    "Now, navigate to each of those views, and check their template name; create those templates. and style them (dont forget to use the {{form}} in the first one)."
   ]
  },
  {
   "cell_type": "markdown",
   "id": "9584bc8b",
   "metadata": {},
   "source": [
    "<div class=\"main-wrapper\">\n",
    "    <h2>Password Reset Form</h2>\n",
    "    <form action=\"\" method=\"post\">\n",
    "        {% csrf_token %}\n",
    "        {{form.as_p}}\n",
    "        <button type=\"submit\">Set Password</button>\n",
    "    </form>\n",
    "</div>"
   ]
  },
  {
   "cell_type": "code",
   "execution_count": null,
   "id": "494fe6bb",
   "metadata": {
    "vscode": {
     "languageId": "html"
    }
   },
   "outputs": [],
   "source": [
    "<div class=\"main-wrapper\">\n",
    "    <h2>Passowrd Change Successful</h2>\n",
    "    <p>Your password has been changed.</p>\n",
    "    <a href=\"{% url \"login\" %}\">Login</a>\n",
    "</div>"
   ]
  },
  {
   "cell_type": "markdown",
   "id": "b048a75c",
   "metadata": {
    "vscode": {
     "languageId": "html"
    }
   },
   "source": [
    "Let me explain why the email wasn't acctualy send and was printed in the conosle.\n",
    "\n",
    "Well, if you remember we added a new seting called 'EMAIL_BACKEND' to our settings.py file.<br>\n",
    "In that we told django that instead of sending the email it should print the email inside the console.<br>\n",
    "Why?<br>\n",
    "Well, sending and email requires a lot of settings to be set and I just wanted to give you an overview.<br>\n",
    "\n",
    "Before go furture, go and read the email text and its header in the console to have a better understanding of what has happend.<br>\n",
    "\n",
    "Now, lets talk about how you can change the text of the sent email.\n",
    "\n",
    "1. Create a new template and name it 'password_reset_email.html'\n",
    "2. What ever you put in this email will be sent as the reset password email to the user.\n",
    "- Please understand that this email needs to contain the password-reset link\n",
    "\n",
    "Here is what I included in my template, take a look at it and then I will explain it"
   ]
  },
  {
   "cell_type": "raw",
   "id": "eed1cae1",
   "metadata": {
    "vscode": {
     "languageId": "raw"
    }
   },
   "source": [
    "Dear {{ user.username }},\n",
    "\n",
    "We received a request to reset your password for your BookStore account. If you did not make this request, please ignore this email. Otherwise, you can reset your password using the link below:\n",
    "\n",
    "{{ protocol }}://{{ domain }}{% url \"password_reset_confirm\" uidb64=uid token=token %}\n",
    "\n",
    "This link will expire in 24 hours for security reasons. If the link has expired, you can request a new one by visiting our password reset page.\n",
    "\n",
    "If you have any questions or need further assistance, feel free to contact our support team at\n",
    "\n",
    "Best regards,\n",
    "BookStore.com"
   ]
  },
  {
   "cell_type": "markdown",
   "id": "c326d1fb",
   "metadata": {},
   "source": [
    "{{ protocol }}  is for setting http or https protocol<br><br>\n",
    "{{ domain }} is your website name<br><br>\n",
    "{% url \"password_reset_confirm\" uidb64=uid toek=token %}<br><br>\n",
    "password_reset_confirm is the url name<br><br>\n",
    "uid is the userid and token is the security value that is unique to every email.\"<br>"
   ]
  },
  {
   "cell_type": "markdown",
   "id": "d99de480",
   "metadata": {},
   "source": []
  }
 ],
 "metadata": {
  "kernelspec": {
   "display_name": "Python 3",
   "language": "python",
   "name": "python3"
  },
  "language_info": {
   "codemirror_mode": {
    "name": "ipython",
    "version": 3
   },
   "file_extension": ".py",
   "mimetype": "text/x-python",
   "name": "python",
   "nbconvert_exporter": "python",
   "pygments_lexer": "ipython3",
   "version": "3.10.11"
  }
 },
 "nbformat": 4,
 "nbformat_minor": 5
}
