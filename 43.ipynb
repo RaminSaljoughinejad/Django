{
 "cells": [
  {
   "cell_type": "markdown",
   "id": "99972a5c-d2f1-4fc6-9ccd-0d1a766b39c7",
   "metadata": {},
   "source": [
    "### Relations:\n",
    "\n",
    "In Django, relationships between models play a crucial role in structuring and organizing data. These relationships define how different entities are connected to each other in a database, enabling powerful data querying and manipulation capabilities.\n",
    "\n",
    "There are several types of relationships supported by Django, including:\n",
    "\n",
    "    One-to-Many (ForeignKey): In this type of relationship, each record in one model can be associated with multiple records in another model. This is achieved by using a ForeignKey field in the model that \"owns\" the relationship.\n",
    "\n",
    "    Many-to-One (Reverse ForeignKey): This is the reverse of a ForeignKey relationship. Each record in one model can be associated with only one record in another model, but the second model can have multiple records related to it.\n",
    "\n",
    "    Many-to-Many (ManyToManyField): This type of relationship allows each record in one model to be associated with multiple records in another model, and vice versa. This is useful for representing complex relationships where multiple entities can be connected to each other in various combinations.\n",
    "\n",
    "Understanding and effectively utilizing these relationships is essential for designing robust database schemas and building efficient Django applications. By defining and managing relationships between models, you can create sophisticated data structures that accurately represent real-world scenarios and support complex data operations.\n",
    "\n",
    "Let's explain each of these relationship types with examples:\n",
    "One-to-Many (ForeignKey):\n",
    "\n",
    "In a One-to-Many relationship, also known as a ForeignKey relationship, each record in one model can be associated with multiple records in another model. However, each record in the second model is associated with only one record in the first model. This relationship is established by using a ForeignKey field in the model that \"owns\" the relationship.\n",
    "\n",
    "Example:\n",
    "Consider a scenario where we have two models: Author and Book. Each author can write multiple books, but each book is written by only one author. \n",
    "In this example, the Book model has a ForeignKey field author that references the Author model. This establishes a One-to-Many relationship, where each book is associated with one author, but each author can have multiple books.\n",
    "\n",
    "Many-to-One (Reverse ForeignKey):\n",
    "\n",
    "A Many-to-One relationship is the reverse of a ForeignKey relationship. In this type of relationship, each record in one model can be associated with only one record in another model, but the second model can have multiple records related to it. This is achieved by using a ForeignKey field in the second model.\n",
    "\n",
    "Example:\n",
    "Building upon the previous example, let's consider the Many-to-One relationship from the perspective of the Author model. Each author can have multiple books, but each book is authored by only one author. \n",
    "In this example, the Book model includes a ForeignKey field author that references the Author model. Each book is associated with one author, creating a Many-to-One relationship between books and authors.\n",
    "\n",
    "Many-to-Many (ManyToManyField):\n",
    "\n",
    "In a Many-to-Many relationship, each record in one model can be associated with multiple records in another model, and vice versa. This type of relationship is useful for representing complex relationships where multiple entities can be connected to each other in various combinations. This is achieved by using a ManyToManyField in both models.\n",
    "\n",
    "Example:\n",
    "Consider a scenario where we have two models: Student and Course. Each student can enroll in multiple courses, and each course can have multiple students enrolled.\n",
    "\n",
    "In this example, both the Student and Course models include a ManyToManyField. This establishes a Many-to-Many relationship, where each student can be associated with multiple courses, and each course can have multiple students enrolled."
   ]
  },
  {
   "cell_type": "markdown",
   "id": "e86bc492-912a-4199-bc68-7b12ef01256c",
   "metadata": {},
   "source": [
    "Lets add a new data model to our models.py file.\n",
    "\n",
    "This models is supposed to hold data regarding actors.\n",
    "\n",
    "1- Navigate to your app's models.py file\n",
    "2- Create a new class called Actor\n",
    "3- This class have 2 attributes: first_name, and last_name. \n",
    "4- The first_name and last_name attribute are Charfields that can not be left null, and have the max length of 100 characters (you may want to label them as an db_index so you perform faster searching on it in the future)<br>\n",
    "5- Now, you can change the field type of the main_act attribute in the Movie class. Change it to model.ForeignKey.\n",
    "6- The ForeignKey field type requires two arguments. \n",
    "- The first one is the name of the class that you want to link to this field (Movie).\n",
    "- And the second one is the on_delete argument. You may ask why?... well the first thing that comes to mind is that what if an actors data get deleted from the first class! what should happen to the row that was connected to this actor? and you have various options here:\n",
    "    - You can tell Django that if an actor data is deleted, the row associated to that actor should also get deleted. This is called 'CASCADE' and if you want it, you should pass models.CASCADE as the second argument to the ForeignKey field.\n",
    "    - You can also tell Django that if an actor data is being used in here, then is should not be possible to delete that actor from the table. This is called 'PROTECT' and if you want it you should pass models.PROTECT as the second argument to the ForeignKey field.\n",
    "    - Another option that you have here is 'SET_NULL' which basically tells django to set this field to null if the associated actor gets deleted from the first table (models.SET_NULL).\n",
    "    - There are other options too that you can check in Django Documentation.\n",
    "7- Set the ForeignKey's second argument to CASCADE\n",
    "\n",
    "Your models.py file should look like the following:"
   ]
  },
  {
   "cell_type": "code",
   "execution_count": null,
   "id": "b7dd171d-8823-4d68-9ccd-075cd474949e",
   "metadata": {},
   "outputs": [],
   "source": [
    "from django.db import models\n",
    "from django.core.validators import MinValueValidator, MaxValueValidator\n",
    "from django.urls import reverse\n",
    "from django.utils.text import slugify\n",
    "\n",
    "\n",
    "class Actor(models.Model):\n",
    "    first_name = models.CharField(max_length=100, null=False)\n",
    "    last_name  = models.CharField(max_length=100, null=False)\n",
    "\n",
    "\n",
    "class Movie(models.Model):\n",
    "    title = models.CharField(max_length=50)\n",
    "    rating = models.IntegerField(validators=[MinValueValidator(1), MaxValueValidator(10)])\n",
    "    main_act= models.ForeignKey(Actor, models.CASCADE)\n",
    "    is_bestselling = models.BooleanField(default=False)\n",
    "    slug = models.SlugField(default='', null=False, db_index=True)\n",
    " \n",
    "    def get_absolute_url(self):\n",
    "        return reverse(\"movie_detail_url\", args=[self.slug])\n",
    "\n",
    "    def __str__(self):\n",
    "        return f\"title:{self.title}, rating:{self.rating}, Main Actor/actress:{self.main_act}{', Best Seller' if self.is_bestselling else ''}\""
   ]
  },
  {
   "cell_type": "markdown",
   "id": "2cc4a534-02e5-460c-8680-772e09983e10",
   "metadata": {},
   "source": [
    "Now, you can save everything, stop the development server, and makemigrations command.<br>\n",
    "\n",
    "You will get an error which you have seen before:"
   ]
  },
  {
   "cell_type": "code",
   "execution_count": null,
   "id": "421a8ff3-864e-4c73-86f2-5776e6863d0e",
   "metadata": {},
   "outputs": [],
   "source": [
    "It is impossible to change a nullable field 'main_act' on movie to non-nullable without providing a default. This is because the database needs something to populate existing rows.\n",
    "Please select a fix:\n",
    " 1) Provide a one-off default now (will be set on all existing rows with a null value for this column)\n",
    " 2) Ignore for now. Existing rows that contain NULL values will have to be handled manually, for example with a RunPython or RunSQL operation.\n",
    " 3) Quit and manually define a default value in models.py."
   ]
  },
  {
   "cell_type": "markdown",
   "id": "2274eda9-353f-4295-9bf8-6c4159f9addd",
   "metadata": {},
   "source": [
    "Do you know why got this error? let me explain:\n",
    "\n",
    "The error is telling you that it is impossible to change a nullable field to a non_nullable field without providing a default. Still don't get it?\n",
    "Ok let me explain more: The main_Act attribute (field) used to be a CharField, and now we want to change it to a brand new field (ForiednKey), this means that this field will no longer hold strings and instead holds links (addresses) to other fields.\n",
    "\n",
    "And do we have any entries in the Actor table? even if we had. To which row of the table should we point?<br>\n",
    "This is the reason that django is yelling at you!\n",
    "\n",
    "1- Use the 3rd option to stop the terminal.<br>\n",
    "2- Get back to models.py and give the main_act field the option to be null (null=True).<br>\n",
    "3- Run the makemigrations command and then migrate to finialize the changes.<br>\n",
    "\n",
    "Now, you face a new problem!<br>\n",
    "Let me explain why Django is again yelling at you.<br>\n",
    "\n",
    "The Actor table (model) is something that we have just made! which means that it is empty. However there are a number of rows in the Movie table, and those rows have values for their main_act field.<br>\n",
    "Those values do not match any rows in the Actor table, and that is why django is yelling at you.<br>\n",
    "\n",
    "Well, unfortunately there is no fix to this!<br>\n",
    "You either need to enter your shell and manually set null for all the mina_act fields in the Movie table, or just simply delete the whole data inside that table so you can later populate it with new values.<br>\n",
    "\n",
    "lets do the second one:<br>\n",
    "1- Enter the shell, and use the following command to delete all the existing data inside the Movie table."
   ]
  },
  {
   "cell_type": "code",
   "execution_count": null,
   "id": "cffcb45d-dead-4cd6-a51d-7c407cc0ea14",
   "metadata": {},
   "outputs": [],
   "source": [
    "Movie.objects.all().delete()"
   ]
  },
  {
   "cell_type": "markdown",
   "id": "2ed70b41-b30b-4bcc-b93c-7603217a2699",
   "metadata": {},
   "source": [
    "2- Now, you can run the migrate command, and it succides."
   ]
  },
  {
   "cell_type": "markdown",
   "id": "802de2a5-cbfc-4ab9-b4e9-576dd67d3058",
   "metadata": {},
   "source": [
    "3- To make it easier to work with the new data model, go to your admin.py and make sure that you can access the new data model from the adminstrative section."
   ]
  },
  {
   "cell_type": "code",
   "execution_count": null,
   "id": "b4985596-0f12-4f2e-87c9-b0765b2d5607",
   "metadata": {},
   "outputs": [],
   "source": [
    "class ActorAdmin(admin.ModelAdmin):\n",
    "    list_display = ['first_name', 'last_name']"
   ]
  },
  {
   "cell_type": "markdown",
   "id": "9d1bd4a7-84fe-4ec6-830f-7f42b43fa0aa",
   "metadata": {},
   "source": [
    "Don't forget to register this new class otherwise you won't be able to see it in the admin page."
   ]
  },
  {
   "cell_type": "code",
   "execution_count": null,
   "id": "15db7dc1-f7b2-4dd3-b5a7-6adfde5eb68d",
   "metadata": {},
   "outputs": [],
   "source": [
    "admin.site.register(Actor, ActorAdmin)"
   ]
  },
  {
   "cell_type": "markdown",
   "id": "948d933e-16a5-4693-99e8-79826b61add9",
   "metadata": {},
   "source": [
    "Your admin.py file should look like the following block:"
   ]
  },
  {
   "cell_type": "code",
   "execution_count": null,
   "id": "2bb5b475-6466-45cc-9d4c-6bfe206b6117",
   "metadata": {},
   "outputs": [],
   "source": [
    "from django.contrib import admin\n",
    "from .models import Movie, Actor\n",
    "\n",
    "class ActorAdmin(admin.ModelAdmin):\n",
    "    list_display = ['first_name', 'last_name']\n",
    "\n",
    "\n",
    "class MovieAdmin(admin.ModelAdmin):\n",
    "    prepopulated_fields = {'slug':('title',)}\n",
    "    list_filter = ('rating', 'is_bestselling')\n",
    "    list_display = ['id', 'title', 'rating', 'is_bestselling', 'slug']\n",
    "\n",
    "admin.site.register(Movie, MovieAdmin)\n",
    "admin.site.register(Actor, ActorAdmin)"
   ]
  },
  {
   "cell_type": "markdown",
   "id": "db53d1e0-4601-4c5c-888d-ef24f19fcc4a",
   "metadata": {},
   "source": [
    "In the next notebook we will explore new python commands that we can perform on our data models."
   ]
  }
 ],
 "metadata": {
  "kernelspec": {
   "display_name": "Python 3 (ipykernel)",
   "language": "python",
   "name": "python3"
  },
  "language_info": {
   "codemirror_mode": {
    "name": "ipython",
    "version": 3
   },
   "file_extension": ".py",
   "mimetype": "text/x-python",
   "name": "python",
   "nbconvert_exporter": "python",
   "pygments_lexer": "ipython3",
   "version": "3.10.11"
  }
 },
 "nbformat": 4,
 "nbformat_minor": 5
}
