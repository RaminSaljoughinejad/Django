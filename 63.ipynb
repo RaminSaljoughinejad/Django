{
 "cells": [
  {
   "cell_type": "markdown",
   "id": "651b3e4b",
   "metadata": {},
   "source": [
    "### Chapter eight: Class-Based Views: Beyond the Basics:\n",
    "\n",
    "We are going to continue with our Feedback project.<br>\n",
    "\n",
    "\n",
    "1. Start with styling your res.html template (do as you wish).\n",
    "\n",
    "My res.html template file looks like the following block:"
   ]
  },
  {
   "cell_type": "code",
   "execution_count": null,
   "id": "2868801b",
   "metadata": {
    "vscode": {
     "languageId": "html"
    }
   },
   "outputs": [],
   "source": [
    "{% extends \"base.html\" %}\n",
    "{% load static %}\n",
    "\n",
    "{% block page_title %}Thank You{% endblock page_title %}\n",
    "\n",
    "{% block css_files %}\n",
    "    <link rel=\"stylesheet\" href=\"{% static \"reviews/res.css\" %}\">\n",
    "{% endblock css_files %}\n",
    "\n",
    "{% block content %}\n",
    "    <h3>Your Feedback has been sent to our support-team.</h3>\n",
    "    <p>Thank you for sharing your oppinion with us.</p>\n",
    "{% endblock content %}"
   ]
  },
  {
   "cell_type": "markdown",
   "id": "3ab611c3",
   "metadata": {
    "vscode": {
     "languageId": "html"
    }
   },
   "source": [
    "My res.css file looks like the following block:"
   ]
  },
  {
   "cell_type": "code",
   "execution_count": null,
   "id": "8765ab22",
   "metadata": {
    "vscode": {
     "languageId": "html"
    }
   },
   "outputs": [],
   "source": [
    ".main-wrapper{\n",
    "    width:30rem;\n",
    "    max-width:30rem;\n",
    "    padding:1.5rem;\n",
    "    border:1px solid rgb(83, 82, 82);\n",
    "    margin:5rem auto 0 auto;\n",
    "    border-radius: 12px;\n",
    "}\n",
    ".main-wrapper h3,\n",
    ".main-wrapper p{\n",
    "    color:white;\n",
    "}"
   ]
  },
  {
   "cell_type": "markdown",
   "id": "e2996907",
   "metadata": {
    "vscode": {
     "languageId": "html"
    }
   },
   "source": [
    "Please note that I have move the css code for body from index.css to base.css file so i can use it across all my templates that extend from base.html<br>"
   ]
  },
  {
   "cell_type": "markdown",
   "id": "6f2e1079",
   "metadata": {},
   "source": [
    "Lets add more urls:\n",
    "\n",
    "- Add '/reviews' url which is going to show all the reviews.\n",
    "    - Try to do it your self, but if you couldnt you can use the following code blocks:"
   ]
  },
  {
   "cell_type": "markdown",
   "id": "2bb5b841",
   "metadata": {},
   "source": [
    "1. Create a template called all-reviews.html and a css file for styling it called all-reviews.css\n",
    "2. Extend the all-reviews.html from base.html and also add the needed blocks.\n",
    "3. Add a new path in urls.py which is going to be responsible for 'reviews', point it to a class-based view and also give this path a name ('all-reviews-url').\n",
    "4. Navigate to your views.py, create a new class-based view called ReviewsView and inherit it from the original View class.\n",
    "5. Define the get method and inside it create an object from review-model; Fetch all the rows in the review model using the objects.all().\n",
    "6. Pass the fetched data to the all-reviews template using a key called reviews.\n",
    "7. Navigate to you all-reviews.html template and create a loop to show all the reviews.\n",
    "8. Style the page in the format you desire.\n",
    "9. Also Create a class-based view for the 'res' view\n",
    "\n",
    "My urls.py file looks like the following block:"
   ]
  },
  {
   "cell_type": "code",
   "execution_count": null,
   "id": "0c88aabb",
   "metadata": {},
   "outputs": [],
   "source": [
    "from django.urls import path\n",
    "from . import views\n",
    "\n",
    "urlpatterns = [\n",
    "    path('', views.IndexView.as_view(), name='reviews-root-url'),\n",
    "    path('results', views.ThankyouView.as_view(), name='reviews-result-url'),\n",
    "    path('reviews', views.ReviewsView.as_view(), name='all-reviews-url')\n",
    "]"
   ]
  },
  {
   "cell_type": "markdown",
   "id": "01e11ed2",
   "metadata": {},
   "source": [
    "My ReviewsView and ThankyouView Classes looks like the following block:"
   ]
  },
  {
   "cell_type": "code",
   "execution_count": null,
   "id": "14fe662f",
   "metadata": {},
   "outputs": [],
   "source": [
    "from django.shortcuts import render\n",
    "from django.views import View\n",
    "from .models import Review\n",
    "\n",
    "class ReviewsView(View):\n",
    "    review = Review\n",
    "    def get(self, request):\n",
    "        reviews = self.review.objects.all()\n",
    "        return render(request, 'reviews/all-reviews.html', {\n",
    "            'reviews' : reviews\n",
    "        })\n",
    "    \n",
    "\n",
    "class ThankyouView(View):\n",
    "    def get(self, request):\n",
    "        return render(request, 'reviews/res.html')"
   ]
  },
  {
   "cell_type": "markdown",
   "id": "260eeb18",
   "metadata": {
    "vscode": {
     "languageId": "html"
    }
   },
   "source": [
    "My all-reviews.html file looks like the following block:"
   ]
  },
  {
   "cell_type": "code",
   "execution_count": null,
   "id": "a223c337",
   "metadata": {
    "vscode": {
     "languageId": "html"
    }
   },
   "outputs": [],
   "source": [
    "{% extends \"base.html\" %}\n",
    "{% load static %}\n",
    "\n",
    "{% block page_title %}All Feedbacks{% endblock page_title %}\n",
    "\n",
    "{% block css_files %}\n",
    "    <link rel=\"stylesheet\" href=\"{% static \"reviews/all-reviews.css\" %}\">\n",
    "{% endblock css_files %}\n",
    "\n",
    "{% block content %}\n",
    "    <div class='main-wrapper'>\n",
    "        {% for review in reviews  %}\n",
    "            <div class='items'>\n",
    "                <h3>User:{{ review.user_name }} -- Rating:{{ review.rating }}</h3>\n",
    "                <p>Feedback: {{ review.review_text }}</p>\n",
    "            </div>\n",
    "        {% endfor %}\n",
    "    </div>\n",
    "{% endblock content %}"
   ]
  },
  {
   "cell_type": "markdown",
   "id": "9c1ef23e",
   "metadata": {
    "vscode": {
     "languageId": "html"
    }
   },
   "source": [
    "My all-reviews.css file looks like the following block:"
   ]
  },
  {
   "cell_type": "code",
   "execution_count": null,
   "id": "e350eab4",
   "metadata": {
    "vscode": {
     "languageId": "css"
    }
   },
   "outputs": [],
   "source": [
    ".main-wrapper{\n",
    "    width:40rem;\n",
    "    max-width: 40rem;\n",
    "    padding:2rem;\n",
    "    border:1px solid rgb(90, 88, 88);\n",
    "    border-radius: 12px;\n",
    "    margin: 5rem auto 0 auto;\n",
    "    color:white;\n",
    "}\n",
    ".items:not(:last-child)::after {\n",
    "    content: \"\";\n",
    "    display: block;\n",
    "    border-bottom: 1px solid #ccc;\n",
    "    margin: 2rem 0;\n",
    "}"
   ]
  },
  {
   "cell_type": "markdown",
   "id": "d2323b68",
   "metadata": {},
   "source": [
    "Lets talk about a class-based view that you could use instead of the original View class for your 'res' url.<br>\n",
    "\n",
    "### TemplateView:\n",
    "\n",
    "You see, when you are working on a view which is primarily working with a template and just showing it, you could use another builtin class-based view which is provided by django.<br>\n",
    "This class-based view object is called TemplateView and you need to import it from django.views.generic.base<br>\n",
    "\n",
    "Replace the original View class with the TemplateView.<br>\n",
    "\n",
    "Now inside the class you do not need to define a get method! What you need to do is to set a template_name class attribute. This template_name attribute holds the name of the template it has to render (in our case 'reviews/res.html').<br>\n",
    "\n",
    "You do not to do anything else, just save and check the result by refreshing the address.\n",
    "\n",
    "Your ThankyouView class should look like the following block:"
   ]
  },
  {
   "cell_type": "code",
   "execution_count": null,
   "id": "5aabd8e4",
   "metadata": {},
   "outputs": [],
   "source": [
    "class ThankyouView(View):\n",
    "    template_name = 'reviews/res.html'"
   ]
  },
  {
   "cell_type": "markdown",
   "id": "f77b759c",
   "metadata": {},
   "source": [
    "If you want to pass some data to your template you would need to define a method called 'get_context_data'.<br>\n",
    "The input arguments for this method are self and **kwargs<br>\n",
    "Inside this method, and as the last line, you will need to call its parent method using 'super().get_context_data(**kwargs)'<br>\n",
    "You do need to return it at the moment, but you will need to get the context from it.<br>\n",
    "- Create a variable called context = super().get_context_data(**kwargs)\n",
    "- Now you can add new keys to this (it behaives like a dictionary)<br>\n",
    "In the end just return the context object (I created a dummy key with a dummy value just to see if it works).<br>\n",
    "\n",
    "Your ThankyouView class should look like the following block:"
   ]
  },
  {
   "cell_type": "code",
   "execution_count": null,
   "id": "6170f9f3",
   "metadata": {},
   "outputs": [],
   "source": [
    "class ThankyouView(TemplateView):\n",
    "    template_name = 'reviews/res.html'\n",
    "\n",
    "    def get_context_data(self, **kwargs):\n",
    "        context = super().get_context_data(**kwargs)\n",
    "        context[\"message\"] = \"This Works\" \n",
    "        return context"
   ]
  },
  {
   "cell_type": "markdown",
   "id": "fec5e8fb",
   "metadata": {},
   "source": [
    "Navigate to your res.html file and show the message on the top of h3 tag!<br>\n",
    "Don't forget to add somestyling too.<br>\n",
    "Your res.html template file should look like the following block:"
   ]
  },
  {
   "cell_type": "code",
   "execution_count": null,
   "id": "ce853832",
   "metadata": {
    "vscode": {
     "languageId": "html"
    }
   },
   "outputs": [],
   "source": [
    "{% extends \"base.html\" %}\n",
    "{% load static %}\n",
    "\n",
    "{% block page_title %}Thank You{% endblock page_title %}\n",
    "\n",
    "{% block css_files %}\n",
    "    <link rel=\"stylesheet\" href=\"{% static \"reviews/res.css\" %}\">\n",
    "{% endblock css_files %}\n",
    "\n",
    "{% block content %}\n",
    "    <div class='main-wrapper'>\n",
    "        <h2>{{ message }}</h2>\n",
    "        <h3>Your Feedback has been sent to our support-team.</h3>\n",
    "        <p>Thank you for sharing your oppinion with us.</p>\n",
    "    </div>\n",
    "{% endblock content %}"
   ]
  },
  {
   "cell_type": "markdown",
   "id": "2ddc3fb6",
   "metadata": {
    "vscode": {
     "languageId": "html"
    }
   },
   "source": [
    "As a practice try to use a TemplateView for the ReviewsView and pass it your data.<br>\n",
    "- Also, edite the all-reviews.html template so it no longers shows all the data but only the user_name and rating (in list format).\n",
    "- Also make all the list items a clickable link so that when they are clicked the user is taken to page where the specific feedback is shown in whole (call that template 'review-detail.html' and dont forget about defining its url and styling it)."
   ]
  },
  {
   "cell_type": "markdown",
   "id": "f81d6ead",
   "metadata": {
    "vscode": {
     "languageId": "html"
    }
   },
   "source": [
    "Your urls.py file should look like the following block:"
   ]
  },
  {
   "cell_type": "code",
   "execution_count": null,
   "id": "9699c3ab",
   "metadata": {},
   "outputs": [],
   "source": [
    "from django.urls import path\n",
    "from . import views\n",
    "\n",
    "\n",
    "urlpatterns = [\n",
    "    path('', views.IndexView.as_view(), name='reviews-root-url'),\n",
    "    path('results', views.ThankyouView.as_view(), name='reviews-result-url'),\n",
    "    path('reviews', views.ReviewsView.as_view(), name='all-reviews-url'),\n",
    "    path('reviews/<int:id>', views.ReviewDetailView.as_view(), name='review-detail-url')\n",
    "]"
   ]
  },
  {
   "cell_type": "markdown",
   "id": "aa278ef5",
   "metadata": {
    "vscode": {
     "languageId": "html"
    }
   },
   "source": [
    "Your all-reviews.html file should look like the following block:"
   ]
  },
  {
   "cell_type": "code",
   "execution_count": null,
   "id": "e96be7b2",
   "metadata": {
    "vscode": {
     "languageId": "html"
    }
   },
   "outputs": [],
   "source": [
    "{% extends \"base.html\" %}\n",
    "{% load static %}\n",
    "\n",
    "{% block page_title %}All Feedbacks{% endblock page_title %}\n",
    "\n",
    "{% block css_files %}\n",
    "    <link rel=\"stylesheet\" href=\"{% static \"reviews/all-reviews.css\" %}\">\n",
    "{% endblock css_files %}\n",
    "\n",
    "{% block content %}\n",
    "    <div class='main-wrapper'>\n",
    "        {% for review in reviews  %}\n",
    "            <ul>\n",
    "                <li><a href=\"{% url \"review-detail-url\" review.id %}\">{{ review.user_name }} -- Rating:{{ review.rating }}</a></li>\n",
    "            </ul>\n",
    "        {% endfor %}\n",
    "    </div>\n",
    "{% endblock content %}"
   ]
  },
  {
   "cell_type": "markdown",
   "id": "df46822e",
   "metadata": {
    "vscode": {
     "languageId": "html"
    }
   },
   "source": [
    "Your views.py file should look like the following block:"
   ]
  },
  {
   "cell_type": "code",
   "execution_count": null,
   "id": "a8cee7c6",
   "metadata": {},
   "outputs": [],
   "source": [
    "from django.shortcuts import render\n",
    "from django.http import HttpResponseRedirect\n",
    "from .forms import ReviewForm\n",
    "from django.views import View\n",
    "from django.views.generic import ListView\n",
    "from django.views.generic.base import TemplateView\n",
    "from .models import Review\n",
    "\n",
    "class IndexView(View):\n",
    "    def get(self, request):\n",
    "        form = ReviewForm()\n",
    "        return render(request, 'reviews/index.html',{\n",
    "            'form':form\n",
    "        })\n",
    "        \n",
    "    def post(self, request):\n",
    "        form = ReviewForm(request.POST)\n",
    "        if form.is_valid():\n",
    "            form.save()\n",
    "            return HttpResponseRedirect('/results')\n",
    "        self.get(request)\n",
    "\n",
    "class ReviewsView(View):\n",
    "    review = Review\n",
    "    def get(self, request):\n",
    "        reviews = self.review.objects.all()\n",
    "        return render(request, 'reviews/all-reviews.html', {\n",
    "            'reviews' : reviews\n",
    "        })\n",
    "\n",
    "class ThankyouView(TemplateView):\n",
    "    template_name = 'reviews/res.html'\n",
    "\n",
    "    def get_context_data(self, **kwargs):\n",
    "        context = super().get_context_data(**kwargs)\n",
    "        context[\"message\"] = \"This Works\" \n",
    "        return context\n",
    "    \n",
    "class ReviewDetailView(TemplateView):\n",
    "    template_name = 'reviews/review-detail.html'\n",
    "\n",
    "    def get_context_data(self, **kwargs):\n",
    "        review = Review.objects.get(pk=kwargs['id'])\n",
    "        context = super().get_context_data(**kwargs)\n",
    "        context[\"review\"] = review \n",
    "        return context"
   ]
  },
  {
   "cell_type": "markdown",
   "id": "9b1e4d3f",
   "metadata": {
    "vscode": {
     "languageId": "html"
    }
   },
   "source": [
    "Your review-detail.html file should look like the following block:"
   ]
  },
  {
   "cell_type": "code",
   "execution_count": null,
   "id": "3b88a03b",
   "metadata": {
    "vscode": {
     "languageId": "html"
    }
   },
   "outputs": [],
   "source": [
    "{% extends \"base.html\" %}\n",
    "{% load static %}\n",
    "\n",
    "{% block page_title %}Review Detail{% endblock page_title %}\n",
    "\n",
    "{% block css_files %}\n",
    "    <link rel=\"stylesheet\" href=\"{% static \"reviews/review-detail.css\" %}\">\n",
    "{% endblock css_files %}\n",
    "\n",
    "{% block content %}\n",
    "    <div class='main-wrapper'>\n",
    "        <h1>User: {{ review.user_name }}</h1>\n",
    "        <h3>Rating: {{ review.rating }}</h3>\n",
    "        <p>Feedback: {{ review.review_text }}</p>\n",
    "    </div>\n",
    "{% endblock content %}"
   ]
  },
  {
   "cell_type": "markdown",
   "id": "38b142fb",
   "metadata": {
    "vscode": {
     "languageId": "html"
    }
   },
   "source": [
    "Your review-detail.css.html file should look like the following block:"
   ]
  },
  {
   "cell_type": "code",
   "execution_count": null,
   "id": "bd5d736b",
   "metadata": {
    "vscode": {
     "languageId": "css"
    }
   },
   "outputs": [],
   "source": [
    ".main-wrapper{\n",
    "    width:30rem;\n",
    "    padding:1.5rem;\n",
    "    color:white;\n",
    "    margin: 5rem auto 0 auto;\n",
    "    border:1px solid rgb(90, 87, 87);\n",
    "    border-radius: 8px;\n",
    "}"
   ]
  },
  {
   "cell_type": "markdown",
   "id": "734087ca",
   "metadata": {},
   "source": [
    "You have done what you have learned previously...\n",
    "\n",
    "The thing is, when you are working with a view which is primarly working with models! you are better of inheriting from another based class other than the original View class.<br>\n",
    "In the next notebook you will learn about ListView<br>"
   ]
  }
 ],
 "metadata": {
  "kernelspec": {
   "display_name": "Python 3",
   "language": "python",
   "name": "python3"
  },
  "language_info": {
   "codemirror_mode": {
    "name": "ipython",
    "version": 3
   },
   "file_extension": ".py",
   "mimetype": "text/x-python",
   "name": "python",
   "nbconvert_exporter": "python",
   "pygments_lexer": "ipython3",
   "version": "3.10.11"
  }
 },
 "nbformat": 4,
 "nbformat_minor": 5
}
