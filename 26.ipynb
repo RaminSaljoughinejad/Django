{
 "cells": [
  {
   "cell_type": "markdown",
   "id": "6f009690-8f1b-40f6-ac3b-a0f8bd93cb28",
   "metadata": {},
   "source": [
    "### Lets Create a New Template For /posts URL\n",
    "\n",
    "1- Create a file called all-posts.py next to the index.html<br>\n",
    "2- Create a CSS file next to index.css and call it all-posts.css<br>\n",
    "3- Write the desired HTML and CSS code for this page.<br>\n",
    "4- Since we are going to use the same navigation and also we not going to change it, move the navigation from index.html to base.html file.<br>\n",
    "Remember to move the navigation css codes base.css file.\n",
    "\n",
    "My base.html file is look like the following block:"
   ]
  },
  {
   "cell_type": "code",
   "execution_count": null,
   "id": "8bbf5d5b-e159-454a-a4d4-09ed8af3f84e",
   "metadata": {},
   "outputs": [],
   "source": [
    "{% load static %}\n",
    "\n",
    "<!DOCTYPE html>\n",
    "<html lang='en'>\n",
    "    <head>\n",
    "        <meta charset='UTF-8'>\n",
    "        <meta name='viewport' content='width=device-width, initial-scale=1.0'>\n",
    "        <title>{% block title %}{% endblock %}</title>\n",
    "        {% block css_files %}{% endblock %}\n",
    "        <link rel=\"stylesheet\" href=\"{% static \"base.css\" %}\">\n",
    "    </head>\n",
    "    <body>\n",
    "        <header id=\"main-navigation\">\n",
    "            <h1><a href=\"\">Ramin's Blog</a></h1>\n",
    "            <nav>\n",
    "                <a href=\"\">All Posts</a>\n",
    "            </nav>\n",
    "        </header>\n",
    "        {% block content %}{% endblock %}\n",
    "    </body>\n",
    "</html>"
   ]
  },
  {
   "cell_type": "markdown",
   "id": "a7c907fc-62e0-4a8d-b817-deff5e8d3e48",
   "metadata": {},
   "source": [
    "My base.css file is look like the following block:"
   ]
  },
  {
   "cell_type": "code",
   "execution_count": null,
   "id": "a53a7f74-b5f1-4395-a0bf-d06ebca779ba",
   "metadata": {},
   "outputs": [],
   "source": [
    "@import url('https://fonts.googleapis.com/css2?family=Lato:ital,wght@0,100;0,300;0,400;0,700;0,900;1,100;1,300;1,400;1,700;1,900&display=swap');\n",
    "\n",
    "*{\n",
    "    box-sizing:border-box;\n",
    "}\n",
    "html{\n",
    "    font-family: 'Open Sans', 'Lato', 'snas-serif';\n",
    "}\n",
    "body{\n",
    "    margin:0;\n",
    "}\n",
    "h1,h2,h3{\n",
    "    font-family: 'Lato', sans-serif;\n",
    "    font-weight: bold;\n",
    "}\n",
    "#main-navigation{\n",
    "    width:100%;\n",
    "    height:5rem;\n",
    "    top:0;\n",
    "    position:absolute;\n",
    "    align-items: center;\n",
    "    justify-content: space-between;\n",
    "    display: flex;\n",
    "    padding:0 10%;\n",
    "    left:0;\n",
    "}\n",
    "#main-navigation a{\n",
    "    text-decoration: none;\n",
    "    color:white;\n",
    "    font-weight: bold;\n",
    "}\n",
    "#main-navigation a:hover,\n",
    "#mian-navigation a:active{\n",
    "    color: #1d5191;\n",
    "}"
   ]
  },
  {
   "cell_type": "markdown",
   "id": "e5c0254a-58d3-4e3b-8cfd-79a0bb17f7b9",
   "metadata": {},
   "source": [
    "My all-posts.html file is look like the following block:"
   ]
  },
  {
   "cell_type": "code",
   "execution_count": null,
   "id": "89df420c-1877-46d0-8de3-aaa9f84d6e57",
   "metadata": {},
   "outputs": [],
   "source": [
    "{% extends 'base.html' %}\n",
    "{% load static %}\n",
    "\n",
    "{% block title %}All My Posts{% endblock %}\n",
    "\n",
    "{% block css_files %}\n",
    "    <link rel=\"stylesheet\" href=\"{% static \"blog/all-posts.css\" %}\">\n",
    "{% endblock %}\n",
    "\n",
    "{% block content %}\n",
    "    <section id='all-posts'>\n",
    "        <h2>My Collected Posts</h2>\n",
    "        <ul>\n",
    "            <li>\n",
    "                <article></article>\n",
    "            </li>\n",
    "        </ul>\n",
    "    </section>\n",
    "{% endblock %} "
   ]
  },
  {
   "cell_type": "markdown",
   "id": "f038236c-ed17-4c95-a4d5-b2291796270a",
   "metadata": {},
   "source": [
    "Since we are going to have the same article that we used in index.html, lets make an include from it so we can easily reuse it.<br>\n",
    "\n",
    "1- Create a folder called includes inside the templates/blog address, and then create a file called post.html<br>\n",
    "2- Cut the list item tag and its content from index.html and past it in the post.html<br>\n",
    "3- Use the include tag to include the post.html to where to cut the li tag inside index.html<br>\n",
    "Don't forget to load static at the top of post.html file.<br>"
   ]
  },
  {
   "cell_type": "markdown",
   "id": "3e32d8fc-c6c0-4375-a850-98e4e3e7f743",
   "metadata": {},
   "source": [
    "4- Navigate to all-posts.html file and inside the ul tag include the post.html for a few times, so we can later change them.<br>\n",
    "Your all-posts.html file should look like the following block:"
   ]
  },
  {
   "cell_type": "code",
   "execution_count": null,
   "id": "2ab6fed1-0ad9-44b1-b4a8-6eb16a51a587",
   "metadata": {},
   "outputs": [],
   "source": [
    "{% extends 'base.html' %}\n",
    "{% load static %}\n",
    "\n",
    "{% block title %}All My Posts{% endblock %}\n",
    "\n",
    "{% block css_files %}\n",
    "    <link rel=\"stylesheet\" href=\"{% static \"blog/all-posts.css\" %}\">\n",
    "{% endblock %}\n",
    "\n",
    "{% block content %}\n",
    "    <section id='all-posts'>\n",
    "        <h2>My Collected Posts</h2>\n",
    "        <ul>\n",
    "            {% include \"blog/includes/post.html\" %}\n",
    "            {% include \"blog/includes/post.html\" %}\n",
    "            {% include \"blog/includes/post.html\" %}\n",
    "            {% include \"blog/includes/post.html\" %}\n",
    "            {% include \"blog/includes/post.html\" %}\n",
    "            {% include \"blog/includes/post.html\" %}\n",
    "        </ul>\n",
    "    </section>\n",
    "{% endblock %} "
   ]
  },
  {
   "cell_type": "markdown",
   "id": "421fd74e-d326-4eb3-998f-157189cb0f47",
   "metadata": {},
   "source": [
    "5- Fix the views.py so that it renders all-posts.html when it is requested.<br>\n",
    "Your views.py file should look like the following block:"
   ]
  },
  {
   "cell_type": "code",
   "execution_count": null,
   "id": "f55cedc3-7965-436b-bb84-9e0e483fd0a8",
   "metadata": {},
   "outputs": [],
   "source": [
    "from django.shortcuts import render\n",
    "\n",
    "def index(request):\n",
    "    return render(request, \"blog/index.html\")\n",
    "\n",
    "def posts(request):\n",
    "    return render(request, \"blog/all-posts.html\")\n",
    "\n",
    "def post_detail(request):\n",
    "    pass"
   ]
  },
  {
   "cell_type": "markdown",
   "id": "b14f38d9-aac5-4cf9-88d0-968f9a4a3553",
   "metadata": {},
   "source": [
    "6- Use the url tag to add the links inside the navigation bar!<br>\n",
    "You will need to use the name you set in the urls.py file.\n",
    "\n",
    "Your header tag inside base.html file should look like the following:"
   ]
  },
  {
   "cell_type": "code",
   "execution_count": null,
   "id": "fb110586-7c08-4e3f-9937-2dcd8608a1ec",
   "metadata": {},
   "outputs": [],
   "source": [
    "<header id=\"main-navigation\">\n",
    "    <h1><a href=\"{% url \"blog-starting-page\" %}\">Ramin's Blog</a></h1>\n",
    "    <nav>\n",
    "        <a href=\"{% url \"blog-post-page\" %}\">All Posts</a>\n",
    "    </nav>\n",
    "</header>"
   ]
  },
  {
   "cell_type": "markdown",
   "id": "7988cd98-8a5e-4f48-8216-599b8d82721d",
   "metadata": {},
   "source": [
    "7- Do the same thing for post.html file (Yes we havent created a template for view fir that link, just do it).\n",
    "\n",
    "Your post.html file should look like the following block:"
   ]
  },
  {
   "cell_type": "code",
   "execution_count": null,
   "id": "b3101a9d-d061-41af-8650-4504229ea6cb",
   "metadata": {},
   "outputs": [],
   "source": [
    "{% load static %}\n",
    "\n",
    "<li>\n",
    "    <article class='post'>\n",
    "        <a href=\" {% url \"blog-post-detail\" %}\">\n",
    "            <img src=\"{% static \"blog/images/tf.png\" %}\" alt=\"Neural Networks\">\n",
    "            <div class=\"post__content\">\n",
    "                <h3>Neural Networks</h3>\n",
    "                <p>This Course is for complete beginners.\n",
    "    You know need some basic knowledge in Python and nothing else.</p>\n",
    "            </div>\n",
    "        </a>\n",
    "    </article>\n",
    "</li>"
   ]
  },
  {
   "cell_type": "markdown",
   "id": "99ea7c2f-94b9-4646-b336-9b762b9d5fef",
   "metadata": {},
   "source": [
    "The above code is wrong! Canyou guess why?<br>\n",
    "\n",
    "Well, if you remember, we assigned an identifier for this url! and that identifier is not present in the above code.<br>\n",
    "\n",
    "For now use a hardecoded value."
   ]
  },
  {
   "cell_type": "code",
   "execution_count": null,
   "id": "de065411-a774-4cdd-ab4a-a4bab66d5dd9",
   "metadata": {},
   "outputs": [],
   "source": [
    "<a href=\" {% url \"blog-post-detail\" \"neural-networks-beginners\" %}\">"
   ]
  },
  {
   "cell_type": "markdown",
   "id": "53a71290-aeba-4b6c-ab07-b2d7adb97033",
   "metadata": {},
   "source": [
    "In the next notebook we will work on the blog-post-detail template."
   ]
  }
 ],
 "metadata": {
  "kernelspec": {
   "display_name": "Python 3 (ipykernel)",
   "language": "python",
   "name": "python3"
  },
  "language_info": {
   "codemirror_mode": {
    "name": "ipython",
    "version": 3
   },
   "file_extension": ".py",
   "mimetype": "text/x-python",
   "name": "python",
   "nbconvert_exporter": "python",
   "pygments_lexer": "ipython3",
   "version": "3.10.11"
  }
 },
 "nbformat": 4,
 "nbformat_minor": 5
}
