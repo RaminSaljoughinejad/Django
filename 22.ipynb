{
 "cells": [
  {
   "cell_type": "markdown",
   "id": "15d7ecb1-21f7-4377-8edb-37aea2d5b2a2",
   "metadata": {},
   "source": [
    "### Adding CSS\n",
    "\n",
    "CSS files like images, data files , ... are called STATIC files because they do not change.<br>\n",
    "\n",
    "Important thing about static files is where to store them.<br>\n",
    "\n",
    "lets start with app specific static files...<br>\n",
    "1- inside Python_Fundamental folder create a folder called static and inside it, create another folder called Python_Fundamental.<br>\n",
    "As you may have already noticed we are following the same practice as the templates folder.<br>\n",
    "<br>\n",
    "2- Now you can add new css files inside this folder. Create a file called python_fundamentals.css and inside it, write some html code to target the unordered list and change its style.<br>\n",
    "\n",
    "Your folders and fies should be like the following image:"
   ]
  },
  {
   "cell_type": "markdown",
   "id": "33f20896-122f-42d0-a2e0-f5b662da1e09",
   "metadata": {},
   "source": [
    "<img src=\"Images/5-tree2.png\" width=\"200px\" >"
   ]
  },
  {
   "cell_type": "markdown",
   "id": "1ecdb4b8-3532-4f0e-bbdf-c6eaeb9a9b33",
   "metadata": {},
   "source": [
    "Your python_fundamentals.css file should be something like the following block:"
   ]
  },
  {
   "cell_type": "code",
   "execution_count": null,
   "id": "523aa345-9a56-4bc4-9df2-8f65f2dd008b",
   "metadata": {},
   "outputs": [],
   "source": [
    "ul{\n",
    "    list-style: none;\n",
    "}"
   ]
  },
  {
   "cell_type": "markdown",
   "id": "00570ad0-62e5-4b9e-ac53-fbf840259abc",
   "metadata": {},
   "source": [
    "Now we need to utilize the css files so that our template files use them. This includes several steps:<br>\n",
    "2- Navigate to your settings.py file and make sure that you have <span style='color:firebrick'>'django.contrib.staticfiles'</span> inside the INSTALLED_APP list, it should be already there, but if it is not you need to add it.<br>\n",
    "\n",
    "Your INSTALLED_APP list should look something like the following:"
   ]
  },
  {
   "cell_type": "code",
   "execution_count": null,
   "id": "93b6b3fa-7249-4631-80c5-0fe51687670d",
   "metadata": {},
   "outputs": [],
   "source": [
    "INSTALLED_APPS = [\n",
    "    'Python_Fundamentals',\n",
    "    'django.contrib.admin',\n",
    "    'django.contrib.auth',\n",
    "    'django.contrib.contenttypes',\n",
    "    'django.contrib.sessions',\n",
    "    'django.contrib.messages',\n",
    "    'django.contrib.staticfiles',\n",
    "]"
   ]
  },
  {
   "cell_type": "markdown",
   "id": "d2978794-56cf-49b0-a145-e9d09e2cc77e",
   "metadata": {},
   "source": [
    "3- Scroll down inside your settings.py file and locate STATIC_URL variable, this setting might looklike it actually tells django that it should look for static files inside folders called static, but it is not the True<br>\n",
    "This setting is simply telling Django that under what url it should look for static assets.<br>\n",
    "This setting is not important at the moment and we will get back to it once we are deploying our project on the server.<br>\n",
    "\n",
    "Please not that Django automatically looks for folders called static and will include their files to the running server so you can access them later in your code.<br>\n",
    "Just to make sure that you uderstood everything....<br>\n",
    "You do not need to make django aware of your static files! django automatically look for folders called static and will include everything inside them to the runing project.<br>"
   ]
  },
  {
   "cell_type": "markdown",
   "id": "bf0947d0-5153-4ccc-b7df-61bf0ce2eccb",
   "metadata": {},
   "source": [
    "4- Navigate to your index.html file and after the extens block add a new tag called load to load your css files.\n",
    "The syntax is as follows:"
   ]
  },
  {
   "cell_type": "code",
   "execution_count": null,
   "id": "0ccb6da1-ae77-4440-a9f1-f837f53d8afc",
   "metadata": {},
   "outputs": [],
   "source": [
    "{% load static %}"
   ]
  },
  {
   "cell_type": "markdown",
   "id": "652aa17f-d738-4d58-a599-742b6d1e92c4",
   "metadata": {},
   "source": [
    "5- Now that you have added the load tag you can create a html link tag.<br>\n",
    "Please understand that we need to add this url in a dynamic form so that every template can load its own css files.<br>\n",
    "6- Open base.html file and add a new block inside it and give it a name.<br>\n",
    "\n",
    "Your base.html file should look something like the folowing:"
   ]
  },
  {
   "cell_type": "code",
   "execution_count": null,
   "id": "50dab2d8-2358-4e8f-8286-36774605aefc",
   "metadata": {},
   "outputs": [],
   "source": [
    "<!DOCTYPE html>\n",
    "<html lang=\"en\">\n",
    "<head>\n",
    "    <meta charset=\"UTF-8\">\n",
    "    <meta name=\"viewport\" content=\"width=device-width, initial-scale=1.0\">\n",
    "    <title>{% block page_title %}{% endblock %}</title>\n",
    "    {% block css_files %}{% endblock css_files %}\n",
    "</head>\n",
    "<body>\n",
    "    {% block content %}{% endblock %}\n",
    "</body>\n",
    "</html> "
   ]
  },
  {
   "cell_type": "markdown",
   "id": "be18b943-a361-4f62-8e6f-049871cd3635",
   "metadata": {},
   "source": [
    "7- Now you can call the block inside the index.html and exercise.html and put the html url tag inside them.<br>\n",
    "\n",
    "Your index.html file should look something like the following:"
   ]
  },
  {
   "cell_type": "code",
   "execution_count": null,
   "id": "d362e0ef-3688-4721-b21b-9d8c10557332",
   "metadata": {},
   "outputs": [],
   "source": [
    "{% extends \"base.html\" %}\n",
    "{% load static %}  \n",
    "\n",
    "    {% block page_title %}\n",
    "        All Exercises\n",
    "    {% endblock page_title %}\n",
    "\n",
    "    {% block css_files %}\n",
    "        <link rel='stylesheet' type='text/css' href=\"{% static \"Python_Fundamentals/python_fundamentals.css\" %}\" >\n",
    "    {% endblock css_files %}\n",
    "\n",
    "    {% block content %}\n",
    "\n",
    "        {% include \"Python_Fundamentals/includes/header.html\" %}\n",
    "        <ul>\n",
    "        {% for key, value in exercises.items %}\n",
    "            {% if value%}\n",
    "                <li><a href='{% url 'py_fun_int' key %}'>{{ value|title }}</a></li>\n",
    "            {% else %}\n",
    "                <li><a href='{% url 'py_fun_int' key %}'>Not implemented</a></li>\n",
    "            {% endif %}\n",
    "        {% endfor %}\n",
    "        </ul>\n",
    "    {% endblock  %}"
   ]
  },
  {
   "cell_type": "markdown",
   "id": "01db0c9e-dab6-4a27-b5b1-626e51ea0699",
   "metadata": {},
   "source": [
    "Now, if you save everything and reload the root url, you will see that nothing changed, meaning that it is not working.<br>\n",
    "If you check the server log you will see that you ahve a 404 error! but also you will see that the path you wanted was created successfully.<br><br>\n",
    "So, what is the problem?<br>\n",
    "Nothing actually... you just need to restart your development server. Static files only load at the beggining of the server run and not by chaning the code insde the project.<br>"
   ]
  },
  {
   "cell_type": "markdown",
   "id": "fb5f13a1-27db-4743-af5d-ae9e3fe5cd6f",
   "metadata": {},
   "source": [
    "#### How are we supposed to have a CSS file that effects the whole projcts and apps?\n",
    "\n",
    "You gonna learn about it in the next notebook."
   ]
  }
 ],
 "metadata": {
  "kernelspec": {
   "display_name": "Python 3 (ipykernel)",
   "language": "python",
   "name": "python3"
  },
  "language_info": {
   "codemirror_mode": {
    "name": "ipython",
    "version": 3
   },
   "file_extension": ".py",
   "mimetype": "text/x-python",
   "name": "python",
   "nbconvert_exporter": "python",
   "pygments_lexer": "ipython3",
   "version": "3.10.11"
  }
 },
 "nbformat": 4,
 "nbformat_minor": 5
}
