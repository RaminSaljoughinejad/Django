{
 "cells": [
  {
   "cell_type": "markdown",
   "id": "b9ce133d-a0ce-4556-8b9b-8204fb21f9a3",
   "metadata": {},
   "source": [
    "Chapter 4: Data Classes (Using a DBMS)\n",
    "\n",
    "So far we stored our posts and page contents inside variables! and that worked well. But there are a number of problems!<br>\n",
    "\n",
    "1- In a case where you have a huge amount of data, it is not easy to store data inside variables!<br>\n",
    "2- In a case where you need to get some inpu from the users! if you store their information inside variables and restart the server, all data will be lost.<br>\n",
    "3- Ofc you can store data inside files but it is not an efficient way! working with files and maintianing them requires a great deal of effort.<br>\n",
    "4- Files, are not a secure place for important data!<br>\n",
    "...<br>\n",
    "<br>\n",
    "The above, are just a few reasons behind why we are going to use data classes.<br>\n",
    "\n",
    "So, how are we suppose to use them? or what are data classes?<br>"
   ]
  },
  {
   "cell_type": "markdown",
   "id": "351d38dd-09f4-4b12-aa10-d44d6e9ea161",
   "metadata": {},
   "source": [
    "### In this Chapter we are going to do the following things:\n",
    "1- we start with -> what is 'Data' and a 'Database'?<br>\n",
    "2- we explore  SQL & Models<br>\n",
    "3- Django, Models & Database Queries<br>"
   ]
  },
  {
   "cell_type": "markdown",
   "id": "718f26bb-8f37-449d-b0ae-7b48bc0d1aa7",
   "metadata": {},
   "source": [
    "### What is 'Data'?\n",
    "\n",
    "Data is all the values that we work with inside our application(s). It could be an integer number, a string, a list, a dictionary, a class object, or even a table full of rows.<br>\n",
    "<br>\n",
    "<br>\n",
    "In general we can seprate Data into three different categories:<br>\n",
    "1- Temporary Data<br>\n",
    "2- Semi-Persistent Data<br>\n",
    "3- Persistant Data<br>\n",
    "<br>\n",
    "\n",
    "1- What data is considered 'Temporary Data'?<br>\n",
    "It could be many things, for instance:<br>\n",
    "User input, Selected blog post. This is the data that we need to work on! For example, we need to work on the user's input to make sure that it contains a value, type, or even a specific stracture. This Data is Temprorary because it is not important in the future! and even if we are going to use it in the future its gonna be the outcome of its process, and wont have its original form.<br>\n",
    "Temproray data is used immediatley (processed) and lost thereafter.<br>\n",
    "<br>\n",
    "We store Temporary Data inside memory (Variables)... Please undertands that we may store some of them in databases too, but after process.<br>\n",
    "All data we work up to this point were Temporary data.<br>\n",
    "\n",
    "\n",
    "2- What data is considered 'Semi-Persistent Data'?<br>\n",
    "This too could be many things, for instance:<br>\n",
    "User Authentication Status (If a useer is loged in, we might want to store that this user is loged in, we want to save it somewhere! and delete it after they loged out)\n",
    "Take the authentication status example,  we could use this data for automatically logout a user after a period of time.<br>\n",
    "This is the data that we do not need only once and may refer to at somepoint in the future, but it is not a very distant future!<br>\n",
    "This data is stored for a longer time but may be lost.<br>\n",
    "We store this form of data in browser (Coockies) or temporary on the server.<br>\n",
    "\n",
    "\n",
    "3- What data is considered 'Persistent Data'?<br>\n",
    "Blog posts, Orders, Balance, ...<br>\n",
    "This data is stored forever and must not be lost unless specified.<br>\n",
    "We store this form of data in Databases.<br>"
   ]
  },
  {
   "cell_type": "markdown",
   "id": "40cffcc3-6d38-4b65-bad1-a49cb4d90238",
   "metadata": {},
   "source": [
    "### In this Chapter we focus on Persistant Data\n",
    "\n",
    "Databases are generaly seprated into two main categories! (There are more than 2 in reality).\n",
    "1- SQL\n",
    "2- NoSQL\n",
    "\n",
    "You should decide which one you want to use.\n",
    "\n",
    "SQL databases, are table-based, which means that they store the data in a tables.\n",
    "NoSQL databases, not not table-based, and store data in documents (Dictionaries/Objects).\n",
    "<div style='text-align:center;margin-bottom:0;'>\n",
    "    <img src=\"images/7-Datbases.jpg\" width=\"600px\">\n",
    "</div>\n",
    "<p style='margin-top:-5rem'>\n",
    "An important thing you need to understand is that in SQL databases all rows in a table must have the same columns! but it is not the case for NoSQL datbases. There, a document could have entries with different attributes.</p>"
   ]
  },
  {
   "cell_type": "markdown",
   "id": "d6ede172-5498-4ec3-8c9c-cfeb59542519",
   "metadata": {},
   "source": [
    "Examples of SQL databses:<br>\n",
    "1- MySQL<br>\n",
    "2- PostgreSQL<br>\n",
    "3- SQLite<br>\n",
    "<br>\n",
    "Examples of NoSQL databases:<br>\n",
    "1- MongoD<br>\n",
    "2- Cassandra<br>\n",
    "\n",
    "We are going to use SQLite."
   ]
  }
 ],
 "metadata": {
  "kernelspec": {
   "display_name": "Python 3 (ipykernel)",
   "language": "python",
   "name": "python3"
  },
  "language_info": {
   "codemirror_mode": {
    "name": "ipython",
    "version": 3
   },
   "file_extension": ".py",
   "mimetype": "text/x-python",
   "name": "python",
   "nbconvert_exporter": "python",
   "pygments_lexer": "ipython3",
   "version": "3.10.11"
  }
 },
 "nbformat": 4,
 "nbformat_minor": 5
}
