{
 "cells": [
  {
   "cell_type": "code",
   "execution_count": null,
   "id": "efc0d6fd-b65f-4a04-a7ca-98a18402bb62",
   "metadata": {},
   "outputs": [],
   "source": []
  }
 ],
 "metadata": {
  "kernelspec": {
   "display_name": "",
   "name": ""
  },
  "language_info": {
   "name": ""
  }
 },
 "nbformat": 4,
 "nbformat_minor": 5
}
