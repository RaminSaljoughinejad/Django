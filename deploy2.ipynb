{
 "cells": [
  {
   "cell_type": "markdown",
   "id": "b8b71679",
   "metadata": {},
   "source": [
    "### Reconsidering Databases:\n",
    "\n",
    "During the development, we used SQLite database and that served us well.<br>\n",
    "\n",
    "Although that SQLite is a good DBMS it is not good for heavy loads, hence you may want to choose another DBMS for deployment.<br>\n",
    "\n",
    "There are a lot of options when we are talking about DataBase Management systems, and you can use almost all of them with django.<br>\n",
    "\n",
    "\n",
    "To choose a DBMS, the first question you need to ask yourself is, should I use a SQL database or a NoSQL database?<br>\n",
    "\n",
    "I don't want to talk about their deferences, but I want you to know that Django-models only support SQL databases and not NoSQL databases."
   ]
  },
  {
   "cell_type": "markdown",
   "id": "58e93a20",
   "metadata": {},
   "source": [
    "### Django is NOT a Webserver:\n",
    "\n",
    "- Django is a framework for python\n",
    "    - It knows how to work with incoming request and create responses\n",
    "- Django is not the webserver, the software that listens for the requests or handle any other server tasks is NOT django.\n",
    "    - You would need a webserver for that for e.q., 'apachi'\n",
    "\n",
    "The asgi.py and wsgi.py files are for this purpose.<br>\n",
    "    - Theya re the entry point of our website, where the webserver should point at.\n",
    "\n",
    "Why do we have 2 files and not 1?<br>\n",
    "Well, Django currently supports two interfaces, WSGI and ASGI.\n",
    "When you want to deploy your project you should check with your host to see which interface they support! it is usualy WSGI, but you should check to make sure!<br>\n",
    "I personaly havent seen a host with ASGI interface.<br>\n",
    "If you go through the Django documentation you will know the steps you need to take for each interface.<br>"
   ]
  },
  {
   "cell_type": "markdown",
   "id": "871d62a3",
   "metadata": {},
   "source": [
    "### python manage.py runserver:\n",
    "\n",
    "NOTE: Django does not serve static or uploaded files automatically. Yes in the development server it does. but not an actual server.<br>\n",
    "\n",
    "We can configure django to server such files via urls.py<br>\n",
    "    - This is O.K. for small website, but you should be aware that it is not performance-optimized.<br>\n",
    "The second option is to not let django take care of those files, and instead to configure a web server and the django app separately<br>\n",
    "\n",
    "The third option is to use a dedicated service/ server for static and uploaded files.\n",
    "    - In this cenario we would have 2 servers, one for handling Django, and 1 for hadnleing static files (This is very optimized! but costly and complex)."
   ]
  },
  {
   "cell_type": "markdown",
   "id": "4f16d50c",
   "metadata": {},
   "source": [
    "### Hosting:\n",
    "\n",
    "You can use any hosting... I haven't decided what to use! I will update This section later.\n"
   ]
  },
  {
   "cell_type": "markdown",
   "id": "b2f87b2a",
   "metadata": {},
   "source": [
    "### Static Fiels:\n",
    "<br>\n",
    "Static files are the fiels that you as the developer ship with you python-django application on the server.<br>\n",
    "These static fiels could be images, documents, css and html files.<br>\n",
    "Django DOES NOT automatically serves static files.<br>\n",
    "\n",
    "In you settings.py:<br>\n",
    "    - There is a STATICFIELS_DIRS list, that is important for django so that it is aware of where your static files are. By default it will look in your app folders and look for static folder dir, but it will also will look every directory you mention here.<br>\n",
    "    - It is important for django to know where they are for two reasons:<br>\n",
    "        - In development it needs to know where theya re because it serves them.<br>\n",
    "        - In production it needs to collect them for you. When it gets to production, you want to collect all your static fiels from all the locations you put them and move them to one folder. This folder then gets served by either django (if you config it) or some dedicated host.<br>\n",
    "        - The collection part is something that we havent done yet, because durnig development we didnt need to, because django did it for usautomatically.<br>\n",
    "        - For production we need to do it manualy:<br>\n",
    "            - You could go ahead and copy all you static files into one folder, but this would be cumbersome.<br>\n",
    "            - Another option that you have is a setting that you could add to your django settings.py file.<br>\n",
    "                - Add STATIC_ROOT option to your settings.py and pass a folder name of your choice.<br>\n",
    "                - This should be an absolute address, so use BASE_DIR / 'folder-name'<br>\n",
    "                - IT looks like MEDIA_ROOT setting, doesnt it? Yes it does. Let me tell you this, they are doing the same thing.<br>\n",
    "                - You should keep the STATIC_URL settings! Don't delete it.<br>\n",
    "                - You don't Want to have the same folder for your STATIC fiels and MEDIA fiels<br>\n",
    "                    - Technically you could, but doing it will cause security problems. Let me explain why: Your static files could contain javascript fiels for example, as long as they are your code as the developer there is no problem, hoever if a user fins a way of uploading their own javascript code with some cruppted code, they your website will start sending them to all the users and thats a bad thing!!!! <br>\n",
    "            - After Adding The STATIC_ROOT you will need to open you command prompt:<br>\n",
    "                - python manage.py collectstatic<br>\n",
    "                    - This command will go ahead and collect all the static fiels and put them to the folder you mentioned.<br>\n",
    "                    - Never edit these files! If you want to do anything, do it on your own files and then run the command to collect them.<br>\n",
    "Your STATIC_ROOT should look like the following:<br>"
   ]
  },
  {
   "cell_type": "markdown",
   "id": "cb65f96b",
   "metadata": {},
   "source": []
  },
  {
   "cell_type": "markdown",
   "id": "ccb08aad",
   "metadata": {},
   "source": [
    "STATIC_ROOT = BASAE_DIR / 'staticfiels"
   ]
  },
  {
   "cell_type": "markdown",
   "id": "37e08732",
   "metadata": {},
   "source": [
    "Now, lets talk about the 3 options that we had:<br>\n",
    "\n",
    "1. Making Django take care of static fiels:\n",
    "Navigate to the root urls.py file, and add a new entry by calling static again and point at STATIC_URL and the STATIC_URL for the folder.\n",
    "\n",
    "Your urlspy file should look like the following block:"
   ]
  },
  {
   "cell_type": "code",
   "execution_count": null,
   "id": "267f3790",
   "metadata": {},
   "outputs": [],
   "source": [
    "from django.contrib import admin\n",
    "from django.urls import path, include\n",
    "from django.conf.urls.static import static\n",
    "from django.conf import settings\n",
    "\n",
    "urlpatterns = [\n",
    "    path('admin/', admin.site.urls),\n",
    "    path(\"\", include(\"blog.urls\"))\n",
    "] + static(settings.MEDIA_URL, document_root=settings.MEDIA_ROOT)\n",
    "+ static(settings.STATIC_URL, document_root=settings.STATIC_ROOT)"
   ]
  },
  {
   "cell_type": "markdown",
   "id": "3a64c45e",
   "metadata": {},
   "source": [
    "You should make migrations and migrate now! Also make sure that you have a superuser!<br>\n",
    "\n",
    "Now we are ready to prepare this application for deployment.\n",
    "\n",
    "1. The first step is to make sure that the dependency packages are avalible on the server!\n",
    "    - We used Django package and also pillow package!\n",
    "    - To insure that our host has the packages is something that is dependent on the host youa re using.\n",
    "    - Most python hosting providers support a special text file, which is when added to your project simply list the packages you need, the hosting server then automatcally makes sure that those packages are availble for you.\n",
    "    - You can create this file yourself! or ask python to create this file for you.\n",
    "        -What you need to do is to use python -m pip freeze > requirements.txt\n",
    "        This will create the file for you, make sure you run it on the venv! otherwise all the packages that you have on your system will be listed!\n",
    "2. Navigate to settings.py\n",
    "    - Locate ALLOWED_HOSTS option\n",
    "        - You need to add all the hosts that can send requests to this application\n",
    "        - This is not the address of the users!\n",
    "        - Here we need to enter the doman address of the server\n",
    "            - Often you know this in advance\n",
    "            - You can do one thing if you dont know this! you can use environment variables here so that the value changes later when you deploy this application.\n",
    "            - From os import getenv\n",
    "            - Now you can use it to to populate ALLOWED_HOST\n",
    "            - getenv('APP_HOST') [You can put any name!]\n",
    "    - Also you need to keep remove the security key from your settings.py file and store it somewhere else!\n",
    "        - If you keep it there, you should make sure that you dont expose it on github.\n",
    "        - I myself use getenv('SECRET_KEY') and then add the key to my system with the key value.\n",
    "        - DONT DELETE THE SECRETKEY! KEEP IT SOMEWHERE ELSE! DONT LOSE IT.\n",
    "3. You also need to pass FALSE to DEBUG (it should be True for development only)\n",
    "    Here is what I changed in settings.py file:"
   ]
  },
  {
   "cell_type": "code",
   "execution_count": null,
   "id": "074af4e5",
   "metadata": {},
   "outputs": [],
   "source": [
    "from os import getenv\n",
    "\n",
    "SECRET_KEY = getenv(\"SECRET_KEY\")\n",
    "\n",
    "DEBUG = False\n",
    "\n",
    "ALLOWED_HOSTS = [\n",
    "    getenv('APP_HOST')\n",
    "]"
   ]
  },
  {
   "cell_type": "code",
   "execution_count": null,
   "id": "2228d72b",
   "metadata": {},
   "outputs": [],
   "source": []
  }
 ],
 "metadata": {
  "kernelspec": {
   "display_name": "Python 3",
   "language": "python",
   "name": "python3"
  },
  "language_info": {
   "codemirror_mode": {
    "name": "ipython",
    "version": 3
   },
   "file_extension": ".py",
   "mimetype": "text/x-python",
   "name": "python",
   "nbconvert_exporter": "python",
   "pygments_lexer": "ipython3",
   "version": "3.10.11"
  }
 },
 "nbformat": 4,
 "nbformat_minor": 5
}
