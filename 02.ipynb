{
 "cells": [
  {
   "cell_type": "markdown",
   "id": "4cb159b1-f8f9-4d69-970d-6f211a8741ee",
   "metadata": {},
   "source": [
    "## Chapter 1"
   ]
  },
  {
   "cell_type": "markdown",
   "id": "b5af064e-2beb-4cb5-83c4-59662dc85418",
   "metadata": {},
   "source": [
    "### URLs (Routes)  & Views\n",
    "<div>\n",
    "    <div style=\"float:left;\">\n",
    "        <img src='images/1-Urls.png' width='550px' height='550px' />\n",
    "    </div>\n",
    "    <div style=\"float:right;padding-top:10%;\">\n",
    "        <p>- URLs are responsible for defining the addresses you want to support.</p>\n",
    "        <p>- Views are what you want to show or do when a specific URL is requested.</p>\n",
    "        <p>- A view could be a function as well as a class depending on how complex your app is.</p>\n",
    "    </div>\n",
    "<div>"
   ]
  },
  {
   "cell_type": "markdown",
   "id": "acb22113-c00c-4e5c-93f6-76ed5991ef69",
   "metadata": {},
   "source": [
    "### Lets add a view\n",
    "Inside your new app, open your views file and add a new function that accepts a variable called request and returns an HttpResponse('Working...'). Note that you need to import the HttpResponse object from django.http\n",
    "\n",
    "Your views file should look like the following block."
   ]
  },
  {
   "cell_type": "code",
   "execution_count": null,
   "id": "d3fbf713-8d36-4f58-b386-e15a9aec06c7",
   "metadata": {},
   "outputs": [],
   "source": [
    "from django.shortcuts import render\n",
    "from django.http import HttpResponse\n",
    "# Create your views here.\n",
    "\n",
    "def index(request):\n",
    "    return HttpResponse('Working...')"
   ]
  },
  {
   "cell_type": "markdown",
   "id": "7f76ffff-91ec-4f63-84be-ce022d9cfc76",
   "metadata": {},
   "source": [
    "Now we need to make Django aware of this function (View), and to do so, we need to create a new file inside this app folder called 'urls.py'.<br>\n",
    "Note that new apps do not have an 'urls.py' file inside them, and it is up to the developer to add this file to them.<br><br>\n",
    "Inside the 'urls.py' file that you just created, you need to create a list of all the URLs you want to support in this app.<br>\n",
    "Simply create a list called 'urlpatterns' and add a new path to it (you need to import 'path' from 'django.urls').<br>\n",
    "Also, do not forget to import the view file from this folder so you can access the function you created inside the 'views.py' file.<br>\n",
    "\n",
    "Your 'urls.py' file should look like the following block."
   ]
  },
  {
   "cell_type": "code",
   "execution_count": null,
   "id": "301c0235-b823-4d57-b8e9-c3358aa05c35",
   "metadata": {},
   "outputs": [],
   "source": [
    "from django.urls import path\n",
    "from . import views\n",
    "\n",
    "\n",
    "urlpatterns = [\n",
    "    path(\"001\", views.index)\n",
    "]"
   ]
  },
  {
   "cell_type": "markdown",
   "id": "756b4569-954a-4fa0-ae5e-38ebafcd6434",
   "metadata": {},
   "source": [
    "Now that we have created our view and URL, we need to make the entire project URL configuration aware of the URL configuration of our app.<br><br>\n",
    "In order to do this...<br>\n",
    "Navigate to the 'urls.py' file inside your main project app.<br>\n",
    "As you can see, here you already have a 'urlpatterns' list. Add a new path to it and point to the new app's 'urls.py' file (you need to import 'include' from 'django.urls').<br><br>\n",
    "\n",
    "Your 'urls.py' file should look like the following block."
   ]
  },
  {
   "cell_type": "code",
   "execution_count": null,
   "id": "d96d5775-91a8-4d9a-a61f-3014043f8e96",
   "metadata": {},
   "outputs": [],
   "source": [
    "\"\"\"\n",
    "URL configuration for Pythonic project.\n",
    "\n",
    "The `urlpatterns` list routes URLs to views. For more information please see:\n",
    "    https://docs.djangoproject.com/en/5.0/topics/http/urls/\n",
    "Examples:\n",
    "Function views\n",
    "    1. Add an import:  from my_app import views\n",
    "    2. Add a URL to urlpatterns:  path('', views.home, name='home')\n",
    "Class-based views\n",
    "    1. Add an import:  from other_app.views import Home\n",
    "    2. Add a URL to urlpatterns:  path('', Home.as_view(), name='home')\n",
    "Including another URLconf\n",
    "    1. Import the include() function: from django.urls import include, path\n",
    "    2. Add a URL to urlpatterns:  path('blog/', include('blog.urls'))\n",
    "\"\"\"\n",
    "from django.contrib import admin\n",
    "from django.urls import path, include\n",
    "\n",
    "urlpatterns = [\n",
    "    path('admin/', admin.site.urls),\n",
    "    path(\"Python_Fundamentals/\", include('Python_Fundamentals.urls') )\n",
    "]"
   ]
  },
  {
   "cell_type": "markdown",
   "id": "06e1349a-4ede-41fd-8a9a-a77d66d03d48",
   "metadata": {},
   "source": [
    "Now, if you go to the 'http://127.0.0.1:8000/Python_Fundamentals/001' url! it should be working..."
   ]
  },
  {
   "cell_type": "markdown",
   "id": "c321f87d-4284-40e6-b1fe-ab0a3fa5ac94",
   "metadata": {},
   "source": [
    "## Exercise:\n",
    "Add new urls so that your project support not only 001, but 002 (create separate views functions)."
   ]
  }
 ],
 "metadata": {
  "kernelspec": {
   "display_name": "Python 3 (ipykernel)",
   "language": "python",
   "name": "python3"
  },
  "language_info": {
   "codemirror_mode": {
    "name": "ipython",
    "version": 3
   },
   "file_extension": ".py",
   "mimetype": "text/x-python",
   "name": "python",
   "nbconvert_exporter": "python",
   "pygments_lexer": "ipython3",
   "version": "3.10.11"
  }
 },
 "nbformat": 4,
 "nbformat_minor": 5
}
