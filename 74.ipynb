{
 "cells": [
  {
   "cell_type": "markdown",
   "id": "7039a488",
   "metadata": {},
   "source": [
    "### Sessions and Serializability:\n",
    "\n",
    "So, what is this error about?<br>\n",
    "\n",
    "The problem is that we are storing a review object in our session, we are not storing a dictionary, a list, or any other python specific data type, we are storing an object!<br>\n",
    "\n",
    "Under the hood, django takes what ever we sent to a session and serializes it to a format called JSON which stands for JavaScript-Object-Notation, and is infact a very popular data format in web development.<br>\n",
    "The problem is that objects can not be serialized to that, because they do not only contain data and have other things like methods which can not be translated to JSON.<br>\n",
    "\n",
    "To fix this, we should save something else instead of the object in the session!<br>\n",
    "What should we save instead? the review id.<br>\n",
    "Fix the code<br>\n",
    "\n",
    "Your AddFavoriteView should look like the following block:"
   ]
  },
  {
   "cell_type": "code",
   "execution_count": null,
   "id": "672222e1",
   "metadata": {},
   "outputs": [],
   "source": [
    "class AddFavoriteView(View):\n",
    "    def post(self, request):\n",
    "        review_id = request.POST['review_id']\n",
    "        request.session['Favorite_review'] = review_id\n",
    "        return HttpResponseRedirect('/reviews/' + review_id)"
   ]
  },
  {
   "cell_type": "markdown",
   "id": "e7650aa6",
   "metadata": {},
   "source": [
    "Save, reload and click on the favorite button, everything should work without any problem.<br>\n",
    "\n",
    "There is one problem though, how are we able that this review is the favorit review?<br>\n",
    "\n",
    "To do that, you need to read from sthe session.<br>\n",
    "Where (in which view) are we going to read from the session?<br>\n",
    "In the 'ReviewDetailView'. Because it is responsible for that template.<br>\n",
    "    - Inside the 'ReviewDetailView' class redefine a method called get_context_data<br>\n",
    "        - This method is responsible for the data which is provided to the template.\n",
    "    - Instead of returning the get_content_data from the super class, store it in a variable called context.<br>\n",
    "    - As you already know you can intract with this new variable (object) like a dictionary, so add a new key called 'is_favorite' and set it to True if its id is equal to the request.session['favorite_review']<br>\n",
    "        - Do you see the problem! we do not have access to the request here! What should we do?<br>\n",
    "            - Django has forseen this. If you create a variable and pass self.request to it, that variable works like the request object and you can access sessions data with it.\n",
    "            - It is worth mentioning that you could access the review object itself, by self.object too.\n",
    "    - Now you can return the context.<br>\n",
    "\n",
    "Your ReviewDetailView class should look like the following block:"
   ]
  },
  {
   "cell_type": "code",
   "execution_count": null,
   "id": "95cff5eb",
   "metadata": {},
   "outputs": [],
   "source": [
    "class ReviewDetailView(DetailView):\n",
    "    template_name = 'reviews/review-detail.html'\n",
    "    model = Review\n",
    "    def get_context_data(self, **kwargs):\n",
    "        context = super().get_context_data(**kwargs)\n",
    "        loaded_review = self.object\n",
    "        request = self.request\n",
    "        context[\"is_favorite\"] = True if request.session['favorite_review']==loaded_review.id else False\n",
    "        return context"
   ]
  },
  {
   "cell_type": "markdown",
   "id": "7b06492f",
   "metadata": {},
   "source": [
    "Navigate to your template and make the neccassary cheanges! you could print a paragraph if the shown review is the favorite review of the user.<br>\n",
    "\n",
    "\n",
    "My review-detail.html template look like the following block:"
   ]
  },
  {
   "cell_type": "code",
   "execution_count": null,
   "id": "6a283704",
   "metadata": {
    "vscode": {
     "languageId": "html"
    }
   },
   "outputs": [],
   "source": [
    "{% extends \"base.html\" %}\n",
    "{% load static %}\n",
    "\n",
    "{% block page_title %}Review Detail{% endblock page_title %}\n",
    "\n",
    "{% block css_files %}\n",
    "    <link rel=\"stylesheet\" href=\"{% static \"reviews/review-detail.css\" %}\">\n",
    "{% endblock css_files %}\n",
    "\n",
    "{% block content %}\n",
    "    <div class='main-wrapper'>\n",
    "        <h1>User: {{ review.user_name }}</h1>\n",
    "        <h3>Rating: {{ review.rating }}</h3>\n",
    "        <p>Feedback: {{ review.review_text }}</p>\n",
    "        {% if is_favorite %}\n",
    "            <p class='favorite-text'>This review is marked as your favorite review.</p>\n",
    "        {% else %}\n",
    "        <form action=\"/reviews/favorite\" method=\"post\">\n",
    "            {% csrf_token %}\n",
    "            <input type=\"hidden\" name=\"review_id\" value='{{ review.id }}'>\n",
    "            <button>Favorite</button>\n",
    "        </form>\n",
    "        {% endif %}\n",
    "    </div>\n",
    "{% endblock content %}"
   ]
  },
  {
   "cell_type": "markdown",
   "id": "6abc30dc",
   "metadata": {
    "vscode": {
     "languageId": "html"
    }
   },
   "source": [
    "If you save,reload and click on the button! you will see that it doesn't work!<br>\n",
    "Why?<br>\n",
    "It is due to the type of data we are storing in the session.<br>\n",
    "What did we store in the session? Yes a number.<br>\n",
    "The problem is that when a data is converted to JSON it will convert to a string! hence our if statement in the view class is comparing an integer to a sting!<br>\n",
    "That returns False!<br>\n",
    "You should know how to fix it, just convert the sessiond data to integer and then compare it.<br>\n",
    "\n",
    "Your ReviewDetailView class should look like the following block:"
   ]
  },
  {
   "cell_type": "code",
   "execution_count": null,
   "id": "fe721282",
   "metadata": {},
   "outputs": [],
   "source": [
    "class ReviewDetailView(DetailView):\n",
    "    template_name = 'reviews/review-detail.html'\n",
    "    model = Review\n",
    "    def get_context_data(self, **kwargs):\n",
    "        context = super().get_context_data(**kwargs)\n",
    "        loaded_review = self.object\n",
    "        request = self.request\n",
    "        context[\"is_favorite\"] = True if int(request.session['Favorite_review'])==loaded_review.id else False\n",
    "        return context"
   ]
  },
  {
   "cell_type": "markdown",
   "id": "9f7e742d",
   "metadata": {},
   "source": [
    "Now everything should work just fine.<br>\n",
    "\n",
    "You may face an error when you are trying to access data stored in a session and it is usualy a key error.<br>\n",
    "Why does it happen?<br>\n",
    "Well, when the site is being loaded for the very first time! there wont be any sessions! hence when you are checking it in the view class you will get a key error!<br>\n",
    "\n",
    "How should we fix it?<br>\n",
    "See, in django sessions when ever you are not sure if a data is there, you should access it by get method<br>\n",
    "Navigate to the view class and change request.session['Favorite_review] to request.session.get['Favorite_review]<br>"
   ]
  },
  {
   "cell_type": "markdown",
   "id": "5d39b564",
   "metadata": {},
   "source": [
    "### End of Chapter 10"
   ]
  }
 ],
 "metadata": {
  "kernelspec": {
   "display_name": "Python 3",
   "language": "python",
   "name": "python3"
  },
  "language_info": {
   "codemirror_mode": {
    "name": "ipython",
    "version": 3
   },
   "file_extension": ".py",
   "mimetype": "text/x-python",
   "name": "python",
   "nbconvert_exporter": "python",
   "pygments_lexer": "ipython3",
   "version": "3.10.11"
  }
 },
 "nbformat": 4,
 "nbformat_minor": 5
}
