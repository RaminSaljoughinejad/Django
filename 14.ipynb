{
 "cells": [
  {
   "cell_type": "markdown",
   "id": "2986eed3-3105-4b5a-a56f-749c31476394",
   "metadata": {},
   "source": [
    "### The Reason behind the way we crerated, named, and placed the templates files and folders\n",
    "So, Why didn't we put the exercise.html file directly inside the templates folder? that would have simplified the path for us too.<br><br>\n",
    "\n",
    "Well, consider a case where you have multilple apps inside your project, and these different apps might have similar template names. So if don't create subfolders with your apps name, then Django couldn't tell which file and from which app it should render your html response because they are all registered with the same name. So, it is considered a best practice to have a subfolder inside the templates folder with the exact name of the app.<br>\n",
    "\n",
    "What you may say here is that 'but they are in different apps! they already have different paths, so why Django doesnt consider them as different files?'<br><br>\n",
    "\n",
    "Well, you are right, but the thing you do not know is that Django merges all the template files and folders inside the templates folder of every app, and when they are all merged, then they do not have different paths and could be only differentiated if placed under a diffrent subfolder.<br>\n",
    "\n",
    "Now that we know the reason, lets improve our code inside the views.py file because it could be imporved slightly. <br><br>\n",
    "\n",
    "You should understand that what we did inside our url_handler_int function is OK and there is nothing wrong with that. It is just that it is such a common pattern, that Django created a shortcut for it.<br>\n",
    "\n",
    "A funny thing is that we have already imported the shortcut but we ain't using it in the way supposed to.<br>\n",
    "The shortcut I am talking about is the render function we imported a long time ago from django.shortcuts<br>\n",
    "This render function can be used to replace render_to_string function<br><br>\n",
    "Let's use it...<br>\n",
    "\n",
    "First, get rid of the the render_to_string importing line at the top of your code. You don't need it anymore, so importing it is not a good idea.<br>\n",
    "Then, go to your url_handler_int function and just return render(request, 'Python_Fundamentals\\exercise.html'). Don't forget to delete render_to_string code.<br><br>\n",
    "\n",
    "Your url_handler_int function should look like the following block now:"
   ]
  },
  {
   "cell_type": "code",
   "execution_count": null,
   "id": "c5aa9597-ec66-4855-a153-c144befa7b0b",
   "metadata": {},
   "outputs": [],
   "source": [
    "def url_handler_int(request,  exercise):\n",
    "    if exercise in _dict:\n",
    "        return render(request, 'Python_Fundamentals\\exercise.html')\n",
    "    else:\n",
    "        return HttpResponseNotFound(\"<h1>This Page Does Not Exists<h1>\")"
   ]
  },
  {
   "cell_type": "markdown",
   "id": "0750a1f9-5dfa-4e9b-ae0a-857ff6b29adc",
   "metadata": {},
   "source": [
    "Please understand that our templates are not dynamic at all! and this is what we are going to fix."
   ]
  }
 ],
 "metadata": {
  "kernelspec": {
   "display_name": "Python 3 (ipykernel)",
   "language": "python",
   "name": "python3"
  },
  "language_info": {
   "codemirror_mode": {
    "name": "ipython",
    "version": 3
   },
   "file_extension": ".py",
   "mimetype": "text/x-python",
   "name": "python",
   "nbconvert_exporter": "python",
   "pygments_lexer": "ipython3",
   "version": "3.10.11"
  }
 },
 "nbformat": 4,
 "nbformat_minor": 5
}
