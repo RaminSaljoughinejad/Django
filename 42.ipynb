{
 "cells": [
  {
   "cell_type": "markdown",
   "id": "e1cfbeed-864f-4d23-9b8f-d8313b65358d",
   "metadata": {},
   "source": [
    "### Administrative Section: accessing database:\n",
    "\n",
    "To be able to see your database data on the administrative section, first you need to make django-administrative-section aware of it.<br>\n",
    "\n",
    "To do that:<br>\n",
    "1- Navigate to your app folder, open admin.py<br>\n",
    "Here you need to register your model(s) so that you can manage them from the administrative section.<br>\n",
    "- Import your models from .models\n",
    "- Use admin.site.register(modelname)\n",
    "\n",
    "Your admin.py file should look like the following block:"
   ]
  },
  {
   "cell_type": "code",
   "execution_count": null,
   "id": "c3338af4-7e33-45e2-8019-7247e283ebfa",
   "metadata": {},
   "outputs": [],
   "source": [
    "from django.contrib import admin\n",
    "from .models import Movie\n",
    "\n",
    "admin.site.register(Movie)"
   ]
  },
  {
   "cell_type": "markdown",
   "id": "e1424c09-76ed-471e-81ac-f805651d74dd",
   "metadata": {},
   "source": [
    "Now, if you save everything and head back to the administrative page you will see that your model is added.\n",
    "\n",
    "2- Click on it, and you can see its contents and the control it gives you over your model.\n",
    "\n",
    "Right, what you have seen here is not in a good format, I mean the form it shows you is not a good one and also you need to enter the slug field everytime you want to enter a new row.<br>\n",
    "\n",
    "The good news is that you can customize this...<br>\n",
    "\n",
    "Regarding the slug field, we can do two things. \n",
    "\n",
    "First we can go to our model-class and add blank=True ro models.SlugField. This will tell the administrative section that this field is not required and could be empty. \n",
    "\n",
    "The second approach is by going to your model-class and add editable=False. This will tell the administrative section that this field is not supposed to be editable in the administrative section, and hence, shouldn't even be showed up there.\n",
    "\n",
    "You may ask, what if I want to show it as an editable field, but populated automatically with a proper slug?<br>\n",
    "For that you, you can costumize the administrative area. This type of costumization is known as advanced configurations.<br>\n",
    "\n",
    "To configure how the fields are shown and/or how they should behave you should go to your admin.py and create a new class.<br>\n",
    "\n",
    "1- Navigate to your admin.py page and create a class (if you want to follow the best practices you should call the class exactly like your model+Admin)<br>\n",
    "2- The class you just created should inherits from admin.ModelAdmin<br>\n",
    "3- Make sure that you pass this class to admin.site.register as a second argument<br>\n",
    "4- Inside the class you just created to can configure many thins. For instance you can configure which fields should be readonly fields.\n",
    "let's do this...\n",
    "\n",
    "Your admin.py should look like the following block:"
   ]
  },
  {
   "cell_type": "code",
   "execution_count": null,
   "id": "e8796e51-8763-4f72-9830-aac0c8e959e1",
   "metadata": {},
   "outputs": [],
   "source": [
    "from django.contrib import admin\n",
    "from .models import Movie\n",
    "\n",
    "class MovieAdmin(admin.ModelAdmin):\n",
    "    readonly_fields = ('slug',)\n",
    "\n",
    "admin.site.register(Movie, MovieAdmin)"
   ]
  },
  {
   "cell_type": "code",
   "execution_count": null,
   "id": "b717965d-f80d-4934-ab02-019acfca752b",
   "metadata": {},
   "outputs": [],
   "source": [
    "If you save everything and head back to the administrative area you will see the slug field but it is not editable now.<br>\n",
    "- You can now go to your models.py and remove aditable=False\n",
    "\n",
    "So what should we do so that when we enter the title of a new movie the slug field gets populated automatically?<br>\n",
    "Easy, using the prepopulated_fields.\n",
    "5- Add prepopulated_fields to the class. This attribute recieves a dictionary which holds name of fields and their predefined value.\n",
    "\n",
    "Your admin.py should look like the following block:"
   ]
  },
  {
   "cell_type": "code",
   "execution_count": null,
   "id": "b6a1352c-b5cb-47be-baaa-66fec36c6d75",
   "metadata": {},
   "outputs": [],
   "source": [
    "from django.contrib import admin\n",
    "from .models import Movie\n",
    "\n",
    "class MovieAdmin(admin.ModelAdmin):\n",
    "    readonly_fields = ('slug',)\n",
    "    prepopulated_fields = {'slug':('title',)}\n",
    "\n",
    "admin.site.register(Movie, MovieAdmin)"
   ]
  },
  {
   "cell_type": "markdown",
   "id": "b1bdd220-ca18-4431-a770-7a44be25229d",
   "metadata": {},
   "source": [
    "Understanding that you only need to specify to Django which field to prepopulate and which field it should use to generate the prepopulated value is key. Django simplifies this process by automatically handling the details.\n",
    "\n",
    "When you designate a field for prepopulation, Django internally examines its type. If the field is a SlugField, Django seamlessly employs the slugify method to generate the prepopulated value. This method transforms a string into a slug, ensuring it is URL-friendly by removing special characters, substituting spaces with hyphens, and converting the result to lowercase.\n",
    "\n",
    "Now if you save everything and refresh the Adminstrative page, you will get the following error:"
   ]
  },
  {
   "cell_type": "code",
   "execution_count": null,
   "id": "bda29ddf-25cb-4927-9658-489507bfdfbe",
   "metadata": {},
   "outputs": [],
   "source": [
    "Key 'slug' not found in 'MovieForm'. Choices are: is_bestselling, main_act, rating, title."
   ]
  },
  {
   "cell_type": "markdown",
   "id": "02eaf5dd-d138-41bd-a38c-bccf0b99cca3",
   "metadata": {},
   "source": [
    "The error you're encountering suggests that Django couldn't find a key named \"slug\" among the available choices, which include \"s_bestselling,\" \"main_act,\" \"rating,\" and \"title.\" Let's explore why this might be the case.<br>\n",
    "\n",
    "Well, the reason is that we have registered slug as readonly in the previous line.\n",
    "If you want to have field as a prepopulated field you shouldn't label them as readonly.\n",
    "\n",
    "6- Remove the entire line of readonly_fields in the admin.py file.\n",
    "\n",
    "Now if you save everything and refresh the Adminstrative page, everything should work just fine. Also if you type something in the title field you will see that the slug field gets automatically populated based on what you type."
   ]
  },
  {
   "cell_type": "markdown",
   "id": "140a9cb4-a124-43e1-8a91-e02b90b78a2e",
   "metadata": {},
   "source": [
    "Now, that you created a prepolation rule you can go back to your models.py and remove the whole save method because you are no longer in need of such method."
   ]
  },
  {
   "cell_type": "markdown",
   "id": "a1c8d348-2b11-43ec-82f1-f915b9b98c24",
   "metadata": {},
   "source": [
    "#### <span style=\"color:purple;\">If you go online and search for Django admin you can see all the configurations that you can have.</span>"
   ]
  },
  {
   "cell_type": "markdown",
   "id": "28025fd8-3f4e-4937-a9a3-6726fed0f244",
   "metadata": {},
   "source": [
    "Let's delve into further customizations:\n",
    "\n",
    "Now, let's explore filters:\n",
    "\n",
    "But what exactly are filters?\n",
    "\n",
    "Imagine you're navigating through your administrative section and you want the ability to refine the displayed data by criteria such as rating, title, or any other field. By default, this feature isn't readily available.\n",
    "\n",
    "However, fear not! You can easily incorporate this functionality by adding the list_filter attribute to your admin class.\n",
    "\n",
    "Your admin.py file should resemble the following:"
   ]
  },
  {
   "cell_type": "code",
   "execution_count": null,
   "id": "a69b808b-877a-4794-8a59-f0398fdb1101",
   "metadata": {},
   "outputs": [],
   "source": [
    "from django.contrib import admin\n",
    "from .models import Movie\n",
    "\n",
    "class MovieAdmin(admin.ModelAdmin):\n",
    "    prepopulated_fields = {'slug':('title',)}\n",
    "    list_filter = ('rating', 'is_bestselling')\n",
    "\n",
    "admin.site.register(Movie, MovieAdmin)"
   ]
  },
  {
   "cell_type": "markdown",
   "id": "d63d29b0-ce69-4034-92f8-323d5ee0bda9",
   "metadata": {},
   "source": [
    "Now, if you navigate to the administrative page, you'll notice the addition of filtering functionality, empowering you to refine your data effortlessly."
   ]
  },
  {
   "cell_type": "markdown",
   "id": "b159baae-12c5-4665-b22c-8ccc86498387",
   "metadata": {},
   "source": [
    "Let's explore further customizations.\n",
    "\n",
    "Have you noticed that our table rows aren't displayed quite the way we'd prefer? Currently, they're nestled under a column labeled \"Movies,\" which might not be the most optimal arrangement.\n",
    "\n",
    "So, how can we enhance this? How can we introduce more columns to our table view?\n",
    "\n",
    "The solution lies in customizing the display of our data in the admin interface. By defining the list_display attribute within our admin class, we can specify exactly which fields should be presented as columns in our table view.\n",
    "\n",
    "Let's take a look at how to achieve this in your admin.py file:"
   ]
  },
  {
   "cell_type": "code",
   "execution_count": null,
   "id": "ddf9f294-0b53-4e34-b248-fac6c92ea1ce",
   "metadata": {},
   "outputs": [],
   "source": [
    "list_display = ['id', 'title', 'rating', 'is_bestselling', 'slug']"
   ]
  },
  {
   "cell_type": "markdown",
   "id": "dd50b20f-51eb-440e-85c2-8f8a29d48094",
   "metadata": {},
   "source": [
    "In this snippet, we've modified the list_display attribute within the MovieAdmin class to include additional fields such as \"title,\" \"rating,\" \"is_bestselling,\" and \"slug.\" These fields will now be presented as separate columns in our table view, offering a more comprehensive and organized representation of our data.<br>\n",
    "\n",
    "Now, if you revisit the administrative page, you'll immediately notice the difference. Your table view is now enhanced with multiple columns, providing a clearer and more structured presentation of your data. This customization not only improves the aesthetics of your administrative interface but also enhances usability, enabling users to quickly grasp essential information at a glance. With each field neatly organized into its own column, navigating and analyzing your data becomes more efficient and intuitive, streamlining your administrative workflow."
   ]
  },
  {
   "cell_type": "markdown",
   "id": "fd5033fb-0bd3-4683-80b2-33129dc2176e",
   "metadata": {},
   "source": [
    "These were only a few modifications you could do to the admin page!<Br>\n",
    "\n",
    "In the next notebook you will learn about relations<br>"
   ]
  }
 ],
 "metadata": {
  "kernelspec": {
   "display_name": "Python 3 (ipykernel)",
   "language": "python",
   "name": "python3"
  },
  "language_info": {
   "codemirror_mode": {
    "name": "ipython",
    "version": 3
   },
   "file_extension": ".py",
   "mimetype": "text/x-python",
   "name": "python",
   "nbconvert_exporter": "python",
   "pygments_lexer": "ipython3",
   "version": "3.10.11"
  }
 },
 "nbformat": 4,
 "nbformat_minor": 5
}
