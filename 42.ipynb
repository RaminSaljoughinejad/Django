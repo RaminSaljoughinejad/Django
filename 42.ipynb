{
 "cells": [
  {
   "cell_type": "markdown",
   "id": "e1cfbeed-864f-4d23-9b8f-d8313b65358d",
   "metadata": {},
   "source": [
    "### Administrative Section: accessing database:\n",
    "\n",
    "To be able to see your database data on the administrative section, first you need to make django-administrative-section aware of it.<br>\n",
    "\n",
    "To do that:<br>\n",
    "1- Navigate to your app folder, open admin.py<br>\n",
    "Here you need to register your model(s) so that you can manage them from the administrative section.<br>\n",
    "- Import your models from .models\n",
    "- Use admin.site.register(modelname)\n",
    "\n",
    "Your admin.py file should look like the following block:"
   ]
  },
  {
   "cell_type": "code",
   "execution_count": null,
   "id": "c3338af4-7e33-45e2-8019-7247e283ebfa",
   "metadata": {},
   "outputs": [],
   "source": [
    "from django.contrib import admin\n",
    "from .models import Movie\n",
    "\n",
    "admin.site.register(Movie)"
   ]
  },
  {
   "cell_type": "markdown",
   "id": "e1424c09-76ed-471e-81ac-f805651d74dd",
   "metadata": {},
   "source": [
    "Now, if you save everything and head back to the administrative page you will see that your model is added.\n",
    "\n",
    "2- Click on it, and you can see its contents and the control it gives you over your model.\n",
    "\n",
    "Right, what you have seen here is not in a good format, I mean the form it shows you is not a good one and also you need to enter the slug field everytime you want to enter a new row.<br>\n",
    "\n",
    "The good news is that you can customize this...<br>\n",
    "\n",
    "Regarding the slug field, we can do two things. \n",
    "\n",
    "First we can go to our model-class and add blank=True ro models.SlugField. This will tell the administrative section that this field is not required and could be empty. \n",
    "\n",
    "The second approach is by going to your model-class and add editable=False. This will tell the administrative section that this field is not supposed to be editable in the administrative section, and hence, shouldn't even be showed up there.\n",
    "\n",
    "You may ask, what if I want to show it as an editable field, but populated automatically with a proper slug?<br>\n",
    "For that you, you can costumize the administrative area. This type of costumization is known as advanced configurations.<br>\n",
    "\n",
    "To configure how the fields are shown and/or how they should behave you should go to your admin.py and create a new class.<br>\n",
    "\n",
    "1- Navigate to your admin.py page and create a class (if you want to follow the best practices you should call the class exactly like your model+Admin)<br>\n",
    "2- The class you just created should inherits from admin.ModelAdmin<br>\n",
    "3- Make sure that you pass this class to admin.site.register as a second argument<br>\n",
    "4- Inside the class you just created to can configure many thins. For instance you can configure which fields should be readonly fields.\n",
    "let's do this...\n",
    "\n",
    "Your admin.py should look like the following block:"
   ]
  },
  {
   "cell_type": "code",
   "execution_count": null,
   "id": "e8796e51-8763-4f72-9830-aac0c8e959e1",
   "metadata": {},
   "outputs": [],
   "source": [
    "from django.contrib import admin\n",
    "from .models import Movie\n",
    "\n",
    "class MovieAdmin(admin.ModelAdmin):\n",
    "    readonly_fields = ('slug',)\n",
    "\n",
    "admin.site.register(Movie, MovieAdmin)"
   ]
  },
  {
   "cell_type": "code",
   "execution_count": null,
   "id": "b717965d-f80d-4934-ab02-019acfca752b",
   "metadata": {},
   "outputs": [],
   "source": [
    "If you save everything and head back to the administrative area you will see the slug field but it is not editable now.<br>\n",
    "- You can now go to your models.py and remove aditable=False\n",
    "\n",
    "So what should we do so that when we enter the title of a new movie the slug field gets populated automatically?<br>\n",
    "Easy, using the prepopulated_fields.\n",
    "5- Add prepopulated_fields to the class. This attribute recieves a dictionary which holds name of fields and their predefined value.\n",
    "\n",
    "Your admin.py should look like the following block:"
   ]
  },
  {
   "cell_type": "code",
   "execution_count": null,
   "id": "b6a1352c-b5cb-47be-baaa-66fec36c6d75",
   "metadata": {},
   "outputs": [],
   "source": [
    "from django.contrib import admin\n",
    "from .models import Movie\n",
    "\n",
    "class MovieAdmin(admin.ModelAdmin):\n",
    "    readonly_fields = ('slug',)\n",
    "    prepopulated_fields = {'slug':('title',)}\n",
    "\n",
    "admin.site.register(Movie, MovieAdmin)"
   ]
  },
  {
   "cell_type": "markdown",
   "id": "b1bdd220-ca18-4431-a770-7a44be25229d",
   "metadata": {},
   "source": [
    "Understanding that you only need to specify to Django which field to prepopulate and which field it should use to generate the prepopulated value is key. Django simplifies this process by automatically handling the details.\n",
    "\n",
    "When you designate a field for prepopulation, Django internally examines its type. If the field is a SlugField, Django seamlessly employs the slugify method to generate the prepopulated value. This method transforms a string into a slug, ensuring it is URL-friendly by removing special characters, substituting spaces with hyphens, and converting the result to lowercase.\n",
    "\n",
    "Now if you save everything and refresh the Adminstrative page, you will get the following error:"
   ]
  },
  {
   "cell_type": "code",
   "execution_count": null,
   "id": "bda29ddf-25cb-4927-9658-489507bfdfbe",
   "metadata": {},
   "outputs": [],
   "source": [
    "Key 'slug' not found in 'MovieForm'. Choices are: is_bestselling, main_act, rating, title."
   ]
  },
  {
   "cell_type": "markdown",
   "id": "02eaf5dd-d138-41bd-a38c-bccf0b99cca3",
   "metadata": {},
   "source": [
    "The error you're encountering suggests that Django couldn't find a key named \"slug\" among the available choices, which include \"s_bestselling,\" \"main_act,\" \"rating,\" and \"title.\" Let's explore why this might be the case.<br>\n",
    "\n",
    "Well, the reason is that we have registered slug as readonly in the previous line.\n",
    "If you want to have field as a prepopulated field you shouldn't label them as readonly.\n",
    "\n",
    "6- Remove the entire line of readonly_fields in the admin.py file.\n",
    "\n",
    "Now if you save everything and refresh the Adminstrative page, everything should work just fine. Also if you type something in the title field you will see that the slug field gets automatically populated based on what you type."
   ]
  },
  {
   "cell_type": "markdown",
   "id": "140a9cb4-a124-43e1-8a91-e02b90b78a2e",
   "metadata": {},
   "source": [
    "Now, that you created a prepolation rule you can go back to your models.py and remove the whole save method because you are no longer in need of such method."
   ]
  }
 ],
 "metadata": {
  "kernelspec": {
   "display_name": "Python 3 (ipykernel)",
   "language": "python",
   "name": "python3"
  },
  "language_info": {
   "codemirror_mode": {
    "name": "ipython",
    "version": 3
   },
   "file_extension": ".py",
   "mimetype": "text/x-python",
   "name": "python",
   "nbconvert_exporter": "python",
   "pygments_lexer": "ipython3",
   "version": "3.10.11"
  }
 },
 "nbformat": 4,
 "nbformat_minor": 5
}
