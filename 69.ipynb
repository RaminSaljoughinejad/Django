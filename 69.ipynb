{
 "cells": [
  {
   "cell_type": "markdown",
   "id": "dc90fc12",
   "metadata": {},
   "source": [
    "### Simplifying The Process of Storing Files: \n",
    "\n",
    "\n",
    "Combining a form and a model:\n",
    "Django has a great support for managing files with the help of models.\n",
    "\n",
    "1. Navigate to models.py and create a model called UserProfile and extend it from models.Model\n",
    "2. Define a class-attribute called image\n",
    "3. This field is going to be a FileField, so image = models.FileField()\n",
    "    - <span style='color:red'>IMPORTANT: </span>Please undertands and this FileField won't get stored in the database. Because it is considered a bad practice by django.\n",
    "    - The model will take the file and store it somewhere in out hard-drive and only stores the path in the database; This way we can access it in the future.\n",
    "4. To tell django where to store the actual file you need to pass an argument called upload_to and provide it with the path you desire.\n",
    "    - The address here is not an absolute address.\n",
    "    - By default, django will look in the root of your operating system (outside of your project).\n",
    "    - To change this and tell django where to look, you need to navigate to settings.py file and at the buttom of the file create a varibale called 'MEDIA_ROOT' then assign it with the address that you want to store files (this should be an absolute path).\n",
    "        - Use the BASE_DIR to get the absolute address of your project\n",
    "        - Create a folder called uploads next to manage.py file\n",
    "        - pass the uploads folder path to the MEDIA_ROOT variable\n",
    "\n",
    "Your MEDIA_ROOT variable should look like the following block:"
   ]
  },
  {
   "cell_type": "code",
   "execution_count": null,
   "id": "32e8728e",
   "metadata": {},
   "outputs": [],
   "source": [
    "MEDIA_ROOT = BASE_DIR / 'uploads'"
   ]
  },
  {
   "cell_type": "markdown",
   "id": "0864cae7",
   "metadata": {},
   "source": [
    "5. Navigate to models.py and now pass a folder name to 'upload_to' argument. This folder will be created as a subfolder inside the MEDIA_ROOT path you defined and then the files handled by this model will get stored in it.\n",
    "\n",
    "6. Now that we have this profile we can use it in the views.py\n",
    "7. import the UserProfile model and inside the post method just after validating the form, delete the store_file function, create an instance of the UserProfile model and pass request.FILES['user_image] as the image argument to it.\n",
    "    - We pass user_image because our input is being created by the forms.py\n",
    "8. You dont need the store_file function anymore and hence delete it.\n",
    "\n",
    "Your views.py file should look like the following block:"
   ]
  },
  {
   "cell_type": "code",
   "execution_count": null,
   "id": "fc7d3c8e",
   "metadata": {},
   "outputs": [],
   "source": [
    "from django.shortcuts import render\n",
    "from django.views import View\n",
    "from django.http import HttpResponseRedirect\n",
    "from .forms import ProfileForm\n",
    "from .models import UserProfile\n",
    "\n",
    "class IndexView(View):\n",
    "    def get(self, request):\n",
    "        form = ProfileForm()\n",
    "        return render(request, 'profiles/index.html', {\n",
    "            'form':form\n",
    "        })\n",
    "    \n",
    "    def post(self, request):\n",
    "        submited_form = ProfileForm(request.POST, request.FILES)\n",
    "        if submited_form.is_valid():\n",
    "            profile = UserProfile(image=request.FILES['user_image'])\n",
    "            profile.save()\n",
    "            return HttpResponseRedirect('/profiles/')\n",
    "        else:\n",
    "            return render(request, 'profiles/index.html', {\n",
    "                \"form\":submited_form\n",
    "            })"
   ]
  },
  {
   "cell_type": "markdown",
   "id": "a77437d9",
   "metadata": {},
   "source": [
    "If you save everything and try to upload a file you will face an error telling you that django couldnt find a table called profiles_userprofile<br>\n",
    "\n",
    "\n",
    "The reason? can you guess?\n",
    "\n",
    "Yea you forgot to run twoi important commands!\n",
    "\n",
    "makemigrations\n",
    "migrate\n",
    "\n",
    "\n",
    "Do them and try to upload again."
   ]
  },
  {
   "cell_type": "markdown",
   "id": "cafeafdc",
   "metadata": {},
   "source": [
    "Please note that django will automatically handles name clash!"
   ]
  },
  {
   "cell_type": "markdown",
   "id": "82c8f70b",
   "metadata": {},
   "source": [
    "Lets see if the file path is stored in the database:\n",
    "\n",
    "1. Open shell\n",
    "2. from profiles.models import UserProfile\n",
    "3. loop through all rows and print them:\n",
    "\n",
    "You may use the following code:"
   ]
  },
  {
   "cell_type": "code",
   "execution_count": null,
   "id": "17cb60c2",
   "metadata": {},
   "outputs": [],
   "source": [
    "for f in UserProfile.objects.all():\n",
    "    print(f.image) #to get the name\n",
    "\n",
    "for f in UserProfile.objects.all():\n",
    "    print(f.image.path) #to get the absolute path"
   ]
  },
  {
   "cell_type": "markdown",
   "id": "fa07779e",
   "metadata": {},
   "source": [
    "Do what ever you need to do so that you can see the file paths in the admin page.<br>\n",
    "\n",
    "Your admin.py file should look like the following block:"
   ]
  },
  {
   "cell_type": "code",
   "execution_count": null,
   "id": "c1a9c46b",
   "metadata": {},
   "outputs": [],
   "source": [
    "from django.contrib import admin\n",
    "from .models import UserProfile  \n",
    "\n",
    "class UserProfileAdmin(admin.ModelAdmin):\n",
    "    list_display = ('id', 'image')  \n",
    "    search_fields = ('id', 'image')  \n",
    "\n",
    "admin.site.register(UserProfile, UserProfileAdmin)"
   ]
  },
  {
   "cell_type": "markdown",
   "id": "ebe1784c",
   "metadata": {},
   "source": [
    "In the next notebook you will learn about ImageField<br>"
   ]
  }
 ],
 "metadata": {
  "kernelspec": {
   "display_name": "Python 3",
   "language": "python",
   "name": "python3"
  },
  "language_info": {
   "codemirror_mode": {
    "name": "ipython",
    "version": 3
   },
   "file_extension": ".py",
   "mimetype": "text/x-python",
   "name": "python",
   "nbconvert_exporter": "python",
   "pygments_lexer": "ipython3",
   "version": "3.10.11"
  }
 },
 "nbformat": 4,
 "nbformat_minor": 5
}
