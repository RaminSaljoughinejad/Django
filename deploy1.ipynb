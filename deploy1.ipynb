{
 "cells": [
  {
   "cell_type": "markdown",
   "id": "80453497",
   "metadata": {},
   "source": [
    "### hapter 12 - Deploying Django Websites:\n",
    "\n",
    "\n",
    "In this chapter you are going to learn about:<br>\n",
    "1. Deployment Considerations & pitfalls\n",
    "2. Deploying our Blog Website"
   ]
  },
  {
   "cell_type": "markdown",
   "id": "dc29714e",
   "metadata": {},
   "source": [
    "### Deployment Considerations:\n",
    "\n",
    "Things you need to consider:\n",
    "- Choose Database (reconsider SQLite)\n",
    "    - I am going to show you, how you can use other DBMSs\n",
    "- Adjust Settings\n",
    "    - Adjust config for chosen hosting provider, disable development-only settings\n",
    "- Collect Static Files\n",
    "    - Static files are Not server automatically (just like user uploads).\n",
    "- Handle Static & Uploaded Files Serving\n",
    "- Choose a Host + Deploy\n",
    "    - Also dive into host-specific docs + examples"
   ]
  },
  {
   "cell_type": "markdown",
   "id": "c8331637",
   "metadata": {},
   "source": [
    "In the next notebook we will talk about Databases<br>"
   ]
  }
 ],
 "metadata": {
  "kernelspec": {
   "display_name": "Python 3",
   "language": "python",
   "name": "python3"
  },
  "language_info": {
   "codemirror_mode": {
    "name": "ipython",
    "version": 3
   },
   "file_extension": ".py",
   "mimetype": "text/x-python",
   "name": "python",
   "nbconvert_exporter": "python",
   "pygments_lexer": "ipython3",
   "version": "3.10.11"
  }
 },
 "nbformat": 4,
 "nbformat_minor": 5
}
