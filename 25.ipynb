{
 "cells": [
  {
   "cell_type": "markdown",
   "id": "6f01e777-7875-45c8-b487-b1920f5c4349",
   "metadata": {},
   "source": [
    "### Chapter 3: Blog Project\n",
    "\n",
    "In this chapter we are going to create a blog and enhance it with new things that we earn though out this chapter.\n",
    "\n",
    "Lets start from scratch:<br>\n",
    "1- Create a new project and name it 'my_website'"
   ]
  },
  {
   "cell_type": "code",
   "execution_count": null,
   "id": "9b8cc21d-559b-43b7-a92a-90e0f843961a",
   "metadata": {},
   "outputs": [],
   "source": [
    "django-admin stratproject my_website"
   ]
  },
  {
   "cell_type": "markdown",
   "id": "ddb96515-50e4-43e6-b169-a427b0abe68c",
   "metadata": {},
   "source": [
    "2- Create a new app called 'blog'"
   ]
  },
  {
   "cell_type": "code",
   "execution_count": null,
   "id": "89cffa13-b55f-4bf6-bb47-a3e74bf28dd2",
   "metadata": {},
   "outputs": [],
   "source": [
    "python manage.py startapp blog"
   ]
  },
  {
   "cell_type": "markdown",
   "id": "0af2388e-23ae-4d0a-9611-2eaf9d115f34",
   "metadata": {},
   "source": [
    "3- Start your server"
   ]
  },
  {
   "cell_type": "code",
   "execution_count": null,
   "id": "800bd03c-157c-48b4-87ea-a15af340f45d",
   "metadata": {},
   "outputs": [],
   "source": [
    "python manage.py runserver"
   ]
  },
  {
   "cell_type": "markdown",
   "id": "62d15e81-c2be-4d72-8ed8-3c6652788fc7",
   "metadata": {},
   "source": [
    "### Lets start with URLs & Views?\n",
    "<div style='text-align:center;'>\n",
    "<img src=\"images/6-URLS & Views.jpg\"  width=\"600px\">\n",
    "</div>"
   ]
  },
  {
   "cell_type": "markdown",
   "id": "d31076e5-2bff-4a56-adfe-08ca94eec340",
   "metadata": {},
   "source": [
    "1- Navigate to the blog app and inside it, create a file called urls.py <br>\n",
    "2- Create the urlpatterns list<br>\n",
    "3- Import path from django.urls<br>\n",
    "4- Add all the paths that are mentioned in the above image."
   ]
  },
  {
   "cell_type": "code",
   "execution_count": null,
   "id": "00018422-7ddd-4a60-9f8b-3bb84f51b500",
   "metadata": {},
   "outputs": [],
   "source": [
    "from django.urls import path\n",
    "urlpatterns = [\n",
    "    path('/'),\n",
    "    path('posts/'),\n",
    "    path('posts/<slug>')\n",
    "]"
   ]
  },
  {
   "cell_type": "markdown",
   "id": "d63e2b63-e95a-4577-8e78-754f2bf41806",
   "metadata": {},
   "source": [
    "#### Note:\n",
    "We called the posts identifier 'slug' because this concept is known as slug. This concept is so common that django has a slug transformer.<br>\n",
    "What was a transformer you may ask! <br>\n",
    "Remember int and str identifiers?<br>\n",
    "If you dont, you need to go back to our first project.<br><br>\n",
    "\n",
    "Use the slug identifier before it.<br>\n",
    "Your urls.py file should look like the following block:"
   ]
  },
  {
   "cell_type": "code",
   "execution_count": null,
   "id": "18c0b25c-0819-4b95-b3ae-1d2b699bc944",
   "metadata": {},
   "outputs": [],
   "source": [
    "from django.urls import path\n",
    "\n",
    "urlpatterns = [\n",
    "    path('/'),\n",
    "    path('posts/'),\n",
    "    path('posts/<slug:slug>')\n",
    "]"
   ]
  },
  {
   "cell_type": "markdown",
   "id": "5ec72fc6-1cf7-43bf-b79f-8ecf3adbd392",
   "metadata": {},
   "source": [
    "The slug identifier checks if the address has the standard slug format<br>\n",
    "The standard slug format is a series of names/values that are seprated by dashes.<br>\n",
    "For example:<br>"
   ]
  },
  {
   "cell_type": "code",
   "execution_count": null,
   "id": "74119de4-7af8-4a98-b392-ba47777e125c",
   "metadata": {},
   "outputs": [],
   "source": [
    "/posts/my-first-post"
   ]
  },
  {
   "cell_type": "markdown",
   "id": "e2c973c3-a694-447b-9f1a-f877b3df25bb",
   "metadata": {},
   "source": [
    "5- Now, Naviagte to your views.py file and created the needed views functions.<br>"
   ]
  },
  {
   "cell_type": "code",
   "execution_count": null,
   "id": "a3363562-e203-4ff1-b8f7-784c93de9635",
   "metadata": {},
   "outputs": [],
   "source": [
    "from django.shortcuts import render\n",
    "\n",
    "def index(request):\n",
    "    pass\n",
    "\n",
    "def posts(request):\n",
    "    pass\n",
    "\n",
    "def post_detail(request):\n",
    "    pass"
   ]
  },
  {
   "cell_type": "markdown",
   "id": "c9485852-dbfd-47cb-a27a-62a6ce7edf97",
   "metadata": {},
   "source": [
    "6- Go to urls.py file and call the functions you created so they would get trigered when needed.<br>\n",
    "dont forget to name the urls so later on you wont need to hardcode paths.<br>\n",
    "Dont forget to import views.py inside your urls.py\n",
    "\n",
    "Your urls.py file should looks like the following block:"
   ]
  },
  {
   "cell_type": "code",
   "execution_count": null,
   "id": "281d1f64-9944-4ebc-a601-db56f52da951",
   "metadata": {},
   "outputs": [],
   "source": [
    "from django.urls import path\n",
    "from . import views\n",
    "\n",
    "urlpatterns = [\n",
    "    path('', views.index, name='blog-starting-page'),\n",
    "    path('posts/', views.posts, name='blog-post-page'),\n",
    "    path('posts/<slug:slug>', views.post_detail, name='blog-post-detail')\n",
    "]"
   ]
  },
  {
   "cell_type": "markdown",
   "id": "f5cd2cc2-8558-4d14-a043-6c1e6f90e838",
   "metadata": {},
   "source": [
    "7- Now, we need to aware django about the urls we just created.<br>\n",
    "Go to the main prject directory and open urls.py file.<br>\n",
    "import include from django.urls, and then specify the leading path of the blog urls.<br>\n",
    "Your main projects urls.py file should look like the following block:"
   ]
  },
  {
   "cell_type": "code",
   "execution_count": null,
   "id": "48634f44-29b0-4d3a-afce-4b8f562e0ebb",
   "metadata": {},
   "outputs": [],
   "source": [
    "from django.contrib import admin\n",
    "from django.urls import path, include\n",
    "\n",
    "urlpatterns = [\n",
    "    path('admin/', admin.site.urls),\n",
    "    path(\"\", include(\"blog.urls\"))\n",
    "]"
   ]
  },
  {
   "cell_type": "markdown",
   "id": "da7ff5ee-ad6e-4e5d-a0d6-51fe35e7cc9e",
   "metadata": {},
   "source": [
    "Lets learn this chapters first lession!<br>\n",
    "As you remember, in our last project we had to visit http://127.0.0.1:8000/Python_Fundamentals for the main webpage of our project, and if requested http://127.0.0.1:8000, we would have got, 404 error.<br>\n",
    "So, how can we use a page inside an app as the main webpage that could be accessed using http://127.0.0.1:8000 ?<br>\n",
    "Well, you dont need to do anything just leave the path address empty."
   ]
  },
  {
   "cell_type": "markdown",
   "id": "39c2691e-e9d1-4ff0-b689-1df039b79d28",
   "metadata": {},
   "source": [
    "### Lets Add Templates\n",
    "\n",
    "1- Create a folder called templates inside the blog app.<br>\n",
    "2- Remember the best practice? if you dont. just create a folder called blog (same name as your app).<br>\n",
    "3- Inside the blog folder you just created, create the needed html files (index, posts, posts-details).<br>\n",
    "4- Create a folder called templates inside the root of your project, and then create a html file called base inside it.<br>\n",
    "5- Add the standard html structure code.<br>\n",
    "\n",
    "Your base.html file should look like the following block:"
   ]
  },
  {
   "cell_type": "code",
   "execution_count": null,
   "id": "4a46ac3c-985c-4605-8bc3-c05492987966",
   "metadata": {},
   "outputs": [],
   "source": [
    "<!DOCTYPE html>\n",
    "<html lang='en'>\n",
    "    <head>\n",
    "        <meta charset='UTF-8'>\n",
    "        <meta name='viewport' content='width=device-width, initial-scale=1.0'>\n",
    "        <title>{% block title %}{% endblock %}</title>\n",
    "        {% block css_files %}{% endblock %}\n",
    "    </head>\n",
    "    <body>\n",
    "        {% block content %}{% endblock %}\n",
    "    </body>\n",
    "</html>"
   ]
  },
  {
   "cell_type": "markdown",
   "id": "e3c4a540-db47-4080-9f15-3a42f5fecc67",
   "metadata": {},
   "source": [
    "6- Navigate to your index.html file and inherit from the base.html file.<br>\n",
    "7- Go to settings.py and add BASE_DIR / 'templates' to TEMPLATES setting and under its DIRS key.<br>\n",
    "8- While you are in the settings.py dont forget to add the blog app into INSTALLED_APPS so to mae django aware of the blog app.<br>\n",
    "Your INSTALLED_APPS and TEMPLATES should look like the following block:"
   ]
  },
  {
   "cell_type": "code",
   "execution_count": null,
   "id": "ec273ce6-123b-4250-aa5a-8c97d2df9072",
   "metadata": {},
   "outputs": [],
   "source": [
    "INSTALLED_APPS = [\n",
    "    'blog',\n",
    "    'django.contrib.admin',\n",
    "    'django.contrib.auth',\n",
    "    'django.contrib.contenttypes',\n",
    "    'django.contrib.sessions',\n",
    "    'django.contrib.messages',\n",
    "    'django.contrib.staticfiles',\n",
    "]\n",
    "\n",
    "TEMPLATES = [\n",
    "    {\n",
    "        'BACKEND': 'django.template.backends.django.DjangoTemplates',\n",
    "        'DIRS': [\n",
    "            BASE_DIR / 'templates'\n",
    "        ],\n",
    "        'APP_DIRS': True,\n",
    "        'OPTIONS': {\n",
    "            'context_processors': [\n",
    "                'django.template.context_processors.debug',\n",
    "                'django.template.context_processors.request',\n",
    "                'django.contrib.auth.context_processors.auth',\n",
    "                'django.contrib.messages.context_processors.messages',\n",
    "            ],\n",
    "        },\n",
    "    },\n",
    "]"
   ]
  },
  {
   "cell_type": "markdown",
   "id": "be59a850-17cc-4118-b24b-57fe177a794c",
   "metadata": {},
   "source": [
    "Your index.html file should look like the following block:"
   ]
  },
  {
   "cell_type": "code",
   "execution_count": null,
   "id": "871806c2-83a4-495b-838e-185d395f7a93",
   "metadata": {},
   "outputs": [],
   "source": [
    "{% extends \"base.html\" %}\n",
    "\n",
    "{% block titel %}My Blog{% endblock %}\n",
    "\n",
    "{% block css_files %}{% endblock %}\n",
    "\n",
    "{% block content %}<h1>Welcome to my blog</h1>{% endblock %}"
   ]
  },
  {
   "cell_type": "markdown",
   "id": "20e7775e-9f9e-4bdd-be1f-2833c56b4602",
   "metadata": {},
   "source": [
    "9- Navigate to views.py and add the necessary code to render the index.html template for the index function.<br>\n",
    "Your views.py file should look like the following block:"
   ]
  },
  {
   "cell_type": "code",
   "execution_count": null,
   "id": "a5aaae7e-c64c-45f2-b940-27a9b4de250e",
   "metadata": {},
   "outputs": [],
   "source": [
    "from django.shortcuts import render\n",
    "\n",
    "def index(request):\n",
    "    return render(request, \"blog/index.html\")\n",
    "\n",
    "def posts(request):\n",
    "    pass\n",
    "\n",
    "def post_detail(request):\n",
    "    pass"
   ]
  },
  {
   "cell_type": "markdown",
   "id": "92642afe-078d-4998-ad2b-55e8080174a5",
   "metadata": {},
   "source": [
    "Now, if you save everything and make a request at http://127.0.0.1:8000/<br>\n",
    "You should see the index.html template.<br>\n",
    "\n",
    "If you have a problem please check your projects folder tree.<br>\n",
    "<img src='images/6-tree3.png' width='200px'>"
   ]
  },
  {
   "cell_type": "markdown",
   "id": "2ddb82d0-1b53-4a33-a5d8-c5e4741f7637",
   "metadata": {},
   "source": [
    "Before we make new changes lets fix something.<br>\n",
    "Eversince you installed the Django extension on your Visual studio code, the HTML autocompletion has stoped working.<br>\n",
    "To make it work again! go to File -> Preferences -> Settings, and from the top right conrner of the window choose Open Settings (JSON).<br>\n",
    "Now add the following line as the last line of the dictionary you see there.<br>"
   ]
  },
  {
   "cell_type": "code",
   "execution_count": null,
   "id": "9eced017-1787-4e5d-9082-5b5b1ec99427",
   "metadata": {},
   "outputs": [],
   "source": [
    "\"emmet.includeLanguages\": {\n",
    "        \"django-html\": \"html\"\n",
    "    }"
   ]
  },
  {
   "cell_type": "markdown",
   "id": "74ebc9d0-9ac8-482b-bf77-ef7c752ad0a0",
   "metadata": {},
   "source": [
    "Your setting.json file should look something like the following block: Please understand that it should not look exactly alike.<br>\n",
    "Save and close this file, Now everything should start working again.<br>"
   ]
  },
  {
   "cell_type": "code",
   "execution_count": null,
   "id": "0722c5c9-0bbb-414b-b32f-d051f671c054",
   "metadata": {},
   "outputs": [],
   "source": [
    "{\n",
    "    \"editor.fontSize\": 28,\n",
    "    \"debug.console.fontSize\": 32,\n",
    "    \"terminal.integrated.fontSize\": 22,\n",
    "    \"editor.minimap.enabled\": false,\n",
    "    \"window.zoomLevel\": 1,\n",
    "    \"emmet.includeLanguages\": {\n",
    "        \"django-html\": \"html\"\n",
    "    }\n",
    "}"
   ]
  },
  {
   "cell_type": "markdown",
   "id": "0cbbd179-8c68-4a24-aa3e-55e0677ccac7",
   "metadata": {},
   "source": [
    "Make the neccessary cahnges in the seetings.py file so that you can add static files to your templates."
   ]
  },
  {
   "cell_type": "code",
   "execution_count": null,
   "id": "6fcf76bf-3f4a-4796-a968-caeb9d9c8e54",
   "metadata": {},
   "outputs": [],
   "source": [
    "STATICFILES_DIRS = [\n",
    "    BASE_DIR / 'static'\n",
    "]"
   ]
  },
  {
   "cell_type": "markdown",
   "id": "fe5e47d5-0927-4b83-ad19-d68958825686",
   "metadata": {},
   "source": [
    "Lets make some changes to the index.html file.<br>\n",
    "Your index.html file should look something like the following block:"
   ]
  },
  {
   "cell_type": "raw",
   "id": "906a1007-bd13-44fd-9756-3abf3bc2ce5b",
   "metadata": {},
   "source": [
    "{% extends \"base.html\" %}\n",
    "{% load static %}\n",
    "\n",
    "{% block titel %}My Blog{% endblock %}\n",
    "\n",
    "{% block css_files %}\n",
    "    <link rel=\"stylesheet\" href=\"{% static \"blog/index.css\" %}\">\n",
    "{% endblock %}\n",
    "\n",
    "{% block content %}\n",
    "<header id=\"main-navigation\">\n",
    "    <h1><a href=\"\">Ramin's Blog</a></h1>\n",
    "    <nav>\n",
    "        <a href=\"\">All Posts</a>\n",
    "    </nav>\n",
    "</header>\n",
    "<section id=\"welcome\">\n",
    "    <header>\n",
    "        <img src=\"#\" alt=\"Ramin - The Author Of This Blog\">\n",
    "    </header>\n",
    "    <p>Hi, I am Ramin and I love programming and AI!</p>\n",
    "</section>\n",
    "<section id=\"latest-posts\">\n",
    "    <h2>My Latests thoughts</h2>\n",
    "    <ul>\n",
    "        <li>\n",
    "            <article class='post'>\n",
    "                <a href=\"\">\n",
    "                    <img src=\"\" alt=\"Neural Networks\">\n",
    "                    <div class=\"post__content\">\n",
    "                        <h3>Neural Networks</h3>\n",
    "                        <p>This Course is for complete beginners.\n",
    "            You know need some basic knowledge in Python and nothing else.</p>\n",
    "                    </div>\n",
    "                </a>\n",
    "            </article>\n",
    "        </li>\n",
    "    </ul>\n",
    "</section>\n",
    "<section id='about'>\n",
    "    <h2>What I Do</h2>\n",
    "    <p>I love programming, teaching and solving new problems.\n",
    "        I have a passion for AI and Robotics.</p>\n",
    "</section>\n",
    "<section id='footer'>\n",
    "    <p>All rights reserver Ramin Saljoughinejad</p>\n",
    "</section>\n",
    "{% endblock %}"
   ]
  },
  {
   "cell_type": "markdown",
   "id": "20f8b6ae-9a37-4f40-8658-1d771166fa4d",
   "metadata": {},
   "source": [
    "To do the styling add a new folder called static next to the root's template.<br>\n",
    "Add a file called base.css insdie the folder you just created and add the styling you want.\n",
    "\n",
    "My base.css file looks like the following block:"
   ]
  },
  {
   "cell_type": "code",
   "execution_count": null,
   "id": "aa815072-70a6-44d2-9c37-c074c34c65f9",
   "metadata": {},
   "outputs": [],
   "source": [
    "@import url('https://fonts.googleapis.com/css2?family=Lato:ital,wght@0,100;0,300;0,400;0,700;0,900;1,100;1,300;1,400;1,700;1,900&display=swap');\n",
    "\n",
    "*{\n",
    "    box-sizing:border-box;\n",
    "}\n",
    "\n",
    "html{\n",
    "    font-family: 'Open Sans', 'Lato', 'snas-serif';\n",
    "}\n",
    "\n",
    "body{\n",
    "    margin:0;\n",
    "}\n",
    "\n",
    "h1,h2,h3{\n",
    "    font-family: 'Lato', sans-serif;\n",
    "    font-weight: bold;\n",
    "}"
   ]
  },
  {
   "cell_type": "markdown",
   "id": "1c7a4fd9-3ae7-4726-ab02-2356c1010c7c",
   "metadata": {},
   "source": [
    "To be able to style the templates inside the blog app, create a folder called static in the blog app folder and then follow the best practicles you have learned from the pervious chapter.<br>\n",
    "Here, you also need to add your desired stying code.<br>\n",
    "\n",
    "My index.css file looks like the following block:"
   ]
  },
  {
   "cell_type": "code",
   "execution_count": null,
   "id": "64f385f8-7152-4bd2-909a-be7f94936040",
   "metadata": {},
   "outputs": [],
   "source": [
    "#main-navigation{\n",
    "    width:100%;\n",
    "    height:5rem;\n",
    "    top:0;\n",
    "    position:absolute;\n",
    "    align-items: center;\n",
    "    justify-content: space-between;\n",
    "    display: flex;\n",
    "    padding:0 10%;\n",
    "    left:0;\n",
    "}\n",
    "#main-navigation a{\n",
    "    text-decoration: none;\n",
    "    color:white;\n",
    "    font-weight: bold;\n",
    "}\n",
    "#main-navigation a:hover,\n",
    "#mian-navigation a:active{\n",
    "    color: #1d5191;\n",
    "}\n",
    "\n",
    "#welcome{\n",
    "    background: linear-gradient(to right top, #338dc4, #0bb5e9);\n",
    "    padding: 6rem 12%;\n",
    "    text-align: center;\n",
    "}\n",
    "\n",
    "#welcome header{\n",
    "    display: flex;\n",
    "    align-items:flex-start;\n",
    "    margin:3rem auto;\n",
    "}\n",
    "\n",
    "#welcome header img{\n",
    "    border-radius: 50%;\n",
    "    background-color:white;\n",
    "    width: 13rem;\n",
    "    height:13rem;\n",
    "    object-fit: cover;\n",
    "    object-position: top;\n",
    "    border: 5px solid white;\n",
    "    margin-right: auto;\n",
    "    margin-left: auto;\n",
    "}\n",
    "#welcome p{\n",
    "    color:white;\n",
    "    \n",
    "    font-size:1.5rem;\n",
    "}\n",
    "\n",
    "#latest-posts{\n",
    "    width:60rem;\n",
    "    background-color:white;\n",
    "    padding:2rem;\n",
    "    margin:-6rem auto 2rem auto;\n",
    "    box-shadow: 1px 1px 12px rgba(0,0,0,0.4);\n",
    "    text-align: center;\n",
    "}\n",
    "\n",
    ".post a{\n",
    "    text-decoration: none;\n",
    "    color:black;\n",
    "}\n",
    "\n",
    "#latest-posts h2{\n",
    "    text-align: center;\n",
    "}\n",
    "\n",
    ".post img{\n",
    "    width:10rem;\n",
    "    height:10rem;\n",
    "    border-radius: 50%;\n",
    "    border:5px solid #338dc4;\n",
    "}\n",
    "\n",
    "#latest-posts ul{\n",
    "    list-style: none;\n",
    "    margin:0;\n",
    "    padding:0;\n",
    "    display: flex;\n",
    "    gap:1rem;\n",
    "}\n",
    "\n",
    "#latest-posts li{\n",
    "    flex:1;\n",
    "}\n",
    "\n",
    "#about{\n",
    "    width:80rem;\n",
    "    background-color:white;\n",
    "    padding:2rem;\n",
    "    margin:auto;\n",
    "    box-shadow: 1px 1px 12px rgba(0,0,0,0.4);\n",
    "}\n",
    "\n",
    "#footer{\n",
    "    width:100%;\n",
    "    background: linear-gradient(to right top, #0bb5e9, #338dc4);\n",
    "    padding: 6rem 12%;\n",
    "    text-align: center;\n",
    "    bottom:0;\n",
    "    display: flex;\n",
    "    text-align: center;\n",
    "    align-items: center;\n",
    "    justify-content: space-between;\n",
    "    margin-top:9.3rem;\n",
    "}\n",
    "#footer p{\n",
    "    bottom:0;\n",
    "    left:0;\n",
    "    color:white;\n",
    "    text-align: center;\n",
    "}"
   ]
  },
  {
   "cell_type": "markdown",
   "id": "bb4830fa-d33f-49f4-9a29-f6fdb0aa76a4",
   "metadata": {},
   "source": [
    "### Adding Images to our templates\n",
    "\n",
    "Images are also a sort of static files, and like CSS files which are too considered static files, adding images is like adding CSS files.<br>\n",
    "\n",
    "\n",
    "But, Where should we store the images?<br>\n",
    "In the static folders. Just like the CSS files.<br>\n",
    "There is only one thing... Create a folder for them in the static folder and call it images.<br>\n",
    "<br>\n",
    "Now you can go to inde.html and create the needed references.\n",
    "\n",
    "As an example, if you have an image stored in the ststic/blog/images and it is called avatar.png, then the link should be like the following block:"
   ]
  },
  {
   "cell_type": "code",
   "execution_count": null,
   "id": "fd2c3712-f035-4360-b567-045a31227a20",
   "metadata": {},
   "outputs": [],
   "source": [
    "<img src=\"{% static \"blog/images/avatar.jpg\" %}\" alt=\"Ramin - The Author Of This Blog\">"
   ]
  },
  {
   "cell_type": "markdown",
   "id": "4a323cab-ff32-4e14-a898-64b041869a9c",
   "metadata": {},
   "source": [
    "In the next notebook we will work on the posts.html file."
   ]
  }
 ],
 "metadata": {
  "kernelspec": {
   "display_name": "Python 3 (ipykernel)",
   "language": "python",
   "name": "python3"
  },
  "language_info": {
   "codemirror_mode": {
    "name": "ipython",
    "version": 3
   },
   "file_extension": ".py",
   "mimetype": "text/x-python",
   "name": "python",
   "nbconvert_exporter": "python",
   "pygments_lexer": "ipython3",
   "version": "3.10.11"
  }
 },
 "nbformat": 4,
 "nbformat_minor": 5
}
