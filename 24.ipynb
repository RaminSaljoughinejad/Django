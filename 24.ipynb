{
 "cells": [
  {
   "cell_type": "markdown",
   "id": "64b3edb3-0355-4758-a0fd-7c58159645a3",
   "metadata": {},
   "source": [
    "### Making Everything Nicer!\n",
    "\n",
    "Your 'python_fundamentals.css' file should look something like the following block:"
   ]
  },
  {
   "cell_type": "code",
   "execution_count": null,
   "id": "3dc5d6f1-52d3-48db-8026-fb89d727e85e",
   "metadata": {},
   "outputs": [],
   "source": [
    "ul{\n",
    "    list-style: none;\n",
    "    margin: 2rem auto;\n",
    "    width: 90%;\n",
    "    max-width: 15rem;\n",
    "    box-shadow: 0 2px 8px rgba(0, 0, 0, 0.26);\n",
    "    padding: 1rem;\n",
    "    border-radius: 12px;\n",
    "    display: flex;\n",
    "    flex-direction: column;\n",
    "    flex-wrap: wrap;\n",
    "    height: 28rem;\n",
    "    background-color:#eeeeee;\n",
    "}\n",
    "\n",
    "li{\n",
    "    margin:1rem 0;\n",
    "    text-align: center;\n",
    "    font-size:1.5rem;\n",
    "    border-bottom:1px solid lightgray;\n",
    "    padding-bottom:1rem;\n",
    "}\n",
    "\n",
    "li:last-of-type{\n",
    "    border-bottom: none;\n",
    "}\n",
    "\n",
    "li a{\n",
    "    text-decoration: none;\n",
    "    color:#3e3d3d\n",
    "}\n",
    "\n",
    "li a:hover,\n",
    "li a:active{\n",
    "    color: #800947;\n",
    "}"
   ]
  },
  {
   "cell_type": "markdown",
   "id": "488e73f0-dd22-4e26-803f-cb6c11ace843",
   "metadata": {},
   "source": [
    "Your 'styles.css' file should look something like the following block:"
   ]
  },
  {
   "cell_type": "code",
   "execution_count": null,
   "id": "ee494f99-ef71-4411-abe5-b0aaffe509d6",
   "metadata": {},
   "outputs": [],
   "source": [
    "@import url('https://fonts.googleapis.com/css2?family=Poetsen+One&display=swap');\n",
    "\n",
    "html{\n",
    "    font-family: \"Poetsen One\", sans-serif;\n",
    "    font-weight: 400;\n",
    "    font-style: normal;\n",
    "}\n",
    "\n",
    "body{\n",
    "    margin:0;\n",
    "    background-color:#1a1a1a; \n",
    "}"
   ]
  },
  {
   "cell_type": "markdown",
   "id": "9a232af8-56dd-4381-971f-b19059cacf29",
   "metadata": {},
   "source": [
    "Add an includes folder inside your static folder (inside the app), and then add header.css file to it (we use it to style our header menu).<br>\n",
    "\n",
    "Your 'header.css' file should look something like the following block:"
   ]
  },
  {
   "cell_type": "code",
   "execution_count": null,
   "id": "18443672-d01e-480d-a876-8f78247300a4",
   "metadata": {},
   "outputs": [],
   "source": [
    "header{\n",
    "    width:100%;\n",
    "    height:5rem;\n",
    "    background-color:#545454;\n",
    "}\n",
    "header nav{\n",
    "    width:100%;\n",
    "    height: 100%;\n",
    "    display: flex;\n",
    "    justify-content: center;\n",
    "    align-items: center;\n",
    "}"
   ]
  },
  {
   "cell_type": "markdown",
   "id": "f3c1c920-bf24-4fcd-8dc0-044a6802ef04",
   "metadata": {},
   "source": [
    "Please note that you need to include the header.css file in your desired template (add it to index and exercise).<br>\n",
    "Dont forget to load static.<br><br>\n",
    "Your 'index.html' file should look something like the following block:"
   ]
  },
  {
   "cell_type": "code",
   "execution_count": null,
   "id": "19d0a616-f3ad-420c-84bd-c9f2af02e7b3",
   "metadata": {},
   "outputs": [],
   "source": [
    "{% extends \"base.html\" %}\n",
    "{% load static %}\n",
    "\n",
    "    {% block page_title %}\n",
    "        All Exercises\n",
    "    {% endblock page_title %}\n",
    "\n",
    "    {% block css_files %}\n",
    "        <link rel='stylesheet' type='text/css' href=\"{% static \"Python_Fundamentals/python_fundamentals.css\" %}\" >\n",
    "        <link rel='stylesheet' type='text/css' href=\"{% static \"includes/header.css\" %}\" >\n",
    "    {% endblock css_files %}\n",
    "    \n",
    "    {% block content %}\n",
    "\n",
    "        {% include \"Python_Fundamentals/includes/header.html\" %}\n",
    "        <ul>\n",
    "        {% for key, value in exercises.items %}\n",
    "            {% if value%}\n",
    "                <li><a href='{% url 'py_fun_int' key %}'>{{ value|title }}</a></li>\n",
    "            {% else %}\n",
    "                <li><a href='{% url 'py_fun_int' key %}'>Not implemented</a></li>\n",
    "            {% endif %}\n",
    "        {% endfor %}\n",
    "        </ul>\n",
    "    {% endblock  %}"
   ]
  },
  {
   "cell_type": "markdown",
   "id": "ad9db66b-0367-4183-9958-f436c27f4c3a",
   "metadata": {},
   "source": [
    "Do the same thing for exercise.html file.<br>\n",
    "Also change the second h2 tag to a paragraph tag.<br>\n",
    "Your 'exercise.html' file should look something like the following block:"
   ]
  },
  {
   "cell_type": "code",
   "execution_count": null,
   "id": "de497c1c-52a2-45e3-9f13-f654e3c911bb",
   "metadata": {},
   "outputs": [],
   "source": [
    "{% extends \"base.html\" %}\n",
    "{% load static %}\n",
    "    <title>E-{{ ex_num }}</title>\n",
    "    {% block css_files %}\n",
    "        <link rel='stylesheet' type='text/css' href=\"{% static \"Python_Fundamentals/exercise.css\" %}\" >\n",
    "        <link rel='stylesheet' type='text/css' href=\"{% static \"includes/header.css\" %}\" >\n",
    "    {% endblock css_files %}\n",
    "    {% block content %}\n",
    "\n",
    "        {% include \"Python_Fundamentals/includes/header.html\" %}\n",
    "\n",
    "        <h1>Exercise {{ ex_num }}</h1>\n",
    "        {% if text %}\n",
    "            <h2>{{ text }}</h2>\n",
    "        {% else %}\n",
    "            <p class='fallback'>Not Implemented</p>\n",
    "        {% endif %}\n",
    "    {% endblock content %}"
   ]
  },
  {
   "cell_type": "markdown",
   "id": "3321b48a-b665-4184-be7f-e6b2926d206e",
   "metadata": {},
   "source": [
    "Add a new css file called exercise.css for better styling (next to python_fundamentals.css file).<br>\n",
    "Your 'exercise.css' file should look something like the following block:"
   ]
  },
  {
   "cell_type": "code",
   "execution_count": null,
   "id": "7550667a-7d5a-4aa8-8817-ac2a0ced25dd",
   "metadata": {},
   "outputs": [],
   "source": [
    "h1, h2{\n",
    "    \n",
    "    text-align: center;\n",
    "    color:white;\n",
    "}\n",
    "h1{\n",
    "    font-size: 1.5rem;\n",
    "    margin: 2rem 0 1rem 0;\n",
    "    font-weight: normal;\n",
    "    color: #bd278b;\n",
    "}\n",
    "h2{\n",
    "    font-size: 3rem;\n",
    "    font-weight: bold;\n",
    "}\n",
    "\n",
    ".fallback{\n",
    "    text-align: center;\n",
    "    color:white;\n",
    "}"
   ]
  },
  {
   "cell_type": "markdown",
   "id": "43558aa0-a841-43eb-bf50-7fc8483089a5",
   "metadata": {},
   "source": [
    "### End of Second Chapter."
   ]
  }
 ],
 "metadata": {
  "kernelspec": {
   "display_name": "Python 3 (ipykernel)",
   "language": "python",
   "name": "python3"
  },
  "language_info": {
   "codemirror_mode": {
    "name": "ipython",
    "version": 3
   },
   "file_extension": ".py",
   "mimetype": "text/x-python",
   "name": "python",
   "nbconvert_exporter": "python",
   "pygments_lexer": "ipython3",
   "version": "3.10.11"
  }
 },
 "nbformat": 4,
 "nbformat_minor": 5
}
