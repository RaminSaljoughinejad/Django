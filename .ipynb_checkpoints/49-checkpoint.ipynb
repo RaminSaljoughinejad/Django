{
 "cells": [
  {
   "cell_type": "markdown",
   "id": "17824e20-bc54-4d99-b320-7bd2cacc5191",
   "metadata": {},
   "source": [
    "### Meta Classes in Django: Configuring Your Data Model\n",
    "\n",
    "When it comes to customizing the behavior of your data model in Django, Meta classes come to the rescue. These classes allow you to define metadata for your models, providing a powerful means to tailor their behavior to suit your application's needs.\n",
    "\n",
    "To define a Meta class for your Django model, simply include it within the model's class definition, like so:"
   ]
  },
  {
   "cell_type": "code",
   "execution_count": null,
   "id": "c9561a03-f270-4d90-8d28-6c8b506c8e9b",
   "metadata": {},
   "outputs": [],
   "source": [
    "class YourModelName(models.Model):\n",
    "    # Your model fields here\n",
    "\n",
    "    class Meta:\n",
    "        # Meta options go here"
   ]
  },
  {
   "cell_type": "markdown",
   "id": "bb67ac6f-3a40-4b83-9fe3-3c147f862c40",
   "metadata": {},
   "source": [
    "Within the Meta class, you can specify various options that dictate how Django should handle your model. Some common options include:\n",
    "\n",
    "- ordering: Controls the default ordering of objects returned by queries.\n",
    "- verbose_name and verbose_name_plural: Provide human-readable names for the model in singular and plural forms, respectively.\n",
    "- db_table: Specifies the database table name for the model.\n",
    "- unique_together: Defines constraints that require combinations of fields to be unique.\n",
    "- indexes and unique_together: Control the indexing and uniqueness constraints for database-level optimizations."
   ]
  },
  {
   "cell_type": "markdown",
   "id": "948961a1-f419-4576-817a-9533db793034",
   "metadata": {},
   "source": [
    "Lets explore one of them:\n",
    "\n",
    "1- Go to 127.0.0.1:8000/admin/<br>\n",
    "2- look at the tables names, they should be like the following image:<br><br>\n",
    "<img src=\"images/9-meta1.png\" width='300px'>"
   ]
  },
  {
   "cell_type": "markdown",
   "id": "a3b4cf07-29c3-4f07-af21-5100f309b512",
   "metadata": {},
   "source": [
    "As you may have noticed, Django has added an 's' to he end of our tables! Now I want to change it, and show a proper name.<br>\n",
    "3- Navigate to you models.py file and inside your Address class, create a new class called Meta.<br>\n",
    "4- Define an attribute called verbose_name_plural and set it to \"Address Entries\".<br>\n",
    "5- Save eveything and relog the admin page.<br><br>\n",
    "<img src='images/10-meta2.png' width='300px' >"
   ]
  },
  {
   "cell_type": "markdown",
   "id": "97909738-3705-43ba-9a8d-21c2e3f89055",
   "metadata": {},
   "source": [
    "Your Address class should look like the following block:"
   ]
  },
  {
   "cell_type": "code",
   "execution_count": null,
   "id": "c5752426-a927-45d0-8493-8e204b2a7c04",
   "metadata": {},
   "outputs": [],
   "source": [
    "class Address(models.Model):\n",
    "    street = models.CharField(max_length=80)\n",
    "    postal_code = models.CharField(max_length=12)\n",
    "    city = models.CharField(max_length=50)\n",
    "\n",
    "    def full_address(self):\n",
    "        return f\"Street: {self.street}, Postal Code: {self.postal_code}, City: {self.city}\"\n",
    "\n",
    "    def __str__(self):\n",
    "        return self.full_address()\n",
    "    \n",
    "    class Meta:\n",
    "        verbose_name_plural = 'Address Entries'"
   ]
  },
  {
   "cell_type": "markdown",
   "id": "d6e6a016-fd1e-444b-a988-cb2acdaca2d8",
   "metadata": {},
   "source": [
    "In the next notebook you will learn a bout Many-to-Many relationships:"
   ]
  }
 ],
 "metadata": {
  "kernelspec": {
   "display_name": "Python 3 (ipykernel)",
   "language": "python",
   "name": "python3"
  },
  "language_info": {
   "codemirror_mode": {
    "name": "ipython",
    "version": 3
   },
   "file_extension": ".py",
   "mimetype": "text/x-python",
   "name": "python",
   "nbconvert_exporter": "python",
   "pygments_lexer": "ipython3",
   "version": "3.10.11"
  }
 },
 "nbformat": 4,
 "nbformat_minor": 5
}
