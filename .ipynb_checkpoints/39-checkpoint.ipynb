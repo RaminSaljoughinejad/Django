{
 "cells": [
  {
   "cell_type": "markdown",
   "id": "cf80d538-27c7-4265-8158-4393b0b5f85f",
   "metadata": {},
   "source": [
    "### More Into Performance:\n",
    "\n",
    "We've utilized the slug attribute to pinpoint and retrieve objects (rows) from our database.<br>\n",
    "\n",
    "Now, if you're well-versed in database management systems (DBMSs), you might be inclined to point out an issue here – and rightfully so!<br>\n",
    "\n",
    "Before diving into the solution, let's clarify for those who might be perplexed at this juncture and wondering why the alarms are sounding.<br>\n",
    "\n",
    "Searching within a database can be a resource-intensive task, and thus, it's imperative to optimize our queries whenever possible.<br>\n",
    "\n",
    "For the initiated in DBMSs, the notion of querying a non-primary key column, such as the slug column in our case, likely triggers concerns. It's a known fact that querying non-primary key columns can be less efficient and more time-consuming compared to primary key columns.<br>\n",
    "\n",
    "This is where the outcry stems from – a cautionary reminder to steer clear of such practices!<br>\n",
    "\n",
    "So, what's the remedy? Resorting back to the id column, our primary key? Not quite!<br>\n",
    "\n",
    "Instead, there are optimization strategies at our disposal, and I'm eager to shed light on one particularly prevalent approach.<br>\n",
    "\n",
    "Observing that each object (row) possesses a unique value for the slug attribute, we can leverage this uniqueness by transforming the slug field into an indexed field. Essentially, this entails treating the field akin to a primary key (though it isn't one), thereby bolstering the performance of queries targeting this specific column.<br>\n",
    "\n",
    "It's crucial to grasp that the decision to designate the slug attribute as an index field hinges solely on its unique value proposition. Without this uniqueness, such optimization wouldn't be feasible.<br>\n",
    "\n",
    "To transform the slug field into an indexed field, navigate to models.py and add a db_index=True argument to the SlugField definition. This instructs Django to create an index for the slug column in the corresponding database table.<br>\n",
    "Here's how you can do it:"
   ]
  },
  {
   "cell_type": "code",
   "execution_count": null,
   "id": "aa4c8d0e-7512-4a87-af87-8db92e3c81eb",
   "metadata": {},
   "outputs": [],
   "source": [
    "slug = models.SlugField(default='', null=False, db_index=True)"
   ]
  },
  {
   "cell_type": "markdown",
   "id": "1073fcf9-f923-456b-874a-c3516168a3c2",
   "metadata": {},
   "source": [
    "Now that we've implemented the necessary changes, let's delve into a clarification.<br>\n",
    "\n",
    "As mentioned earlier, designating a field as an indexed field enhances search performance on it. You might wonder, then, why not simply mark every field as an index field? The answer lies in the process itself – turning a field into an indexed field is a time-consuming operation. In fact, every time a new row is added to the table, the database must update the index, which can lead to increased overhead and potentially slow down insertion operations.<br>\n",
    "\n",
    "By selectively choosing which fields to index, we strike a balance between search performance and the overhead incurred during data insertion. Typically, fields that are frequently used in search queries or require fast retrieval benefit the most from being indexed. This strategic approach optimizes the database's performance without unnecessarily burdening it with excessive indexing operations.<br>\n",
    "\n",
    "Thus, while indexing is a powerful tool for optimizing database performance, it's essential to apply it judiciously, considering the specific requirements and usage patterns of your application.<br>"
   ]
  },
  {
   "cell_type": "markdown",
   "id": "02eed035-ead0-4080-a999-5eb7a22b1a50",
   "metadata": {},
   "source": [
    "In the next notebook, we'll delve into the topic of aggregation. Aggregation is a fundamental concept in data analysis and database management, allowing us to summarize and analyze large datasets efficiently."
   ]
  }
 ],
 "metadata": {
  "kernelspec": {
   "display_name": "Python 3 (ipykernel)",
   "language": "python",
   "name": "python3"
  },
  "language_info": {
   "codemirror_mode": {
    "name": "ipython",
    "version": 3
   },
   "file_extension": ".py",
   "mimetype": "text/x-python",
   "name": "python",
   "nbconvert_exporter": "python",
   "pygments_lexer": "ipython3",
   "version": "3.10.11"
  }
 },
 "nbformat": 4,
 "nbformat_minor": 5
}
