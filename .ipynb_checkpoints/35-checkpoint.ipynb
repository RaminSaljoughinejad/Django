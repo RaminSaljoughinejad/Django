{
 "cells": [
  {
   "cell_type": "markdown",
   "id": "9c7c2a07-ebaa-417d-940b-3e115e148876",
   "metadata": {},
   "source": [
    "### Performance Always Matters!\n",
    "\n",
    "Understanding how Django's ORM (Object-Relational Mapping) operates is crucial, as certain operations interact with the database immediately, while others require explicit actions.\n",
    "\n",
    "For instance, creating a new database row, akin to instantiating an object, doesn't directly affect the database. Instead, it waits until you explicitly save it.\n",
    "\n",
    "Similarly, when you formulate a query, such as filtering rows based on certain criteria, like in the example below:"
   ]
  },
  {
   "cell_type": "code",
   "execution_count": null,
   "id": "a88e1694-f205-45f5-87c4-9d72e8d4dede",
   "metadata": {},
   "outputs": [],
   "source": [
    "bestsellers = Movie.objects.filter(is_bestselling=True)"
   ]
  },
  {
   "cell_type": "markdown",
   "id": "1ed9dbb3-a9dc-442d-8d25-44c7dde4f246",
   "metadata": {},
   "source": [
    "the query doesn't instantaneously reach the database. At this stage, only the query structure is defined, stored in the variable bestsellers, with no interaction with the database yet. Essentially, the database remains untouched, and the query results are unavailable.\n",
    "\n",
    "The query execution occurs when you try to access or manipulate the query results. For instance, invoking:"
   ]
  },
  {
   "cell_type": "code",
   "execution_count": null,
   "id": "d0cedd01-cb5a-4ea1-bd06-5b06315e59e2",
   "metadata": {},
   "outputs": [],
   "source": [
    "print(bestsellers)"
   ]
  },
  {
   "cell_type": "markdown",
   "id": "6ea83d44-b15b-4739-bc36-fc932e592f98",
   "metadata": {},
   "source": [
    "triggers the query to be sent to the database, fetching the relevant data.\n",
    "\n",
    "So, how does this relate to performance?\n",
    "\n",
    "Consider these two scenarios:\n",
    "\n",
    "1- Storing the query results in a variable:v"
   ]
  },
  {
   "cell_type": "code",
   "execution_count": null,
   "id": "1ebac02a-9816-40af-8d22-c40688ec9a3c",
   "metadata": {},
   "outputs": [],
   "source": [
    "bestsellers = Movie.objects.filter(is_bestselling=True)"
   ]
  },
  {
   "cell_type": "markdown",
   "id": "b9d4b7ba-584e-45e3-a8fd-41498b415bd2",
   "metadata": {},
   "source": [
    "Directly printing the query results:"
   ]
  },
  {
   "cell_type": "code",
   "execution_count": null,
   "id": "5fcaec68-fc1d-45b9-8b3a-0d5ff818c3b2",
   "metadata": {},
   "outputs": [],
   "source": [
    "print(Movie.objects.filter(is_bestselling=True))"
   ]
  },
  {
   "cell_type": "markdown",
   "id": "b2208733-743b-401b-9685-009db519f1d3",
   "metadata": {},
   "source": [
    "Both yield the same results, yet there's a significant distinction. Storing the results in the bestsellers variable enables subsequent reuse without re-executing the query, thus enhancing performance. Conversely, directly invoking the query each time, as in the second scenario, leads to repeated database hits, potentially impacting performance.\n",
    "\n",
    "In essence, caching the query results in a variable fosters efficiency by avoiding redundant database interactions and promoting reuse of fetched data."
   ]
  },
  {
   "cell_type": "markdown",
   "id": "6236b630-5c25-4f58-9c22-f85a135125de",
   "metadata": {},
   "source": [
    "### In next notebook we get back to our project and stop using shell."
   ]
  }
 ],
 "metadata": {
  "kernelspec": {
   "display_name": "Python 3 (ipykernel)",
   "language": "python",
   "name": "python3"
  },
  "language_info": {
   "codemirror_mode": {
    "name": "ipython",
    "version": 3
   },
   "file_extension": ".py",
   "mimetype": "text/x-python",
   "name": "python",
   "nbconvert_exporter": "python",
   "pygments_lexer": "ipython3",
   "version": "3.10.11"
  }
 },
 "nbformat": 4,
 "nbformat_minor": 5
}
