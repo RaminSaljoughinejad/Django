{
 "cells": [
  {
   "cell_type": "markdown",
   "id": "f2534de7-b7ee-441d-a76e-0fdd6972e066",
   "metadata": {},
   "source": [
    "### More into commands:\n",
    "\n",
    "1- Add a few new addresses into the Adress data-model (same number as the actors).\n",
    "2- Update the existing actors and give an address to each of them.\n",
    "3- Iterate through the actors and make sure everything is working.\n",
    "\n",
    "commands you need to use:"
   ]
  },
  {
   "cell_type": "code",
   "execution_count": null,
   "id": "c6d818a7-23cd-46c0-9b44-72d572000f48",
   "metadata": {},
   "outputs": [],
   "source": [
    "from video_outlet.models import Movie, Actor, Address\n",
    "\n",
    "ad1 = Address(street='Boostan 8', postal_code='7619688449',city='Kerman')\n",
    "ad1.save()\n",
    "ad2 = Address(street='Toos', postal_code='8524967512',city='Shiraz')\n",
    "ad2.save()\n",
    "ad3 = Address(street='Fereshteh', postal_code='2364975812',city='Tehran')\n",
    "ad3.save()\n",
    "ad4 = Address(street='Orkideh', postal_code='6497823514',city='Karaj')\n",
    "ad4.save()\n",
    "ad5 = Address(street='Kaj', postal_code='9517536482',city='Semnan')\n",
    "ad5.save()\n",
    "\n",
    "ac0 = Actor.objects.get(first_name=\"Daniel\")\n",
    "ac0.address = ad1\n",
    "ac0save()\n",
    "\n",
    "ac1 = Actor.objects.get(first_name=\"Emma\")\n",
    "ac1.address = ad2\n",
    "ac1.save()\n",
    "\n",
    "ac2 = Actor.objects.get(first_name=\"Sacha\")\n",
    "ac2.address = ad3\n",
    "ac2.save()\n",
    "\n",
    "ac3 = Actor.objects.get(first_name=\"Anna\")\n",
    "ac3.address = ad4\n",
    "ac3.save()\n",
    "\n",
    "ac4 = Actor.objects.get(first_name=\"Jennifer\")\n",
    "ac4.address = ad5\n",
    "ac4.save()"
   ]
  },
  {
   "cell_type": "markdown",
   "id": "ae766e3e-94a8-4594-8780-b9b1c3b4e7b2",
   "metadata": {},
   "source": [
    "4- Update the admin.py file so that you can see the Address data-model on the admin page."
   ]
  },
  {
   "cell_type": "code",
   "execution_count": null,
   "id": "f9440686-1ee7-4fdf-8167-52f5a9a3215c",
   "metadata": {},
   "outputs": [],
   "source": [
    "from django.contrib import admin\n",
    "from .models import Movie, Actor, Address\n",
    "\n",
    "class AddressAdmin(admin.ModelAdmin):\n",
    "    list_display = ['street', 'postal_code', 'city']\n",
    "\n",
    "class ActorAdmin(admin.ModelAdmin):\n",
    "    list_display = ['first_name', 'last_name']\n",
    "\n",
    "class MovieAdmin(admin.ModelAdmin):\n",
    "    prepopulated_fields = {'slug':('title',)}\n",
    "    list_filter = ('rating', 'is_bestselling')\n",
    "    list_display = ['title', 'main_act']\n",
    "\n",
    "admin.site.register(Movie, MovieAdmin)\n",
    "admin.site.register(Actor, ActorAdmin)\n",
    "admin.site.register(Address, AddressAdmin)"
   ]
  },
  {
   "cell_type": "markdown",
   "id": "b0818ee9-0c15-4b6a-805e-eba0ec0b1359",
   "metadata": {},
   "source": [
    "5- Navigate to models.py file and redefine the str magical method for the Address class."
   ]
  },
  {
   "cell_type": "code",
   "execution_count": null,
   "id": "60fafd0d-7ebd-4a2a-9c4b-3bfa45ade7fb",
   "metadata": {},
   "outputs": [],
   "source": [
    "class Address(models.Model):\n",
    "    street = models.CharField(max_length=80)\n",
    "    postal_code = models.CharField(max_length=12)\n",
    "    city = models.CharField(max_length=50)\n",
    "\n",
    "    def full_address(self):\n",
    "        return f\"Street: {self.street}, Postal Code: {self.postal_code}, City: {self.city}\"\n",
    "\n",
    "    def __str__(self):\n",
    "        return self.full_address()"
   ]
  },
  {
   "cell_type": "markdown",
   "id": "9b86bddb-7168-457f-8e8f-b8c1e75c18f9",
   "metadata": {},
   "source": [
    "6- Also update the ActorAdmin class to display address on the admin page:"
   ]
  },
  {
   "cell_type": "code",
   "execution_count": null,
   "id": "7ce1f823-57e0-41e2-a8ba-61e23d0bbadb",
   "metadata": {},
   "outputs": [],
   "source": [
    "class ActorAdmin(admin.ModelAdmin):\n",
    "    list_display = ['first_name', 'last_name', 'address']"
   ]
  },
  {
   "cell_type": "markdown",
   "id": "56a92c6d-5f0c-484e-a00a-a96cb5a9da43",
   "metadata": {},
   "source": [
    "In the next vide you will learn how to configure the bahviour of your data-models."
   ]
  }
 ],
 "metadata": {
  "kernelspec": {
   "display_name": "Python 3 (ipykernel)",
   "language": "python",
   "name": "python3"
  },
  "language_info": {
   "codemirror_mode": {
    "name": "ipython",
    "version": 3
   },
   "file_extension": ".py",
   "mimetype": "text/x-python",
   "name": "python",
   "nbconvert_exporter": "python",
   "pygments_lexer": "ipython3",
   "version": "3.10.11"
  }
 },
 "nbformat": 4,
 "nbformat_minor": 5
}
