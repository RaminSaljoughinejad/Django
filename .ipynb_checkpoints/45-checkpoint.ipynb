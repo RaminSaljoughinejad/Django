{
 "cells": [
  {
   "cell_type": "markdown",
   "id": "4569916c-fb79-460a-b771-c4d46b6a1c8a",
   "metadata": {},
   "source": [
    "### Query by Relations:\n",
    "\n",
    "\n",
    "lets say that I want to find all the movies where the main actors last name is 'Radcliffe'."
   ]
  },
  {
   "cell_type": "code",
   "execution_count": null,
   "id": "464536bd-2a88-4fea-b927-41dd17b446ca",
   "metadata": {},
   "outputs": [],
   "source": [
    "movies_by_radcliffe = Movie.objects.filter(main_act__last_name='Radcliffe')\n",
    "for movie in movies_by_radcliffe:\n",
    "    print(movie)"
   ]
  },
  {
   "cell_type": "code",
   "execution_count": null,
   "id": "fc31b3ea-ae5b-4a5f-ad1d-acdfde519ac9",
   "metadata": {},
   "outputs": [],
   "source": [
    "title:Harry Potter and The Philosopher's Stone, rating:6, Main Actor/actress:Actor object (1), Best Seller"
   ]
  },
  {
   "cell_type": "markdown",
   "id": "9c91ed82-0470-4a04-adf7-5c49b020eb63",
   "metadata": {},
   "source": [
    "As you see this works exactly like using modifier!<br>\n",
    "Please understand that you can extend the modifiers too. for example you could use the contains modifier on the relation query too:"
   ]
  },
  {
   "cell_type": "code",
   "execution_count": null,
   "id": "56ef6454-dd64-48d3-9cca-33ace63856ca",
   "metadata": {},
   "outputs": [],
   "source": [
    "movies_by_radcliffe = Movie.objects.filter(main_act__last_name__icontains='Radcliffe')"
   ]
  },
  {
   "cell_type": "markdown",
   "id": "9ff8b5b3-3326-4223-8680-3dcfa413ab77",
   "metadata": {},
   "source": [
    "In the case you are confused, I just added icontains modifier using __ to the main_act__last_name"
   ]
  },
  {
   "cell_type": "markdown",
   "id": "af97f04c-6c63-4771-95f9-f87f593b3945",
   "metadata": {},
   "source": [
    "You might ask a very intresting question here!<br>\n",
    "Could we do what just achieved in the reverse format? I mean could we select all the movies where their main_act last name is 'Radcliffe'?<br> \n",
    "\n",
    "Yes we could. Here is the code:"
   ]
  },
  {
   "cell_type": "code",
   "execution_count": null,
   "id": "5a784c1f-048c-43dc-90ea-de79f11ef53f",
   "metadata": {},
   "outputs": [],
   "source": [
    "radcliffe = Actor.objects.get(last_name='Radcliffe')\n",
    "radcliffe.movie_set"
   ]
  },
  {
   "cell_type": "code",
   "execution_count": null,
   "id": "107dd2aa-619d-4196-bfa0-2886d0c45334",
   "metadata": {},
   "outputs": [],
   "source": [
    "<django.db.models.fields.related_descriptors.create_reverse_many_to_one_manager.<locals>.RelatedManager at 0x25f41281c30>"
   ]
  },
  {
   "cell_type": "markdown",
   "id": "2a5cfe0e-d286-48f3-af4b-edcc33165498",
   "metadata": {},
   "source": [
    "If you want to query through all the movie_set, you can use the following:"
   ]
  },
  {
   "cell_type": "code",
   "execution_count": null,
   "id": "a56a67f8-9863-4744-8a1a-09478ed0529c",
   "metadata": {},
   "outputs": [],
   "source": [
    "radcliffe.movie_set.all()"
   ]
  },
  {
   "cell_type": "markdown",
   "id": "c5670584-83d0-4f89-ab0b-236ae6e8944a",
   "metadata": {},
   "source": [
    "or"
   ]
  },
  {
   "cell_type": "code",
   "execution_count": null,
   "id": "ee52f71f-cb42-4ac0-ac77-ce4c2236401e",
   "metadata": {},
   "outputs": [],
   "source": [
    "for movie in radcliffe.movie_set.all():\n",
    "    print(movie)"
   ]
  },
  {
   "cell_type": "code",
   "execution_count": null,
   "id": "f47aee1a-2112-406e-b164-985dd7fe6da9",
   "metadata": {},
   "outputs": [],
   "source": [
    "title:Harry Potter and The Philosopher's Stone, rating:6, Main Actor/actress:Actor object (1), Best Seller"
   ]
  },
  {
   "cell_type": "markdown",
   "id": "f06c95bb-4a72-473f-9242-8c16d5299942",
   "metadata": {},
   "source": [
    "Please undertsand that movie_set is created by django automatically, and the syntax is the same for all data-models. You just start with the name of the data-model (all-lowercase) and add '_set' to it.<br>"
   ]
  },
  {
   "cell_type": "markdown",
   "id": "0b827d02-f65d-49f7-9cd0-c0560ba9e2db",
   "metadata": {},
   "source": [
    "One thing to note is that you can also change the name of this relation, so you wont need to use '[modelname]_set'.<br>\n",
    "To do that you need to navigate to your models.py file and add a new argument to the foreignKey field called related_name and set it to a new name(string).<br>\n",
    "\n",
    "So, if want to change the relation name of my foreignkey to 'movies', I should add the following:"
   ]
  },
  {
   "cell_type": "code",
   "execution_count": null,
   "id": "5b6b4316-026a-462d-8926-90a099d694bc",
   "metadata": {},
   "outputs": [],
   "source": [
    "main_act= models.ForeignKey(Actor, models.CASCADE, null=True, related_name='movies')"
   ]
  },
  {
   "cell_type": "markdown",
   "id": "4d73b1e6-1feb-4dec-9219-0779285c5ca8",
   "metadata": {},
   "source": [
    "Please undertand that you have just changed the schema of your table! Hence you need to makemigrations and then migrate before you could run the following query:"
   ]
  },
  {
   "cell_type": "code",
   "execution_count": null,
   "id": "25a980a3-6d40-42d1-b49c-2679e82e097a",
   "metadata": {},
   "outputs": [],
   "source": [
    " radcliffe = Actor.objects.get(last_name='Radcliffe')\n",
    "\n",
    "for movie in radcliffe.movies.all():\n",
    "    print(movie)"
   ]
  },
  {
   "cell_type": "markdown",
   "id": "8f4b2f34-0bbe-42c7-96c7-8c819aa903e8",
   "metadata": {},
   "source": [
    "title:Harry Potter and The Philosopher's Stone, rating:6, Main Actor/actress:Actor object (1), Best Seller"
   ]
  },
  {
   "cell_type": "markdown",
   "id": "2dff9ed7-18c4-4b47-b983-3f9f51298eb1",
   "metadata": {},
   "source": [
    "In the next notebook we will use what we have learned in our project."
   ]
  }
 ],
 "metadata": {
  "kernelspec": {
   "display_name": "Python 3 (ipykernel)",
   "language": "python",
   "name": "python3"
  },
  "language_info": {
   "codemirror_mode": {
    "name": "ipython",
    "version": 3
   },
   "file_extension": ".py",
   "mimetype": "text/x-python",
   "name": "python",
   "nbconvert_exporter": "python",
   "pygments_lexer": "ipython3",
   "version": "3.10.11"
  }
 },
 "nbformat": 4,
 "nbformat_minor": 5
}
