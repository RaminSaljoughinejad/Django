{
 "cells": [
  {
   "cell_type": "markdown",
   "id": "bace0616-3e6a-42a2-a357-86d64e209990",
   "metadata": {},
   "source": [
    "### Nice, More Search-Engine-Friendly URLs"
   ]
  },
  {
   "cell_type": "markdown",
   "id": "49ae8ac3-9a45-4f2e-a66a-33b73f7558eb",
   "metadata": {},
   "source": [
    "Do you remember the slug concept?\n",
    "\n",
    "The URLs that we are using at the moment for accessing detail pages is very simple (just an integer index).<br>\n",
    "Wouldn't it be more friendly if we use some thing like: '/harry-potter-3' ?<br>\n",
    "\n",
    "Well, it is. But how can we convert our integer into this slug type?<br>\n",
    "\n",
    "Look, we do not neccassarly need to convert our id, infact having the id identifier might later come handy.<br>\n",
    "What can we do then?<br>\n",
    "We can create a new attribute inside our class and name it slug. Then we can easily equal it to models.SlugField()<br>\n",
    "This a builtin method that Django created for handeling slug type.<br >\n",
    "This method insures that what ever we pass to it has the slug format<br>\n",
    "For if you pass 'harry-potter-1' it accepts it, and if you pass 'harry potter 1', then it won't.<br>\n",
    "\n",
    "But how can use this?\n",
    "It is better to store this new slug field created and stored in database for every movie that we add to our database.<br>\n",
    "\n",
    "1- import slugify from django.utils.text, this method turns a text into a slug format.\n",
    "\n",
    "2- Add the slug attribute to Movie class and give it the default value of an empty string, also make sure that you set False for null, so that we do not store null for any rows.\n",
    "\n",
    "3- Overide the save method (this method has two fixed arguments: *args, **kwargs):<br>\n",
    "- set the slug field to slugify() and pass the title to it\n",
    "- Please understand that you need to call super().save(*args, **kwargs) method so that it still does what it ment to do.\n",
    "\n",
    "\n",
    "You models.py should look like the following:"
   ]
  },
  {
   "cell_type": "code",
   "execution_count": null,
   "id": "84033282-7e6b-4444-99d6-ce5d8ccc8e80",
   "metadata": {},
   "outputs": [],
   "source": [
    "from django.db import models\n",
    "from django.core.validators import MinValueValidator, MaxValueValidator\n",
    "from django.urls import reverse\n",
    "from django.utils.text import slugify\n",
    "\n",
    "\n",
    "class Movie(models.Model):\n",
    "    title = models.CharField(max_length=50)\n",
    "    rating = models.IntegerField(validators=[MinValueValidator(1), MaxValueValidator(10)])\n",
    "    main_act= models.CharField(null=True, max_length=100)\n",
    "    is_bestselling = models.BooleanField(default=False)\n",
    "    slug = models.SlugField(default='', null=False)\n",
    "\n",
    "    def get_absolute_url(self):\n",
    "        return reverse(\"movie_detail_url\", args=[self.id])\n",
    "\n",
    "    def save(self, *args, **kwargs):\n",
    "        self.slug = slugify(self.title)\n",
    "        super().save(*args, **kwargs)\n",
    "\n",
    "    def __str__(self):\n",
    "        return f\"title:{self.title}, rating:{self.rating}, Main Actor/actress:{self.main_act}{', Best Seller' if self.is_bestselling else ''}\""
   ]
  },
  {
   "cell_type": "markdown",
   "id": "c0b3312a-1248-46e1-a7e0-79fa69f2cf90",
   "metadata": {},
   "source": [
    "Now, Save everything, stop the development server, and use the makemigrations command and then migrate.\n",
    "\n",
    "Now if a new movie gets added to the database it will automatically have the slug field filled with the slug string.<br>\n",
    "There is one problem though, we need to save the already existing rows manually to have the slug field populated for them.<br>\n",
    "\n",
    "1- Enter shell<br>\n",
    "2- Import Movie<br>\n",
    "3- Create an object from the movie table, iterate through it and save every row manually.<br>\n",
    "\n",
    "You need to use the following code:"
   ]
  },
  {
   "cell_type": "code",
   "execution_count": null,
   "id": "abebb91a-7db5-44f7-b6c7-8b9891b3a0c2",
   "metadata": {},
   "outputs": [],
   "source": [
    "In [0]: from video_outlet.models import Movie\n",
    "\n",
    "In [2]: movies = Movie.objects.all()\n",
    "\n",
    "In [3]: for movie in movies:\n",
    "   ...:     movie.save()"
   ]
  },
  {
   "cell_type": "markdown",
   "id": "7054eef1-60c6-49bb-a412-e485150a934c",
   "metadata": {},
   "source": [
    "Now if you use the following lines of code you we see that the slug attributed is populated."
   ]
  },
  {
   "cell_type": "code",
   "execution_count": null,
   "id": "19225de5-6973-4d60-8b25-8526ec2e15a5",
   "metadata": {},
   "outputs": [],
   "source": [
    "movies = Movie.objects.all()\n",
    "for movie in movies:\n",
    "    print(movie.slug)"
   ]
  },
  {
   "cell_type": "code",
   "execution_count": null,
   "id": "bd5b3845-8aad-4cf6-86ab-95053ba0cd72",
   "metadata": {},
   "outputs": [],
   "source": [
    "harry-potter-1-the-philosophers-ston\n",
    "harry-potter-2-chamber-of-secrets\n",
    "harry-potter-3-the-prisoner-of-azkaban\n",
    "harry-potter-4-the-goblet-of-fire\n",
    "harry-potter-5-the-order-of-the-phoenix\n",
    "harry-potter-6-the-half-blood-prince\n",
    "the-girl-next-door\n",
    "the-proposal\n",
    "the-back-up-plan\n",
    "the-dictator"
   ]
  },
  {
   "cell_type": "markdown",
   "id": "ddd4b4c1-092f-46a1-ac39-f4ac42590483",
   "metadata": {},
   "source": [
    "So far we created the slug text, now we need to use it for the url<br>\n",
    "\n"
   ]
  },
  {
   "cell_type": "markdown",
   "id": "6a9de03f-e1ab-4645-b385-dbc2aef51f9a",
   "metadata": {},
   "source": [
    "1- First, you need to update urls.py. <br>\n",
    "You are no longer getthing an id! you are getting an slug, so go ahead and fix that part of the url path.<br>"
   ]
  },
  {
   "cell_type": "code",
   "execution_count": null,
   "id": "3fb4fe5a-438a-4c58-90aa-18e47fb9ef96",
   "metadata": {},
   "outputs": [],
   "source": [
    "path('<slug:slug>', views.movie_details, name='movie_detail_url')"
   ]
  },
  {
   "cell_type": "markdown",
   "id": "18d99573-c0b3-43aa-b305-84d86a92ae91",
   "metadata": {},
   "source": [
    "2- Navigate to views.py and also update the name of the view function agrument from movie_id to slug.<br>"
   ]
  },
  {
   "cell_type": "code",
   "execution_count": null,
   "id": "96f4fceb-ad32-4c4b-8ed2-314fc864dcd5",
   "metadata": {},
   "outputs": [],
   "source": [
    "def movie_details(request, slug):"
   ]
  },
  {
   "cell_type": "markdown",
   "id": "9f41310f-9ebc-4636-95f5-3f486c3b1758",
   "metadata": {},
   "source": [
    "3- You should also update the get_object_or_404 method, because you are no longer selecting a row with its id, instead you need to select the row (object) which has the slug attribute equals to slug argument.<br>"
   ]
  },
  {
   "cell_type": "code",
   "execution_count": null,
   "id": "7a9c7574-2731-4d85-9f7b-acaba2f832cf",
   "metadata": {},
   "outputs": [],
   "source": [
    "res = get_object_or_404(Movie, slug=slug)"
   ]
  },
  {
   "cell_type": "markdown",
   "id": "d700af24-c88b-493f-9fe5-1c39aa9a4127",
   "metadata": {},
   "source": [
    "4- Now, you need to update the get_absolute_url method inside your models.py<br>\n",
    "This method used to work with the id, and now needs to be updated to use the slug attribute."
   ]
  },
  {
   "cell_type": "code",
   "execution_count": null,
   "id": "cf21467e-35a9-470a-827b-dc59fa77812f",
   "metadata": {},
   "outputs": [],
   "source": [
    "def get_absolute_url(self):\n",
    "        return reverse(\"movie_detail_url\", args=[self.slug])"
   ]
  },
  {
   "cell_type": "markdown",
   "id": "bd3bcbcc-dbd5-4dc0-8ffb-4d97a1593a93",
   "metadata": {},
   "source": [
    "Now, if you save everything and check the browser, you will see that the nice-looking, search-engine-friendly urls are working.<br>"
   ]
  }
 ],
 "metadata": {
  "kernelspec": {
   "display_name": "Python 3 (ipykernel)",
   "language": "python",
   "name": "python3"
  },
  "language_info": {
   "codemirror_mode": {
    "name": "ipython",
    "version": 3
   },
   "file_extension": ".py",
   "mimetype": "text/x-python",
   "name": "python",
   "nbconvert_exporter": "python",
   "pygments_lexer": "ipython3",
   "version": "3.10.11"
  }
 },
 "nbformat": 4,
 "nbformat_minor": 5
}
