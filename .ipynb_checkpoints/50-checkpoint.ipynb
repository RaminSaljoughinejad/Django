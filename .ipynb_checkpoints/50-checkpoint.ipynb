{
 "cells": [
  {
   "cell_type": "markdown",
   "id": "d55a1f46-b315-4927-b67a-998bbae14ef1",
   "metadata": {},
   "source": [
    "### Many-to-Many Relations:\n",
    "\n",
    "Lets use what have already. It is logical to say that that a movie could be translated to many laguages, and also there could be many movies in a single language.<br>\n",
    "lets create this relation...<br>\n",
    "\n",
    "1- Create a new data-model called Language which has only one attribute called name which has the CharField type with max length of 50.<br>\n",
    "2- Redefine its str method.<br>\n",
    "3- Create the neccesary class and methods in the admin.py file so that we can later manage it inside the adminstrative section.<br>\n",
    "\n",
    "### Now, lets add the relation...\n",
    "\n",
    "- Inside your Movie class, define a new attribute called translated_to and set it to models.ManyToManyField() and pass it the name of the model we created earlier.<br>\n",
    "An important thing to mention here is that, with Many-to-Many relations, you can not set an on_delete behavior, the reason I think is obvious.\n",
    "\n",
    "Your models.py file should look like the following block:"
   ]
  },
  {
   "cell_type": "code",
   "execution_count": null,
   "id": "fe16f819-c693-4a45-b81c-307dd0db55f1",
   "metadata": {},
   "outputs": [],
   "source": [
    "from django.db import models\n",
    "from django.core.validators import MinValueValidator, MaxValueValidator\n",
    "from django.urls import reverse\n",
    "from django.utils.text import slugify\n",
    "\n",
    "\n",
    "class Language(models.Model):\n",
    "    name = models.CharField(max_length=50)\n",
    "\n",
    "    def __str__(self):\n",
    "        return self.name\n",
    "\n",
    "\n",
    "class Address(models.Model):\n",
    "    street = models.CharField(max_length=80)\n",
    "    postal_code = models.CharField(max_length=12)\n",
    "    city = models.CharField(max_length=50)\n",
    "\n",
    "    def full_address(self):\n",
    "        return f\"Street: {self.street}, Postal Code: {self.postal_code}, City: {self.city}\"\n",
    "\n",
    "    def __str__(self):\n",
    "        return self.full_address()\n",
    "    \n",
    "    class Meta:\n",
    "        verbose_name_plural = 'Address Entries'\n",
    "\n",
    "\n",
    "class Actor(models.Model):\n",
    "    first_name = models.CharField(max_length=100)\n",
    "    last_name  = models.CharField(max_length=100)\n",
    "    address = models.OneToOneField(Address, on_delete=models.CASCADE, null=True)\n",
    "\n",
    "    def full_name(self):\n",
    "        return f\"{self.first_name} {self.last_name}\"\n",
    "    \n",
    "    def __str__(self):\n",
    "        return self.full_name()\n",
    "\n",
    "class Movie(models.Model):\n",
    "    title = models.CharField(max_length=50)\n",
    "    rating = models.IntegerField(validators=[MinValueValidator(1), MaxValueValidator(10)])\n",
    "    main_act= models.ForeignKey(Actor, on_delete=models.CASCADE, null=True, related_name='movies')\n",
    "    is_bestselling = models.BooleanField(default=False)\n",
    "    slug = models.SlugField(default='', null=False, db_index=True)\n",
    "    translated_to = models.ManyToManyField(Language)\n",
    "\n",
    "    def get_absolute_url(self):\n",
    "        return reverse(\"movie_detail_url\", args=[self.slug])\n",
    "\n",
    "    def __str__(self):\n",
    "        return f\"title:{self.title}, rating:{self.rating}, Main Actor/actress:{self.main_act}{', Best Seller' if self.is_bestselling else ''}\""
   ]
  },
  {
   "cell_type": "markdown",
   "id": "92c21f8e-0a60-4444-8e68-708bec9b3cfd",
   "metadata": {},
   "source": [
    "Your admin.py file should look like the following block:"
   ]
  },
  {
   "cell_type": "code",
   "execution_count": null,
   "id": "94933d77-e82c-4d67-8283-24d6fb69241d",
   "metadata": {},
   "outputs": [],
   "source": [
    "from django.contrib import admin\n",
    "from .models import Movie, Actor, Address, Language\n",
    "\n",
    "\n",
    "class LanguageAdmin(admin.ModelAdmin):\n",
    "    list_display = ['name']\n",
    "\n",
    "class AddressAdmin(admin.ModelAdmin):\n",
    "    list_display = ['street', 'postal_code', 'city']\n",
    "\n",
    "class ActorAdmin(admin.ModelAdmin):\n",
    "    list_display = ['first_name', 'last_name', 'address']\n",
    "\n",
    "class MovieAdmin(admin.ModelAdmin):\n",
    "    prepopulated_fields = {'slug':('title',)}\n",
    "    list_filter = ('rating', 'is_bestselling')\n",
    "    list_display = ['title', 'main_act']\n",
    "\n",
    "admin.site.register(Movie, MovieAdmin)\n",
    "admin.site.register(Actor, ActorAdmin)\n",
    "admin.site.register(Address, AddressAdmin)\n",
    "admin.site.register(Language, LanguageAdmin)"
   ]
  },
  {
   "cell_type": "markdown",
   "id": "d507cd4e-c15b-4439-89e2-9946447547cc",
   "metadata": {},
   "source": [
    "Lets add some data to the language data-model and then use them in the Movie data-model<br>\n",
    "\n",
    "Before you do anything you need to makemigrations and then migrate.\n",
    "\n",
    "Here are the codes you many use:"
   ]
  },
  {
   "cell_type": "code",
   "execution_count": null,
   "id": "781f457d-01b3-4ccc-adb2-857bbccb4091",
   "metadata": {},
   "outputs": [],
   "source": [
    "farsi = Language(name='Farsi')\n",
    "farsi.save()\n",
    "\n",
    "english = Language(name=\"English\")\n",
    "english.save()\n",
    "\n",
    "french = Language(name='French')\n",
    "french.save()\n",
    "\n",
    "hp1 = Movie.objects.get(title='Harry Potter and The Philosopher\\'s Stone')\n",
    "the_dictator = Movie.objects.get(title='The Dictator')\n",
    "\n",
    "movie1.translated_to.add(english,french,farsi)\n",
    "Movie2.translated_to.add(farsih)"
   ]
  },
  {
   "cell_type": "markdown",
   "id": "7511958d-7ab8-4024-9c31-d59332cfd9f2",
   "metadata": {},
   "source": [
    "As you may have noticed, we can not just assing a many-to-many field to a value like the other relations that we had. Insted you need to use the .add() method and then send the values.<br>\n",
    "You could also use .set and send all the values inside a list if you want to change the whole values for this field."
   ]
  },
  {
   "cell_type": "markdown",
   "id": "14f9dd8b-1ce3-4983-a023-928c4d963b88",
   "metadata": {},
   "source": [
    "Something important to note is that all the avalible values for the translate_to field will be displayed on the admin page! however only those which are highlighted are the acutal values.<br>\n",
    "If you wish to change the highlighted values press ctrl+click on the values that you want (don't forget to save)"
   ]
  },
  {
   "cell_type": "markdown",
   "id": "ac2a942c-0e35-4aef-ad0c-1a6192547b88",
   "metadata": {},
   "source": [
    "Add a meta class to the Language model so that instead of languages the name 'All Languages' gets displayed on the admin page."
   ]
  },
  {
   "cell_type": "code",
   "execution_count": null,
   "id": "3b802096-3468-4809-bbf3-0c245a375345",
   "metadata": {},
   "outputs": [],
   "source": [
    "class Language(models.Model):\n",
    "    name = models.CharField(max_length=50)\n",
    "\n",
    "    def __str__(self):\n",
    "        return self.name\n",
    "    \n",
    "    class Meta:\n",
    "        verbose_name_plural = 'All Languages'"
   ]
  },
  {
   "cell_type": "markdown",
   "id": "075b29e3-a06d-46cd-ad2c-18d2ed4c5c39",
   "metadata": {},
   "source": [
    "### End of Chapter 5"
   ]
  }
 ],
 "metadata": {
  "kernelspec": {
   "display_name": "Python 3 (ipykernel)",
   "language": "python",
   "name": "python3"
  },
  "language_info": {
   "codemirror_mode": {
    "name": "ipython",
    "version": 3
   },
   "file_extension": ".py",
   "mimetype": "text/x-python",
   "name": "python",
   "nbconvert_exporter": "python",
   "pygments_lexer": "ipython3",
   "version": "3.10.11"
  }
 },
 "nbformat": 4,
 "nbformat_minor": 5
}
