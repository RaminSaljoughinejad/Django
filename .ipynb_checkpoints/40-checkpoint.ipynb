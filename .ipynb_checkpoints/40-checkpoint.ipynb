{
 "cells": [
  {
   "cell_type": "markdown",
   "id": "48047d31-67eb-4e8c-86ae-bf89e1dd939e",
   "metadata": {},
   "source": [
    "### Aggregation Methods:\n",
    "\n",
    "Imagine you want to display the total number of movies in your database along with the average rating. How do you go about achieving this? The answer lies in aggregation.\n",
    "\n",
    "Aggregation methods are built-in functionalities provided by Django. These methods empower us to access and compute various summary statistics or calculations over sets of data. Whether it's counting the number of records, calculating averages, or even performing more complex operations, aggregation is the tool we turn to for such tasks.\n",
    "\n",
    "We can use aggregation to determine the total count of movies and compute the average rating across all movies. This allows us to distill meaningful insights from our data and present them in a concise and informative manner.\n",
    "\n",
    "In Django, aggregation methods enable us to perform these calculations efficiently, providing us with the aggregated results we need to make informed decisions and gain deeper insights into our dataset. Whether you're building a data analysis tool, crafting reports, or simply exploring your data, aggregation is a powerful technique that you'll frequently leverage in your Django projects."
   ]
  },
  {
   "cell_type": "markdown",
   "id": "bd035548-bf78-40ab-8545-a2758940a564",
   "metadata": {},
   "source": [
    "Here's how you can implement aggregation in your views.py file using the count() method to calculate the total number of movies:"
   ]
  },
  {
   "cell_type": "code",
   "execution_count": null,
   "id": "ecd2068b-7522-4bb0-ad8f-01ef5c4e6fc2",
   "metadata": {},
   "outputs": [],
   "source": [
    "def index(request):\n",
    "    res = Movie.objects.all()\n",
    "    count = res.count()\n",
    "    return render(request, 'video_outlet/index.html',{\n",
    "        'movies':res,\n",
    "        'total_number_of_movies':count,\n",
    "    })"
   ]
  },
  {
   "cell_type": "markdown",
   "id": "95e65fa8-13ec-49ae-adeb-c338a5e7516a",
   "metadata": {},
   "source": [
    "In this example, we've utilized the count() method on the Movie model queryset to determine the total number of movies in the database. It's important to note that Django provides various aggregation methods beyond just counting, such as aggregate() for more complex computations like calculating average ratings.\n",
    "\n",
    "For instance, if you want to calculate the average rating of all movies, you would use the aggregate() method along with the Avg function. However, it's worth mentioning that some aggregation functions like Avg need to be imported from django.db.models.\n",
    "\n",
    "After performing the aggregation, ensure to adjust the template (index.html) accordingly to display the aggregated results if needed. This step is crucial for presenting the computed data to users in a meaningful way, completing the workflow from data processing to visualization.\n",
    "\n",
    "Your views.py file should look like the following block:"
   ]
  },
  {
   "cell_type": "code",
   "execution_count": null,
   "id": "4faa9206-d7f4-455f-9910-2fce09ddd046",
   "metadata": {},
   "outputs": [],
   "source": [
    "from django.shortcuts import render, get_object_or_404\n",
    "from .models import Movie\n",
    "from django.http import Http404\n",
    "from django.db.models import Avg\n",
    "\n",
    "def index(request):\n",
    "    res = Movie.objects.all()\n",
    "    count = res.count()\n",
    "    avg = res.aggregate(Avg('rating'))\n",
    "    return render(request, 'video_outlet/index.html',{\n",
    "        'movies':res,\n",
    "        'total_number_of_movies':count,\n",
    "        'avg_rating':avg\n",
    "    })\n",
    "\n",
    "def movie_details(request, slug):\n",
    "    res = get_object_or_404(Movie, slug=slug)\n",
    "    return render(request, 'video_outlet/movie_detail.html', {\n",
    "        'title':res.title,\n",
    "        'rating':res.rating,\n",
    "        'main_act':res.main_act,\n",
    "        'is_bestselling':res.is_bestselling\n",
    "    })\n"
   ]
  },
  {
   "cell_type": "markdown",
   "id": "143fe337-4241-4d41-aa1c-f2072e3d374c",
   "metadata": {},
   "source": [
    "Your index.html file should look like the following block:"
   ]
  },
  {
   "cell_type": "code",
   "execution_count": null,
   "id": "cfd91b64-fc3f-435f-993d-7fa2c194ce33",
   "metadata": {},
   "outputs": [],
   "source": [
    "{% extends \"base.html\" %}\n",
    "{% load static %}\n",
    "\n",
    "{% block page_title %}All Books{% endblock page_title %}</title>\n",
    "\n",
    "{% block css_files %}\n",
    "    <link rel=\"stylesheet\" href=\"{% static \"video_outlet/index.css\" %}\">\n",
    "{% endblock css_files %}\n",
    "\n",
    "{% block content %}\n",
    "    <ul>\n",
    "        {% for movie in movies %}\n",
    "            <li><a href='{{ movie.get_absolute_url }}'>{{ movie.title }} (Rating: {{ movie.rating }})</a></li>\n",
    "        {% endfor %}\n",
    "    </ul>\n",
    "    \n",
    "    <hr>\n",
    "    <p>Total Number of Movies: {{ total_number_of_movies }}</p>\n",
    "    <p>Average Rating of Movies: {{ avg_rating }}</p>\n",
    "{% endblock content %}"
   ]
  },
  {
   "cell_type": "markdown",
   "id": "527c673d-cd7e-43e2-b6b8-ac8e05c0c60a",
   "metadata": {},
   "source": [
    "Now, after saving your changes and requesting the index.html page, you might notice something peculiar in the displayed results:"
   ]
  },
  {
   "cell_type": "code",
   "execution_count": null,
   "id": "f44328f8-0a16-4e7a-b636-23bd7d32393f",
   "metadata": {},
   "outputs": [],
   "source": [
    "Total Number of Movies: 10\n",
    "\n",
    "Average Rating of Movies: {'rating__avg': 7.3}"
   ]
  },
  {
   "cell_type": "markdown",
   "id": "51534123-b88c-42d7-a1f5-a146dafbfb07",
   "metadata": {},
   "source": [
    "At first glance, you might wonder why we're seeing {'rating__avg': 7.3} instead of just 7.3 for the average rating. Well, this format is a result of how Django's aggregation functions return their results.\n",
    "\n",
    "When we use the aggregate() method to compute the average rating, Django returns a dictionary-like object containing the aggregated results. In this case, the key rating__avg corresponds to the average rating value. The rating__avg syntax is Django's way of indicating that the average value is calculated for the rating field.\n",
    "\n",
    "So, to extract the actual average rating value from the dictionary, you would access it using the key rating__avg. This format is designed to provide flexibility and accommodate scenarios where multiple aggregations are performed simultaneously or when aliases are used in aggregation queries.\n",
    "\n",
    "Therefore, to display the average rating value without the dictionary-like formatting, you can access it directly using rating__avg key in your template or manipulate the result in your view to extract the value as needed. This ensures that the aggregated data is presented in a clear and understandable format to your users.\n",
    "\n",
    "In your index.html file, you can make the change to display the average rating value without the dictionary-like formatting.<br>\n",
    "Here's how you can adjust the template:"
   ]
  },
  {
   "cell_type": "code",
   "execution_count": null,
   "id": "04f88e7d-4838-43de-9e98-cfb4f775ea44",
   "metadata": {},
   "outputs": [],
   "source": [
    "<p>Average Rating of Movies: {{ avg_rating.rating__avg }}</p>"
   ]
  },
  {
   "cell_type": "markdown",
   "id": "d5a0873b-7092-48dc-a70e-b546bcb0b387",
   "metadata": {},
   "source": [
    "### Sorting\n",
    "While discussing aggregation, it's essential to explore another vital aspect of data retrieval: sorting. Sorting allows you to arrange query results from the database in a specific order, enhancing the clarity and usability of your data.\n",
    "\n",
    "In Django, you can accomplish sorting using the order_by() method. This method enables you to specify the fields by which you want to sort the queryset. Let's delve into how it works:"
   ]
  },
  {
   "cell_type": "code",
   "execution_count": null,
   "id": "20d37d82-78e3-4f3c-b709-59410f764d4b",
   "metadata": {},
   "outputs": [],
   "source": [
    "movies = Movie.objects.all().order_by('title')"
   ]
  },
  {
   "cell_type": "markdown",
   "id": "924673fe-cebb-4bb6-872a-96fce649deb3",
   "metadata": {},
   "source": [
    "By default, order_by() sorts the results in ascending order. If you prefer descending order, you can prefix the field name with a hyphen -:"
   ]
  },
  {
   "cell_type": "code",
   "execution_count": null,
   "id": "ac3b8209-bab2-46e2-a674-5ff678067a20",
   "metadata": {},
   "outputs": [],
   "source": [
    "movies = Movie.objects.all().order_by('-title')"
   ]
  },
  {
   "cell_type": "markdown",
   "id": "2255cd5d-43f8-4d19-947f-e38d5b6bf0a9",
   "metadata": {},
   "source": [
    "Moreover, you can sort based on multiple fields by passing multiple arguments to order_by():"
   ]
  },
  {
   "cell_type": "code",
   "execution_count": null,
   "id": "d119561f-ee77-4420-b255-1b1115335161",
   "metadata": {},
   "outputs": [],
   "source": [
    "movies = Movie.objects.order_by('title','rating')"
   ]
  },
  {
   "cell_type": "markdown",
   "id": "a8f4bc8c-23e3-4122-b068-c21a9fbbd041",
   "metadata": {},
   "source": [
    "### End of Chapter 4"
   ]
  }
 ],
 "metadata": {
  "kernelspec": {
   "display_name": "Python 3 (ipykernel)",
   "language": "python",
   "name": "python3"
  },
  "language_info": {
   "codemirror_mode": {
    "name": "ipython",
    "version": 3
   },
   "file_extension": ".py",
   "mimetype": "text/x-python",
   "name": "python",
   "nbconvert_exporter": "python",
   "pygments_lexer": "ipython3",
   "version": "3.10.11"
  }
 },
 "nbformat": 4,
 "nbformat_minor": 5
}
