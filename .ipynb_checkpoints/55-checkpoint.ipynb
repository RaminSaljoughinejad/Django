{
 "cells": [
  {
   "cell_type": "markdown",
   "id": "05315090-64ee-478d-b672-e550111f7fbd",
   "metadata": {},
   "source": [
    "### Changing the Form Action URL\n",
    "\n",
    "By default, the form sends the POST request to the same URL where the form is displayed. However, you can change this behavior by using the action attribute. The action attribute specifies the URL where the form data should be submitted.\n",
    "\n",
    "For example, if you want to send the form data to /user-review/, you can modify your form tag as follows:"
   ]
  },
  {
   "cell_type": "code",
   "execution_count": null,
   "id": "c4708ebe-6f47-4dac-912a-49b411fecf87",
   "metadata": {},
   "outputs": [],
   "source": [
    "<form method='POST' action='/user-review'>\n",
    "    {% csrf_token %}\n",
    "    <label for='username'>Your Name</label>\n",
    "    <input type=\"text\" placeholder='e.g., Ramin' name=\"uname\" id=\"username\">\n",
    "    <button>Send</button>\n",
    "</form>\n"
   ]
  },
  {
   "cell_type": "markdown",
   "id": "7c33a278-0d96-4588-8281-09d318317709",
   "metadata": {},
   "source": [
    "Now, if you reload the page and click on the send button you will see that you will get to the /user-review url which does not exists at the moment."
   ]
  },
  {
   "cell_type": "markdown",
   "id": "956db2d6-4488-4b52-a619-54acd5e713a3",
   "metadata": {},
   "source": [
    "### Using the Root URL (\"/\") as the Action\n",
    "\n",
    "If you change the action attribute to /, the form data will be submitted to the root URL of your application. This can be useful if you want to handle the form submission in your index view. Here's how you can set the action attribute to /:"
   ]
  },
  {
   "cell_type": "code",
   "execution_count": null,
   "id": "5e7c4632-2902-46a4-8425-a8faae713da2",
   "metadata": {},
   "outputs": [],
   "source": [
    "<form action='/' method='POST'>\n",
    "    {% csrf_token %}\n",
    "    <label for='username'>Your Name</label>\n",
    "    <input type=\"text\" placeholder='exp: Ramin' name=\"uname\" id=\"username\">\n",
    "    <button>Send</button>\n",
    "</form>"
   ]
  },
  {
   "cell_type": "markdown",
   "id": "6367e5e0-b14a-4c5f-8bb9-45d11d6bc972",
   "metadata": {},
   "source": [
    "So, at the moment or form data is being sent to the index view function meaning that if order to manage it we need to do it in the index view function.<br>\n",
    "\n",
    "Bsically we are going to the following things:\n",
    "- Get the form data, process them, save them in database and then send a page as a response.\n",
    "- The response page could be another page!\n",
    "\n",
    "lets do this:\n",
    "- Create a new template and name it what ever you desire (i called it res.html).\n",
    "- Navigate to view.py file and lets make some changes inside the index view function.\n",
    "    - Create an if condition where you check wether the method that requested this view function is set to 'POST', to do that you can call the 'method' and check if it equals to 'POST'.\n",
    "    - Now you can return the newly created template as the response to a post request, and the index.html as a response to a get request.<br>\n",
    "    - You could access the data inside the reuqest using request.POST\n",
    "        - request.POST holds a dictionary with the data that is inside it.\n",
    "\n",
    "Your view.py file shuld look like the following block:"
   ]
  },
  {
   "cell_type": "code",
   "execution_count": null,
   "id": "88167049-2992-46f6-b3d7-90270295b9df",
   "metadata": {},
   "outputs": [],
   "source": [
    "def index(request):\n",
    "    if request.method =='POST':\n",
    "        entered_username = request.POST['uname']\n",
    "        return render(request, 'reviews/res.html')\n",
    "    return render(request, 'reviews/index.html')"
   ]
  },
  {
   "cell_type": "markdown",
   "id": "af0b29ba-92b9-453c-bcf8-65cc02f53bed",
   "metadata": {},
   "source": [
    "What we have done here is not a good thing! I mean we are not suppose to render html code as a response to a post request and the reason is that the post request are ment to submit data to the server, so instead, we redirect to a different url using a get request and then that url renders an html page.\n",
    "\n",
    "So, lets add a new view function and name it what ever you want\n",
    "- This view function then needs to render the res.html file we created earlier.\n",
    "- Dont forget to register a url for this new template and give it a name.\n",
    "- Use HttpResponseRedirect to redirect to the path you defined in the urls.py\n",
    "\n",
    "Your urls.py file should look like the following block:"
   ]
  },
  {
   "cell_type": "code",
   "execution_count": null,
   "id": "818ede94-ea9c-433a-8542-1fac85bdce91",
   "metadata": {},
   "outputs": [],
   "source": [
    "from django.urls import path\n",
    "from . import views\n",
    "\n",
    "\n",
    "urlpatterns = [\n",
    "    path('', views.index, name='reviews-root-url'),\n",
    "    path('results', views.res, name='reviews-result-url')\n",
    "]"
   ]
  },
  {
   "cell_type": "markdown",
   "id": "1ef8c948-4193-467d-9104-d291b819fa7a",
   "metadata": {},
   "source": [
    "Your views.py file should look like the following block:"
   ]
  },
  {
   "cell_type": "code",
   "execution_count": null,
   "id": "9e6b1653-f72e-44c1-8fa9-73d6a52178a3",
   "metadata": {},
   "outputs": [],
   "source": [
    "from django.shortcuts import render\n",
    "from django.http import HttpResponseRedirect\n",
    "\n",
    "def index(request):\n",
    "    if request.method =='POST':\n",
    "        entered_username = request.POST['uname']\n",
    "        return HttpResponseRedirect('/results')\n",
    "    return render(request, 'reviews/index.html')\n",
    "\n",
    "def res(request):\n",
    "    return render(request, 'reviews/res.html')"
   ]
  },
  {
   "cell_type": "markdown",
   "id": "2e9cfb69-d1d3-4db6-a682-0523e7734527",
   "metadata": {},
   "source": [
    "### In the next notebook you will learn about form validation."
   ]
  }
 ],
 "metadata": {
  "kernelspec": {
   "display_name": "Python 3 (ipykernel)",
   "language": "python",
   "name": "python3"
  },
  "language_info": {
   "codemirror_mode": {
    "name": "ipython",
    "version": 3
   },
   "file_extension": ".py",
   "mimetype": "text/x-python",
   "name": "python",
   "nbconvert_exporter": "python",
   "pygments_lexer": "ipython3",
   "version": "3.10.11"
  }
 },
 "nbformat": 4,
 "nbformat_minor": 5
}
