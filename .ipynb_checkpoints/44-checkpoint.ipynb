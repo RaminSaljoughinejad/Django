{
 "cells": [
  {
   "cell_type": "markdown",
   "id": "74b4a354-4f5f-4774-a0a0-9011cdbb1f36",
   "metadata": {},
   "source": [
    "### Exploting python commands that you can perform on you data models\n",
    "\n",
    "1- Open shell (Python manage.py shell)\n",
    "2- Import both Movie and Actor data models (from video_outlet.models import Movie, Actor)\n",
    "3- Add a few actors and actresses to the Actor data model"
   ]
  },
  {
   "cell_type": "code",
   "execution_count": null,
   "id": "613231b6-ec85-4f1d-b387-a4d92840f794",
   "metadata": {},
   "outputs": [],
   "source": [
    "from video_outlet.models import Movie, Actor\n",
    "\n",
    "Daniel_Radcliffe = Actor(first_name='Daniel', last_name='Radcliffe')\n",
    "Daniel_Radcliffe.save()\n",
    "Emma_Watson = Actor(first_name='Emma', last_name='Watson')\n",
    "Emma_Watson.save()\n",
    "Sacha_Baron_Cohen = Actor(first_name='Sacha', last_name='Cohen')\n",
    "Sacha_Baron_Cohen.save()\n",
    "Anna_Faris = Actor(first_name='Anna', last_name='Faris')\n",
    "Anna_Faris.save()\n",
    "Jennifer_Lopez = Actor(first_name='Jennifer', last_name='Lopez')\n",
    "Jennifer_Lopez.save()"
   ]
  },
  {
   "cell_type": "markdown",
   "id": "421d7038-5bfe-4857-a264-32b194320205",
   "metadata": {},
   "source": [
    "Now if you iterate through the actors you will see that they are saved:"
   ]
  },
  {
   "cell_type": "markdown",
   "id": "6268d4ef-e979-4a22-81d1-e7e463b8199c",
   "metadata": {},
   "source": [
    "actors = Actor.objects.all()\n",
    "for act in actors:\n",
    "    print(act)"
   ]
  },
  {
   "cell_type": "code",
   "execution_count": null,
   "id": "99805bef-e4ff-469a-b389-a7adb98de9f5",
   "metadata": {},
   "outputs": [],
   "source": [
    "Actor object (1)\n",
    "Actor object (2)\n",
    "Actor object (3)\n",
    "Actor object (4)\n",
    "Actor object (5)"
   ]
  },
  {
   "cell_type": "markdown",
   "id": "fabc716b-3188-4e79-8094-14a712dc9cb8",
   "metadata": {},
   "source": [
    "Now we need to add a few movies. But befor that I need to mention something.\n",
    "Since we removed the save method from our model, we need to pass the slug now. The slug attribute only get auto populated on the admin page! and we are now in the shell. These two are completely two seprate things.\n",
    "\n",
    "Now, add a few movies:"
   ]
  },
  {
   "cell_type": "code",
   "execution_count": null,
   "id": "7216404e-0251-4d6c-bfcd-9ef36326f5c3",
   "metadata": {},
   "outputs": [],
   "source": [
    "hp1 = Movie(title='Harry Potter and The Philosopher\\'s Stone', rating=6, is_bestselling=True, main_act=Daniel_Radcliffe, slug='Harry-Potter-and-The-Philosopher\\'s-Stone')\n",
    "hp1.save()\n",
    "The_Dictator = Movie(title='The Dictator', rating=7, is_bestselling=True, main_act=Sacha_Baron_Cohen, slug='The-Dictator')\n",
    "The_Dictator.save()"
   ]
  },
  {
   "cell_type": "markdown",
   "id": "80635f2b-6cb3-420c-9146-a30c0b82cc5f",
   "metadata": {},
   "source": [
    "What I set for the main_act attribute is the name of the object I created eariler when I was adding actors to the Actor table.<br>\n",
    "Now you can iterate through the movies and make sure they are saved:"
   ]
  },
  {
   "cell_type": "code",
   "execution_count": null,
   "id": "f846f44d-16cf-431e-a365-337c4a785b56",
   "metadata": {},
   "outputs": [],
   "source": [
    "for movie in movies:\n",
    "    print(movie)"
   ]
  },
  {
   "cell_type": "markdown",
   "id": "281e7a82-1792-4a70-b1f9-cf6d393c0c12",
   "metadata": {},
   "source": [
    "title:Harry Potter and The Philosopher's Stone, rating:6, Main Actor/actress:Actor object (1), Best Seller\n",
    "title:The Dictator, rating:7, Main Actor/actress:Actor object (3), Best Seller"
   ]
  },
  {
   "cell_type": "markdown",
   "id": "c7e8a8f6-cd7f-45a5-aca1-44acdab31c18",
   "metadata": {},
   "source": [
    "As you can see it shows the object number istead of the name of the actor in the result. It is ok and is not a problem, but how can see the actual name of the actor?<br>\n",
    "\n",
    "Well, now that we have the connection between models we can easily query across models:"
   ]
  },
  {
   "cell_type": "code",
   "execution_count": null,
   "id": "1799b2d9-48c7-40dd-93df-612d312a86e5",
   "metadata": {},
   "outputs": [],
   "source": [
    "hp1 = Movie.objects.get(title='Harry Potter and The Philosopher\\'s Stone')\n",
    "\n",
    "hp1.main_act.first_name + ' ' + hp1.main_act.last_name"
   ]
  },
  {
   "cell_type": "markdown",
   "id": "7e798d9c-8d51-445a-b62a-7f4b59a4a582",
   "metadata": {},
   "source": [
    "'Daniel Radcliffe'"
   ]
  },
  {
   "cell_type": "markdown",
   "id": "eec8d39e-db0e-4479-bd6d-b583c8d72b5d",
   "metadata": {},
   "source": [
    "Very easy, right? :)"
   ]
  },
  {
   "cell_type": "markdown",
   "id": "e571eb8d-75f4-47b3-ac3a-8ca6088c16d4",
   "metadata": {},
   "source": [
    "So, know, you understand how to add connections between data-models. <br>\n",
    "In the next notebook you will learn how to query by them in the models."
   ]
  }
 ],
 "metadata": {
  "kernelspec": {
   "display_name": "Python 3 (ipykernel)",
   "language": "python",
   "name": "python3"
  },
  "language_info": {
   "codemirror_mode": {
    "name": "ipython",
    "version": 3
   },
   "file_extension": ".py",
   "mimetype": "text/x-python",
   "name": "python",
   "nbconvert_exporter": "python",
   "pygments_lexer": "ipython3",
   "version": "3.10.11"
  }
 },
 "nbformat": 4,
 "nbformat_minor": 5
}
