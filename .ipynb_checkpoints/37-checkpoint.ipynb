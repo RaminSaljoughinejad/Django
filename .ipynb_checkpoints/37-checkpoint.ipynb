{
 "cells": [
  {
   "cell_type": "markdown",
   "id": "722218bb-4a7b-4f85-8575-cc5a85fc7fc9",
   "metadata": {},
   "source": [
    "### An alternative for {% url %}\n",
    "\n",
    "As I said before you can add and modify methods inside your models.py data classes, Also you can overide some existing methods.<br>\n",
    "One of this existing methods that you can override is, get_absolute_url method.<br>\n",
    "This method gets called by Django in various occasions, but you may also call it too.<br>\n",
    "This method return a url for an specific model.<br>\n",
    "\n",
    "Lets see it in action:<br>\n",
    "1- Navigate to models.py<br>\n",
    "2- Import reverse from django.urls<br>\n",
    "3- Override get_absolute_url inside Movie class and return thre reverse method with the url name that you desire ('movie_detail_url').<br>\n",
    "\n",
    "Your models.py file should look like the following block:"
   ]
  },
  {
   "cell_type": "code",
   "execution_count": null,
   "id": "755d35c6-3caf-4346-b59a-c14650af4b8a",
   "metadata": {},
   "outputs": [],
   "source": [
    "from django.db import models\n",
    "from django.core.validators import MinValueValidator, MaxValueValidator\n",
    "from django.urls import reverse\n",
    "\n",
    "class Movie(models.Model):\n",
    "    title = models.CharField(max_length=50)\n",
    "    rating = models.IntegerField(validators=[MinValueValidator(1), MaxValueValidator(10)])\n",
    "    main_act= models.CharField(null=True, max_length=100)\n",
    "    is_bestselling = models.BooleanField(default=False)\n",
    "\n",
    "    def get_absolute_url(self):\n",
    "        return reverse(\"movie_detail_url\", args=[self.id])\n",
    "\n",
    "    def __str__(self):\n",
    "        return f\"title:{self.title}, rating:{self.rating}, Main Actor/actress:{self.main_act}{', Best Seller' if self.is_bestselling else ''}\""
   ]
  },
  {
   "cell_type": "markdown",
   "id": "4f8da062-f4aa-4b7f-b379-bb277d35a36a",
   "metadata": {},
   "source": [
    "4- Navigate to index.html template and use it to replace {% url %}<br>\n",
    "Your index.html template should look like the following block:"
   ]
  },
  {
   "cell_type": "code",
   "execution_count": null,
   "id": "fe2dfbc2-eccc-4f1c-99f8-b3197ac41573",
   "metadata": {},
   "outputs": [],
   "source": [
    "{% extends \"base.html\" %}\n",
    "{% load static %}\n",
    "\n",
    "{% block page_title %}All Books{% endblock page_title %}</title>\n",
    "\n",
    "{% block css_files %}\n",
    "    <link rel=\"stylesheet\" href=\"{% static \"video_outlet/index.css\" %}\">\n",
    "{% endblock css_files %}\n",
    "\n",
    "{% block content %}\n",
    "    <ul>\n",
    "        {% for movie in movies %}\n",
    "            <li><a href='{{ movie.get_absolute_url }}'>{{ movie.title }} (Rating: {{ movie.rating }})</a></li>\n",
    "        {% endfor %}\n",
    "    </ul>\n",
    "{% endblock content %}"
   ]
  }
 ],
 "metadata": {
  "kernelspec": {
   "display_name": "Python 3 (ipykernel)",
   "language": "python",
   "name": "python3"
  },
  "language_info": {
   "codemirror_mode": {
    "name": "ipython",
    "version": 3
   },
   "file_extension": ".py",
   "mimetype": "text/x-python",
   "name": "python",
   "nbconvert_exporter": "python",
   "pygments_lexer": "ipython3",
   "version": "3.10.11"
  }
 },
 "nbformat": 4,
 "nbformat_minor": 5
}
