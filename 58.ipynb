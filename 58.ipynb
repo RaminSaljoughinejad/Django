{
 "cells": [
  {
   "cell_type": "markdown",
   "id": "76e3954b-1478-4d8c-8826-bdb1611366bf",
   "metadata": {
    "vscode": {
     "languageId": "python"
    }
   },
   "source": [
    "#### More into Fields:\n",
    "\n",
    "1. Inside your forms.py file and in your ReviewForm class add the following fields each with their mentioned arguments:\n",
    "    - review_text = forms.CharField(label=\"Your Feedback\", widget=forms.Textarea, max_length=200)\n",
    "    - rating = forms.IntegerField(label=\"Your Rating, min_value=1, max_value=10)\n",
    "\n",
    "The widget=forms.Textarea will create us a textarea input instead of a normal input-field which has the type of text.\n",
    "\n",
    "Your forms.py file should look like the following block:"
   ]
  },
  {
   "cell_type": "code",
   "execution_count": null,
   "id": "5d42110f",
   "metadata": {},
   "outputs": [],
   "source": [
    "from django import forms\n",
    "\n",
    "\n",
    "class ReviewForm(forms.Form):\n",
    "    user_name = forms.CharField(label='You name', max_length=100, error_messages={\n",
    "        'required': 'Your name must not be empty!',\n",
    "        'max_length': \"Please enter a shorter name!\"\n",
    "    }, widget=forms.TextInput(attrs={'placeholder': 'e.g., Ramin or Johanna'}))\n",
    "    review_text = forms.CharField(label='Your Feedback', widget=forms.Textarea, max_length=200)\n",
    "    rating = forms.IntegerField(label='Your Rating', min_value=0, max_value=10)"
   ]
  },
  {
   "cell_type": "markdown",
   "id": "a73bbb4a",
   "metadata": {},
   "source": [
    "Note: If you save evrything here and reload your html page! you wont see any changes, and thats because you manualy rendered your form! If you have used {{ form }}, you would have seen the changes.<br>\n",
    "In order you fix this, you could add a new div and render the rest fields.\n",
    "\n",
    "Your index.html file should look like the following block:"
   ]
  },
  {
   "cell_type": "code",
   "execution_count": null,
   "id": "7dbc8a47",
   "metadata": {
    "vscode": {
     "languageId": "html"
    }
   },
   "outputs": [],
   "source": [
    "{% extends \"base.html\" %}\n",
    "{% load static %}\n",
    "\n",
    "{% block css_files %}\n",
    "    <link rel=\"stylesheet\" href=\"{% static \"reviews/index.css\" %}\">\n",
    "{% endblock css_files %}\n",
    "\n",
    "{% block page_title %}Reviews {% endblock page_title %}root\n",
    "\n",
    "{% block content %}\n",
    "    <form action='/' method='POST'>\n",
    "        {% csrf_token %}\n",
    "        <div class='form-control {% if form.user_name.errors %}errors{% endif %}'>\n",
    "            {{ form.user_name.label_tag }}\n",
    "            {{ form.user_name }}\n",
    "            {{ form.user_name.errors }}\n",
    "        </div>\n",
    "        <div class='form-control {% if form.review_text.errors %}errors{% endif %}'>\n",
    "            {{ form.review_text.label_tag }}\n",
    "            {{ form.review_text }}\n",
    "            {{ form.review_text.errors }}\n",
    "        </div>\n",
    "        <div class='form-control {% if form.rating.errors %}errors{% endif %}'>\n",
    "            {{ form.rating.label_tag }}\n",
    "            {{ form.rating }}\n",
    "            {{ form.rating.errors }}\n",
    "        </div>\n",
    "        <button>Send</button>\n",
    "    </form>\n",
    "{% endblock content %}"
   ]
  },
  {
   "cell_type": "markdown",
   "id": "267866b3",
   "metadata": {},
   "source": [
    "Note: While what we have done with the html is possible, it is not convinient. Imagen a case where you have a lot of input field! is it easy to go through all of them and create a divs for them???<br>\n",
    "\n",
    "So what are we supposed to do?<br>\n",
    "\n",
    "What we should do here is to loop through all the fields and display them.<br>\n",
    "\n",
    "your index.html template should look like the following block:"
   ]
  },
  {
   "cell_type": "code",
   "execution_count": null,
   "id": "e8e75506",
   "metadata": {
    "vscode": {
     "languageId": "html"
    }
   },
   "outputs": [],
   "source": [
    "{% extends \"base.html\" %}\n",
    "{% load static %}\n",
    "\n",
    "{% block css_files %}\n",
    "    <link rel=\"stylesheet\" href=\"{% static \"reviews/index.css\" %}\">\n",
    "{% endblock css_files %}\n",
    "\n",
    "{% block page_title %}Reviews {% endblock page_title %}root\n",
    "\n",
    "{% block content %}\n",
    "    <form action='/' method='POST'>\n",
    "        {% csrf_token %}\n",
    "        {% for field in form %}\n",
    "            <div class='form-control {% if field.errors %}errors{% endif %}'>\n",
    "                {{ field.label_tag}}\n",
    "                {{ field }}\n",
    "                {{ field.errors }}\n",
    "            </div>\n",
    "        {% endfor %}\n",
    "        <button>Send</button>\n",
    "    </form>\n",
    "{% endblock content %}"
   ]
  },
  {
   "cell_type": "markdown",
   "id": "b054b760",
   "metadata": {},
   "source": [
    "Add the needed stying to your template.\n",
    "\n",
    "My index.css file looks like the following block:"
   ]
  },
  {
   "cell_type": "code",
   "execution_count": null,
   "id": "21e7bd33",
   "metadata": {
    "vscode": {
     "languageId": "css"
    }
   },
   "outputs": [],
   "source": [
    "body{\n",
    "    font-family: sans-serif;\n",
    "    margin:0;\n",
    "    background-color:#15171E;\n",
    "}\n",
    "\n",
    "form{\n",
    "    margin:3rem auto;\n",
    "    width: 90%;\n",
    "    max-width: 30rem;\n",
    "    padding: 1rem;\n",
    "    border-radius: 12px;\n",
    "    background-color: transparent;\n",
    "    border:1px solid #222631;\n",
    "    color:#0074E0;\n",
    "    text-align: center;\n",
    "}\n",
    "button{\n",
    "    cursor: pointer;\n",
    "    padding:0.5rem 1.5rem;\n",
    "    border-radius: 6px;\n",
    "    background-color: #0074E0;\n",
    "    color:white;\n",
    "    border: 1px solid #0074E0;\n",
    "    width:90%;\n",
    "    max-width: 28rem;\n",
    "    font-weight: bold;\n",
    "    height: 2.5rem;\n",
    "}\n",
    "button:hover,\n",
    "button:active{\n",
    "    border-color:#47A6FF;\n",
    "}\n",
    "\n",
    ".form-control{\n",
    "    margin-bottom: 1rem;\n",
    "}\n",
    ".form-control input{\n",
    "    font: inherit;\n",
    "    padding:0.25rem;\n",
    "    padding-left:0.30rem;\n",
    "    border-radius: 4px;\n",
    "    border: 1px solid #ccc;\n",
    "    background-color:#2E2E34;\n",
    "    color:white;\n",
    "    width:90%;\n",
    "    max-width: 26rem;\n",
    "    height: 2rem;\n",
    "}\n",
    ".errors input{\n",
    "    border-color:#E60012;\n",
    "}\n",
    ".form-control input:hover,\n",
    ".form-control input:focus,\n",
    ".form-control textarea:hover,\n",
    ".form-control textarea:focus{\n",
    "    border-color: #0074E0;\n",
    "    outline:none;\n",
    "    background-color:#2e2e34;\n",
    "}\n",
    ".form-control textarea{\n",
    "    width:88%;\n",
    "    resize: none;\n",
    "    background-color:#2E2E34;\n",
    "    color:white;\n",
    "    border-color:#ccc;\n",
    "}\n",
    ".form-control label{\n",
    "    display:block;\n",
    "    font-weight: bold;\n",
    "    text-align: left;\n",
    "    padding-left:5%;\n",
    "    margin-bottom:5px;\n",
    "}\n",
    ".errorlist{\n",
    "    list-style: none;\n",
    "    margin:0 5.5% 0 0;\n",
    "    padding:0;\n",
    "    text-align: right;\n",
    "    color:#cd0112;\n",
    "    line-height: 35px;\n",
    "}\n",
    ".errors label{\n",
    "    color:#cd0112;\n",
    "}"
   ]
  },
  {
   "cell_type": "markdown",
   "id": "e6fce570",
   "metadata": {},
   "source": [
    "In the noxt notebook we are going to save the data in a model."
   ]
  }
 ],
 "metadata": {
  "kernelspec": {
   "display_name": "Python 3",
   "language": "python",
   "name": "python3"
  },
  "language_info": {
   "codemirror_mode": {
    "name": "ipython",
    "version": 3
   },
   "file_extension": ".py",
   "mimetype": "text/x-python",
   "name": "python",
   "nbconvert_exporter": "python",
   "pygments_lexer": "ipython3",
   "version": "3.10.11"
  }
 },
 "nbformat": 4,
 "nbformat_minor": 5
}
