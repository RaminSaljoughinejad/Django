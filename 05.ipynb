{
 "cells": [
  {
   "cell_type": "markdown",
   "id": "fe91927d-8e51-49ff-a8ea-11f7a18bd9aa",
   "metadata": {},
   "source": [
    "### Identifer Type Casting\n",
    "Consider what you have built so far. At the moment we are handling the exercise identifier as a string which works completely OK. But the problem is that our ending url is a number, which means that 001 should not be treated diffrently from 1 or 01 or  even 00001, because they are literally the same number.\n",
    "\n",
    "Here is where we can use Identifier Type casting.\n",
    "\n",
    "Before we start, your views file sould looks like the following after completing your last exercise."
   ]
  },
  {
   "cell_type": "code",
   "execution_count": null,
   "id": "37f5f286-d28a-414d-881b-2bbd779bd567",
   "metadata": {},
   "outputs": [],
   "source": [
    "from django.shortcuts import render\n",
    "from django.http import HttpResponse, HttpResponseNotFound\n",
    "\n",
    "_dict = {\n",
    "    '001':'Variables!',\n",
    "    '002':'If-Statements',\n",
    "    '003':'Loops',\n",
    "}\n",
    "# Create your views here.\n",
    "\n",
    "def url_handler(request,  exercise):\n",
    "    if exercise in _dict:\n",
    "        return HttpResponse(_dict[exercise])\n",
    "    else:\n",
    "        return HttpResponseNotFound(\"This Page Does Not Exists\")"
   ]
  },
  {
   "cell_type": "markdown",
   "id": "af460ba0-51e0-40ab-99ff-aa478eaaa794",
   "metadata": {},
   "source": [
    "Open your apps url file and add 'int:' right before your identifier name.<br>\n",
    "Note that you are supposed to add int: after the greater sign and not before it.\n",
    "\n",
    "By doing This we are telling the server that the value for this identifier should be casted and treated as an integer.\n",
    "\n",
    "Your urls file sould looks like the following:"
   ]
  },
  {
   "cell_type": "code",
   "execution_count": null,
   "id": "146310f3-a77f-4a45-9293-68aa80698a9c",
   "metadata": {},
   "outputs": [],
   "source": [
    "from django.urls import path\n",
    "from . import views\n",
    "\n",
    "urlpatterns = [\n",
    "    path(\"<int:exercise>\", views.url_handler)\n",
    "]"
   ]
  },
  {
   "cell_type": "markdown",
   "id": "40c45198-00b7-44ab-ab86-d800bdde65dc",
   "metadata": {},
   "source": [
    "Note:\n",
    "you could use str to cast your identifier to string."
   ]
  },
  {
   "cell_type": "markdown",
   "id": "e79a57f4-e46e-4780-a8e6-b0f64f9074ea",
   "metadata": {},
   "source": [
    "Now, go to your views file and edit the keys of your dictionary.\n",
    "\n",
    "Your views file should looks like the following in the end:"
   ]
  },
  {
   "cell_type": "code",
   "execution_count": null,
   "id": "59a92c3a-d824-4337-86c1-0cf2f9c3672a",
   "metadata": {},
   "outputs": [],
   "source": [
    "from django.shortcuts import render\n",
    "from django.http import HttpResponse, HttpResponseNotFound\n",
    "\n",
    "\n",
    "_dict = {\n",
    "    1:'Variables!',\n",
    "    2:'If-Statements',\n",
    "    3:'Loops',\n",
    "}\n",
    "# Create your views here.\n",
    "\n",
    "def url_handler(request,  exercise):\n",
    "    if exercise in _dict:\n",
    "        return HttpResponse(_dict[exercise])\n",
    "    else:\n",
    "        return HttpResponseNotFound(\"This Page Does Not Exists\")"
   ]
  }
 ],
 "metadata": {
  "kernelspec": {
   "display_name": "Python 3 (ipykernel)",
   "language": "python",
   "name": "python3"
  },
  "language_info": {
   "codemirror_mode": {
    "name": "ipython",
    "version": 3
   },
   "file_extension": ".py",
   "mimetype": "text/x-python",
   "name": "python",
   "nbconvert_exporter": "python",
   "pygments_lexer": "ipython3",
   "version": "3.10.11"
  }
 },
 "nbformat": 4,
 "nbformat_minor": 5
}
