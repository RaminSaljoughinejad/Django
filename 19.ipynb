{
 "cells": [
  {
   "cell_type": "markdown",
   "id": "969e6c85-cb60-4a19-bf60-a386b26f30ae",
   "metadata": {},
   "source": [
    "### Template Inheritance\n",
    "\n",
    "Template Inheritance allows us to use other templates inside a new template with the means of reducing code repetition.<br>\n",
    "\n",
    "Let me explain it better...<br>\n",
    "At the moment we only have 2 templates and that is not alot. Now, imagen a case where you have alot of templates. would it be easy to repeat the code inside them? for instance, wouldnt it be better if we could store the parts that are getting repeated and use them inside our templates later on?<br>\n",
    "\n",
    "Template inheritance not only reduces the code we need to write when we create a new template, but it also helps us when we need to change a part inside all of our templates! You are asking how?? well, if the part you need to change is a part that you stored and re used using template inheritance then you just need to change it once and it will be changed automaticaly inside every template that are using it.<br><br>\n",
    "\n",
    "Lets use it:<br>\n",
    "1- To start we need to create a folder called 'templates' in which we are going to put those templates that we want latter to inherit from.<br>\n",
    "If the templates are going to be used in all apps, it is better to put the folder where your manage.py file is, and not inside an app folder.<br>\n",
    "2- Inside the folder create a file called base.html and put the core structore of an html file inside it.<br>\n",
    "3- Now we need a way to tell which parts of this template is dynamic. And to do that we need to use the block tag.<br>\n",
    "4- inside the title tag add the following:"
   ]
  },
  {
   "cell_type": "code",
   "execution_count": null,
   "id": "06c1081e-57bb-4372-9dc1-9dc2b510bf38",
   "metadata": {},
   "outputs": [],
   "source": [
    "{% block page_title %}{% endblock%}"
   ]
  },
  {
   "cell_type": "markdown",
   "id": "49f37380-1e72-44ac-87f1-c84f93a743ec",
   "metadata": {},
   "source": [
    "'page_title' is only a reference name that we can use later to change this part.<br>\n",
    "One thing to note is that u can put a default value between the starting and ending tag! so, if no value is passed through the reference name, the value in between, shows up.<br>"
   ]
  },
  {
   "cell_type": "code",
   "execution_count": null,
   "id": "de3bd3aa-1108-4b82-a320-ddf340bb579e",
   "metadata": {},
   "outputs": [],
   "source": [
    "{% block page_title %}Default Value{% endblock%}"
   ]
  },
  {
   "cell_type": "markdown",
   "id": "6bc44817-82d2-4979-81ce-32fa52b3944f",
   "metadata": {},
   "source": [
    "5- Add another block inside the body tag. and give it a name like 'content'<br>\n",
    "\n",
    "Your base.html file should look something like the following:"
   ]
  },
  {
   "cell_type": "code",
   "execution_count": null,
   "id": "c9df486d-cf69-4181-b1dd-bfd66a940ea1",
   "metadata": {},
   "outputs": [],
   "source": [
    "<!DOCTYPE html>\n",
    "<html lang=\"en\">\n",
    "<head>\n",
    "    <meta charset=\"UTF-8\">\n",
    "    <meta name=\"viewport\" content=\"width=device-width, initial-scale=1.0\">\n",
    "    <title>{% block page_title %}{% endblock %}</title>\n",
    "</head>\n",
    "<body>\n",
    "    {% block content %}{% endblock %}\n",
    "</body>\n",
    "</html> "
   ]
  },
  {
   "cell_type": "markdown",
   "id": "25351087-5f85-47a0-bfc7-ad08b2bad67d",
   "metadata": {},
   "source": [
    "6- Now, we need to extend this template from our other templates.<br>\n",
    "Go to your index.html and add the extends tag to the top of your html file.<br>\n",
    "The extends tag sytanx is as follows:"
   ]
  },
  {
   "cell_type": "code",
   "execution_count": null,
   "id": "84acf10e-e282-4363-9c8e-73fbc6762137",
   "metadata": {},
   "outputs": [],
   "source": [
    "{% extends template_name %}"
   ]
  },
  {
   "cell_type": "markdown",
   "id": "eced515f-5a8f-4780-8708-d479379050ea",
   "metadata": {},
   "source": [
    "Instead of the template_name you should write the name of the template that you want to inherit from ('base.html' in our case)."
   ]
  },
  {
   "cell_type": "code",
   "execution_count": null,
   "id": "6f8ce4a6-7f20-43de-9baa-b386dd3331c3",
   "metadata": {},
   "outputs": [],
   "source": [
    "{% extends 'base.html' %}"
   ]
  },
  {
   "cell_type": "markdown",
   "id": "3ffef0fb-5d45-4be6-9f56-caad5b6fb090",
   "metadata": {},
   "source": [
    "7- Now as you remember we need to make sure that Django can find that template like everyother templates we used so far.<br>\n",
    "Go to the settings.py file and inside the DIRS, add Base_Dir / 'templates'<br>\n",
    "Your templates dictionary which is inside your settings.py file should looklike the following block: "
   ]
  },
  {
   "cell_type": "code",
   "execution_count": null,
   "id": "0acbfd87-341a-461e-8e1d-29eeba1aa935",
   "metadata": {},
   "outputs": [],
   "source": [
    "TEMPLATES = [\n",
    "    {\n",
    "        'BACKEND': 'django.template.backends.django.DjangoTemplates',\n",
    "        'DIRS': [\n",
    "            #BASE_DIR / 'Python_Fundamentals' / 'templates'\n",
    "            BASE_DIR / 'templates'\n",
    "        ],\n",
    "        'APP_DIRS': True,\n",
    "        'OPTIONS': {\n",
    "            'context_processors': [\n",
    "                'django.template.context_processors.debug',\n",
    "                'django.template.context_processors.request',\n",
    "                'django.contrib.auth.context_processors.auth',\n",
    "                'django.contrib.messages.context_processors.messages',\n",
    "            ],\n",
    "        },\n",
    "    },\n",
    "]"
   ]
  },
  {
   "cell_type": "markdown",
   "id": "098f47df-61bd-468d-8555-4d565a9b4122",
   "metadata": {},
   "source": [
    "8- Now, inside the index.html file we can get rid of every code except for the dynamic parts.<br>\n",
    "After deleteing all the unnecessary tags, you need to tell where it should inject the dynamic parts.<br>\n",
    "To do so, we need to use the block tag again.<br>\n",
    "9- write the block tags and give them the names you gaved in the base.html file.<br>\n",
    "\n",
    "Your index.html file should look something like the following now:"
   ]
  },
  {
   "cell_type": "code",
   "execution_count": null,
   "id": "a1b0a2ce-8cc9-47f8-8ca0-81682525bc33",
   "metadata": {},
   "outputs": [],
   "source": [
    "{% extends \"base.html\" %}\n",
    "\n",
    "    {% block page_title %}\n",
    "        All Exercises\n",
    "    {% endblock page_title %}\n",
    "\n",
    "    {% block content %}\n",
    "        <ul>\n",
    "        {% for key, value in exercises.items %}\n",
    "            {% if value%}\n",
    "                <li><a href='{% url 'py_fun_int' key %}'>{{ value|title }}</a></li>\n",
    "            {% else %}\n",
    "                <li><a href='{% url 'py_fun_int' key %}'>Not implemented</a></li>\n",
    "            {% endif %}\n",
    "        {% endfor %}\n",
    "        </ul>\n",
    "    {% endblock  %}"
   ]
  },
  {
   "cell_type": "markdown",
   "id": "de09f505-ec4b-41a1-8300-54bd3c5ad5dc",
   "metadata": {},
   "source": [
    "Fix the exercise.html file so that it too uses inheritance.\n",
    "\n",
    "Your exercise.html file should look something like the following block:"
   ]
  },
  {
   "cell_type": "code",
   "execution_count": null,
   "id": "dc167484-9368-40fa-a2f5-7614f4ca03a8",
   "metadata": {},
   "outputs": [],
   "source": [
    "{% extends \"base.html\" %}\n",
    "\n",
    "    <title>E-{{ ex_num }}</title>\n",
    "\n",
    "    {% block content %}\n",
    "        <h1>Exercise {{ ex_num }}</h1>\n",
    "        {% if text %}\n",
    "            <h2>{{ text }}</h2>\n",
    "        {% else %}\n",
    "            <h2>Not Implemented</h2>\n",
    "        {% endif %}\n",
    "    {% endblock content %}"
   ]
  },
  {
   "cell_type": "markdown",
   "id": "ca664813-8831-4008-b94d-7ca16a22f9ef",
   "metadata": {},
   "source": [
    "In the next notebook we are going to learn includes which are also known as Partialls."
   ]
  }
 ],
 "metadata": {
  "kernelspec": {
   "display_name": "Python 3 (ipykernel)",
   "language": "python",
   "name": "python3"
  },
  "language_info": {
   "codemirror_mode": {
    "name": "ipython",
    "version": 3
   },
   "file_extension": ".py",
   "mimetype": "text/x-python",
   "name": "python",
   "nbconvert_exporter": "python",
   "pygments_lexer": "ipython3",
   "version": "3.10.11"
  }
 },
 "nbformat": 4,
 "nbformat_minor": 5
}
