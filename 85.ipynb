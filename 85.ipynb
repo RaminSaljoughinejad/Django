{
 "cells": [
  {
   "cell_type": "markdown",
   "id": "8ed9786d",
   "metadata": {
    "vscode": {
     "languageId": "plaintext"
    }
   },
   "source": [
    "Creating the Authors Template.\n",
    "\n",
    "\n",
    "1. Create a new template called 'Authors' in your 'blog' app project and link it to a css file with the same name.\n",
    "2. Use the auth.user model to show a list of all authors on this page!\n",
    "    - from django.contrib.auth.models import User\n",
    "3. Style the page as you desire."
   ]
  },
  {
   "cell_type": "code",
   "execution_count": null,
   "id": "fbc9805c",
   "metadata": {
    "vscode": {
     "languageId": "plaintext"
    }
   },
   "outputs": [],
   "source": [
    "authors.html template:"
   ]
  },
  {
   "cell_type": "code",
   "execution_count": null,
   "id": "36442ae4",
   "metadata": {
    "vscode": {
     "languageId": "html"
    }
   },
   "outputs": [],
   "source": [
    "{% block content %}\n",
    "<div class=\"container text-white-50 mt-5\">\n",
    "    <h1>Authors List</h1>\n",
    "    <table class='table-bordered table-condensed'>\n",
    "        <thead class='bg-dark'>\n",
    "            <tr>\n",
    "                <th>Username</th>\n",
    "                <th>Email</th>\n",
    "                <th>Date of Creation</th>\n",
    "            </tr>\n",
    "        </thead>\n",
    "        <tbody>\n",
    "            {% for author in authors %}\n",
    "                <tr>\n",
    "                    <td>{{ author.username }}</td>\n",
    "                    <td>{{ author.email }}</td>\n",
    "                    <td>{{ author.date_joined|date:\"F j, Y, g:i a\" }}</td>\n",
    "                </tr>\n",
    "            {% endfor %}\n",
    "        </tbody>\n",
    "    </table>\n",
    "</div>\n",
    "{% endblock content %}"
   ]
  },
  {
   "cell_type": "markdown",
   "id": "1bfe3dbf",
   "metadata": {
    "vscode": {
     "languageId": "html"
    }
   },
   "source": [
    "authors.css file:"
   ]
  },
  {
   "cell_type": "code",
   "execution_count": null,
   "id": "745992da",
   "metadata": {
    "vscode": {
     "languageId": "css"
    }
   },
   "outputs": [],
   "source": [
    "table {\n",
    "    width: 100%;\n",
    "    border-collapse: collapse;\n",
    "}\n",
    "th, td {\n",
    "    padding: 10px;\n",
    "    text-align: left;\n",
    "}\n",
    "tr{\n",
    "    cursor: pointer;\n",
    "}\n",
    "tr:hover{\n",
    "    background-color:rgba(255,255,255,0.6);\n",
    "    color:black;\n",
    "    border:1px solid black;\n",
    "}"
   ]
  },
  {
   "cell_type": "markdown",
   "id": "3993fd4b",
   "metadata": {
    "vscode": {
     "languageId": "css"
    }
   },
   "source": [
    "AuthorsView class:"
   ]
  },
  {
   "cell_type": "markdown",
   "id": "11127521",
   "metadata": {},
   "source": [
    "from django.contrib.auth.models import User\n",
    "class AuthorsView(ListView):\n",
    "    template_name = 'blog/authors.html'\n",
    "    model = User\n",
    "    context_object_name = 'authors'"
   ]
  },
  {
   "cell_type": "markdown",
   "id": "c6421fa0",
   "metadata": {
    "vscode": {
     "languageId": "css"
    }
   },
   "source": [
    "We will come back here to later to modify a few things.<br>\n",
    "\n",
    "Lets move on and create a new model called tags:<br>\n",
    "The model has to have the following attributes:<br>\n",
    "- caption = models.CharField(max_length=20)"
   ]
  },
  {
   "cell_type": "code",
   "execution_count": null,
   "id": "a9164515",
   "metadata": {},
   "outputs": [],
   "source": [
    "class Tag(models.Model):\n",
    "    caption = models.CharField(max_length=20)\n",
    "\n",
    "    def __str__(self):\n",
    "        return self.caption\n",
    "\n",
    "    class Meta:\n",
    "        verbose_name_plural = 'All Tags'"
   ]
  },
  {
   "cell_type": "markdown",
   "id": "c05a2fa2",
   "metadata": {},
   "source": [
    "Now create a new model called posts with the same attributes as our 'website' project<br>"
   ]
  },
  {
   "cell_type": "code",
   "execution_count": null,
   "id": "91dc0494",
   "metadata": {},
   "outputs": [],
   "source": [
    "class Post(models.Model):\n",
    "    title = models.CharField(max_length=200, null=False)\n",
    "    slug = models.SlugField(unique=True, db_index=True)\n",
    "    date = models.DateField(auto_now=True)\n",
    "    image = models.ImageField(upload_to='images', null=True)\n",
    "    excerpt = models.CharField(max_length=300)\n",
    "    content = models.TextField(validators=[MinLengthValidator(10)])\n",
    "    author = models.ForeignKey(User, null=True, on_delete=models.SET_NULL, related_name='posts')\n",
    "    tags = models.ManyToManyField('Tag')\n",
    "\n",
    "    def __str__(self):\n",
    "        return f\"{self.title}\"\n",
    "\n",
    "    def save(self, *args, **kwargs):\n",
    "        self.slug = slugify(self.title)\n",
    "        super().save(*args, **kwargs)\n",
    "\n",
    "    class Meta:\n",
    "        verbose_name_plural = 'All Posts'"
   ]
  },
  {
   "cell_type": "markdown",
   "id": "6b15295a",
   "metadata": {},
   "source": [
    "Make the needed changes to the admin.py file so you can access both Post and Tag models."
   ]
  },
  {
   "cell_type": "code",
   "execution_count": null,
   "id": "3f49815d",
   "metadata": {},
   "outputs": [],
   "source": [
    "from django.contrib import admin\n",
    "from .models import Post, Tag\n",
    "\n",
    "\n",
    "class TagAdmin(admin.ModelAdmin):\n",
    "    list_display = ['caption']\n",
    "\n",
    "class PostAdmin(admin.ModelAdmin):\n",
    "    prepopulated_fields = {'slug':('title',)}\n",
    "    list_display = ['title', 'date', 'author']\n",
    "    list_filter = ('author', 'date', 'tags')\n",
    "\n",
    "admin.site.register(Tag, TagAdmin)\n",
    "admin.site.register(Post, PostAdmin)"
   ]
  },
  {
   "cell_type": "markdown",
   "id": "c0757c85",
   "metadata": {},
   "source": [
    "You need to install pillow package for handleing images."
   ]
  },
  {
   "cell_type": "code",
   "execution_count": null,
   "id": "4d27fa01",
   "metadata": {
    "vscode": {
     "languageId": "powershell"
    }
   },
   "outputs": [],
   "source": [
    "python -m pip install --upgrade pillow"
   ]
  },
  {
   "cell_type": "markdown",
   "id": "543f1079",
   "metadata": {},
   "source": [
    "Makemigrations and migrate"
   ]
  },
  {
   "cell_type": "code",
   "execution_count": null,
   "id": "8bbd87f5",
   "metadata": {
    "vscode": {
     "languageId": "powershell"
    }
   },
   "outputs": [],
   "source": [
    "python manage.py makemigrations\n",
    "python manage.py migrate"
   ]
  },
  {
   "cell_type": "markdown",
   "id": "1c28c37d",
   "metadata": {
    "vscode": {
     "languageId": "powershell"
    }
   },
   "source": [
    "Now, we need fix he archives template, write the needed code to present a list of all posts in that tempalte.its very simple! you need to create a view for it too.<br>\n",
    "\n",
    "ArchiveView class:"
   ]
  },
  {
   "cell_type": "code",
   "execution_count": null,
   "id": "a045cc5e",
   "metadata": {},
   "outputs": [],
   "source": [
    "class ArchiveView(ListView):\n",
    "    template_name = 'blog/archive.html'\n",
    "    model = Post\n",
    "    context_object_name = 'allPosts'\n",
    "    def get_queryset(self):\n",
    "        return Post.objects.all().order_by('-date')"
   ]
  },
  {
   "cell_type": "markdown",
   "id": "cd0309fe",
   "metadata": {},
   "source": [
    "archive.html template:"
   ]
  },
  {
   "cell_type": "markdown",
   "id": "78a039f9",
   "metadata": {},
   "source": [
    "{% block content %}\n",
    "    <div class=\"container text-white-50 mt-5\">\n",
    "        {% if allPosts %}\n",
    "        <h1>Posts Archive</h1>\n",
    "        <table class='table-bordered table-condensed'>\n",
    "            <thead class='bg-dark'>\n",
    "                <tr>\n",
    "                    <th>Title</th>\n",
    "                    <th>Tags</th>\n",
    "                    <th>Date</th>\n",
    "                    <th>Author</th>\n",
    "                </tr>\n",
    "            </thead>\n",
    "            {% for post in allPosts %}\n",
    "                <tr>\n",
    "                    <td>{{post.title}}</td>\n",
    "                    <td>{{post.tags}}</td>\n",
    "                    <td>{{post.date}}</td>\n",
    "                    <td>{{post.author}}</td>\n",
    "                </tr>\n",
    "            {% endfor %}\n",
    "        </table>\n",
    "        {% else %}\n",
    "            <h1>No posts yet.</h1>\n",
    "        {% endif %} \n",
    "    </div>\n",
    "    \n",
    "{% endblock content %}"
   ]
  },
  {
   "cell_type": "markdown",
   "id": "b8738987",
   "metadata": {},
   "source": [
    "archive.css file:"
   ]
  },
  {
   "cell_type": "code",
   "execution_count": null,
   "id": "966b17f1",
   "metadata": {
    "vscode": {
     "languageId": "css"
    }
   },
   "outputs": [],
   "source": [
    "table {\n",
    "    width: 100%;\n",
    "    border-collapse: collapse;\n",
    "}\n",
    "th, td {\n",
    "    padding: 10px;\n",
    "    text-align: left;\n",
    "}\n",
    "tr{\n",
    "    cursor: pointer;\n",
    "}\n",
    "tr:hover{\n",
    "    background-color:rgba(255,255,255,0.6);\n",
    "    color:black;\n",
    "    border:1px solid black;\n",
    "}"
   ]
  },
  {
   "cell_type": "markdown",
   "id": "22019848",
   "metadata": {
    "vscode": {
     "languageId": "css"
    }
   },
   "source": [
    "Now we need to add a new link to the navbar (only visible for authenticated users) that takes the users to a template where they acan create a enw post.<br>"
   ]
  },
  {
   "cell_type": "code",
   "execution_count": null,
   "id": "1621c8ad",
   "metadata": {
    "vscode": {
     "languageId": "html"
    }
   },
   "outputs": [],
   "source": [
    "{% if user.is_authenticated %}\n",
    "    <li class=\"nav-item\">\n",
    "        <a class=\"btn btn-primary text-white mr-2\" href=\"{% url \"compose-new-post-url\" %}\"><i class=\"bi bi-pencil-square\"></i></a>\n",
    "    </li>\n",
    "{% endif %}"
   ]
  },
  {
   "cell_type": "markdown",
   "id": "6c3be635",
   "metadata": {
    "vscode": {
     "languageId": "html"
    }
   },
   "source": [
    "Create a file called forms.py:"
   ]
  },
  {
   "cell_type": "code",
   "execution_count": null,
   "id": "1336ab1d",
   "metadata": {},
   "outputs": [],
   "source": [
    "from django import forms\n",
    "from.models import Post\n",
    "\n",
    "\n",
    "class ComposeForm(forms.ModelForm):\n",
    "    class Meta:\n",
    "        model = Post\n",
    "        fields = ['title', 'image', 'excerpt', 'content', 'tags']\n",
    "        labels = {\n",
    "            \"title\":\"Title\",\n",
    "            \"excerpt\":\"Short overview\",\n",
    "            \"content\":\"Text\",\n",
    "            'tags':'Tags'\n",
    "        }"
   ]
  },
  {
   "cell_type": "markdown",
   "id": "5e90ddee",
   "metadata": {},
   "source": [
    "urls.py file:"
   ]
  },
  {
   "cell_type": "code",
   "execution_count": null,
   "id": "a113a03c",
   "metadata": {},
   "outputs": [],
   "source": [
    "urlpatterns = [\n",
    "    path('', views.IndexView.as_view(), name='blog-root-url'),\n",
    "    path('archive', views.ArchiveView.as_view(), name='blog-archive-url'),\n",
    "    path('authors', views.AuthorsView.as_view(), name='blog-authors-url'),\n",
    "    path('about', views.AboutView.as_view(), name='blog-about-url'),\n",
    "    path('compose', views.ComposeView.as_view(), name='compose-new-post-url')\n",
    "]"
   ]
  },
  {
   "cell_type": "markdown",
   "id": "04a59f79",
   "metadata": {},
   "source": [
    "ComposeView class:"
   ]
  },
  {
   "cell_type": "code",
   "execution_count": null,
   "id": "6ae37f1b",
   "metadata": {},
   "outputs": [],
   "source": [
    "class ComposeView(CreateView):\n",
    "    template_name = 'blog/compose.html'\n",
    "    model = Post\n",
    "    form_class = ComposeForm\n",
    "    success_url = reverse_lazy('blog-root-url')\n",
    "\n",
    "    def form_valid(self, form):\n",
    "        form.instance.author = self.request.user\n",
    "        print(\"validated\")\n",
    "        return super().form_valid(form)"
   ]
  },
  {
   "cell_type": "markdown",
   "id": "819f263d",
   "metadata": {},
   "source": [
    "compose.html template:"
   ]
  },
  {
   "cell_type": "markdown",
   "id": "e00af69a",
   "metadata": {},
   "source": [
    "<div class=\"d-flex justify-content-center text-white-50 mt-5\">\n",
    "    <div class=\"col-md-3 bg-dark p-4 rounded-lg\">\n",
    "        <h1 class='text-center text-white'>Compose New Post</h1>\n",
    "        <form action=\"\" method=\"POST\" enctype='multipart/form-data'>\n",
    "            {% csrf_token %}\n",
    "            {{ form }}\n",
    "            <button class='btn btn-primary mt-4 btn-block' type=\"submit\">Publish</button>\n",
    "        </form>\n",
    "    </div>\n",
    "</div>"
   ]
  },
  {
   "cell_type": "markdown",
   "id": "feab120d",
   "metadata": {},
   "source": [
    "The other changes are need to be done by the students!<br>"
   ]
  },
  {
   "cell_type": "markdown",
   "id": "d790165b",
   "metadata": {},
   "source": [
    "End of Chapter 12"
   ]
  }
 ],
 "metadata": {
  "kernelspec": {
   "display_name": "Python 3",
   "language": "python",
   "name": "python3"
  },
  "language_info": {
   "codemirror_mode": {
    "name": "ipython",
    "version": 3
   },
   "file_extension": ".py",
   "mimetype": "text/x-python",
   "name": "python",
   "nbconvert_exporter": "python",
   "pygments_lexer": "ipython3",
   "version": "3.10.11"
  }
 },
 "nbformat": 4,
 "nbformat_minor": 5
}
