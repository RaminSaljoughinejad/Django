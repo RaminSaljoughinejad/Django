{
 "cells": [
  {
   "cell_type": "markdown",
   "id": "c530b377-55d5-40ba-b2d7-94c8b81ca18a",
   "metadata": {},
   "source": [
    "### Dynamic Path Construction\n",
    "This is achieved by giving a name to a url and later use it in other parts of the project.\n",
    "\n",
    "Lets do this:\n",
    "\n",
    "Open your apps urls file, and add a third prameter called name to the second path inside your urlpatterns list. Set the name parameter equals to a string with the name of your choice (This name is going to be used when we are referring to this url).\n",
    "\n",
    "Now that your url has a name, you can use this name to construct urls pointing at that registered url.\n",
    "\n",
    "Your urls file should looks like this now."
   ]
  },
  {
   "cell_type": "code",
   "execution_count": null,
   "id": "2aa79f27-4996-4435-a913-9889a42f4b1a",
   "metadata": {},
   "outputs": [],
   "source": [
    "from django.urls import path\n",
    "from . import views\n",
    "\n",
    "urlpatterns = [\n",
    "    path(\"<int:exercise>\", views.url_handler_int),\n",
    "    path(\"<str:exercise>\", views.url_handler_str, name='py_fun')\n",
    "]"
   ]
  },
  {
   "cell_type": "markdown",
   "id": "cf96b380-e2e7-4ca1-9e26-88b75923bd02",
   "metadata": {},
   "source": [
    "Now, go to your views file to construct the url.\n",
    "\n",
    "First, import reverse from djnago.urls<br>\n",
    "Then, find the place where you hardcoded the urls and use the reverse function.<br>\n",
    "The reverse function should recieve the name you defined for your url as a string and its first parameter.<br>\n",
    "The rest of the url should be passed as a second parameter called args, which is a list and now hshould hold _redirections[exercise] inside it.<br>\n",
    "\n",
    "Your Views file now Should looks like the following."
   ]
  },
  {
   "cell_type": "code",
   "execution_count": null,
   "id": "dc4d695b-05de-4c44-8839-a4e6c45bd2b3",
   "metadata": {},
   "outputs": [],
   "source": [
    "from django.shortcuts import render\n",
    "from django.http import HttpResponse, HttpResponseNotFound, HttpResponseRedirect\n",
    "from django.urls import reverse\n",
    "\n",
    "_dict = {\n",
    "    1:'Variables!',\n",
    "    2:'If-Statements',\n",
    "    3:'Loops',\n",
    "    53:'This is the last notebook of this course.'\n",
    "}\n",
    "\n",
    "_redirections = {\n",
    "    'intro':'1',\n",
    "    'final':'53'\n",
    "}\n",
    "\n",
    "# Create your views here.\n",
    "def url_handler_str(request,  exercise):\n",
    "    if exercise in _redirections:\n",
    "        return HttpResponseRedirect(reverse('py_fun',args=[_redirections[exercise]]))\n",
    "    return HttpResponse(f\"The url is looking for '{exercise}' address and is a string.\")\n",
    "\n",
    "\n",
    "def url_handler_int(request,  exercise):\n",
    "    if exercise in _dict:\n",
    "        return HttpResponse(_dict[exercise])\n",
    "    else:\n",
    "        return HttpResponseNotFound(\"This Page Does Not Exists\")"
   ]
  },
  {
   "cell_type": "markdown",
   "id": "de534862-7b09-4b85-8d10-fc16b5008bb8",
   "metadata": {},
   "source": [
    "Now, if you go to your projects urls file and change the first argument of the path pointing to your app, you can still get the correct response."
   ]
  }
 ],
 "metadata": {
  "kernelspec": {
   "display_name": "Python 3 (ipykernel)",
   "language": "python",
   "name": "python3"
  },
  "language_info": {
   "codemirror_mode": {
    "name": "ipython",
    "version": 3
   },
   "file_extension": ".py",
   "mimetype": "text/x-python",
   "name": "python",
   "nbconvert_exporter": "python",
   "pygments_lexer": "ipython3",
   "version": "3.10.11"
  }
 },
 "nbformat": 4,
 "nbformat_minor": 5
}
