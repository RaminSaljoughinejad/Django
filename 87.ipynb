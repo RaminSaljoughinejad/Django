{
 "cells": [
  {
   "cell_type": "markdown",
   "id": "955d8b51",
   "metadata": {},
   "source": [
    "### Lets create login and signup page:\n",
    "\n",
    "You have already learned this in our previous project, so lets do it fast.\n",
    "\n",
    "1. For Login - > include the auth app url in the BookStore.urls.py\n",
    "    - path('accounts/', include('django.contrib.auth.urls'))\n",
    "\n",
    "2. For Signup -> include the the urls file from the accounts app in the BookStore.urls.py\n",
    "    - path('accounts/', include('accounts.urls'))\n",
    "    - You need to create the urls file in the accounts app\n",
    "3. Navigate to accounts.urls.py file:\n",
    "    - add the urlpatterns list and create a 'signup' url\n",
    "4. Navigate to accounts.views.py file:\n",
    "    - Create a new CreateView class\n",
    "5. Modify the accounts.urls.py so that the root url points to the View class that you have just created."
   ]
  },
  {
   "cell_type": "code",
   "execution_count": null,
   "id": "a9a58c06",
   "metadata": {},
   "outputs": [],
   "source": [
    "from django.urls import path\n",
    "from . import views\n",
    "\n",
    "urlpatterns = [\n",
    "    path(\"singup\", views.SignUpView.as_view, name='Signup-url')\n",
    "]"
   ]
  },
  {
   "cell_type": "code",
   "execution_count": null,
   "id": "2e9bc040",
   "metadata": {},
   "outputs": [],
   "source": [
    "from django.shortcuts import render\n",
    "from django.views.generic import CreateView\n",
    "\n",
    "\n",
    "class SignUpView(CreateView):\n",
    "    pass"
   ]
  },
  {
   "cell_type": "markdown",
   "id": "16823ec9",
   "metadata": {},
   "source": [
    "If you remember, now, we need to add our templates and this templates needs to have a specific name (you can see the name in the auth.views.py)\n",
    "\n",
    "Follow the best practices and create the template folder with the templates you need.\n",
    "Note: inside your app tempaltes folder and static folder you will need to create a folder called registarion and then inside them create your templates and css files.\n",
    "\n",
    "Note: Do not folrget to follow the best practices and add the base template for your project."
   ]
  },
  {
   "cell_type": "markdown",
   "id": "86df3452",
   "metadata": {},
   "source": [
    "accounts.templates.registration.login.html"
   ]
  },
  {
   "cell_type": "markdown",
   "id": "c05a3320",
   "metadata": {},
   "source": [
    "{% extends \"base.html\" %}\n",
    "{% load static %}\n",
    "\n",
    "{% block page_title %}Sign Up{% endblock page_title %}\n",
    "\n",
    "{% block css_files %}\n",
    "    <link rel=\"stylesheet\" href=\"{% static \"registration/login.html\" %}\">\n",
    "{% endblock css_files %}\n",
    "\n",
    "{% block content %}\n",
    "    <form action=\"POST\">\n",
    "        {{ form }}\n",
    "        <button type=\"submit\">Login</button>\n",
    "    </form>\n",
    "{% endblock content %}"
   ]
  },
  {
   "cell_type": "markdown",
   "id": "7d5e9e30",
   "metadata": {},
   "source": [
    "templates.base.html"
   ]
  },
  {
   "cell_type": "markdown",
   "id": "815445b7",
   "metadata": {},
   "source": [
    "{% load static %}\n",
    "<!DOCTYPE html>\n",
    "<html lang=\"en\">\n",
    "<head>\n",
    "    <meta charset=\"UTF-8\">\n",
    "    <meta name=\"viewport\" content=\"width=device-width, initial-scale=1.0\">\n",
    "    <title>{% block page_title %}{% endblock page_title %}</title>\n",
    "    <link rel=\"stylesheet\" href=\"{% static \"base.css\" %}\">\n",
    "    {% block css_files %}{% endblock css_files %}\n",
    "</head>\n",
    "<body>\n",
    "    {% block content %}{% endblock content %}\n",
    "</body>\n",
    "</html>"
   ]
  },
  {
   "cell_type": "markdown",
   "id": "a67c2e5e",
   "metadata": {},
   "source": [
    "Do not forget to add the templates folder and STATICFILES_DIRS to your project setting.py"
   ]
  },
  {
   "cell_type": "code",
   "execution_count": null,
   "id": "a0adc12d",
   "metadata": {},
   "outputs": [],
   "source": [
    "TEMPLATES = [\n",
    "    {\n",
    "        'BACKEND': 'django.template.backends.django.DjangoTemplates',\n",
    "        'DIRS': [\n",
    "            BASE_DIR / 'templates'\n",
    "        ],\n",
    "        'APP_DIRS': True,\n",
    "        'OPTIONS': {\n",
    "            'context_processors': [\n",
    "                'django.template.context_processors.debug',\n",
    "                'django.template.context_processors.request',\n",
    "                'django.contrib.auth.context_processors.auth',\n",
    "                'django.contrib.messages.context_processors.messages',\n",
    "            ],\n",
    "        },\n",
    "    },\n",
    "]\n",
    "\n",
    "STATICFILES_DIRS = [\n",
    "    BASE_DIR / 'static'\n",
    "]"
   ]
  },
  {
   "cell_type": "markdown",
   "id": "b3a5c7ee",
   "metadata": {},
   "source": [
    "Now, go ahead and style your login template in the way that you want."
   ]
  },
  {
   "cell_type": "markdown",
   "id": "d510080c",
   "metadata": {},
   "source": [
    "<div class=\"main-wrapper\">\n",
    "    <form action=\"\" method='POST'>\n",
    "        {% csrf_token %}\n",
    "        {{ form.as_p }}\n",
    "        <button type=\"submit\">Login</button>\n",
    "    </form>\n",
    "</div>"
   ]
  },
  {
   "cell_type": "code",
   "execution_count": null,
   "id": "17f13a54",
   "metadata": {
    "vscode": {
     "languageId": "css"
    }
   },
   "outputs": [],
   "source": [
    "body{\n",
    "    background-color:rgb(31, 29, 29);\n",
    "    color:rgb(186, 184, 184);\n",
    "}\n",
    ".main-wrapper{\n",
    "    width:15rem;\n",
    "    min-width: 15rem;\n",
    "    margin: 5rem auto 0 auto;\n",
    "    padding:2rem;\n",
    "    padding-top:1rem;\n",
    "    border:1px solid rgb(186, 184, 184);\n",
    "    box-shadow: 0 0 5px rgba(255,255,255,0.6);\n",
    "    border-radius: 6px;\n",
    "}\n",
    ".main-wrapper p{\n",
    "    margin-top:2rem;\n",
    "}\n",
    ".main-wrapper p label{\n",
    "    display: block;\n",
    "}\n",
    ".main-wrapper p input{\n",
    "    width: 95%;\n",
    "    height:1.5rem;\n",
    "    border:1px solid rgb(186, 184, 184);\n",
    "    margin-top:0.5rem;\n",
    "    padding-left:10px;\n",
    "    border-radius: 6px;\n",
    "    background-color:rgb(31, 29, 29);\n",
    "    color:rgb(186, 184, 184);\n",
    "}\n",
    ".main-wrapper p input:hover,\n",
    ".main-wrapper p input:active{\n",
    "    border-color:rgb(63, 131, 231);\n",
    "}\n",
    ".main-wrapper button{\n",
    "    margin-top:1.5rem;\n",
    "    width: 100%;\n",
    "    background-color:rgb(63, 131, 231);\n",
    "    border:1px solid rgba(63,131,231);\n",
    "    height:2rem;\n",
    "    color:white;\n",
    "    border-radius: 6px;\n",
    "    margin-bottom:1rem;\n",
    "}"
   ]
  },
  {
   "cell_type": "markdown",
   "id": "06191fac",
   "metadata": {
    "vscode": {
     "languageId": "css"
    }
   },
   "source": [
    "Now lets add the LOGIN_REDIRECT_URL and LOGOUT_REDIRECT_URL to the proejct setting. Point both of the to the 'home'.\n",
    "\n",
    "As you know, we dont have the home url yet, lets add it:<br>\n",
    "1. Navigate to BookStore.urls.py and add a new path('home/')\n",
    "\n",
    "Now, you have two options:<br>\n",
    "-  You could create a new app and then create a tempalte inside it and then define the path and views for it and give it the name 'home'.\n",
    "- Use single line template loading to load a template.\n",
    "\n",
    "We have used the first one in our previous project, and it is the best option. However since we have never use the second option lets do it so you have a better understanding of it::after\n",
    "\n",
    "2. From django.views.generic.base import TemplateView\n",
    "3. Pass is as the second argument of your new path and call the as_view methon on it.\n",
    "4. Pass template_name='home.html' as an argument to the as_view method.\n",
    "5. Pass name='home' to the path as the third argument.\n",
    "6. Create a new template called home.html next to your base.html template and extend it from base.html, give it some style and text so that we know it is loaded."
   ]
  },
  {
   "cell_type": "markdown",
   "id": "33b410f8",
   "metadata": {
    "vscode": {
     "languageId": "css"
    }
   },
   "source": [
    "urls.py"
   ]
  },
  {
   "cell_type": "code",
   "execution_count": null,
   "id": "23ace84d",
   "metadata": {},
   "outputs": [],
   "source": [
    "from django.contrib import admin\n",
    "from django.urls import path, include\n",
    "from django.views.generic.base import TemplateView\n",
    "\n",
    "urlpatterns = [\n",
    "    path('admin/', admin.site.urls),\n",
    "    path(\"home/\", TemplateView.as_view(template_name='home.html'), name='home'),\n",
    "    path('accounts/', include('django.contrib.auth.urls')),\n",
    "    path('accounts/', include('accounts.urls'))\n",
    "]"
   ]
  },
  {
   "cell_type": "markdown",
   "id": "4ee26aee",
   "metadata": {},
   "source": [
    "Inside your home tempalte, check if the user is authenticated and print its user.username; if the user is not authentcated show a link to the user which if clicked heads to the login.html<br>"
   ]
  },
  {
   "cell_type": "code",
   "execution_count": null,
   "id": "d4b122be",
   "metadata": {
    "vscode": {
     "languageId": "html"
    }
   },
   "outputs": [],
   "source": [
    "{% extends \"base.html\" %}\n",
    "{% load static %}\n",
    "\n",
    "{% block page_title %}\n",
    "    Home\n",
    "{% endblock page_title %}\n",
    "\n",
    "{% block css_files %}{% endblock css_files %}\n",
    "\n",
    "{% block content %}\n",
    "    <h2>Home Page</h2>\n",
    "    {% if user.is_authenticated %}\n",
    "        <p>Welcome {{ user.username }}</p>\n",
    "        <form action=\"{% url \"logout\" %}\" method=\"POST\">\n",
    "            {% csrf_token %}\n",
    "            <button type=\"submit\">Log Out</button>\n",
    "        </form>\n",
    "    {% else %}\n",
    "        <a href=\"{% url \"login\" %}\">Login</a>\n",
    "    {% endif %}\n",
    "{% endblock content %}"
   ]
  },
  {
   "cell_type": "markdown",
   "id": "276188b8",
   "metadata": {
    "vscode": {
     "languageId": "html"
    }
   },
   "source": [
    "Lets work on SignUpView:\n",
    "\n",
    "1. Create a new tempalte in the accounts.template.registration and call it 'sign-up.html'"
   ]
  },
  {
   "cell_type": "code",
   "execution_count": null,
   "id": "7ee63d43",
   "metadata": {
    "vscode": {
     "languageId": "html"
    }
   },
   "outputs": [],
   "source": [
    "{% extends \"base.html\" %}\n",
    "{% load static %}\n",
    "\n",
    "{% block page_title %}Register{% endblock page_title %}\n",
    "\n",
    "{% block css_files %}\n",
    "    <link rel=\"stylesheet\" href=\"{% static \"registration/signup.css\" %}\">\n",
    "{% endblock css_files %}\n",
    "\n",
    "{% block content %}\n",
    "<div class=\"main-wrapper\">\n",
    "    <form action=\"\" method=\"post\">\n",
    "        {{ form.as_p }}\n",
    "        <button type=\"submit\">Register</button>\n",
    "    </form>\n",
    "</div>\n",
    "{% endblock content %}"
   ]
  },
  {
   "cell_type": "markdown",
   "id": "4131eade",
   "metadata": {
    "vscode": {
     "languageId": "html"
    }
   },
   "source": [
    "2. Navigate to accounts.views.py and lets modify the View class we created earlier."
   ]
  },
  {
   "cell_type": "code",
   "execution_count": null,
   "id": "31fe0f94",
   "metadata": {},
   "outputs": [],
   "source": [
    "class SignUpView(CreateView):\n",
    "    form_class = CustomUserCreationForm\n",
    "    template_name = 'registration/signup.html'\n",
    "    success_url = reverse_lazy('login')"
   ]
  },
  {
   "cell_type": "markdown",
   "id": "60b00643",
   "metadata": {},
   "source": [
    "Save everything and load signup page. You will se a problem! the form contains all the fields! we dont want them all!\n",
    "To fix this:"
   ]
  },
  {
   "cell_type": "code",
   "execution_count": null,
   "id": "189cae12",
   "metadata": {},
   "outputs": [],
   "source": [
    "class CustomUserCreationForm(UserCreationForm):\n",
    "    age = forms.IntegerField(required=False)\n",
    "\n",
    "    class Meta:\n",
    "        model = CustomUser\n",
    "        fields = UserCreationForm.Meta.fields + ('age',)"
   ]
  },
  {
   "cell_type": "markdown",
   "id": "765e626a",
   "metadata": {},
   "source": [
    "Style the page ( I used the same styling that i used for the login.html template and only added the following)"
   ]
  },
  {
   "cell_type": "code",
   "execution_count": null,
   "id": "37e3c9c1",
   "metadata": {
    "vscode": {
     "languageId": "css"
    }
   },
   "outputs": [],
   "source": [
    ".main-wrapper ul{\n",
    "    padding: 0;\n",
    "    text-align: justify;\n",
    "    list-style: none;\n",
    "}\n",
    ".main-wrapper li{\n",
    "    margin-top:0.5rem;\n",
    "}"
   ]
  },
  {
   "cell_type": "markdown",
   "id": "a017552e",
   "metadata": {
    "vscode": {
     "languageId": "bat"
    }
   },
   "source": [
    "Add the siun up link to the home page!"
   ]
  },
  {
   "cell_type": "markdown",
   "id": "a3863ee2",
   "metadata": {
    "vscode": {
     "languageId": "css"
    }
   },
   "source": [
    "Now, lets talk about how we can add more fields to the signup form! like the firstname, lastname, and email.<br>\n",
    "\n",
    "By default only username, password1 and password2 are in the UserCreationform and we added the age field.<br>\n",
    "To add more fields like the email, lets use another approach:"
   ]
  },
  {
   "cell_type": "code",
   "execution_count": null,
   "id": "49e1f5ad",
   "metadata": {},
   "outputs": [],
   "source": [
    "class CustomUserCreationForm(UserCreationForm):\n",
    "    age = forms.IntegerField(required=False)\n",
    "\n",
    "    class Meta:\n",
    "        model = CustomUser\n",
    "        fields = ('username', 'age', 'email', )"
   ]
  },
  {
   "cell_type": "markdown",
   "id": "1f63bd81",
   "metadata": {},
   "source": [
    "Please note that if you want to add the first name and last name fields their name is stored as 'first_name' and 'last_name'<br>"
   ]
  },
  {
   "cell_type": "markdown",
   "id": "bd3e7028",
   "metadata": {},
   "source": [
    "In the next notebook we will work on how we can implement password reset function"
   ]
  }
 ],
 "metadata": {
  "kernelspec": {
   "display_name": "Python 3",
   "language": "python",
   "name": "python3"
  },
  "language_info": {
   "codemirror_mode": {
    "name": "ipython",
    "version": 3
   },
   "file_extension": ".py",
   "mimetype": "text/x-python",
   "name": "python",
   "nbconvert_exporter": "python",
   "pygments_lexer": "ipython3",
   "version": "3.10.11"
  }
 },
 "nbformat": 4,
 "nbformat_minor": 5
}
