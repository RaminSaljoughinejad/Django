{
 "cells": [
  {
   "cell_type": "code",
   "execution_count": null,
   "id": "79bc6cbd-b1e1-467c-9e0b-f75f96243221",
   "metadata": {},
   "outputs": [],
   "source": []
  }
 ],
 "metadata": {
  "kernelspec": {
   "display_name": "",
   "name": ""
  },
  "language_info": {
   "name": ""
  }
 },
 "nbformat": 4,
 "nbformat_minor": 5
}
