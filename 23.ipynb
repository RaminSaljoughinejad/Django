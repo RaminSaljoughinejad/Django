{
 "cells": [
  {
   "cell_type": "markdown",
   "id": "6435c753-ddb4-4125-8550-334c7fac2c6a",
   "metadata": {},
   "source": [
    "### Project-Wide Static Files\n",
    "\n",
    "For project-wide static files we can use a similar approach as we did with the project-wide templates.<br>\n",
    "\n",
    "We can add a new folder called static next to our root templates folder and pull our CSS files there.<br>\n",
    "\n",
    "1- After creating the static folder, create a file called styles.css and some general CSS code to it.<br><br>\n",
    "  Lets change the font of the whole website:<br>\n",
    "   Go to fonts.google.com<br>\n",
    "   Choose a font and click on it.<br>\n",
    "   On the top of the page, click on Get Font, and then click on Get embed code.<br>\n",
    "   Make sure you select @import radio button and then copy the style code form the bellow text box.<br>\n",
    "   Now, go to the styles.css file and paste the code.<br>\n",
    "   Make sure you only only past the css code and not the HTML tags! Also, make sure that you past it on the top of your CSS file.<br>\n",
    "   Now, use the font for the html tag.<br>\n",
    "   You may also want to change or add other styling codes.\n",
    "  <br><br>\n",
    "Your styles.css file should look something like the following block:"
   ]
  },
  {
   "cell_type": "code",
   "execution_count": null,
   "id": "b93bb032-1c8f-413f-ab79-02d74fa20145",
   "metadata": {},
   "outputs": [],
   "source": [
    "@import url('https://fonts.googleapis.com/css2?family=Poetsen+One&display=swap');\n",
    "\n",
    "html{\n",
    "    font-family: \"Poetsen One\", sans-serif;\n",
    "    font-weight: 400;\n",
    "    font-style: normal;\n",
    "}\n",
    "\n",
    "body{\n",
    "    margin:0;\n",
    "}"
   ]
  },
  {
   "cell_type": "markdown",
   "id": "9967b968-01ff-44ea-9381-57d5ffae5076",
   "metadata": {},
   "source": [
    "You can use the styles.css in all of your project templates. You would need to to open the desired template file and add a link tag (not a new block).<br>\n",
    "<br>\n",
    "Lets do it for the the base.html template:<br>\n",
    "Add an html link tag inside the head and before the css block.<br>\n",
    "You need to load static to be able to create the needed reference inside the href attribute.<br>\n",
    "<br>\n",
    "Your base.html file should look something like the following block:"
   ]
  },
  {
   "cell_type": "code",
   "execution_count": null,
   "id": "a9e50c55-4fc1-4dd1-8d61-fee92607e066",
   "metadata": {},
   "outputs": [],
   "source": [
    "{% load static %}\n",
    "\n",
    "<!DOCTYPE html>\n",
    "<html lang=\"en\">\n",
    "<head>\n",
    "    <meta charset=\"UTF-8\">\n",
    "    <meta name=\"viewport\" content=\"width=device-width, initial-scale=1.0\">\n",
    "    <title>{% block page_title %}{% endblock %}</title>\n",
    "    <link rel='stylesheet' href='{% static \"styles.css\" %}'>\n",
    "    {% block css_files %}{% endblock css_files %}\n",
    "</head>\n",
    "<body>\n",
    "    {% block content %}{% endblock %}\n",
    "</body>\n",
    "</html> "
   ]
  },
  {
   "cell_type": "markdown",
   "id": "21ac0ed9-65ca-4ef1-a76f-96feef32d116",
   "metadata": {},
   "source": [
    "If you now save everything and try to access a webpage on your development server. You will see that nothing changes and also, you will see that you have a 404 error in your server log.<br><br>\n",
    "Why is that the case??<br>\n",
    "\n",
    "You didn't restart the server?<br>\n",
    "Well you didnt and you probebly think thats the case! but, no, it is NOT the case.<br>\n",
    "The problem is that Django only looks for static folders inside your apps and NOT the root of the project.<br>\n",
    "<br>\n",
    "So, how are we supposed to address this problem?<br>\n",
    "Its simple. You need to make Django aware of the static folder inside your root, and to do that you need to go to your settings.py file.<br>\n",
    "\n",
    "One thing I want you to understand here is that the settings which are currently avalible inside your settings.py file are not the only setttings that you have and you can introduce various settings into your project as you proceed with your project.<br>\n",
    "\n",
    "The setting that we need to make Django aware of the static folder inside our root is something that is not avalible inside the settings.py file by default.<br><br>\n",
    "To be able to use it:<br>\n",
    "Scroll-down to the bottom of your settings.py file and add the following code after STATIC_URL setting (Please understand that settings are case-sensative)."
   ]
  },
  {
   "cell_type": "code",
   "execution_count": null,
   "id": "a1eff708-ed3e-4c99-acd9-edc2f183f83d",
   "metadata": {},
   "outputs": [],
   "source": [
    "STATICFILES_DIRS = [\n",
    "    BASE_DIR / 'static'\n",
    "]"
   ]
  },
  {
   "cell_type": "markdown",
   "id": "c038511d-0414-497f-9736-f07dafda98cd",
   "metadata": {},
   "source": [
    "Now if you save everything and relog the page, everything should work properly.<br>\n",
    "\n",
    "If you do not care about css, you can skip the next notebook where we try to make our project a little nicer.<br>"
   ]
  }
 ],
 "metadata": {
  "kernelspec": {
   "display_name": "Python 3 (ipykernel)",
   "language": "python",
   "name": "python3"
  },
  "language_info": {
   "codemirror_mode": {
    "name": "ipython",
    "version": 3
   },
   "file_extension": ".py",
   "mimetype": "text/x-python",
   "name": "python",
   "nbconvert_exporter": "python",
   "pygments_lexer": "ipython3",
   "version": "3.10.11"
  }
 },
 "nbformat": 4,
 "nbformat_minor": 5
}
