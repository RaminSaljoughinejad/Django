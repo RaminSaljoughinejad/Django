{
 "cells": [
  {
   "cell_type": "markdown",
   "id": "a7690343-c28a-4f1f-8486-cd898a896f29",
   "metadata": {},
   "source": [
    "### Making the post-detail.html and post.html page dynamic\n",
    "\n",
    "1- Navigate to views.url and create a list called all_posts.<br>\n",
    "2- Now add posts inside this list.<br>\n",
    "3- Each post could be a dictionary.<br>\n",
    "You can follow the following stracture."
   ]
  },
  {
   "cell_type": "code",
   "execution_count": null,
   "id": "f57b6e99-0a5f-4983-8a4a-2f12f4d77e77",
   "metadata": {},
   "outputs": [],
   "source": [
    "all_posts = [\n",
    "    {\n",
    "        \"slug\":\"neural-networks-beginners\",\n",
    "        \"image\": \"angry_green_avatar.webp\",\n",
    "        \"author\": \"Ramin Saljoughinejad\",\n",
    "        \"date\": date(2023, 4, 5),\n",
    "        \"title\" : \"Neural Networks For Beginners\",\n",
    "        \"excerpt\": \"This Course is for complete beginners. You know need some basic knowledge in Python and nothing else.\",\n",
    "        \"content\": \"\"\"Lorem ipsum dolor sit amet consectetur adipisicing elit.\n",
    "        Aut inventore doloremque repellat tempora debitis delectus ullam, nemo consectetur ex?\n",
    "        Ipsa sit deleniti non labore cupiditate earum debitis, quos unde nisi.\"\"\"\n",
    "    },\n",
    "    ...\n",
    "]"
   ]
  },
  {
   "cell_type": "markdown",
   "id": "a244d431-5a03-47b4-b737-aee84796be61",
   "metadata": {},
   "source": [
    "We are going to use the posts in all the view funcitons.<br>\n",
    "Lets start from the index<br>\n",
    "1- Get the lates posts and show the last 3 items on the index.html<br>\n",
    "Your index view function and its healer should look like the following block:"
   ]
  },
  {
   "cell_type": "code",
   "execution_count": null,
   "id": "e1cf3e93-d74d-459b-a569-466cc74b5dfd",
   "metadata": {},
   "outputs": [],
   "source": [
    "def get_date(post):\n",
    "    return post['date']\n",
    "\n",
    "def index(request):\n",
    "    soreted_posts = sorted(all_posts, key=get_date)\n",
    "    latest_posts = soreted_posts[-3:]\n",
    "    return render(request, \"blog/index.html\", {\n",
    "        \"posts\":latest_posts\n",
    "    })"
   ]
  },
  {
   "cell_type": "markdown",
   "id": "22520869-614b-449c-b689-1267658e1cab",
   "metadata": {},
   "source": [
    "2- Now go to index.html template and show the data you recieved.<br>\n",
    "Your ul inside the index.html file should look like the following block:"
   ]
  },
  {
   "cell_type": "code",
   "execution_count": null,
   "id": "bd70d73a-bfe3-4e77-b914-cebce179daba",
   "metadata": {},
   "outputs": [],
   "source": [
    "<ul>\n",
    "    {% for post in posts %}\n",
    "        {% include \"blog/includes/post.html\" %}\n",
    "    {% endfor %}\n",
    "</ul>"
   ]
  },
  {
   "cell_type": "markdown",
   "id": "0cd1a097-219f-4f85-b5cd-9a1b4a3206f5",
   "metadata": {},
   "source": [
    "3- Navigate to post.html and show the title of te post.<br>\n",
    "Your post.html template should look like the following block:"
   ]
  },
  {
   "cell_type": "code",
   "execution_count": null,
   "id": "d20e666b-f8f6-4fae-bb61-66ff19d501e4",
   "metadata": {},
   "outputs": [],
   "source": [
    "{% load static %}\n",
    "\n",
    "<li>\n",
    "    <article class='post'>\n",
    "        <a href=\" {% url \"blog-post-detail\" \"neural-networks-beginners\" %}\">\n",
    "            <img src=\"{% static \"blog/images/tf.png\" %}\" alt=\"Neural Networks\">\n",
    "            <div class=\"post__content\">\n",
    "                <h3>{{ post['title'] }}</h3>\n",
    "                <p>This Course is for complete beginners.\n",
    "    You know need some basic knowledge in Python and nothing else.</p>\n",
    "            </div>\n",
    "        </a>\n",
    "    </article>\n",
    "</li>"
   ]
  },
  {
   "cell_type": "markdown",
   "id": "334d749b-a779-446d-9ec1-2fcd4fd025f6",
   "metadata": {},
   "source": [
    "Now if you save and reload the url...<br>\n",
    "You will get an error!<br>\n",
    "But why???<br>\n",
    "\n",
    "The reason is that for accessing dictionary keys... here is django we dont use post['title'] we use post.title<br>"
   ]
  },
  {
   "cell_type": "code",
   "execution_count": null,
   "id": "ee85cbc2-1d2e-4b99-95a9-564eee3c9d73",
   "metadata": {},
   "outputs": [],
   "source": [
    "{% load static %}\n",
    "\n",
    "<li>\n",
    "    <article class='post'>\n",
    "        <a href=\" {% url \"blog-post-detail\" \"neural-networks-beginners\" %}\">\n",
    "            <img src=\"{% static \"blog/images/tf.png\" %}\" alt=\"Neural Networks\">\n",
    "            <div class=\"post__content\">\n",
    "                <h3>{{ post.title }}</h3>\n",
    "                <p>This Course is for complete beginners.\n",
    "    You know need some basic knowledge in Python and nothing else.</p>\n",
    "            </div>\n",
    "        </a>\n",
    "    </article>\n",
    "</li>"
   ]
  },
  {
   "cell_type": "markdown",
   "id": "1b2de910-ac39-49c8-b3ba-0f4246133a69",
   "metadata": {},
   "source": [
    "Fix other parts of the post!"
   ]
  },
  {
   "cell_type": "code",
   "execution_count": null,
   "id": "7e20c8ab-fc2c-4e67-9f9d-dae1c9a7e1ab",
   "metadata": {},
   "outputs": [],
   "source": [
    "How are we supposed to fix the path for the images! the first part of the image path needs to be hardcoded! and the second part should be dynamic.<br>\n",
    "\n",
    "To do that you can use a filter called add!<br>\n",
    "Your post.html template should look like the following block:"
   ]
  },
  {
   "cell_type": "code",
   "execution_count": null,
   "id": "671c68cd-5966-4d6d-baf4-d6e53eba30fb",
   "metadata": {},
   "outputs": [],
   "source": [
    "{% load static %}\n",
    "\n",
    "<li>\n",
    "    <article class='post'>\n",
    "        <a href=\" {% url \"blog-post-detail\" \"neural-networks-beginners\" %}\">\n",
    "            <img src=\"{% static \"blog/images/\"|add:post.image %}\" alt=\"Neural Networks\">\n",
    "            <div class=\"post__content\">\n",
    "                <h3>{{ post.title }}</h3>\n",
    "                <p>{{ post.excerpt }}</p>\n",
    "            </div>\n",
    "        </a>\n",
    "    </article>\n",
    "</li>"
   ]
  },
  {
   "cell_type": "markdown",
   "id": "ae53f269-a5d2-44d9-9910-a2e9629f12f5",
   "metadata": {},
   "source": [
    "Don't forget to fix the slug and img's alt! "
   ]
  },
  {
   "cell_type": "code",
   "execution_count": null,
   "id": "346f92d1-f232-4ece-8ce3-a001afb26601",
   "metadata": {},
   "outputs": [],
   "source": [
    "{% load static %}\n",
    "\n",
    "<li>\n",
    "    <article class='post'>\n",
    "        <a href=\" {% url \"blog-post-detail\" post.slug %}\">\n",
    "            <img src=\"{% static \"blog/images/\"|add:post.image %}\" alt=\"{{ post.title }}\">\n",
    "            <div class=\"post__content\">\n",
    "                <h3>{{ post.title }}</h3>\n",
    "                <p>{{ post.excerpt }}</p>\n",
    "            </div>\n",
    "        </a>\n",
    "    </article>\n",
    "</li>"
   ]
  },
  {
   "cell_type": "markdown",
   "id": "f9fa359b-d79c-42fb-a48d-2b3555852c1b",
   "metadata": {},
   "source": [
    "Add some CSS to the page so that when a course is hoverd it changes some styles."
   ]
  },
  {
   "cell_type": "code",
   "execution_count": null,
   "id": "0014802d-eef6-4747-86be-a090a69119ec",
   "metadata": {},
   "outputs": [],
   "source": [
    "#latest-posts li:hover,\n",
    "#latest-posts li:active{\n",
    "    background-color:#338dc4;\n",
    "}\n",
    "#latest-posts li:hover a,\n",
    "#latest-posts li:active a{\n",
    "    color:white;\n",
    "}\n",
    "#latest-posts li:hover img,\n",
    "#latest-posts li:active img{\n",
    "    border-color:white;\n",
    "}"
   ]
  },
  {
   "cell_type": "markdown",
   "id": "2180802e-3824-40ba-a837-a16d7d261055",
   "metadata": {},
   "source": [
    "Fix the all-posts.html file, you already know everything that you need."
   ]
  },
  {
   "cell_type": "code",
   "execution_count": null,
   "id": "c40ee074-621c-4f53-a415-f6ca477f4e72",
   "metadata": {},
   "outputs": [],
   "source": [
    "{% extends 'base.html' %}\n",
    "{% load static %}\n",
    "\n",
    "{% block title %}All My Posts{% endblock %}\n",
    "\n",
    "{% block css_files %}\n",
    "    <link rel=\"stylesheet\" href=\"{% static \"blog/all-posts.css\" %}\">\n",
    "{% endblock %}\n",
    "\n",
    "{% block content %}\n",
    "    <section id='all-posts'>\n",
    "        <h2>My Collected Posts</h2>\n",
    "        <ul>\n",
    "            {% for post in all_posts %}\n",
    "                {% include \"blog/includes/post.html\" %}\n",
    "            {% endfor %}\n",
    "        </ul>\n",
    "    </section>\n",
    "{% endblock %} "
   ]
  },
  {
   "cell_type": "markdown",
   "id": "2d09b9a0-802a-4455-bf5e-562fc3a58c23",
   "metadata": {},
   "source": [
    "Now, fix the post-detail.html, you already know evrything that you need.\n",
    "\n",
    "Your post-detail.html file should look like the following:"
   ]
  },
  {
   "cell_type": "code",
   "execution_count": null,
   "id": "f42b489e-8175-4446-8045-098e3d9fae6b",
   "metadata": {},
   "outputs": [],
   "source": [
    "{% extends \"base.html\" %}\n",
    "{% load static %}\n",
    "\n",
    "{% block title %}{{ post.title }}{% endblock %}\n",
    "\n",
    "{% block css_files %}\n",
    "    <link rel=\"stylesheet\" href=\"{% static \"blog/post-detail.css\" %}\">\n",
    "{% endblock %}\n",
    "\n",
    "{% block content %}\n",
    "    <section id='summary'>\n",
    "        <h2>{{ post.title }}</h2>\n",
    "        <article>\n",
    "            <img src=\"{% static \"blog/images/\"|add:post.image %}\" alt=\"{{ post.title }}\">\n",
    "            <address>By {{ post.author }}</address>\n",
    "            <div>\n",
    "                Last Update on <time>{{ post.date|date:\"d M Y\" }}</time>\n",
    "            </div>\n",
    "        </article>\n",
    "    </section>\n",
    "    <main>\n",
    "        <p>\n",
    "            {{ post.content }}\n",
    "        </p>\n",
    "        <p>\n",
    "            {{ post.content }}\n",
    "        </p>\n",
    "        <p>\n",
    "            {{ post.content }}\n",
    "        </p>\n",
    "        <p>\n",
    "            {{ post.content }}\n",
    "        </p>\n",
    "    </main>\n",
    "{% endblock %}"
   ]
  },
  {
   "cell_type": "markdown",
   "id": "a54a94db-b987-4ab8-81b2-090ab3dc5c62",
   "metadata": {},
   "source": [
    "Your post_detail view function and its helper should look like the following:"
   ]
  },
  {
   "cell_type": "code",
   "execution_count": null,
   "id": "fb9cd265-96b6-4bbc-b165-a1f1f699e58a",
   "metadata": {},
   "outputs": [],
   "source": [
    "def get_post(slug):\n",
    "    for post in all_posts:\n",
    "        if post['slug']==slug:\n",
    "            return post\n",
    "\n",
    "def post_detail(request, slug):\n",
    "    post = get_post(slug)\n",
    "    print(post)\n",
    "    return render(request, \"blog/post-detail.html\", {\n",
    "        \"post\":post\n",
    "    }) "
   ]
  },
  {
   "cell_type": "markdown",
   "id": "d7373673-0c3a-4093-80ad-a18e3c646079",
   "metadata": {},
   "source": [
    "Wanna Learn something new about python?? <br>\n",
    "You could write the view function like this and without a helper.<br>\n",
    "The syntax is wired! But its the best way for doing this."
   ]
  },
  {
   "cell_type": "code",
   "execution_count": null,
   "id": "753879c6-320a-4740-9bef-b5f41c3ff921",
   "metadata": {},
   "outputs": [],
   "source": [
    "def post_detail(request, slug):\n",
    "    post = next(post for post in all_posts if post['slug']==slug)\n",
    "    return render(request, \"blog/post-detail.html\", {\n",
    "        \"post\":post\n",
    "    }) "
   ]
  },
  {
   "cell_type": "markdown",
   "id": "dca19f1c-6bac-4dff-b734-98f303992d7f",
   "metadata": {},
   "source": [
    "Lets just fix 404.html page and error and we would be done with this chapter.\n",
    "1- Create a file called 404.html next to base.html file and also create css file for it.\n",
    "2- Style the HTML page in the way that you desire.\n",
    "You don't need to do anything else, Django will automaticaly pick this page when it is needed."
   ]
  },
  {
   "cell_type": "markdown",
   "id": "d7b3ecfe-79c3-4763-98e4-0db914230551",
   "metadata": {},
   "source": [
    "### Eng of Third Chapter."
   ]
  }
 ],
 "metadata": {
  "kernelspec": {
   "display_name": "Python 3 (ipykernel)",
   "language": "python",
   "name": "python3"
  },
  "language_info": {
   "codemirror_mode": {
    "name": "ipython",
    "version": 3
   },
   "file_extension": ".py",
   "mimetype": "text/x-python",
   "name": "python",
   "nbconvert_exporter": "python",
   "pygments_lexer": "ipython3",
   "version": "3.10.11"
  }
 },
 "nbformat": 4,
 "nbformat_minor": 5
}
