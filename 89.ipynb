{
 "cells": [
  {
   "cell_type": "markdown",
   "id": "54c87420",
   "metadata": {},
   "source": [
    "### Integrating  Google reCaptcha:\n",
    "\n",
    "Integrating Google reCAPTCHA into your Django application involves several steps, including signing up for reCAPTCHA, modifying your forms, views, and templates, and adding server-side validation. Here's how to do it:<br>\n",
    "\n",
    "#### Step 1: Sign Up for Google reCAPTCHA\n",
    "1. Go to the <a href='https://www.google.com/recaptcha/about/'>Google reCAPTCHA site</a>.\n",
    "2. Register your site and get the site key and secret key.\n",
    "    - reCaptcha type should be Challenge(v2) -> \"I'm not a robot\" Checkbox\n",
    "    - since we are going to use it on the development server use 127.0.0.1 for the domain\n",
    "\n",
    "#### Step 2: Install Required Packages\n",
    "You'll need the django-recaptcha package. Install it via pip:"
   ]
  },
  {
   "cell_type": "code",
   "execution_count": null,
   "id": "c7b3437c",
   "metadata": {
    "vscode": {
     "languageId": "powershell"
    }
   },
   "outputs": [],
   "source": [
    "pip install django-recaptcha"
   ]
  },
  {
   "cell_type": "markdown",
   "id": "16cc70fe",
   "metadata": {
    "vscode": {
     "languageId": "powershell"
    }
   },
   "source": [
    "#### Step 3: Update Your Django Settings\n",
    "\n",
    "Add your reCAPTCHA keys to your settings.py:\n",
    "- Use environment variables, don't put them in your code"
   ]
  },
  {
   "cell_type": "code",
   "execution_count": null,
   "id": "667ea41c",
   "metadata": {
    "vscode": {
     "languageId": "powershell"
    }
   },
   "outputs": [],
   "source": [
    "from os import environ\n",
    "\n",
    "RECAPTCHA_PUBLIC_KEY = environ.get('recaptcha-site-key')\n",
    "RECAPTCHA_PRIVATE_KEY = environ.get('recaptcha-secret-key')"
   ]
  },
  {
   "cell_type": "markdown",
   "id": "c710e532",
   "metadata": {
    "vscode": {
     "languageId": "powershell"
    }
   },
   "source": [
    "#### Step 4: Modify Your Form\n",
    "\n",
    "Update your CustomUserCreationForm to include the reCAPTCHA field:"
   ]
  },
  {
   "cell_type": "code",
   "execution_count": null,
   "id": "ab334d72",
   "metadata": {
    "vscode": {
     "languageId": "powershell"
    }
   },
   "outputs": [],
   "source": [
    "from django_recaptcha.fields import ReCaptchaField\n",
    "\n",
    "\n",
    "class CustomUserCreationForm(UserCreationForm):\n",
    "    age = forms.IntegerField(required=False)\n",
    "    captcha = ReCaptchaField()\n",
    "\n",
    "    class Meta:\n",
    "        model = CustomUser\n",
    "        fields = ('username', 'age', 'email', 'captcha')"
   ]
  },
  {
   "cell_type": "markdown",
   "id": "c1763184",
   "metadata": {
    "vscode": {
     "languageId": "powershell"
    }
   },
   "source": [
    "#### Step 5: Update Your Template\n",
    "\n",
    "Add the reCAPTCHA widget to your template:"
   ]
  },
  {
   "cell_type": "code",
   "execution_count": null,
   "id": "e8fd8683",
   "metadata": {
    "vscode": {
     "languageId": "html"
    }
   },
   "outputs": [],
   "source": [
    "{% block content %}\n",
    "<div class=\"main-wrapper\">\n",
    "    <form action=\"\" method=\"post\">\n",
    "        {% csrf_token %}\n",
    "        {{ form.as_p }}\n",
    "        <button type=\"submit\">Register</button>\n",
    "    </form>\n",
    "</div>s\n",
    "<script src=\"https://www.google.com/recaptcha/api.js\" async defer></script>\n",
    "{% endblock content %}"
   ]
  },
  {
   "cell_type": "markdown",
   "id": "4aee07c8",
   "metadata": {
    "vscode": {
     "languageId": "html"
    }
   },
   "source": [
    "#### Step 6: Server-Side Validation\n",
    "\n",
    "The django-recaptcha package will handle server-side validation automatically when you use ReCaptchaField. Ensure you catch validation errors appropriately.\n",
    "\n",
    "Here's the complete view with error handling:"
   ]
  },
  {
   "cell_type": "code",
   "execution_count": null,
   "id": "c2af8a8b",
   "metadata": {},
   "outputs": [],
   "source": [
    "class SignUpView(CreateView):\n",
    "    form_class = CustomUserCreationForm\n",
    "    template_name = 'registration/signup.html'\n",
    "    success_url = reverse_lazy('login')\n",
    "\n",
    "    def form_valid(self, form):\n",
    "        response = super().form_valid(form)\n",
    "        # Any additional logic can be added here\n",
    "        return response\n",
    "\n",
    "    def form_invalid(self, form):\n",
    "        response = super().form_invalid(form)\n",
    "        # Handle form errors, including reCAPTCHA errors\n",
    "        return response"
   ]
  },
  {
   "cell_type": "markdown",
   "id": "faed7629",
   "metadata": {},
   "source": [
    "#### Step 7: Add reCAPTCHA Settings to Template Context\n",
    "\n",
    "If RECAPTCHA_PUBLIC_KEY is not already available in your templates, add it in your views or context processors.\n",
    "\n",
    "In your views:"
   ]
  },
  {
   "cell_type": "code",
   "execution_count": null,
   "id": "158f7c8e",
   "metadata": {},
   "outputs": [],
   "source": [
    "from django.conf import settings\n",
    "\n",
    "class SignUpView(CreateView):\n",
    "    form_class = CustomUserCreationForm\n",
    "    template_name = 'registration/signup.html'\n",
    "    success_url = reverse_lazy('login')\n",
    "\n",
    "    def get_context_data(self, **kwargs):\n",
    "        context = super().get_context_data(**kwargs)\n",
    "        context['RECAPTCHA_PUBLIC_KEY'] = settings.RECAPTCHA_PUBLIC_KEY\n",
    "        return context\n",
    "\n",
    "    def form_valid(self, form):\n",
    "        response = super().form_valid(form)\n",
    "        # Any additional logic can be added here\n",
    "        return response\n",
    "\n",
    "    def form_invalid(self, form):\n",
    "        response = super().form_invalid(form)\n",
    "        # Handle form errors, including reCAPTCHA errors\n",
    "        return response\n",
    "        "
   ]
  },
  {
   "cell_type": "markdown",
   "id": "34e00307",
   "metadata": {},
   "source": [
    "Step 8: Adding 'django_recaptcha' to INSTALLED_APPS:\n",
    "\n",
    "Navigate to your setting.py file and add 'django_recaptcha' to the INSATALLED_APPS list\n",
    "\n",
    "\n",
    "NOW, your captcha should work just fine!\n",
    "\n",
    "\n",
    "There is one problem though, the captcha field is being shown after email and before password1 and password 2!\n",
    "\n",
    "To fix this you need to manualy set password1 and password2 before captcha in your form.py file:"
   ]
  },
  {
   "cell_type": "code",
   "execution_count": null,
   "id": "def91204",
   "metadata": {},
   "outputs": [],
   "source": [
    "class CustomUserCreationForm(UserCreationForm):\n",
    "    age = forms.IntegerField(required=False)\n",
    "    captcha = ReCaptchaField()\n",
    "\n",
    "    class Meta:\n",
    "        model = CustomUser\n",
    "        fields = ('username', 'age', 'email', 'password1', 'password2', 'captcha', )"
   ]
  },
  {
   "cell_type": "markdown",
   "id": "2df73242",
   "metadata": {},
   "source": [
    "### Question: How are we supposed to add reCaptcha to our login page?\n",
    "\n",
    "Do you realize the problem? the login.html template is using a prebuild view offered by django in the auth app and we are not supposed to modify auth.views.py file.\n",
    "\n",
    "So, what should we do?\n",
    "\n",
    "Well, unfortunetly we are not able to achieve this without modifying auth.views.py<br>\n",
    "\n",
    "Don't worry the modification is only one line of code and does not effect anything else.\n",
    "\n",
    "1. Navigate to auth.views.py\n",
    "2. import the following:"
   ]
  },
  {
   "cell_type": "code",
   "execution_count": null,
   "id": "e3ed23ab",
   "metadata": {},
   "outputs": [],
   "source": [
    "from django_recaptcha.fields import ReCaptchaField\n",
    "from django_recaptcha.widgets import ReCaptchaV2Checkbox"
   ]
  },
  {
   "cell_type": "markdown",
   "id": "2b69621a",
   "metadata": {},
   "source": [
    "3. Located 'LoginView' class\n",
    "4. look for 'get_form_class' method and modify it:"
   ]
  },
  {
   "cell_type": "code",
   "execution_count": null,
   "id": "47a95495",
   "metadata": {},
   "outputs": [],
   "source": [
    "def get_form_class(self):\n",
    "    # Check if the user is accessing the admin login page\n",
    "    if 'admin' in self.request.path:\n",
    "        return self.authentication_form or self.form_class  # Use the default authentication form without reCAPTCHA\n",
    "    else:\n",
    "        # Add the reCAPTCHA field to the form class\n",
    "        self.form_class.base_fields['captcha'] = ReCaptchaField(widget=ReCaptchaV2Checkbox)\n",
    "        return self.authentication_form or self.form_class"
   ]
  },
  {
   "cell_type": "markdown",
   "id": "06600012",
   "metadata": {},
   "source": [
    "Please undertsand that the above code will make sure that the captcha is not being required on the admin login page.<br>"
   ]
  },
  {
   "cell_type": "markdown",
   "id": "3a9d9554",
   "metadata": {},
   "source": [
    "5. Modify login.html template:"
   ]
  },
  {
   "cell_type": "code",
   "execution_count": null,
   "id": "cac2886f",
   "metadata": {
    "vscode": {
     "languageId": "html"
    }
   },
   "outputs": [],
   "source": [
    "{% block content %}\n",
    "<div class=\"main-wrapper\">\n",
    "    <form action=\"\" method='POST'>\n",
    "        {% csrf_token %}\n",
    "        {{ form.as_p }}\n",
    "        <button type=\"submit\">Login</button>\n",
    "    </form>\n",
    "        <a href=\"{% url \"password_reset\" %}\">Forgot Password?</a>\n",
    "</div>\n",
    "<script src=\"https://www.google.com/recaptcha/api.js\" async defer></script>\n",
    "{% endblock content %}"
   ]
  },
  {
   "cell_type": "markdown",
   "id": "820738bf",
   "metadata": {
    "vscode": {
     "languageId": "html"
    }
   },
   "source": [
    "You may need to add some css code to style the captcha field.\n",
    "\n",
    "\n",
    "I understand that styling froms might be exhusting! so, let me teach you a better way.\n",
    "\n",
    "\n",
    "Did you know that you could use a package to add bootstrap form design to DTL (django Template Language)?\n",
    "\n",
    "1. Install django-crispy-forms using pip"
   ]
  },
  {
   "cell_type": "code",
   "execution_count": null,
   "id": "4d578fef",
   "metadata": {
    "vscode": {
     "languageId": "powershell"
    }
   },
   "outputs": [],
   "source": [
    "python -m pip install crispy-bootstrap4"
   ]
  },
  {
   "cell_type": "markdown",
   "id": "a7d0ba4b",
   "metadata": {
    "vscode": {
     "languageId": "html"
    }
   },
   "source": [
    "2. Add 'crispy_forms' and 'crispy_bootstrap4' to INSTALLED_APPS inside settings.py"
   ]
  },
  {
   "cell_type": "code",
   "execution_count": null,
   "id": "0e3abd7d",
   "metadata": {
    "vscode": {
     "languageId": "powershell"
    }
   },
   "outputs": [],
   "source": [
    "'crispy_forms',\n",
    "'crispy_bootstrap4'"
   ]
  },
  {
   "cell_type": "markdown",
   "id": "1663e13c",
   "metadata": {
    "vscode": {
     "languageId": "powershell"
    }
   },
   "source": [
    "3. Add the following constant to the settings.py:"
   ]
  },
  {
   "cell_type": "code",
   "execution_count": null,
   "id": "c9612d14",
   "metadata": {},
   "outputs": [],
   "source": [
    "CRISPY_ALLOWED_TEMPLATE_PACKS = \"bootstrap4\"\n",
    "CRISPY_TEMPLATE_PACK = \"bootstrap4\""
   ]
  },
  {
   "cell_type": "markdown",
   "id": "9bd905b4",
   "metadata": {},
   "source": [
    "4. use the following at the top of your template and after loading static:"
   ]
  },
  {
   "cell_type": "code",
   "execution_count": null,
   "id": "523850ab",
   "metadata": {
    "vscode": {
     "languageId": "html"
    }
   },
   "outputs": [],
   "source": [
    "{% load crispy_forms_tags %}"
   ]
  },
  {
   "cell_type": "markdown",
   "id": "0afc9bea",
   "metadata": {
    "vscode": {
     "languageId": "html"
    }
   },
   "source": [
    "5. Add the following lines to your css_files block:"
   ]
  },
  {
   "cell_type": "code",
   "execution_count": null,
   "id": "dee75ff8",
   "metadata": {
    "vscode": {
     "languageId": "html"
    }
   },
   "outputs": [],
   "source": [
    " <!-- Latest compiled and minified CSS -->\n",
    " <link rel=\"stylesheet\" href=\"https://cdn.jsdelivr.net/npm/bootstrap@4.6.2/dist/css/bootstrap.min.css\">\n",
    " <!-- jQuery library -->\n",
    " <script src=\"https://cdn.jsdelivr.net/npm/jquery@3.7.1/dist/jquery.slim.min.js\"></script>\n",
    " <!-- Popper JS -->\n",
    " <script src=\"https://cdn.jsdelivr.net/npm/popper.js@1.16.1/dist/umd/popper.min.js\"></script>\n",
    " <!-- Latest compiled JavaScript -->\n",
    " <script src=\"https://cdn.jsdelivr.net/npm/bootstrap@4.6.2/dist/js/bootstrap.bundle.min.js\"></script> "
   ]
  },
  {
   "cell_type": "markdown",
   "id": "d580fa50",
   "metadata": {
    "vscode": {
     "languageId": "powershell"
    }
   },
   "source": [
    "6. Now you can use {{ form|crispy }} to have your forms styled automatically."
   ]
  },
  {
   "cell_type": "markdown",
   "id": "8beac3ac",
   "metadata": {
    "vscode": {
     "languageId": "powershell"
    }
   },
   "source": [
    "<span style='color:red;'>NOTE:</span> You need to delete all the css and redesign your page using bootstrap now.<br><br>\n",
    "<span style='color:red;'>NOTE:</span> Please undertsand that bootstrap crispy filter does not go well with reCaptcha.\n",
    "\n",
    "#### End of chapter 13"
   ]
  }
 ],
 "metadata": {
  "kernelspec": {
   "display_name": "Python 3",
   "language": "python",
   "name": "python3"
  },
  "language_info": {
   "codemirror_mode": {
    "name": "ipython",
    "version": 3
   },
   "file_extension": ".py",
   "mimetype": "text/x-python",
   "name": "python",
   "nbconvert_exporter": "python",
   "pygments_lexer": "ipython3",
   "version": "3.10.11"
  }
 },
 "nbformat": 4,
 "nbformat_minor": 5
}
