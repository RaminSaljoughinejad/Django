{
 "cells": [
  {
   "cell_type": "markdown",
   "id": "74387b59",
   "metadata": {},
   "source": [
    "Lets edit the navbar so that if a user is loged in, their name is shown on the navbar instead of login and also if a user is loged in, we dont want to show the the register option.<br>\n",
    "\n",
    "When a user logs in, a 'user' object will be sent throughout your website and you can use user.is_authenticate to check if a user is loged in, also you can use the user-model field-names to access those individual fields values.<br>\n",
    "\n",
    "Also update the href attribute of the login link so that it points to login url<br>"
   ]
  },
  {
   "cell_type": "code",
   "execution_count": null,
   "id": "a1821f4c",
   "metadata": {
    "vscode": {
     "languageId": "html"
    }
   },
   "outputs": [],
   "source": [
    "<nav class=\"navbar navbar-expand-md bg-dark navbar-dark\">\n",
    "  <!-- Brand -->\n",
    "  <a class=\"navbar-brand\" href=\"{% url \"blog-about-url\" %}\">OTH</a>\n",
    "\n",
    "  <!-- Toggler/collapsibe Button -->\n",
    "  <button class=\"navbar-toggler\" type=\"button\" data-toggle=\"collapse\" data-target=\"#collapsibleNavbar\">\n",
    "    <span class=\"navbar-toggler-icon\"></span>\n",
    "  </button>\n",
    "\n",
    "  <!-- Navbar links -->\n",
    "  <div class=\"collapse navbar-collapse\" id=\"collapsibleNavbar\">\n",
    "    <!-- Left Side Items -->\n",
    "    {% if user.is_authenticated %}\n",
    "    <ul class=\"navbar-nav\">\n",
    "      <li class=\"nav-item dropdown\">\n",
    "        <a class=\"nav-link dropdown-toggle\" href=\"#\" id=\"navbardrop\" data-toggle=\"dropdown\">\n",
    "          {{ user.username|title }}\n",
    "        </a>\n",
    "        <div class=\"dropdown-menu\">\n",
    "          <a class=\"dropdown-item\" href=\"#\">Profile</a>\n",
    "          <a class=\"dropdown-item\" href=\"#\">Log Out</a>\n",
    "        </div>\n",
    "      </li>\n",
    "    </ul>\n",
    "    {% else %}\n",
    "    <ul class=\"navbar-nav\">\n",
    "      <li class=\"nav-item\">\n",
    "        <a class=\"nav-link\" href=\"{% url \"login\" %}\"><i class=\"bi bi-box-arrow-in-left\"></i>Login</a>\n",
    "      </li>\n",
    "      <li class=\"nav-item\">\n",
    "        <a class=\"nav-link\" href=\"#\"><i class=\"bi bi-plus\"></i>Register</a>\n",
    "      </li>\n",
    "    </ul>\n",
    "    {% endif %}\n",
    "    <!-- Right Side Items -->\n",
    "    <ul class=\"navbar-nav ml-auto\">\n",
    "      <li class=\"nav-item\">\n",
    "        <a class=\"nav-link\" href=\"{% url \"blog-authors-url\" %}\">Authors</a>\n",
    "      </li>\n",
    "      <li class=\"nav-item\">\n",
    "        <a class=\"nav-link\" href=\"{% url \"blog-archive-url\" %}\">Archive</a>\n",
    "      </li>\n",
    "      <li class=\"nav-item\">\n",
    "        <a class=\"nav-link\" href=\"{% url \"blog-root-url\" %}\">Home</a>\n",
    "      </li>\n",
    "    </ul>\n",
    "  </div>\n",
    "</nav>"
   ]
  },
  {
   "cell_type": "markdown",
   "id": "9f49fc2b",
   "metadata": {},
   "source": [
    "To ahead and check the other urls in the auth app. You will see a url for logout, open its view and check the name of the template!<br>\n",
    "Create the template, extend it from the base template and style it in the way that you want.<br>"
   ]
  },
  {
   "cell_type": "code",
   "execution_count": null,
   "id": "6c0ed0d5",
   "metadata": {
    "vscode": {
     "languageId": "html"
    }
   },
   "outputs": [],
   "source": [
    "{% extends \"base.html\" %}\n",
    "{% load static %}\n",
    "\n",
    "{% block page_title %}Logout{% endblock page_title %}\n",
    "\n",
    "{% block css_files %}\n",
    "    <link rel=\"stylesheet\" href=\"{% static \"registration/logged_out.css\" %}\">\n",
    "{% endblock css_files %}\n",
    "\n",
    "{% block content %}\n",
    "    <div class=\"d-flex justify-content-center\">\n",
    "        <div class=\"col-md-5 bg-dark mt-5 p-5 rounded text-white-50\">\n",
    "            <h3>You are logged out.</h3>\n",
    "            <p>Thank you for spending some quality time with us.</p>\n",
    "        </div>\n",
    "    </div>\n",
    "{% endblock content %}"
   ]
  },
  {
   "cell_type": "markdown",
   "id": "7456cdfe",
   "metadata": {
    "vscode": {
     "languageId": "html"
    }
   },
   "source": [
    "Naviagte to navbar.html and make the neccessary changes so that when the user clicks on log out, they are sent to the logout url.<br>\n",
    "\n",
    "As you can see, logout doesn't work!<br>\n",
    "Since Django 5.0 logout has to be done through a POST request, hence you need to put your a link in a form and send a post request using it!"
   ]
  },
  {
   "cell_type": "code",
   "execution_count": null,
   "id": "7a4944cc",
   "metadata": {
    "vscode": {
     "languageId": "html"
    }
   },
   "outputs": [],
   "source": [
    "<div class=\"dropdown-menu\">\n",
    "    <a class=\"dropdown-item\" href=\"#\">Profile</a>\n",
    "    <form method='POST' action=\"{% url \"logout\" %}\">\n",
    "        {% csrf_token %}\n",
    "        <button type='submit' class=\"dropdown-item\">Log Out</button>\n",
    "    </form>\n",
    "</div>"
   ]
  },
  {
   "cell_type": "markdown",
   "id": "7d7922ca",
   "metadata": {
    "vscode": {
     "languageId": "html"
    }
   },
   "source": [
    "Please Understand that you could defiene LOGOUT_REDIRECT_URL in you settings.py file and redirect to a url after your user is loggedout.<br>\n",
    "\n",
    "I am not doing it!<br>"
   ]
  },
  {
   "cell_type": "markdown",
   "id": "a338cd03",
   "metadata": {},
   "source": [
    "LOGOUT_REDIRECT_URL = 'blog-root-url'"
   ]
  },
  {
   "cell_type": "markdown",
   "id": "49ddb0ef",
   "metadata": {
    "vscode": {
     "languageId": "html"
    }
   },
   "source": [
    "In the next notebook we will work on signing up (registeration) of users."
   ]
  }
 ],
 "metadata": {
  "kernelspec": {
   "display_name": "Python 3",
   "language": "python",
   "name": "python3"
  },
  "language_info": {
   "codemirror_mode": {
    "name": "ipython",
    "version": 3
   },
   "file_extension": ".py",
   "mimetype": "text/x-python",
   "name": "python",
   "nbconvert_exporter": "python",
   "pygments_lexer": "ipython3",
   "version": "3.10.11"
  }
 },
 "nbformat": 4,
 "nbformat_minor": 5
}
