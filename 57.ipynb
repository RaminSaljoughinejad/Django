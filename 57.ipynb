{
 "cells": [
  {
   "cell_type": "markdown",
   "id": "76e3954b-1478-4d8c-8826-bdb1611366bf",
   "metadata": {},
   "source": [
    "### Form Configuration\n",
    "\n",
    "Lets add a few options for our input field:\n",
    "1. Navigate to your forms.py\n",
    "2. Add an argument called label and assign it to a string!\n",
    "    - What ever you put in the string will be shown to the user as the input field label.\n",
    "    - By default django will use your field name, capitalize the first world and replace underscores '_' with spaces.\n",
    "3. Yoou could add an argument called max_length to set a maximum length for this input.\n",
    "4. You could add another argument called error_messages if you are not satisfied with django is presenting.\n",
    "    - This error_messages argument accepts a dictionary an inside it we have key,value pares.\n",
    "        - keys are the error and values are the messages django has to show in the case those errors whow up.\n",
    "5. You could add an argument called required to tell django that this field is required or not (True, False)\n",
    "\n",
    "You forms.py file should look like the following block:"
   ]
  },
  {
   "cell_type": "code",
   "execution_count": null,
   "id": "0f56a04f",
   "metadata": {},
   "outputs": [],
   "source": [
    "from django import forms\n",
    "\n",
    "class ReviewForm(forms.Form):\n",
    "    user_name = forms.CharField(label='You name', max_length=100, error_messages={\n",
    "        'required': 'Your name must not be empty!',\n",
    "        'max_length': \"Please enter a shorter name!\"\n",
    "    })"
   ]
  },
  {
   "cell_type": "markdown",
   "id": "62e8b3d8",
   "metadata": {},
   "source": [
    "Now, if you save everything and check the root page, you will see that everything works just fine and you could also see your custom messages."
   ]
  },
  {
   "cell_type": "markdown",
   "id": "7d7404d7",
   "metadata": {},
   "source": [
    "If you are wondering about the other options that you have you could see the official documentation, just search form django form field documention and you will be able to see them."
   ]
  },
  {
   "cell_type": "markdown",
   "id": "caf4043e",
   "metadata": {},
   "source": [
    "### Lets costumize where should everything be shown!\n",
    "\n",
    "\n",
    "So far we used the the {{ form }} to show our form which is a standard way.<br>\n",
    "This standard why will show labels, errors, and then the input field! but what if we wanted to change this order?<br>\n",
    "\n",
    "To achieve that:\n",
    "1. First of all you need to stop prining the form as a whole<br>\n",
    "2. You could start with the label, just use {{ form.user_name.label_tag }}\n",
    "3. To get the element isself you could use {{ form.user_name }}\n",
    "4. And for the error you could use {{ form.user_name.errors }}\n",
    "\n",
    "You index.html should look like the following block:"
   ]
  },
  {
   "cell_type": "code",
   "execution_count": null,
   "id": "00642a8c",
   "metadata": {
    "vscode": {
     "languageId": "html"
    }
   },
   "outputs": [],
   "source": [
    "{% extends \"base.html\" %}\n",
    "{% load static %}\n",
    "\n",
    "{% block css_files %}\n",
    "    <link rel=\"stylesheet\" href=\"{% static \"reviews/index.css\" %}\">\n",
    "{% endblock css_files %}\n",
    "\n",
    "{% block page_title %}Reviews {% endblock page_title %}root\n",
    "\n",
    "{% block content %}\n",
    "    <form action='/' method='POST'>\n",
    "        {% csrf_token %}\n",
    "        {{ form.user_name.label }}\n",
    "        {{ form.user_name }}\n",
    "        {{ form.user_name.errors }}\n",
    "        <button>Send</button>\n",
    "    </form>\n",
    "{% endblock content %}"
   ]
  },
  {
   "cell_type": "markdown",
   "id": "aa849d41",
   "metadata": {},
   "source": [
    "lets tyle what we have created.\n",
    "\n",
    "1. Put all the form.user_name sections in a div tag and give it a class.\n",
    "2. Also, give the div tag another class for when it is invalid! you could use an if statement for that.\n",
    "\n",
    "Your index.html file should look like the following block:"
   ]
  },
  {
   "cell_type": "code",
   "execution_count": null,
   "id": "47c7731b",
   "metadata": {
    "vscode": {
     "languageId": "html"
    }
   },
   "outputs": [],
   "source": [
    "{% extends \"base.html\" %}\n",
    "{% load static %}\n",
    "\n",
    "{% block css_files %}\n",
    "    <link rel=\"stylesheet\" href=\"{% static \"reviews/index.css\" %}\">\n",
    "{% endblock css_files %}\n",
    "\n",
    "{% block page_title %}Reviews {% endblock page_title %}root\n",
    "\n",
    "{% block content %}\n",
    "    <form action='/' method='POST'>\n",
    "        {% csrf_token %}\n",
    "        <div class='form-control {% if form.user_name.errors %}errors{% endif %}'>\n",
    "            {{ form.user_name.label_tag }}\n",
    "            {{ form.user_name }}\n",
    "            {{ form.user_name.errors }}\n",
    "        </div>\n",
    "        <button>Send</button>\n",
    "    </form>\n",
    "{% endblock content %}"
   ]
  },
  {
   "cell_type": "markdown",
   "id": "534fa2da",
   "metadata": {
    "vscode": {
     "languageId": "raw"
    }
   },
   "source": [
    "3. Navigate to you index.css file\n",
    "4. give your page some styling\n",
    "\n",
    "My index.css looks like the following:"
   ]
  },
  {
   "cell_type": "code",
   "execution_count": null,
   "id": "0487e066",
   "metadata": {
    "vscode": {
     "languageId": "css"
    }
   },
   "outputs": [],
   "source": [
    "body{\n",
    "    font-family: sans-serif;\n",
    "    margin:0;\n",
    "    background-color:#15171E;\n",
    "}\n",
    "\n",
    "form{\n",
    "    margin:3rem auto;\n",
    "    width: 90%;\n",
    "    max-width: 30rem;\n",
    "    padding: 1rem;\n",
    "    border-radius: 12px;\n",
    "    background-color: transparent;\n",
    "    border:1px solid #222631;\n",
    "    color:#0074E0;\n",
    "    text-align: center;\n",
    "}\n",
    "button{\n",
    "    cursor: pointer;\n",
    "    padding:0.5rem 1.5rem;\n",
    "    border-radius: 6px;\n",
    "    background-color: #0074E0;\n",
    "    color:white;\n",
    "    border: 1px solid #0074E0;\n",
    "    width:90%;\n",
    "    max-width: 28rem;\n",
    "    font-weight: bold;\n",
    "    height: 2.5rem;\n",
    "}\n",
    "button:hover,\n",
    "button:active{\n",
    "    border-color:#47A6FF;\n",
    "}\n",
    "\n",
    ".form-control{\n",
    "    margin-bottom: 1rem;\n",
    "}\n",
    ".form-control input{\n",
    "    font: inherit;\n",
    "    padding:0.25rem;\n",
    "    border-radius: 4px;\n",
    "    border: 1px solid #ccc;\n",
    "    background-color:#2E2E34;\n",
    "    color:white;\n",
    "    width:90%;\n",
    "    max-width: 26rem;\n",
    "    height: 2rem;\n",
    "}\n",
    ".form-control input:focus{\n",
    "    border-color: #0074E0;\n",
    "    outline:none;\n",
    "    background-color:#2e2e34;\n",
    "}\n",
    ".form-control label{\n",
    "    display:block;\n",
    "    font-weight: bold;\n",
    "    text-align: left;\n",
    "    padding-left:5%;\n",
    "    margin-bottom:5px;\n",
    "}"
   ]
  },
  {
   "cell_type": "markdown",
   "id": "f6677204",
   "metadata": {
    "vscode": {
     "languageId": "raw"
    }
   },
   "source": [
    "Altough that i am not satisfied with the looks of my webpage! I am going to leave it like this! except for one little change.<br>\n",
    "\n",
    "I want to add a place holder for my input field! to do that we need to use something called a widget.\n",
    "\n",
    "This widget thing is an argument you can add to your CharField. It follows an specific pattern:\n",
    "widget=forms.TextInput(attrs={'placeholder': 'Search'})\n",
    "\n",
    "You forms.py file should look like the following block:"
   ]
  },
  {
   "cell_type": "code",
   "execution_count": null,
   "id": "12c5d8a2",
   "metadata": {},
   "outputs": [],
   "source": [
    "from django import forms\n",
    "\n",
    "\n",
    "class ReviewForm(forms.Form):\n",
    "    user_name = forms.CharField(label='You name', max_length=100, error_messages={\n",
    "        'required': 'Your name must not be empty!',\n",
    "        'max_length': \"Please enter a shorter name!\"\n",
    "    }, widget=forms.TextInput(attrs={'placeholder': 'e.g., Ramin or Johanna'}))"
   ]
  },
  {
   "cell_type": "markdown",
   "id": "ac5c3a97",
   "metadata": {},
   "source": [
    "Im going to increate left padding for my input field too."
   ]
  },
  {
   "cell_type": "markdown",
   "id": "8f773d17",
   "metadata": {},
   "source": [
    "padding-left:0.30rem;"
   ]
  },
  {
   "cell_type": "markdown",
   "id": "c409c32d",
   "metadata": {},
   "source": [
    "Don't forget to style the error message.\n",
    "\n",
    "If you check the page source code, you will notice that django has provided errors with a class call.\n",
    "\n",
    "Use it to your benefits."
   ]
  },
  {
   "cell_type": "markdown",
   "id": "263280eb",
   "metadata": {},
   "source": [
    "Your index.css file should look like the following block:"
   ]
  },
  {
   "cell_type": "code",
   "execution_count": null,
   "id": "7bf17e92",
   "metadata": {
    "vscode": {
     "languageId": "css"
    }
   },
   "outputs": [],
   "source": [
    "body{\n",
    "    font-family: sans-serif;\n",
    "    margin:0;\n",
    "    background-color:#15171E;\n",
    "}\n",
    "\n",
    "form{\n",
    "    margin:3rem auto;\n",
    "    width: 90%;\n",
    "    max-width: 30rem;\n",
    "    padding: 1rem;\n",
    "    border-radius: 12px;\n",
    "    background-color: transparent;\n",
    "    border:1px solid #222631;\n",
    "    color:#0074E0;\n",
    "    text-align: center;\n",
    "}\n",
    "button{\n",
    "    cursor: pointer;\n",
    "    padding:0.5rem 1.5rem;\n",
    "    border-radius: 6px;\n",
    "    background-color: #0074E0;\n",
    "    color:white;\n",
    "    border: 1px solid #0074E0;\n",
    "    width:90%;\n",
    "    max-width: 28rem;\n",
    "    font-weight: bold;\n",
    "    height: 2.5rem;\n",
    "}\n",
    "button:hover,\n",
    "button:active{\n",
    "    border-color:#47A6FF;\n",
    "}\n",
    "\n",
    ".form-control{\n",
    "    margin-bottom: 1rem;\n",
    "}\n",
    ".form-control input{\n",
    "    font: inherit;\n",
    "    padding:0.25rem;\n",
    "    padding-left:0.30rem;\n",
    "    border-radius: 4px;\n",
    "    border: 1px solid #ccc;\n",
    "    background-color:#2E2E34;\n",
    "    color:white;\n",
    "    width:90%;\n",
    "    max-width: 26rem;\n",
    "    height: 2rem;\n",
    "}\n",
    ".errors input{\n",
    "    border-color:#E60012;\n",
    "}\n",
    ".form-control input:hover,\n",
    ".form-control input:focus{\n",
    "    border-color: #0074E0;\n",
    "    outline:none;\n",
    "    background-color:#2e2e34;\n",
    "}\n",
    ".form-control label{\n",
    "    display:block;\n",
    "    font-weight: bold;\n",
    "    text-align: left;\n",
    "    padding-left:5%;\n",
    "    margin-bottom:5px;\n",
    "}\n",
    ".errorlist{\n",
    "    list-style: none;\n",
    "    margin:0 5.5% 0 0;\n",
    "    padding:0;\n",
    "    text-align: right;\n",
    "    color:#E60012;\n",
    "    line-height: 35px;\n",
    "}\n",
    ".errors label{\n",
    "    color:#E60012;\n",
    "}"
   ]
  },
  {
   "cell_type": "markdown",
   "id": "abaccb5e",
   "metadata": {},
   "source": [
    "In the next notebook you will learn how to add more fields and customize them."
   ]
  }
 ],
 "metadata": {
  "kernelspec": {
   "display_name": "Python 3",
   "language": "python",
   "name": "python3"
  },
  "language_info": {
   "codemirror_mode": {
    "name": "ipython",
    "version": 3
   },
   "file_extension": ".py",
   "mimetype": "text/x-python",
   "name": "python",
   "nbconvert_exporter": "python",
   "pygments_lexer": "ipython3",
   "version": "3.10.11"
  }
 },
 "nbformat": 4,
 "nbformat_minor": 5
}
