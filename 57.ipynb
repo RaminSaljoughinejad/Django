{
 "cells": [
  {
   "cell_type": "code",
   "execution_count": null,
   "id": "76e3954b-1478-4d8c-8826-bdb1611366bf",
   "metadata": {},
   "outputs": [],
   "source": []
  }
 ],
 "metadata": {
  "kernelspec": {
   "display_name": "",
   "name": ""
  },
  "language_info": {
   "name": ""
  }
 },
 "nbformat": 4,
 "nbformat_minor": 5
}
