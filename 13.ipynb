{
 "cells": [
  {
   "cell_type": "markdown",
   "id": "9c618836-66b1-41ed-b286-a6d26f98d0ce",
   "metadata": {},
   "source": [
    "### Solution 2: <span>Manipulating APP_DIRS Setting</span>\n",
    "\n",
    "First comment the address you added inside the DIRS value.<br>\n",
    "As you can see there is also another key called APP_DIRS which should hold the value True.<br>\n",
    "These setting tells Django that it should always check the APPs folders for Templates automatically.<br>\n",
    "But, why Django couldn't find our tempates? Why did it fail?<br>\n",
    "The reason is very simple. You see, we know that we have an APP called 'Python_Fundamentals', but Django isn't <span style='color:red'>FULLY</span> aware of it.<br>\n",
    "True, we have created the 'Python_Fundamentals' subfolder inside our project, but that alone is not enough.<br>\n",
    "So, if you have an APP that should be a part of your overall project, and you want to use futures like <span style='color:red'>Template Detection</span>, you should to <span style='color:blue;'>officially register</span> your app with this project.<br>\n",
    "\n",
    "Alright, but how do we officially register our app?<br><br>\n",
    "\n",
    "locate 'INSTALLED_APPS' list inside settings.py file.<br>\n",
    "As you can see there are already a number of apps installed, which are besically builtin app/builtin futures that Django is shipped with.<br>\n",
    "Add, a new string to the INSTALLED_APPS list with your APPs name.<br>\n",
    "Make sure that you are using the same name which is stored inside your apps.py file inside your APPs subfolder.<br>\n",
    "\n",
    "Your INSTALLED_APPS variable should look like the following block:"
   ]
  },
  {
   "cell_type": "code",
   "execution_count": null,
   "id": "854a3a5f-7a7b-4253-8df0-13f2a5149776",
   "metadata": {},
   "outputs": [],
   "source": [
    "INSTALLED_APPS = [\n",
    "    'Python_Fundamentals',\n",
    "    'django.contrib.admin',\n",
    "    'django.contrib.auth',\n",
    "    'django.contrib.contenttypes',\n",
    "    'django.contrib.sessions',\n",
    "    'django.contrib.messages',\n",
    "    'django.contrib.staticfiles',\n",
    "]"
   ]
  },
  {
   "cell_type": "markdown",
   "id": "ac120a30-1df0-4881-87ba-d0381b6fbe13",
   "metadata": {},
   "source": [
    "And your TEMPLATES variable should also look like the following:"
   ]
  },
  {
   "cell_type": "code",
   "execution_count": null,
   "id": "b2a45632-9402-4469-96f1-4164c036d184",
   "metadata": {},
   "outputs": [],
   "source": [
    "TEMPLATES = [\n",
    "    {\n",
    "        'BACKEND': 'django.template.backends.django.DjangoTemplates',\n",
    "        'DIRS': [\n",
    "            #BASE_DIR / 'Python_Fundamentals' / 'templates'\n",
    "        ],\n",
    "        'APP_DIRS': True,\n",
    "        'OPTIONS': {\n",
    "            'context_processors': [\n",
    "                'django.template.context_processors.debug',\n",
    "                'django.template.context_processors.request',\n",
    "                'django.contrib.auth.context_processors.auth',\n",
    "                'django.contrib.messages.context_processors.messages',\n",
    "            ],\n",
    "        },\n",
    "    },\n",
    "]"
   ]
  },
  {
   "cell_type": "markdown",
   "id": "3e1e3235-7cf1-4500-8836-b05fe4cdd2d6",
   "metadata": {},
   "source": [
    "Now, if you reload your browser you will see that it still works.<br>\n",
    "\n",
    "In the next notebook we will discuss why we used the 'Python_Fundaments/exercise.html' inside our views.py and why we didn't put the exercise.html file directly inside the templates folder."
   ]
  }
 ],
 "metadata": {
  "kernelspec": {
   "display_name": "Python 3 (ipykernel)",
   "language": "python",
   "name": "python3"
  },
  "language_info": {
   "codemirror_mode": {
    "name": "ipython",
    "version": 3
   },
   "file_extension": ".py",
   "mimetype": "text/x-python",
   "name": "python",
   "nbconvert_exporter": "python",
   "pygments_lexer": "ipython3",
   "version": "3.10.11"
  }
 },
 "nbformat": 4,
 "nbformat_minor": 5
}
