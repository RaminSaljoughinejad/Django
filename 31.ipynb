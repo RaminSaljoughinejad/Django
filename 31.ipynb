{
 "cells": [
  {
   "cell_type": "markdown",
   "id": "effdaf67-50dc-4a39-98de-ef69fe83f0bd",
   "metadata": {},
   "source": [
    "### Project: Video_Store\n",
    "\n",
    "Lets learn about Django Models with a new project.<br>\n",
    "1- Create a new project called video_store.<br>\n",
    "2- Add a new app called video_outlet.<br>\n",
    "3- Run the development server.<br>\n",
    "4- Start visual studio code.<br>\n",
    "5- Configure VS Code to your needs.<br>\n",
    "\n",
    "In case, you do not remember he needed commands, here is a list of them:"
   ]
  },
  {
   "cell_type": "code",
   "execution_count": null,
   "id": "58f0d53f-228a-401b-975a-e721c24f5bb4",
   "metadata": {},
   "outputs": [],
   "source": [
    "django-admin startproject video_store\n",
    "python manage.py startapp video_outlet\n",
    "python manage.py runserver"
   ]
  },
  {
   "cell_type": "markdown",
   "id": "c1dbbafb-e952-4dbb-9c97-b81a05c7628a",
   "metadata": {},
   "source": [
    "1- Create the template and static folders for both the root of your project and the app.<br>\n",
    "2- Make the neccessary changes in the settings.py and urls.py<br>\n",
    "3- Create urls.py file for our app<br>\n",
    "4- Define an index view function and render the index.html that you created in step 1.<br>\n",
    "5- Make sure the CSS files are connected and working properly!<br>\n",
    "6- Don't forget to follow the best practices.<br>\n",
    "7- Save and run everything to make sure that they work."
   ]
  },
  {
   "cell_type": "markdown",
   "id": "c90d3cf5-bc87-4d52-81ce-2dce96325f1b",
   "metadata": {},
   "source": [
    "### Now, we can start working with models.\n",
    "\n",
    "1- Navigate to models.py file in your app directory.<br>\n",
    "2- Define a class called movie, this class need to inherit from models.Model which is a Django builtin model.<br>\n",
    "3- Now we need to define the stracture of this class.<br>\n",
    "- Our table is going to have 3 columns (id, title, rating)<br>\n",
    "- When you define them, you need to tell Django what data is going to be stored in them! (you can search for model field reference on the internet)<br>\n",
    "- This columns are going to get defined as class attributes<br>\n",
    "\n",
    "The following code is what we discussed so far:"
   ]
  },
  {
   "cell_type": "code",
   "execution_count": null,
   "id": "077bb866-c231-4ace-9a2a-bc1c8d4cc931",
   "metadata": {},
   "outputs": [],
   "source": [
    "class Movie(models.Model):\n",
    "    title = models.CharField(max_length=50)\n",
    "    rating = models.IntegerField()"
   ]
  },
  {
   "cell_type": "markdown",
   "id": "0c56f874-675e-4ed6-88e1-fdd6ca56cf6c",
   "metadata": {},
   "source": [
    "#### Code Explanations:\n",
    "- 'CharField' defines a string field, for small- to large-sized strings (max-length is required).\n",
    "- 'IntegerField' defines an integer field, this field does not have a require argument.\n",
    "\n",
    "Please Understand that Django will also create a column named id which is auto incremental, meaning that it starts from 0 and increases by 1 for each row of data.<br>\n",
    "You could do it yourself to by adding id = models.Autofield()<br>"
   ]
  },
  {
   "cell_type": "markdown",
   "id": "c0451835-8ce9-4faa-b406-fe955f8852c8",
   "metadata": {},
   "source": [
    "### Making Django aware of the datamodel! and forcing it to create the table we just created:\n",
    "\n",
    "1- To tell Django to create the table we just defined in the modes.py we need to use a concept called migrations.<br>\n",
    "You may have already noticed that we have a folder called migrations inside our app, which is empty at the moment.<br>\n",
    "Migrations are features  which basically define steps for django to execute, these steps are needed to create and update tables.<br>\n",
    "\n",
    "### Lets create a migration:\n",
    "1- Open Terminal (Command Prompt) and navogate to your project directory where your manage.py file is.<br>\n",
    "2- Use migration command which is presented in the following block:<br>"
   ]
  },
  {
   "cell_type": "code",
   "execution_count": null,
   "id": "880463e2-d212-4a63-a89e-a187b92e954e",
   "metadata": {},
   "outputs": [],
   "source": [
    "python manage.py makemigrations"
   ]
  },
  {
   "cell_type": "markdown",
   "id": "4f6b224c-855d-4936-b3cd-fe368fecaaf8",
   "metadata": {},
   "source": [
    "Now, if you check the migrations folder you will see a new file called '0001_initial.py'.<br>\n",
    "This files describes the operations that django should perform agains the database.<br>\n",
    "\n",
    "Please understand that you do not want to change this new file! unless you are very good in understanding what it does!<br>\n",
    "I personaly recommend that if you want to make any changes. Do them in the models.py file and let django handle migration files.<br>\n",
    "\n",
    "If you check the new file, you will see that migration is nothing but a class.<br>\n",
    "The 'initail = True' tells Django that this is the first migration to be executed everin this application.<br>\n",
    "The dependencies we do not argue at the moment, and the operations are a list of actions that needs to be performed on the database.<br>\n",
    "\n",
    "Please understand that still nothing is writen on the database.<br>\n",
    "To tell django to do the migration, we need to use the following command:<br>"
   ]
  },
  {
   "cell_type": "code",
   "execution_count": null,
   "id": "47a76914-3890-46ea-b564-c16114d17f90",
   "metadata": {},
   "outputs": [],
   "source": [
    "python manage.py migrate"
   ]
  },
  {
   "cell_type": "markdown",
   "id": "eab71e9b-b367-46e8-b0b4-bd78b36ff200",
   "metadata": {},
   "source": [
    "The first time you run the migrate command in a project, django will do more than what you asked in the migrations folder. The reason is that we have a lot of other apps installed in the project that you can not see at the moment and are visible in the settings.py (check INSTALLED_APPS list)<br>\n",
    "These builtin apps need tables to work probebly and that is why they exectuted a number of queries on the database."
   ]
  },
  {
   "cell_type": "markdown",
   "id": "6eb52e9d-d0e1-4f85-9a05-4ea6f0e16439",
   "metadata": {},
   "source": [
    "In the next notebook you will learn how to insert data to your database."
   ]
  }
 ],
 "metadata": {
  "kernelspec": {
   "display_name": "Python 3 (ipykernel)",
   "language": "python",
   "name": "python3"
  },
  "language_info": {
   "codemirror_mode": {
    "name": "ipython",
    "version": 3
   },
   "file_extension": ".py",
   "mimetype": "text/x-python",
   "name": "python",
   "nbconvert_exporter": "python",
   "pygments_lexer": "ipython3",
   "version": "3.10.11"
  }
 },
 "nbformat": 4,
 "nbformat_minor": 5
}
