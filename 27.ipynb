{
 "cells": [
  {
   "cell_type": "markdown",
   "id": "b5704566-199f-4693-909c-fe02467b2e85",
   "metadata": {},
   "source": [
    "### blog-post-detail Template\n",
    "\n",
    "1- Create a template called post-detail.html next to index.html file.<br>\n",
    "2- Create a css file for this template and put it in the static folder next to the index.css file.<br>\n",
    "3- Extend from the base.html, load static, and add the stracture you desire for this page.<br>\n",
    "4- Write the styling that you want for the new template.<br>\n",
    "5- Fix all the links and urls.<br>\n",
    "6- Navigate to views.py file and render post-detail template for the last view function."
   ]
  },
  {
   "cell_type": "markdown",
   "id": "b3aa6b2b-d249-482d-adf2-a4254dadb784",
   "metadata": {},
   "source": [
    "Your post-detail.html file should look something like the following block:"
   ]
  },
  {
   "cell_type": "code",
   "execution_count": null,
   "id": "b62e6637-224a-48ae-93a3-a9e425410f9d",
   "metadata": {},
   "outputs": [],
   "source": [
    "{% extends \"base.html\" %}\n",
    "{% load static %}\n",
    "\n",
    "{% block title %}This Post Title{% endblock %}\n",
    "\n",
    "{% block css_files %}\n",
    "    <link rel=\"stylesheet\" href=\"{% static \"blog/post-detail.css\" %}\">\n",
    "{% endblock %}\n",
    "\n",
    "{% block content %}\n",
    "    <section id='summary'>\n",
    "        <h2>Post Title</h2>\n",
    "        <article>\n",
    "            <img src=\"{% static \"blog/images/tf.png\" %}\" alt=\"Post Title\">\n",
    "            <address>By Ramin</address>\n",
    "            <div>\n",
    "                Last Update on <time>December 14th</time>\n",
    "            </div>\n",
    "        </article>\n",
    "    </section>\n",
    "    <main>\n",
    "        <p>\n",
    "            Lorem ipsum dolor sit amet consectetur adipisicing elit. Aut inventore doloremque repellat tempora debitis delectus ullam, nemo consectetur ex? Ipsa sit deleniti non labore cupiditate earum debitis, quos unde nisi.\n",
    "        </p>\n",
    "        <p>\n",
    "            Lorem ipsum dolor sit amet consectetur adipisicing elit. Aut inventore doloremque repellat tempora debitis delectus ullam, nemo consectetur ex? Ipsa sit deleniti non labore cupiditate earum debitis, quos unde nisi.\n",
    "        </p>\n",
    "        <p>\n",
    "            Lorem ipsum dolor sit amet consectetur adipisicing elit. Aut inventore doloremque repellat tempora debitis delectus ullam, nemo consectetur ex? Ipsa sit deleniti non labore cupiditate earum debitis, quos unde nisi.\n",
    "        </p>\n",
    "        <p>\n",
    "            Lorem ipsum dolor sit amet consectetur adipisicing elit. Aut inventore doloremque repellat tempora debitis delectus ullam, nemo consectetur ex? Ipsa sit deleniti non labore cupiditate earum debitis, quos unde nisi.\n",
    "        </p>\n",
    "    </main>\n",
    "{% endblock %}"
   ]
  },
  {
   "cell_type": "markdown",
   "id": "91931ad3-9510-4113-a77f-bf06e3ab3f1e",
   "metadata": {},
   "source": [
    "Your post_detail view function should look something like the following block:"
   ]
  },
  {
   "cell_type": "code",
   "execution_count": null,
   "id": "16cf800b-f13b-489e-8a8b-cd262c4db7a6",
   "metadata": {},
   "outputs": [],
   "source": [
    "def post_detail(request, slug):\n",
    "    return render(request, \"blog/post-detail.html\")"
   ]
  },
  {
   "cell_type": "markdown",
   "id": "157e9f99-aaf1-4a6d-84f0-4ba5dbfb80de",
   "metadata": {},
   "source": [
    "Your post_detail.css file should look something like the following block:"
   ]
  },
  {
   "cell_type": "code",
   "execution_count": null,
   "id": "752ce667-b498-4397-a91f-1a2f523770c1",
   "metadata": {},
   "outputs": [],
   "source": [
    "body{\n",
    "    background-color:#e7e7e7;\n",
    "}\n",
    "\n",
    "#main-navigation{\n",
    "    background: linear-gradient(to right top, #338dc4, #0bb5e9);\n",
    "    box-shadow: 0 2px 8px rgba(0, 0, 0, 0.25);\n",
    "}\n",
    "\n",
    "#summary{\n",
    "    margin: 8rem auto 3rem auto;\n",
    "    padding:2rem;\n",
    "    width:90%;\n",
    "    max-width: 90rem;\n",
    "    border-radius: 12px;\n",
    "    background-color: #27AE61;\n",
    "    position: relative;\n",
    "    box-shadow: 0 2px 8px rgba(0,0,0,0.45);\n",
    "    height:22rem;\n",
    "}\n",
    "\n",
    "#summary h2{\n",
    "    color:white;\n",
    "    font-size:4.5rem;\n",
    "}\n",
    "\n",
    "#summary article{\n",
    "    position:absolute;\n",
    "    top:2rem;\n",
    "    right: 3rem;\n",
    "    padding: 1rem 2rem;\n",
    "    border-radius: 12px;\n",
    "    text-align: right;\n",
    "    color: white;\n",
    "}\n",
    "\n",
    "#summary article img{\n",
    "    width:12rem;\n",
    "    height:12rem;\n",
    "    border-radius: 12px;\n",
    "    transform: rotate(5deg);\n",
    "    border:5px solid white;\n",
    "    margin-bottom: 1rem;\n",
    "}\n",
    "\n",
    "#summary:hover,\n",
    "#summary:active{\n",
    "    background-color:#338dc4;\n",
    "}\n",
    "\n",
    "#summary address{\n",
    "    font-weight: bold;\n",
    "}\n",
    "\n",
    "#summary time{\n",
    "    font-weight: bold;\n",
    "}\n",
    "\n",
    "main{\n",
    "    margin:3rem auto 0 auto;\n",
    "    background-color:white;\n",
    "    width:90%;\n",
    "    max-width: 90rem;\n",
    "    padding:2rem;\n",
    "    border-radius: 16px;\n",
    "    box-shadow: 0 2px 12px rgba(0,0,0,0.45);\n",
    "}"
   ]
  },
  {
   "cell_type": "markdown",
   "id": "8cb478e6-2c12-42d2-bdd0-4d40433cb1b8",
   "metadata": {},
   "source": [
    "#### In the next notebook, we will make the pages dynamic."
   ]
  }
 ],
 "metadata": {
  "kernelspec": {
   "display_name": "Python 3 (ipykernel)",
   "language": "python",
   "name": "python3"
  },
  "language_info": {
   "codemirror_mode": {
    "name": "ipython",
    "version": 3
   },
   "file_extension": ".py",
   "mimetype": "text/x-python",
   "name": "python",
   "nbconvert_exporter": "python",
   "pygments_lexer": "ipython3",
   "version": "3.10.11"
  }
 },
 "nbformat": 4,
 "nbformat_minor": 5
}
