{
 "cells": [
  {
   "cell_type": "markdown",
   "id": "7bd3ea41",
   "metadata": {},
   "source": [
    "### User Registration:\n",
    "\n",
    "If you check auth/urls.py file, you will see that django hasn't define a path for user signup, which means that this task is left for us to be handled.<br>\n",
    "\n",
    "Since now, what ever we did, could have be done with out creating the accounts app! meaning that loging in a user does not need an app, but now that you want to register a user you will need an app!<br>\n",
    "We are going to use our account app ofr this purpose!<br>\n",
    "\n",
    "So, what should we do?<br>\n",
    "1. The first thing to do is to define a url for signup\n",
    "    - Please understand that under no circumstances you are allowed to change django built in apps! so you are not supposed to go to auth/urls.py and add a new path for signup!\n",
    "    - Navigate to main urls.py file and add a new path\n",
    "        - This path should have the same url ('accounts/') as the previous url!\n",
    "        - The only difference is that this new path points to 'accounts.urls'"
   ]
  },
  {
   "cell_type": "code",
   "execution_count": null,
   "id": "d9708120",
   "metadata": {},
   "outputs": [],
   "source": [
    "urlpatterns = [\n",
    "    path('admin/', admin.site.urls),\n",
    "    path('', include('blog.urls')),\n",
    "    path('accounts/', include('django.contrib.auth.urls')),\n",
    "    path('accounts/', include('accounts.urls'))\n",
    "]"
   ]
  },
  {
   "cell_type": "markdown",
   "id": "8068e05e",
   "metadata": {},
   "source": [
    "2. Create a urls.py file for your 'accounts' app\n",
    "    - define urlpatterns and a path with 'signup/' url\n",
    "        - This path has a view called RegisterView which is a class\n",
    "        - Call this path 'signup'"
   ]
  },
  {
   "cell_type": "code",
   "execution_count": null,
   "id": "bbe999ab",
   "metadata": {},
   "outputs": [],
   "source": [
    "from django.urls import path\n",
    "from . import views\n",
    "\n",
    "urlpatterns = [\n",
    "    path('signup/', views.SignupViews.as_view(), name='signup')\n",
    "]"
   ]
  },
  {
   "cell_type": "markdown",
   "id": "3b46ee9b",
   "metadata": {},
   "source": [
    "3. Lets work on the view:\n",
    "    - Create a class-based view and extend it from CreateView class\n",
    "\n",
    "Now let me explain something amazing:<br><br>\n",
    "When it gets to creating forms, programmers get exhusted and upset!<br>\n",
    "did you know that django has already predefined a number of very common forms that you can use?<br>\n",
    "<br>\n",
    "We are going to use one of these forms which has been built for signup\n",
    "\n",
    "    - Go ahead and import UserCreationForm from django.contrib.auth.forms\n",
    "    - Now you can pass it to form_class inside your SignupView\n",
    "    - Define template_name and then create a template called signup.html next to login.html template (define a css file too, incase you need it)\n",
    "    - Define success_url and point it to login url\n",
    "        - Please understand that you can not use reverse method here! reverse method could be used in functions but not classes! The reason is that when the classes are being defined the project's URLConf is not yet loaded,hence the reverse method wont work. What should we do then? well there is another method called 'reverse_lazy' which is built for this purpose. Use it (import it from djano.urls)."
   ]
  },
  {
   "cell_type": "code",
   "execution_count": null,
   "id": "7e343fdd",
   "metadata": {},
   "outputs": [],
   "source": [
    "from django.shortcuts import render\n",
    "from django.views.generic import CreateView\n",
    "from django.contrib.auth.forms import UserCreationForm\n",
    "from django.urls import reverse_lazy\n",
    "\n",
    "class SignupView(CreateView):\n",
    "    form_class = UserCreationForm\n",
    "    template_name = 'registration/signup.html'\n",
    "    success_url = reverse_lazy('login')"
   ]
  },
  {
   "cell_type": "markdown",
   "id": "362f2dd7",
   "metadata": {},
   "source": [
    "Lets work on the template! Please note that your form in the template does not require an action!<br>"
   ]
  },
  {
   "cell_type": "code",
   "execution_count": null,
   "id": "0eed8a7f",
   "metadata": {
    "vscode": {
     "languageId": "html"
    }
   },
   "outputs": [],
   "source": [
    "{% extends \"base.html\" %}\n",
    "{% load static %}\n",
    "\n",
    "\n",
    "{% block page_title %}Signup{% endblock page_title %}\n",
    "\n",
    "{% block css_files %}\n",
    "    <link rel=\"stylesheet\" href=\"{% static \"registration/signup.css\" %}\">\n",
    "{% endblock css_files %}\n",
    "\n",
    "{% block content %}\n",
    "    <div class=\"d-flex justify-content-center\">\n",
    "        <div class='bg-dark rounded p-5 mt-5 text-white signup-form'>\n",
    "            <form method=\"POST\">\n",
    "                {% csrf_token %}\n",
    "                {{ form.as_p }}\n",
    "                <button class='btn btn-primary form-control mt-2' type=\"submit\">Sign Up</button>\n",
    "            </form>\n",
    "        </div>\n",
    "    </div>\n",
    "{% endblock content %}"
   ]
  },
  {
   "cell_type": "code",
   "execution_count": null,
   "id": "52369e48",
   "metadata": {
    "vscode": {
     "languageId": "css"
    }
   },
   "outputs": [],
   "source": [
    ".signup-form input{\n",
    "    width:100%;\n",
    "}\n",
    ".signup-form ul{\n",
    "    margin-left:2rem;\n",
    "    text-align: justify;\n",
    "    width:90%;\n",
    "}\n",
    "#id_username::placeholder{\n",
    "    content: \"User Name\";\n",
    "}\n",
    ".errorlist{\n",
    "    color:rgb(236, 16, 16);\n",
    "}"
   ]
  },
  {
   "cell_type": "markdown",
   "id": "8103b42d",
   "metadata": {
    "vscode": {
     "languageId": "css"
    }
   },
   "source": [
    "At the moment if a user logs in, they can still access the signup page! to stop them from doing this we need to redefine a method called dispatch in our viewclass<br>"
   ]
  },
  {
   "cell_type": "code",
   "execution_count": null,
   "id": "a48e06e0",
   "metadata": {},
   "outputs": [],
   "source": [
    "def dispatch(self, request, *args, **kwargs):\n",
    "    if self.request.user.is_authenticated:\n",
    "        return redirect('blog-root-url')  \n",
    "    return super().dispatch(request, *args, **kwargs)"
   ]
  },
  {
   "cell_type": "markdown",
   "id": "41b7fa63",
   "metadata": {},
   "source": [
    "The dispatch method happens before a request hence you can use it to redirect them to another page!<br>"
   ]
  },
  {
   "cell_type": "markdown",
   "id": "34c0a0ba",
   "metadata": {},
   "source": [
    "In the next notebook we will work on adding other parts of our website.<br>"
   ]
  }
 ],
 "metadata": {
  "kernelspec": {
   "display_name": "Python 3",
   "language": "python",
   "name": "python3"
  },
  "language_info": {
   "codemirror_mode": {
    "name": "ipython",
    "version": 3
   },
   "file_extension": ".py",
   "mimetype": "text/x-python",
   "name": "python",
   "nbconvert_exporter": "python",
   "pygments_lexer": "ipython3",
   "version": "3.10.11"
  }
 },
 "nbformat": 4,
 "nbformat_minor": 5
}
