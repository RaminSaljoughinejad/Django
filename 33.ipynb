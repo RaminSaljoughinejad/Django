{
 "cells": [
  {
   "cell_type": "markdown",
   "id": "90961182-7fdd-46d6-9fbd-300976d62889",
   "metadata": {},
   "source": [
    "### Updating Data to The Database:\n",
    "\n",
    "To update a row in the shell:\n",
    "1- select the row by Movie.objects.all()[index] and put in a variable"
   ]
  },
  {
   "cell_type": "code",
   "execution_count": null,
   "id": "19f544e4-4834-426c-aebf-9eb330f91c16",
   "metadata": {},
   "outputs": [],
   "source": [
    "harry_potter = Movie.objects.all()[0]"
   ]
  },
  {
   "cell_type": "code",
   "execution_count": null,
   "id": "d7c85675-2021-45d4-84ac-075ab706a811",
   "metadata": {},
   "outputs": [],
   "source": [
    "2- Now, change the cell that you wish to change using the new variable."
   ]
  },
  {
   "cell_type": "code",
   "execution_count": null,
   "id": "fd2b6b25-2488-4445-a5ca-9b07efbb739a",
   "metadata": {},
   "outputs": [],
   "source": [
    "harry_potter.main_act = 'Daniel Radcliffe'\n",
    "harry_potter.is_bestselling = True"
   ]
  },
  {
   "cell_type": "markdown",
   "id": "d5fb65c5-3318-4653-8923-903de3ed6cb5",
   "metadata": {},
   "source": [
    "If you run the commands, the dabase won't get affected.<br>\n",
    "To update the databse un the save method on the harry_potter object"
   ]
  },
  {
   "cell_type": "code",
   "execution_count": null,
   "id": "ad2503a7-85f4-4305-a478-3d44e1e08d82",
   "metadata": {},
   "outputs": [],
   "source": [
    "harry_potter.save()"
   ]
  },
  {
   "cell_type": "code",
   "execution_count": null,
   "id": "2c082dce-f417-43fd-b495-67cd6295e294",
   "metadata": {},
   "outputs": [],
   "source": [
    "Now if you run Movie.objects.all(), you will see that the table is affected."
   ]
  },
  {
   "cell_type": "raw",
   "id": "028d61e1-d1c9-45f4-b56a-5a786266d99a",
   "metadata": {},
   "source": [
    "<QuerySet [<Movie: title:Harry Potter 1 - The philosopher's ston, rating:7, Main Actor/actress:Daniel Radcliffe, Best Seller>, <Movie: title:Harry Potter 2 - Chamber of Secrets, rating:8, Main Actor/actress:None>, <Movie: title:Harry Potter 3 - The Prisoner of Azkaban, rating:8, Main Actor/actress:None>, <Movie: title:Harry Potter 4 - The Goblet of Fire, rating:9, Main Actor/actress:None>, <Movie: title:Harry Potter 5 - The Order of the Phoenix, rating:9, Main Actor/actress:None>, <Movie: title:Harry Potter 6 - The Half Blood Prince, rating:9, Main Actor/actress:None>, <Movie: title:Harry Potter 7 - The Deathly Hallows, rating:10, Main Actor/actress:None>]>"
   ]
  },
  {
   "cell_type": "code",
   "execution_count": null,
   "id": "31203c5c-5cf7-49b1-94ad-9e0cae31e5e6",
   "metadata": {},
   "outputs": [],
   "source": [
    "69"
   ]
  }
 ],
 "metadata": {
  "kernelspec": {
   "display_name": "Python 3 (ipykernel)",
   "language": "python",
   "name": "python3"
  },
  "language_info": {
   "codemirror_mode": {
    "name": "ipython",
    "version": 3
   },
   "file_extension": ".py",
   "mimetype": "text/x-python",
   "name": "python",
   "nbconvert_exporter": "python",
   "pygments_lexer": "ipython3",
   "version": "3.10.11"
  }
 },
 "nbformat": 4,
 "nbformat_minor": 5
}
