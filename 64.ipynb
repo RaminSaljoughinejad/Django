{
 "cells": [
  {
   "cell_type": "markdown",
   "id": "c24589c8",
   "metadata": {},
   "source": [
    "### ListView:\n",
    "\n",
    "When you are working with a view which is primarly geting a list of data from a model and showing it! you are better of inheriting from another based class other than the other View classes.\n",
    "\n",
    "1. You can import this class using:\n",
    "    - from django.views.generic import ListView\n",
    "- Inside this class you do not define a get method!\n",
    "- Delete all the previously methods from the view-class.\n",
    "- Add the template_name = 'reviews/all-review.html'.\n",
    "2. Define a new class attribute called model = Review\n",
    "3. You dont need to do anything else! Django will automatically send all the data to the template you mentioned. The only thing is that they are no being sent under a new key value which is 'object_list', so you would need to update your all-reviews.html file to be able to see the results."
   ]
  },
  {
   "cell_type": "markdown",
   "id": "053fedec",
   "metadata": {},
   "source": [
    "You views.py file should look like the following block:"
   ]
  },
  {
   "cell_type": "code",
   "execution_count": null,
   "id": "52c0051b",
   "metadata": {},
   "outputs": [],
   "source": [
    "from django.shortcuts import render\n",
    "from django.http import HttpResponseRedirect\n",
    "from .forms import ReviewForm\n",
    "from django.views import View\n",
    "from django.views.generic import ListView, DetailView \n",
    "from django.views.generic.base import TemplateView\n",
    "from .models import Review\n",
    "\n",
    "class IndexView(View):\n",
    "    def get(self, request):\n",
    "        form = ReviewForm()\n",
    "        return render(request, 'reviews/index.html',{\n",
    "            'form':form\n",
    "        })\n",
    "        \n",
    "    def post(self, request):\n",
    "        form = ReviewForm(request.POST)\n",
    "        if form.is_valid():\n",
    "            form.save()\n",
    "            return HttpResponseRedirect('/results')\n",
    "        self.get(request)\n",
    "\n",
    "class ReviewsView(ListView):\n",
    "    template_name = 'reviews/all-reviews.html'\n",
    "    model = Review\n",
    "        \n",
    "class ThankyouView(TemplateView):\n",
    "    template_name = 'reviews/res.html'\n",
    "\n",
    "    def get_context_data(self, **kwargs):\n",
    "        context = super().get_context_data(**kwargs)\n",
    "        context[\"message\"] = \"This Works\" \n",
    "        return context\n",
    "    \n",
    "class ReviewDetailView(TemplateView):\n",
    "    template_name = 'reviews/review-detail.html'\n",
    "\n",
    "    def get_context_data(self, **kwargs):\n",
    "        review = Review.objects.get(pk=kwargs['id'])\n",
    "        context = super().get_context_data(**kwargs)\n",
    "        context[\"review\"] = review \n",
    "        return context"
   ]
  },
  {
   "cell_type": "markdown",
   "id": "c84c325c",
   "metadata": {},
   "source": [
    "You can ofcurse change the ket back to reviews:\n",
    "- Define a new class-attribute called context_object_name = 'reviews'\n",
    "\n",
    "now, go back to all-reviews.html and undo what you did last time.<br>\n",
    "\n",
    "Your ReviewsView class should look like the following block:"
   ]
  },
  {
   "cell_type": "code",
   "execution_count": null,
   "id": "263f8624",
   "metadata": {},
   "outputs": [],
   "source": [
    "class ReviewsView(ListView):\n",
    "    template_name = 'reviews/all-reviews.html'\n",
    "    model = Review\n",
    "    context_object_name = 'reviews'"
   ]
  },
  {
   "cell_type": "markdown",
   "id": "6486856e",
   "metadata": {},
   "source": [
    "You could also create rules, for example if you want to only show Reviews with rating higher than 6 you can redefne a method called get_queryset:"
   ]
  },
  {
   "cell_type": "markdown",
   "id": "d9538038",
   "metadata": {},
   "source": [
    "class ReviewsView(ListView):\n",
    "    template_name = 'reviews/all-reviews.html'\n",
    "    model = Review\n",
    "    context_object_name = 'reviews'\n",
    "\n",
    "    def get_queryset(self):\n",
    "        base_query =  super().get_queryset()\n",
    "        data = base_query.filter(rating__gt=4)\n",
    "        return data"
   ]
  },
  {
   "cell_type": "markdown",
   "id": "83936b7b",
   "metadata": {},
   "source": [
    "Lets learn another view:\n",
    "\n",
    "When you are working with a view which is primarly showing one line of data from a model! you are better of inheriting from another based class other than the other View classes.\n",
    "\n",
    "### DetailView\n",
    "\n",
    "\n",
    "1. You can import this class using:\n",
    "    - from django.views.generic import DetailView\n",
    "2. Give it the template_name = 'reviews/review-detail.html'\n",
    "3. Also give it model = Review\n",
    "4. Delete the get_context_data method\n",
    "5. To tell django how to select an specific row, you need to give it either a slug or a pimary key.\n",
    "    - to sue the primary key, naviagte to urls.py and change id to pk, this way django understands that it should treat the value here as the primary key.\n",
    "\n",
    "Your urls.py file should look like the following block:"
   ]
  },
  {
   "cell_type": "code",
   "execution_count": null,
   "id": "bd5c8519",
   "metadata": {},
   "outputs": [],
   "source": [
    "from django.urls import path\n",
    "from . import views\n",
    "\n",
    "\n",
    "urlpatterns = [\n",
    "    path('', views.IndexView.as_view(), name='reviews-root-url'),\n",
    "    path('results', views.ThankyouView.as_view(), name='reviews-result-url'),\n",
    "    path('reviews', views.ReviewsView.as_view(), name='all-reviews-url'),\n",
    "    path('reviews/<int:pk>', views.ReviewDetailView.as_view(), name='review-detail-url')\n",
    "]"
   ]
  },
  {
   "cell_type": "markdown",
   "id": "ad812f3a",
   "metadata": {},
   "source": [
    "Your ReviewDetailView class should look like the following block:"
   ]
  },
  {
   "cell_type": "code",
   "execution_count": null,
   "id": "054baf87",
   "metadata": {},
   "outputs": [],
   "source": [
    "class ReviewDetailView(DetailView):\n",
    "    template_name = 'reviews/review-detail.html'\n",
    "    model = Review"
   ]
  },
  {
   "cell_type": "markdown",
   "id": "83f15fa4",
   "metadata": {},
   "source": [
    "So, As you can see when it comes to views, we have a lot of options! but what one is the best? which one should we choose?<br>\n",
    "\n",
    "Well, let me put it this way, the whole idea of using class-based views is to write less code, so it doesnt matter which approach you choose, just use the one that requires less coding on your part.<br>\n",
    "\n",
    "Also, you don't have to use class-based view! if you find them confusing, don't use them.<br>"
   ]
  },
  {
   "cell_type": "markdown",
   "id": "dc836817",
   "metadata": {},
   "source": [
    "In the next notebook you will learn about other class-based views. "
   ]
  }
 ],
 "metadata": {
  "kernelspec": {
   "display_name": "Python 3",
   "language": "python",
   "name": "python3"
  },
  "language_info": {
   "codemirror_mode": {
    "name": "ipython",
    "version": 3
   },
   "file_extension": ".py",
   "mimetype": "text/x-python",
   "name": "python",
   "nbconvert_exporter": "python",
   "pygments_lexer": "ipython3",
   "version": "3.10.11"
  }
 },
 "nbformat": 4,
 "nbformat_minor": 5
}
