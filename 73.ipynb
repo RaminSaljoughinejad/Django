{
 "cells": [
  {
   "cell_type": "markdown",
   "id": "d48a6462",
   "metadata": {},
   "source": [
    "### Continuing With The Session:\n",
    "\n",
    "1. The first thing that you want to do when you are using sessions is to go the settings.py file and make sure that 'django.contrib.sessions.middleware.SessionMiddleware' is inside the MIDDLEWARE list.<br>\n",
    "    - It should be there by defualt, but if it isn't, you should add it.<br>\n",
    "2. You also want to make sure that 'django.contrib.session' is inside the INSTALLED_APPS list, and again if it is not, add it.<br>\n",
    "\n",
    "3. Now, we are going to tell django, that how long should a session live.<br>\n",
    "    - To do that, create a variable called SESSION_COOKIE_AGE at the bottom of the sessions.pt file and pass the time in seconds (If you dont set this it would be set to 2weeks by default).\n",
    "    - I am not going to set it! and leave it to be as the defualt.\n",
    "\n",
    "4. Navigate to the template you added the button.\n",
    "    - What we want to do here is to send a request to server when the buttton is clicked, then run some logic which is going to allow us do what we wanted.\n",
    "    - Wrap the button in a form so that you can send a request to server when it is pressed.\n",
    "        - The form method should be POST and the action is going to be a new address (I choose '/reviews/favorite')\n",
    "5. Now we need to send some data with the form to the server so that the serve know which review is going to be the favorite.\n",
    "        - add an input with type='hidden', name='review_id', and value = {{ review.id }}\n",
    "            - Please note that inputs with tyoe hidden wont be shown to the user.\n",
    "\n",
    "Your review-detail.html tempalte should look like the folloowing block:"
   ]
  },
  {
   "cell_type": "code",
   "execution_count": null,
   "id": "2000db49",
   "metadata": {
    "vscode": {
     "languageId": "html"
    }
   },
   "outputs": [],
   "source": [
    "{% extends \"base.html\" %}\n",
    "{% load static %}\n",
    "\n",
    "{% block page_title %}Review Detail{% endblock page_title %}\n",
    "\n",
    "{% block css_files %}\n",
    "    <link rel=\"stylesheet\" href=\"{% static \"reviews/review-detail.css\" %}\">\n",
    "{% endblock css_files %}\n",
    "\n",
    "{% block content %}\n",
    "    <div class='main-wrapper'>\n",
    "        <h1>User: {{ review.user_name }}</h1>\n",
    "        <h3>Rating: {{ review.rating }}</h3>\n",
    "        <p>Feedback: {{ review.review_text }}</p>\n",
    "        <form action=\"/reviews/favorite\" method=\"post\">\n",
    "            <input type=\"hidden\" name=\"review_id\" value='{{ review.id }}'>\n",
    "            <button>Favorite</button>\n",
    "        </form>\n",
    "    </div>\n",
    "{% endblock content %}"
   ]
  },
  {
   "cell_type": "markdown",
   "id": "09c8ce53",
   "metadata": {
    "vscode": {
     "languageId": "html"
    }
   },
   "source": [
    "6. Navigate to urls.py file and add the path you passed to the form.<br>\n",
    "NOTE: make sure you define this new path before 'reviews/<int:pk>', because if you dont, favorite would be considered as the primary key.\n",
    "\n",
    "Your urls.py file should look like the followng block:"
   ]
  },
  {
   "cell_type": "code",
   "execution_count": null,
   "id": "1762d9a4",
   "metadata": {},
   "outputs": [],
   "source": [
    "from django.urls import path\n",
    "from . import views\n",
    "\n",
    "urlpatterns = [\n",
    "    path('', views.IndexView.as_view(), name='reviews-root-url'),\n",
    "    path('results', views.ThankyouView.as_view(), name='reviews-result-url'),\n",
    "    path('reviews', views.ReviewsView.as_view(), name='all-reviews-url'),\n",
    "    path('reviews/favorite', views.AddFavoriteView.as_view() ,name='favorite-review-url'),\n",
    "    path('reviews/<int:pk>', views.ReviewDetailView.as_view(), name='review-detail-url')\n",
    "]"
   ]
  },
  {
   "cell_type": "markdown",
   "id": "af5c0bed",
   "metadata": {
    "vscode": {
     "languageId": "html"
    }
   },
   "source": [
    "7. Now you need to define a view!\n",
    "    - Naviagte to views.py file and ceate a new view class called AddFavoriteView, and extend it from the original View class.\n",
    "        - This could be a function too, you dont have to define it as a class!\n",
    "    - Define a post method, and inside it create a variable called review_id.\n",
    "        - By now, you should already know how to get the review_id from the request.POST and store it.\n",
    "    - Use the Review model and get the review which is its primary key is equals to what is inside the review_id variable (store the review object in a variable called 'fav_review').\n",
    "        - Review.objects.get(pk=review_id)\n",
    "    - Now, we want to store it in a session.\n",
    "        - Since we are utilizing django and its builin features, the request object will automatically have a session property.\n",
    "            - We can use this property to access saved data and add new data.\n",
    "            - This property works like a dictionary, so you can add new data by providing a new key!\n",
    "                - Please understand that django itself will take care of everything and you dont need to do anything else.\n",
    "your AddFavoriteView class should look like the following block:"
   ]
  },
  {
   "cell_type": "code",
   "execution_count": null,
   "id": "cbb20417",
   "metadata": {},
   "outputs": [],
   "source": [
    "class AddFavoriteView(View):\n",
    "    def post(self, request):\n",
    "        review_id = request.POST['review_id']\n",
    "        fav_review = Review.objects.get(pk=review_id)\n",
    "        request.session['Favorite_review'] = fav_review\n",
    "        return HttpResponseRedirect('/reviews/' + review_id)"
   ]
  },
  {
   "cell_type": "markdown",
   "id": "042f4f57",
   "metadata": {},
   "source": [
    "Save eveything and visit 'localhost:8000/reviews/1'<br>\n",
    "Click on the button<br>\n",
    "\n",
    "You will get an error! a CSRF error!<br>\n",
    "Fix it, you should know how!<br>\n",
    "\n",
    "If you fix, save and relog the page, after clicking on the button, you should get a new error! 'Object of type Review is not JSON serializable'<br>\n",
    "<br>\n",
    "This is very important, lets talk about sessions and Serializability in the next notebook<br>"
   ]
  }
 ],
 "metadata": {
  "kernelspec": {
   "display_name": "Python 3",
   "language": "python",
   "name": "python3"
  },
  "language_info": {
   "codemirror_mode": {
    "name": "ipython",
    "version": 3
   },
   "file_extension": ".py",
   "mimetype": "text/x-python",
   "name": "python",
   "nbconvert_exporter": "python",
   "pygments_lexer": "ipython3",
   "version": "3.10.11"
  }
 },
 "nbformat": 4,
 "nbformat_minor": 5
}
