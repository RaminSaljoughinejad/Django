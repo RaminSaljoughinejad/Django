{
 "cells": [
  {
   "cell_type": "markdown",
   "id": "5893f0db",
   "metadata": {},
   "source": [
    "Chapter 11:\n",
    "\n",
    "In this Chapter we are going to use everything that we learned so far in practice.<br>\n",
    "\n",
    "- We are going to add a comment section with forms\n",
    "- Add a 'read later' feature with sessions\n",
    "- Add file uploads, so that when we create a new post we can also upload an image for it"
   ]
  },
  {
   "cell_type": "markdown",
   "id": "36d9427d",
   "metadata": {},
   "source": [
    "Let's start with the file uploads!<br>\n",
    "\n",
    "We are going to continue fowrking on the blog project.<br>\n",
    "\n",
    "1. Navigate to blog-App and open models.py file\n",
    "2. We are going to modify the Post model. \n",
    "    - We have an image_name field here which its data type is CharField! This field stores the name of the image.\n",
    "    - We don't want this! We want everything to be done by Django.\n",
    "    - Replace the image_name line with image = models.ImageField()\n",
    "    - Set the upload_to to 'posts' (this folder will be in another folder called uploads)\n",
    "    - Add the uploads folder next to your manage.py file\n",
    "    - Navigate to settings.py file and make the neccessary adjustments so that django is aware of the uploads folder\n",
    "    - Also, make the neccessary changes in the urls.py file (project root urls.py)\n",
    "\n",
    "You should add the following block at the end of you settings.py file:"
   ]
  },
  {
   "cell_type": "markdown",
   "id": "dd1de732",
   "metadata": {},
   "source": [
    "MEDIA_ROOT = BASE_DIR / 'uploads'\n",
    "MEDIA_URL = '/user-posts/'"
   ]
  },
  {
   "cell_type": "markdown",
   "id": "fd9c0275",
   "metadata": {},
   "source": [
    "Your urls.py file (root project) should look like the followings:"
   ]
  },
  {
   "cell_type": "code",
   "execution_count": null,
   "id": "fc271aab",
   "metadata": {},
   "outputs": [],
   "source": [
    "from django.contrib import admin\n",
    "from django.urls import path, include\n",
    "from django.conf.urls.static import static\n",
    "from django.conf import settings\n",
    "\n",
    "urlpatterns = [\n",
    "    path('admin/', admin.site.urls),\n",
    "    path(\"\", include(\"blog.urls\"))\n",
    "] + static(settings.MEDIA_URL, document_root=settings.MEDIA_ROOT)"
   ]
  },
  {
   "cell_type": "markdown",
   "id": "2ae0cf51",
   "metadata": {},
   "source": [
    "Now, that you changed your model! you need to makemigrations and migrate.<br>\n",
    "\n",
    "You will have a problem when you write the makemigrations. You should know why is that!<br>\n",
    "\n",
    "To fix this, I will add a second argument to my ImageField which is null=True<br>\n",
    "\n",
    "Now I can makemigrations and migrate<br>\n",
    "\n",
    "Please understand that if you refresh the page you wil get an error! it is due to the fact that you do not have a variable called image_name inn your model anymore, and youa re trying to reference it in the index.html template.<br>\n",
    "\n",
    "Lets fix it step by step:\n",
    "1. Open the administartive page\n",
    "2. Upload an image for every post that you have.\n",
    "3. Navigate to your index.html template and make the neccessary adjucements.\n",
    "\n",
    "Yor post.html tempalte which is int he include directory should look like the following block:"
   ]
  },
  {
   "cell_type": "code",
   "execution_count": null,
   "id": "a41ccdfb",
   "metadata": {
    "vscode": {
     "languageId": "html"
    }
   },
   "outputs": [],
   "source": [
    "{% load static %}\n",
    "\n",
    "<li>\n",
    "    <article class='post'>\n",
    "        <a href=\" {% url \"blog-post-detail\" post.slug %}\">\n",
    "            <img src=\"{{ post.image.url }}\" alt=\"{{ post.title }}\">\n",
    "            <div class=\"post__content\">\n",
    "                <h3>{{ post.title }}</h3>\n",
    "                <p>{{ post.excerpt }}</p>\n",
    "            </div>\n",
    "        </a>\n",
    "    </article>\n",
    "</li>"
   ]
  },
  {
   "cell_type": "markdown",
   "id": "c71c5277",
   "metadata": {
    "vscode": {
     "languageId": "html"
    }
   },
   "source": [
    "Your post-detail.html tempalte should also look like the following block:"
   ]
  },
  {
   "cell_type": "markdown",
   "id": "3ce100cb",
   "metadata": {},
   "source": [
    "{% extends \"base.html\" %}\n",
    "{% load static %}\n",
    "\n",
    "{% block title %}{{ post.title }}{% endblock %}\n",
    "\n",
    "{% block css_files %}\n",
    "    <link rel=\"stylesheet\" href=\"{% static \"blog/post-detail.css\" %}\">\n",
    "{% endblock %}\n",
    "\n",
    "{% block content %}\n",
    "    <section id='summary'>\n",
    "        <h2>{{ post.title }}</h2>\n",
    "        <p>\n",
    "            {% for tag in post_tags %}\n",
    "                <span class='tag'>{{ tag.caption }} </span>\n",
    "            {% endfor %}\n",
    "        </p>\n",
    "        <article>\n",
    "            <img src=\"{{ post.image.url }}\" alt=\"{{ post.title }}\">\n",
    "            <address>By <a href='mailto:{{ post.author.email }}'>{{ post.author }}</a></address>\n",
    "            <div>\n",
    "                Last Update on <time>{{ post.date|date:\"d M Y\" }}</time>\n",
    "            </div>\n",
    "        </article>\n",
    "    </section>\n",
    "    <main>\n",
    "        <p>\n",
    "            {{ post.content }}\n",
    "        </p>\n",
    "    </main>\n",
    "{% endblock %}"
   ]
  },
  {
   "cell_type": "markdown",
   "id": "dffa1659",
   "metadata": {
    "vscode": {
     "languageId": "html"
    }
   },
   "source": [
    "In the next notebook we will add the cooment sestion for every post<br>"
   ]
  }
 ],
 "metadata": {
  "kernelspec": {
   "display_name": "Python 3",
   "language": "python",
   "name": "python3"
  },
  "language_info": {
   "codemirror_mode": {
    "name": "ipython",
    "version": 3
   },
   "file_extension": ".py",
   "mimetype": "text/x-python",
   "name": "python",
   "nbconvert_exporter": "python",
   "pygments_lexer": "ipython3",
   "version": "3.10.11"
  }
 },
 "nbformat": 4,
 "nbformat_minor": 5
}
