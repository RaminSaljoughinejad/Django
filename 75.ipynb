{
 "cells": [
  {
   "cell_type": "markdown",
   "id": "5893f0db",
   "metadata": {},
   "source": [
    "Chapter 11:\n",
    "\n",
    "In this Chapter we are going to use everything that we learned so far in practice.<br>\n",
    "\n",
    "- We are going to add a comment section with forms\n",
    "- Add a 'read later' feature with sessions\n",
    "- Add file uploads, so that when we create a new post we can also upload an image for it"
   ]
  },
  {
   "cell_type": "code",
   "execution_count": null,
   "id": "36d9427d",
   "metadata": {},
   "outputs": [],
   "source": [
    "166"
   ]
  }
 ],
 "metadata": {
  "kernelspec": {
   "display_name": "Python 3",
   "language": "python",
   "name": "python3"
  },
  "language_info": {
   "codemirror_mode": {
    "name": "ipython",
    "version": 3
   },
   "file_extension": ".py",
   "mimetype": "text/x-python",
   "name": "python",
   "nbconvert_exporter": "python",
   "pygments_lexer": "ipython3",
   "version": "3.10.11"
  }
 },
 "nbformat": 4,
 "nbformat_minor": 5
}
