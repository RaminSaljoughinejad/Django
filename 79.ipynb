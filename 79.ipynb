{
 "cells": [
  {
   "cell_type": "markdown",
   "id": "450bf3fc",
   "metadata": {},
   "source": [
    "### Adding The Read-Later Feature:\n",
    "\n",
    "Lets start with adding the button.<br>\n",
    "1. Navigate to post-detail.html template and add button with a form to it.iter\n",
    "\n",
    "My post-detail.html template look like the following block:"
   ]
  },
  {
   "cell_type": "code",
   "execution_count": null,
   "id": "2d70dccc",
   "metadata": {
    "vscode": {
     "languageId": "html"
    }
   },
   "outputs": [],
   "source": [
    "{% extends \"base.html\" %}\n",
    "{% load static %}\n",
    "\n",
    "{% block title %}{{ post.title }}{% endblock %}\n",
    "\n",
    "{% block css_files %}\n",
    "    <link rel=\"stylesheet\" href=\"{% static \"blog/post-detail.css\" %}\">\n",
    "{% endblock %}\n",
    "\n",
    "{% block content %}\n",
    "    {% if form.errors %}\n",
    "        <div class='error-box'>\n",
    "            <h3>Error</h3>\n",
    "            <h4>Sorry, we couldn't submit your comment to the server.</h4>\n",
    "            <p>Please check your inputs and resubmit the form.</p>\n",
    "        </div>\n",
    "    {% endif %}\n",
    "\n",
    "    <section id='summary'>\n",
    "        <h2>{{ post.title }}</h2>\n",
    "        <p>\n",
    "            {% for tag in post_tags %}\n",
    "                <span class='tag'>{{ tag.caption }} </span>\n",
    "            {% endfor %}\n",
    "        </p>\n",
    "        <article>\n",
    "            <img src=\"{{ post.image.url }}\" alt=\"{{ post.title }}\">\n",
    "            <address>By <a href='mailto:{{ post.author.email }}'>{{ post.author }}</a></address>\n",
    "            <div>\n",
    "                Last Update on <time>{{ post.date|date:\"d M Y\" }}</time>\n",
    "            </div>\n",
    "        </article>\n",
    "        <form action=\"\" method=\"post\" class='read-later-form'>\n",
    "            {% csrf_token %}\n",
    "            <button type='submit'>Read Later</button>\n",
    "        </form>\n",
    "    </section>\n",
    "    <main>\n",
    "        <p>\n",
    "            {{ post.content }}\n",
    "        </p>\n",
    "    </main>\n",
    "\n",
    "    <section class='comments'>\n",
    "        <ul>\n",
    "            {% for comment in comments %}\n",
    "                <li>\n",
    "                    <h2>{{ comment.user_name }}:</h2>\n",
    "                    <p>{{ comment.text | linebreaks }}</p>\n",
    "                </li>\n",
    "            {% endfor %}\n",
    "        </ul>\n",
    "    </section>\n",
    "\n",
    "    <div class='comments-section'>\n",
    "        <form action='{% url \"blog-post-detail\" post.slug %}' method=\"post\">\n",
    "            {% csrf_token %}\n",
    "            <div class='top-div'>\n",
    "                <div class='top-left'>\n",
    "                    {{ form.user_name.label_tag }}\n",
    "                    {% if form.user_name.errors %}\n",
    "                        {{ form.user_name.errors}}\n",
    "                    {% endif %}\n",
    "                    {{ form.user_name }}\n",
    "                    \n",
    "                    {{ form.user_email.label_tag }}\n",
    "                    {% if form.user_email.errors %}\n",
    "                        {{ form.user_emaile.errors}}\n",
    "                    {% endif %}\n",
    "                    {{ form.user_email }}\n",
    "                </div>\n",
    "                <div class='top-right'>\n",
    "                    <button type=\"submit\">Submit Comment</button>\n",
    "                </div>\n",
    "            </div>\n",
    "            <div class=\"bottom-div\">\n",
    "                {{ form.text.label_tag }}\n",
    "                {% if form.text.errors %}\n",
    "                        {{ form.text.errors}}\n",
    "                    {% endif %}\n",
    "                {{ form.text }}\n",
    "            </div>\n",
    "        </form>\n",
    "    </div>\n",
    "{% endblock %}"
   ]
  },
  {
   "cell_type": "markdown",
   "id": "3dd06149",
   "metadata": {
    "vscode": {
     "languageId": "html"
    }
   },
   "source": [
    "Here is the css code i added to the post-detail.css file:"
   ]
  },
  {
   "cell_type": "code",
   "execution_count": null,
   "id": "1873e1a5",
   "metadata": {},
   "outputs": [],
   "source": [
    ".read-later-form{\n",
    "    position:absolute;\n",
    "    bottom:-1rem;\n",
    "    left:2.2rem;\n",
    "}\n",
    ".read-later-form button{\n",
    "    width:7rem;\n",
    "    height:2rem;\n",
    "    border-radius: 8px;\n",
    "    border:1px solid #c13535;\n",
    "    background-color:#c13535;\n",
    "    color:white;\n",
    "    box-shadow: 0 0 10px rgb(0,0,0,0.6);\n",
    "    cursor: pointer;\n",
    "}\n",
    ".read-later-form button:hover,\n",
    ".read-later-form button:focus{\n",
    "    background-color:white;\n",
    "    color:#c13535;\n",
    "}"
   ]
  },
  {
   "cell_type": "markdown",
   "id": "a52cd6bb",
   "metadata": {},
   "source": [
    "2. We are going to use session to store the read later posts.<br>\n",
    "3. Add a hidden input to the form, this input is going to have a name an value.\n",
    "    - Name it 'post_id'\n",
    "    - Pass {{ post.id }} to its value\n",
    "4. Navigate to urls.py file and add a new path to it.\n",
    "    - path('read-later', views.ReadLaterView.as_view(), name='read-later-url')\n",
    "5. Go to the form you created in the post-detail.html template and use the name set for the new url path to construct a url.\n",
    "    - {% url 'read-later-url' %}\n",
    "6. Create a new view class called ReadLaterView and extend it from View.\n",
    "    - Redefine its post method\n",
    "    - use request.session.get['stored_posts] to access the stored posts and store them in a variable (stored_posts).\n",
    "    - Create an if statement and check to make sure that there are stored post avalible.\n",
    "    - If there is no stored posts in the variable you just created, pass an empty list to it.\n",
    "    - Now, since we are inthe post method, and this method only gets run when a post request is sent to the server, we need to append the post_id in the request.POST to the variable list we just created.\n",
    "    - Something you need to make sure here is that you dont add an already existed post to your list.\n",
    "    - In the end you need to redirect to the '/posts'\n",
    "Your View class should look like the following block:"
   ]
  },
  {
   "cell_type": "code",
   "execution_count": null,
   "id": "0562b1f1",
   "metadata": {},
   "outputs": [],
   "source": [
    "class ReadLaterView(View):\n",
    "    def post(self, request):\n",
    "        stored_posts = request.session.get('stored_posts')\n",
    "        if stored_posts is None:\n",
    "            stored_posts = []\n",
    "        post_id = int(request.POST['post_id'])\n",
    "        if post_id not in stored_posts:\n",
    "            stored_posts.append(post_id)\n",
    "        return HttpResponseRedirect(reverse('blog-post-page'))"
   ]
  },
  {
   "cell_type": "markdown",
   "id": "87b3dd81",
   "metadata": {},
   "source": [
    "7. Lets add the page, where we show all the stored posts.<br>\n",
    "    - Create a new template and its css file (stored-posts.html, stored-posts.css).\n",
    "    - Lets keep it simple<br>\n",
    "    \n",
    "Here is the code for my new template:"
   ]
  },
  {
   "cell_type": "code",
   "execution_count": null,
   "id": "e6e03fea",
   "metadata": {
    "vscode": {
     "languageId": "html"
    }
   },
   "outputs": [],
   "source": [
    "{% extends \"base.html\" %}\n",
    "{% load static %}\n",
    "\n",
    "{% block page_title %}My Stored Posts{% endblock page_title %}\n",
    "\n",
    "{% block css_files %}\n",
    "    <link rel=\"stylesheet\" href=\"{% static \"blog/stored-post.css\" %}\">\n",
    "{% endblock css_files %}\n",
    "\n",
    "{% block content %}\n",
    "    <section>\n",
    "        <ul>\n",
    "            <li><a href=\"\">Post Title</a></li>\n",
    "        </ul>\n",
    "    </section>\n",
    "{% endblock content %}"
   ]
  },
  {
   "cell_type": "markdown",
   "id": "0822011e",
   "metadata": {},
   "source": [
    "8. Now, we need to define the get method of our new view class.\n",
    "    - get the stored_posts list using request.session.get('stored_posts)\n",
    "    - create a context dictionary (empty)\n",
    "    - check if it is None or has the length of zero\n",
    "        - If it is the case, create a new key in context, name it posts and pass an empty list to it\n",
    "        - Also create a key called has_posts and pass False to it\n",
    "        - If the stored_posts list is not None, fetch the rows from the Post model using Post.objects.filter()\n",
    "            - use id__in so you can pass more than one umber to it\n",
    "        - pass the posts to posts key in context and pass True to has_posts\n",
    "    - return render method and stored-posts.html with the context\n",
    "\n",
    "here is the code you need to have in get method:"
   ]
  },
  {
   "cell_type": "code",
   "execution_count": null,
   "id": "4e59f619",
   "metadata": {},
   "outputs": [],
   "source": [
    "class ReadLaterView(View):\n",
    "    def get(self, request):\n",
    "        stored_posts = request.session.get('stored_posts')\n",
    "        context = {}\n",
    "        if stored_posts is None or len(stored_posts)==0:\n",
    "            context['posts']=[]\n",
    "            context['has_posts']=False\n",
    "        else:\n",
    "            posts = Post.objects.filter(id__in=stored_posts)\n",
    "            context['posts']=posts\n",
    "            context['has_posts']=True\n",
    "        return render(request, 'blog/stored-posts.html', context)"
   ]
  },
  {
   "cell_type": "markdown",
   "id": "2254283c",
   "metadata": {},
   "source": [
    "9. add a new link to the main-navigation and construct the url for read-later<br>"
   ]
  },
  {
   "cell_type": "code",
   "execution_count": null,
   "id": "e19fa695",
   "metadata": {
    "vscode": {
     "languageId": "html"
    }
   },
   "outputs": [],
   "source": [
    "<a href=\"{% url \"read-later-url\" %}\">Stored Posts</a>"
   ]
  },
  {
   "cell_type": "markdown",
   "id": "c5901771",
   "metadata": {
    "vscode": {
     "languageId": "html"
    }
   },
   "source": [
    "If you save everything and navigate to read-later page, you wont see anything!<br>\n",
    "\n",
    "The problem is our view<br>\n",
    "\n",
    "In the post method, we just appened the post id to the stored_post list, but we never wrote it in the session!<br>\n",
    "To fix this use \"request.session['stored_posts']=stored_posts\" after appending the post_id to the stored_posts list.<br>\n",
    "\n",
    "Here is the code for post method:"
   ]
  },
  {
   "cell_type": "code",
   "execution_count": null,
   "id": "f3a1c414",
   "metadata": {},
   "outputs": [],
   "source": [
    "def post(self, request):\n",
    "    stored_posts = request.session.get('stored_posts')\n",
    "    if stored_posts is None:\n",
    "        stored_posts = []\n",
    "    post_id = int(request.POST['post_id'])\n",
    "    if post_id not in stored_posts:\n",
    "        stored_posts.append(post_id)\n",
    "        request.session['stored_posts']=stored_posts\n",
    "    return HttpResponseRedirect(reverse('blog-post-page'))"
   ]
  },
  {
   "cell_type": "markdown",
   "id": "b8583b8c",
   "metadata": {},
   "source": [
    "Here is the code for stored-posts.html template<br>"
   ]
  },
  {
   "cell_type": "code",
   "execution_count": null,
   "id": "f2c7d094",
   "metadata": {
    "vscode": {
     "languageId": "html"
    }
   },
   "outputs": [],
   "source": [
    "{% extends \"base.html\" %}\n",
    "{% load static %}\n",
    "\n",
    "{% block page_title %}My Stored Posts{% endblock page_title %}\n",
    "\n",
    "{% block css_files %}\n",
    "    <link rel=\"stylesheet\" href=\"{% static \"blog/stored-posts.css\" %}\">\n",
    "{% endblock css_files %}\n",
    "\n",
    "{% block content %}\n",
    "<section id='all-posts'>\n",
    "    <h2>My Collected Posts</h2>\n",
    "    <ul>\n",
    "        {% if has_posts %}\n",
    "        {% for post in posts %}\n",
    "            {% include \"blog/includes/post.html\" %}\n",
    "        {% endfor %}\n",
    "        {% else %}\n",
    "            <li>No Posts are taged as read-later.</li>\n",
    "        {% endif %}\n",
    "    </ul>\n",
    "</section>\n",
    "{% endblock content %}"
   ]
  },
  {
   "cell_type": "markdown",
   "id": "fd93c073",
   "metadata": {
    "vscode": {
     "languageId": "html"
    }
   },
   "source": [
    "Style the template before you move to the next notebook."
   ]
  },
  {
   "cell_type": "code",
   "execution_count": null,
   "id": "e9bf9082",
   "metadata": {},
   "outputs": [],
   "source": [
    "#main-navigation{\n",
    "    background-color:#338dc4;\n",
    "}\n",
    "section{\n",
    "    margin-top:8rem;\n",
    "}\n",
    "#all-posts {\n",
    "    width:60rem;\n",
    "    background-color:white;\n",
    "    padding:2rem;\n",
    "    margin:7rem auto 2rem auto;\n",
    "    box-shadow: 1px 1px 12px rgba(0,0,0,0.4);\n",
    "    text-align: center;\n",
    "}\n",
    "#all-posts h2{\n",
    "    text-align: center;\n",
    "    font-size:2rem;\n",
    "    color:#2e2e2e;\n",
    "    margin:3rem 0;\n",
    "}\n",
    "ul{\n",
    "    list-style: none;\n",
    "    margin:0;\n",
    "    padding:0;\n",
    "    display:grid;\n",
    "    grid-template-columns:repeat(auto-fill, minmax(17rem, 1fr));  \n",
    "    gap:1.5rem;\n",
    "}\n",
    "li{\n",
    "    padding:1rem;\n",
    "    border:2px solid #2e2e2e;\n",
    "    box-shadow: 0 0 5px rgba(0,0,0,0.6);\n",
    "    border-radius: 12px;\n",
    "}\n",
    "li a{\n",
    "    text-decoration: none;\n",
    "    color:black;\n",
    "}\n",
    "li:hover,\n",
    "li:active{\n",
    "    background-color:#338dc4;\n",
    "    border-color:transparent;\n",
    "}\n",
    "li:hover a,\n",
    "li:active a{\n",
    "    color:white;\n",
    "}\n",
    "li:hover img,\n",
    "li:active img{\n",
    "    border-color:white;\n",
    "}\n",
    ".post img{\n",
    "    width: 7rem;\n",
    "    height: 7rem;\n",
    "    border:3px solid #338dc4;\n",
    "    border-radius: 50%;\n",
    "}\n",
    ".post a{\n",
    "    height: 22rem;\n",
    "    transform-origin:center;\n",
    "}"
   ]
  },
  {
   "cell_type": "markdown",
   "id": "2b442f26",
   "metadata": {},
   "source": [
    "In the next notebook we will add more details.<br>"
   ]
  }
 ],
 "metadata": {
  "kernelspec": {
   "display_name": "Python 3",
   "language": "python",
   "name": "python3"
  },
  "language_info": {
   "codemirror_mode": {
    "name": "ipython",
    "version": 3
   },
   "file_extension": ".py",
   "mimetype": "text/x-python",
   "name": "python",
   "nbconvert_exporter": "python",
   "pygments_lexer": "ipython3",
   "version": "3.10.11"
  }
 },
 "nbformat": 4,
 "nbformat_minor": 5
}
