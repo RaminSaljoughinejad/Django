{
 "cells": [
  {
   "cell_type": "markdown",
   "id": "12e0a327",
   "metadata": {},
   "source": [
    "### Saving The Uploaded Filed\n",
    "\n",
    "\n",
    "1. Create a helper function inside your views.py (not in the IndexView class!) and call it store_file.\n",
    "2. This function should have an input argument called file.\n",
    "3. Inside this function use python to write the file in a directory called 'temp/' and add a name for the name you want for the file.\n",
    "    - Please undertand that for now you need to choose the extension of you file exactly alike your file which you are going to upload. Later I will tell you how to do it automatically.\n",
    "4. Set the mode to 'wb+'\n",
    "5. As you know from our python course, you can now just call the write command for saving the file, but it is not a good approach, let me explain why:\n",
    "    - When you write the whole data in a file, the system will read it entirely and move it to the ram! What if you dont have anough space in your ram? or what if a great number of users decide to upload a file at the same time to your server? You see where I am going?\n",
    "    - so instead of writing the whole file as once we cut it into chunks and then write it chunk by chunk untill it is finished.\n",
    "    - to do so, write a for loop that runs for every chunk in file.chunks(), and inside the for loop we write it to the file.\n",
    "6. Now, instead of printing the file, call the store_file function and pass it the file.\n",
    "7. Don't forget to add the 'temp' folder inside your project directory otherwise you will get a 'FileNotFoundError'.\n",
    "    - Please understand that the the python code we wrote in the store_file function will assume the root of your project as the root place for loking for the 'temp' dicrectory and not the app directory.\n",
    "    - To make sure that you won't make a mistake: add the temp folder next to your manage.py file.\n",
    "\n",
    "Your views.py file should look like the following block:"
   ]
  },
  {
   "cell_type": "code",
   "execution_count": null,
   "id": "6acc5698",
   "metadata": {},
   "outputs": [],
   "source": [
    "from django.shortcuts import render\n",
    "from django.views import View\n",
    "from django.http import HttpResponseRedirect\n",
    "\n",
    "def store_file(file):\n",
    "    with open('temp/image.jpg', 'wb+') as destination:\n",
    "        for chunk in file.chunks():\n",
    "            destination.write(chunk)\n",
    "\n",
    "\n",
    "class IndexView(View):\n",
    "    def get(self, request):\n",
    "        return render(request, 'profiles/index.html')\n",
    "    \n",
    "    def post(self, request):\n",
    "        store_file(request.FILES['image'])\n",
    "        return HttpResponseRedirect('/profiles/')"
   ]
  },
  {
   "cell_type": "markdown",
   "id": "126a1e2f",
   "metadata": {},
   "source": [
    "What we have done here, is not a good aproach for file upload and saving! You may ask why?<br>\n",
    "Well, this approach is not flexible (only works with jpg files) and requires alot of coding.<br>\n",
    "Also, It is not safe! (I will explain this later).<br>"
   ]
  },
  {
   "cell_type": "markdown",
   "id": "804f9193",
   "metadata": {},
   "source": [
    "### Simplifying File Uploads:\n",
    "\n",
    "What you need to understand is that file uploads are just another sort of forms! and in the case of forms, django has provided us with a better form of handling forms which is using forms.py<br>\n",
    "\n",
    "1. Create a forms.py file inside your app directory.\n",
    "2. from django import forms\n",
    "3. Create a form class called ProfileForm and inherit from forms/Form\n",
    "4. Define a class attribute with the value of forms.FileField() and call it user_image.\n",
    "5. You can configure this by passing a number of arguments to the FileField method, for example:\n",
    "    - allow_empty_file [True/False]\n",
    "    - ...\n",
    "6. We leave the FileField method without any arguments at the moment.\n",
    "7. Navigate to your views.py and from .forms import ProfileForm\n",
    "8. Create an instance of it in the get method\n",
    "8. Pass it in the render function inside the get method under the key name of 'form'\n",
    "\n",
    "You forms.py file should look like the following block:"
   ]
  },
  {
   "cell_type": "code",
   "execution_count": null,
   "id": "2929f955",
   "metadata": {},
   "outputs": [],
   "source": [
    "from django import forms \n",
    "\n",
    "class ProfileForm(forms.Form):\n",
    "    user_image = forms.FileField()"
   ]
  },
  {
   "cell_type": "markdown",
   "id": "ad31fd1b",
   "metadata": {},
   "source": [
    "Your views.py file should look like the following block:"
   ]
  },
  {
   "cell_type": "code",
   "execution_count": null,
   "id": "ea3fc669",
   "metadata": {},
   "outputs": [],
   "source": [
    "from django.shortcuts import render\n",
    "from django.views import View\n",
    "from django.http import HttpResponseRedirect\n",
    "from .forms import ProfileForm\n",
    "\n",
    "def store_file(file):\n",
    "    with open('temp/image.jpg', 'wb+') as destination:\n",
    "        for chunk in file.chunks():\n",
    "            destination.write(chunk)\n",
    "\n",
    "\n",
    "class IndexView(View):\n",
    "    def get(self, request):\n",
    "        form = ProfileForm()\n",
    "        return render(request, 'profiles/index.html', {\n",
    "            'form':form\n",
    "        })\n",
    "    \n",
    "    def post(self, request):\n",
    "        store_file(request.FILES['image'])\n",
    "        return HttpResponseRedirect('/profiles/')\n"
   ]
  },
  {
   "cell_type": "markdown",
   "id": "71c962a0",
   "metadata": {},
   "source": [
    "10. Now, inside your template you can replace the input tag with {{ form }}<br>\n",
    "\n",
    "\n",
    "You could show it indetails too!<br>\n",
    "\n",
    "You index.html template should look like the following block:"
   ]
  },
  {
   "cell_type": "code",
   "execution_count": null,
   "id": "82cb755a",
   "metadata": {
    "vscode": {
     "languageId": "html"
    }
   },
   "outputs": [],
   "source": [
    "{% extends \"base.html\" %}\n",
    "{% load static %}\n",
    "\n",
    "{% block page_title %}Create a Profile{% endblock page_title %}\n",
    "\n",
    "{% block css_files %}\n",
    "    <link rel=\"stylesheet\" href=\"{% static \"profiles/index.css\" %}\">\n",
    "{% endblock css_files %}\n",
    "\n",
    "{% block content %}\n",
    "    <div class='main-wrapper'>\n",
    "        <form action=\"/profiles/\" method='POST' enctype='multipart/form-data'>\n",
    "            {% csrf_token %}\n",
    "            {{ form }}\n",
    "            <button>Upload</button>\n",
    "        </form>\n",
    "    </div>\n",
    "{% endblock content %}"
   ]
  },
  {
   "cell_type": "markdown",
   "id": "4dec0f76",
   "metadata": {
    "vscode": {
     "languageId": "html"
    }
   },
   "source": [
    "What we have done sofar doesn't handle the file upload process and we still need to do something about the post method:\n",
    "\n",
    "The least we can do here is to use 'ProfileForm(request.POST, request.FILES)' and store it in a variable. This way we can validate both the input fields (Yes, we don't have any at the moment but we could have...) and input files using is_valid().\n",
    "\n",
    "After validating the inputs, we call the store_file method and redirect to '/profiles' and if the form is not valid we can get back to the same page, and show the errors.\n",
    "\n",
    "Your views.py file should look like the following block:"
   ]
  },
  {
   "cell_type": "code",
   "execution_count": null,
   "id": "3baee5c8",
   "metadata": {},
   "outputs": [],
   "source": [
    "from django.shortcuts import render\n",
    "from django.views import View\n",
    "from django.http import HttpResponseRedirect\n",
    "from .forms import ProfileForm\n",
    "\n",
    "def store_file(file):\n",
    "    with open('temp/image.jpg', 'wb+') as destination:\n",
    "        for chunk in file.chunks():\n",
    "            destination.write(chunk)\n",
    "\n",
    "\n",
    "class IndexView(View):\n",
    "    def get(self, request):\n",
    "        form = ProfileForm()\n",
    "        return render(request, 'profiles/index.html', {\n",
    "            'form':form\n",
    "        })\n",
    "    \n",
    "    def post(self, request):\n",
    "        submited_form = ProfileForm(request.POST, request.FILES)\n",
    "        if submited_form.is_valid():\n",
    "            store_file(request.FILES['image'])\n",
    "            return HttpResponseRedirect('/profiles/')\n",
    "        else:\n",
    "            return render(request, 'profiles/index.html', {\n",
    "                \"form\":submited_form\n",
    "            })"
   ]
  },
  {
   "cell_type": "markdown",
   "id": "75d08e9f",
   "metadata": {},
   "source": [
    "What we have done in the post method will make sure that the user doesn't bypass the required inputs and other validations that might be defined in the form.<br>\n",
    "\n",
    "We haven't yet simplified the storing of the file. To do that we need to combine the form with a model.\n",
    "\n",
    "You will learn about it in the next notebook<br>\n",
    "\n",
    "Before you go to the next notebook, make some changes in the css file so the labels are being shown better.<br>\n",
    "\n",
    "My index.css file looks like the following block:"
   ]
  },
  {
   "cell_type": "code",
   "execution_count": null,
   "id": "4eb6eb2c",
   "metadata": {},
   "outputs": [],
   "source": [
    ".main-wrapper{\n",
    "    width:30rem;\n",
    "    max-width: 30rem;\n",
    "    color:white;\n",
    "    border:1px solid rgb(93, 83, 83);\n",
    "    padding:3rem;\n",
    "    margin:5rem auto 0 auto;\n",
    "    border-radius: 8px;\n",
    "}\n",
    ".main-wrapper input,\n",
    ".main-wrapper button{\n",
    "    display:block;\n",
    "}\n",
    ".main-wrapper input[type='file']{\n",
    "    width:90%;\n",
    "    margin:auto;\n",
    "    font-size: 1.2rem;\n",
    "}\n",
    ".main-wrapper button{\n",
    "    margin:2rem auto 0 auto;\n",
    "    width:90%;\n",
    "    height:2.5rem;\n",
    "    font-size: 1.3rem;\n",
    "    background-color:rgb(61, 130, 235);\n",
    "    color:white;\n",
    "    border:1px solid rgb(61, 130, 235);\n",
    "    border-radius: 8px;\n",
    "}\n",
    ".main-wrapper button:hover,\n",
    ".main-wrapper button:focus{\n",
    "    background-color:rgb(26, 82, 165);\n",
    "    border-color:rgb(26, 82, 165);\n",
    "}\n",
    ".main-wrapper label{\n",
    "    display:block;\n",
    "    width:90%;\n",
    "    margin:auto;\n",
    "    padding:0.5rem 0 0.5rem 0;\n",
    "}\n",
    ".main-wrapper ul{\n",
    "    width:90%;\n",
    "    display:block;\n",
    "}\n",
    ".main-wrapper ul li{\n",
    "    width:90%;\n",
    "    margin:auto;\n",
    "    color:rgb(163, 27, 27);\n",
    "}"
   ]
  }
 ],
 "metadata": {
  "kernelspec": {
   "display_name": "Python 3",
   "language": "python",
   "name": "python3"
  },
  "language_info": {
   "codemirror_mode": {
    "name": "ipython",
    "version": 3
   },
   "file_extension": ".py",
   "mimetype": "text/x-python",
   "name": "python",
   "nbconvert_exporter": "python",
   "pygments_lexer": "ipython3",
   "version": "3.10.11"
  }
 },
 "nbformat": 4,
 "nbformat_minor": 5
}
