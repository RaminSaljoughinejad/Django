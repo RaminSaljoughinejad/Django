{
 "cells": [
  {
   "cell_type": "markdown",
   "id": "1a242060",
   "metadata": {
    "vscode": {
     "languageId": "bat"
    }
   },
   "source": [
    "### More Details:\n",
    "\n",
    "What we wanna do now is to not show the read-later button when we are reading a page which is labeled for later read, instead we want to show a button that can delete a post from the stored_posts list<br>\n",
    "    \n",
    "Here is the code for 'PostDetailView' class:"
   ]
  },
  {
   "cell_type": "code",
   "execution_count": null,
   "id": "1c475efe",
   "metadata": {},
   "outputs": [],
   "source": [
    "class PostDetailView(View):\n",
    "    model = Post\n",
    "    template_name = \"blog/post-detail.html\"\n",
    "\n",
    "    def is_stored_post(self, request, post_id):\n",
    "        stored_posts = request.session.get('stored_posts')\n",
    "        if stored_posts is not None:\n",
    "            is_saved_for_later = post_id in stored_posts\n",
    "        else:\n",
    "            is_saved_for_later = False\n",
    "        return is_saved_for_later  \n",
    "    def get(self, request, slug):\n",
    "        post = Post.objects.get(slug = slug)\n",
    "        return render(request, 'blog/post-detail.html', {\n",
    "            'post':post,\n",
    "            'post_tags': post.tags.all(),\n",
    "            'form':CommentForm(),\n",
    "            'comments':post.comments.all().order_by(\"-id\"),\n",
    "            'saved_for_later': self.is_stored_post(request, post.id)\n",
    "        })\n",
    "\n",
    "    def post(self, request, slug):\n",
    "        comment_form = CommentForm(request.POST)\n",
    "        post = Post.objects.get(slug = slug)\n",
    "        if comment_form.is_valid():\n",
    "            comment = comment_form.save(commit=False)\n",
    "            comment.post = post\n",
    "            comment.save()\n",
    "            return HttpResponseRedirect(reverse('blog-post-detail', args=[slug]))\n",
    "        return render(request, 'blog/post-detail.html', {\n",
    "            'post':post,\n",
    "            'post_tags': post.tags.all(),\n",
    "            'form':comment_form,\n",
    "            'comments':post.comments.all().order_by(\"-id\"),\n",
    "            'saved_for_later': self.is_stored_post(request, post.id)\n",
    "        })"
   ]
  },
  {
   "cell_type": "markdown",
   "id": "1220b812",
   "metadata": {},
   "source": [
    "Here is the logic we added to the template:"
   ]
  },
  {
   "cell_type": "code",
   "execution_count": null,
   "id": "f591cdce",
   "metadata": {
    "vscode": {
     "languageId": "html"
    }
   },
   "outputs": [],
   "source": [
    "<form action=\"{% url \"read-later-url\" %}\" method=\"post\" class='read-later-form'>\n",
    "    {% csrf_token %}\n",
    "    <input type=\"hidden\" name=\"post_id\" value='{{ post.id }}'>\n",
    "    <button type='submit'>\n",
    "        {% if saved_for_later %}\n",
    "            Remove from 'Read-Later' list\n",
    "        {% else %}\n",
    "            Read Later\n",
    "        {% endif %}\n",
    "    </button>\n",
    "</form>"
   ]
  },
  {
   "cell_type": "markdown",
   "id": "0b39be68",
   "metadata": {
    "vscode": {
     "languageId": "html"
    }
   },
   "source": [
    "The only thing that you want to d is to go to ReadLaterView and remove the post_id if it is already there.<br>\n",
    "\n",
    "Understand the trick?\n",
    "<br>\n",
    "Here is the code:"
   ]
  },
  {
   "cell_type": "code",
   "execution_count": null,
   "id": "a2cbe542",
   "metadata": {},
   "outputs": [],
   "source": [
    "def post(self, request):\n",
    "    stored_posts = request.session.get('stored_posts')\n",
    "    if stored_posts is None:\n",
    "        stored_posts = []\n",
    "    post_id = int(request.POST['post_id'])\n",
    "    if post_id not in stored_posts:\n",
    "        stored_posts.append(post_id)\n",
    "        request.session['stored_posts']=stored_posts\n",
    "    else:\n",
    "        stored_posts.remove(post_id)\n",
    "        request.session['stored_posts']=stored_posts\n",
    "    return HttpResponseRedirect(reverse('blog-post-page'))"
   ]
  },
  {
   "cell_type": "markdown",
   "id": "bcaf3d83",
   "metadata": {},
   "source": [
    "### End of Chapter 11"
   ]
  }
 ],
 "metadata": {
  "kernelspec": {
   "display_name": "Python 3",
   "language": "python",
   "name": "python3"
  },
  "language_info": {
   "codemirror_mode": {
    "name": "ipython",
    "version": 3
   },
   "file_extension": ".py",
   "mimetype": "text/x-python",
   "name": "python",
   "nbconvert_exporter": "python",
   "pygments_lexer": "ipython3",
   "version": "3.10.11"
  }
 },
 "nbformat": 4,
 "nbformat_minor": 5
}
