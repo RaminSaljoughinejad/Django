{
 "cells": [
  {
   "cell_type": "markdown",
   "id": "4ab4b277-94b9-4e11-90a4-e569f9e9b07a",
   "metadata": {},
   "source": [
    "### Using Database in The Project:\n",
    "\n",
    "Lets start with a template where we show all the movies that are stored in our database.<br>\n",
    "Then we will make every book click able, so when we click them we get to another page where we output more information about that movie.<br>\n",
    "\n",
    "1- We are going to this in the index.html template (navigate to it).<br>\n",
    "2- Set 'All Movies' as the title of the template.<br>\n",
    "3- Create an unordered list so we can show books name as list items in it.<br>\n",
    "\n",
    "Your index.html file should look like the following block:"
   ]
  },
  {
   "cell_type": "code",
   "execution_count": null,
   "id": "29454111-608d-44df-8875-64abfed0e31f",
   "metadata": {},
   "outputs": [],
   "source": [
    "{% extends \"base.html\" %}\n",
    "{% load static %}\n",
    "\n",
    "{% block page_title %}All Books{% endblock page_title %}</title>\n",
    "\n",
    "{% block css_files %}\n",
    "    <link rel=\"stylesheet\" href=\"{% static \"video_outlet/index.css\" %}\">\n",
    "{% endblock css_files %}\n",
    "\n",
    "{% block content %}\n",
    "    <ul>\n",
    "        <li></li>\n",
    "    </ul>\n",
    "{% endblock content %}"
   ]
  },
  {
   "cell_type": "markdown",
   "id": "8ec5b526-da2b-4cc7-a700-99c04444aab5",
   "metadata": {},
   "source": [
    "We are going to send the books details to this page and then show them as list items inside the unordered list using a for-loop.<br>"
   ]
  },
  {
   "cell_type": "markdown",
   "id": "f3a04a71-9c5d-4c30-8dd3-0d7bd11c4297",
   "metadata": {},
   "source": [
    "### Now, lets get the data from the model and pass it to a view.\n",
    "5- Navigate to views.py file.<br>\n",
    "6- import Movie from .models<br>\n",
    "7- Now you can write a query inside your index view function and pass the results that are stores in a variable to the view.<br>\n",
    "The process of passing data is exactly like what you have done in previous projects.<br>\n",
    "\n",
    "Your views.py file should look like the following block:"
   ]
  },
  {
   "cell_type": "code",
   "execution_count": null,
   "id": "fd921199-c2c4-4cf3-afff-c63e6b6f2354",
   "metadata": {},
   "outputs": [],
   "source": [
    "from django.shortcuts import render\n",
    "from .models import Movie\n",
    "\n",
    "def index(request):\n",
    "    res = Movie.objects.all()\n",
    "    return render(request, 'video_outlet/index.html',{\n",
    "        'movies':res\n",
    "    })"
   ]
  },
  {
   "cell_type": "markdown",
   "id": "6c6be481-a923-4bb1-b7a5-9eb398130098",
   "metadata": {},
   "source": [
    "8- Head back to index.html, create a for loop and show the results in simple <a></a> tags which are inside the list item tags!<br>\n",
    "Your index.html should look like the following block:"
   ]
  },
  {
   "cell_type": "code",
   "execution_count": null,
   "id": "ce54edcc-6c76-458c-8241-3242d63038b6",
   "metadata": {},
   "outputs": [],
   "source": [
    "{% extends \"base.html\" %}\n",
    "{% load static %}\n",
    "\n",
    "{% block page_title %}All Books{% endblock page_title %}</title>\n",
    "\n",
    "{% block css_files %}\n",
    "    <link rel=\"stylesheet\" href=\"{% static \"video_outlet/index.css\" %}\">\n",
    "{% endblock css_files %}\n",
    "\n",
    "{% block content %}\n",
    "    <ul>\n",
    "        {% for movie in movies %}\n",
    "            <li>{{ movie.title }}</li>\n",
    "        {% endfor %}\n",
    "    </ul>\n",
    "{% endblock content %}"
   ]
  },
  {
   "cell_type": "markdown",
   "id": "b072eb8e-ee5d-4cc1-a5ed-780a51b4e7e5",
   "metadata": {},
   "source": [
    "### Now we want to make the books clickable\n",
    "\n",
    "Can you do it yourself?\n",
    "\n",
    "Try to do it.<br><br>\n",
    "\n",
    "\n",
    "1- Create a template called movie_detail.html and its css file called movie_detail.css<br>\n",
    "2- Stracture the html file so it get extends from base.html\n",
    "3- Head to urls.py and views.py and do what you have to do.\n"
   ]
  },
  {
   "cell_type": "markdown",
   "id": "6e4a4433-5522-41f2-8621-ea9ca20ba67c",
   "metadata": {},
   "source": [
    "Your movie_detail.html template should look like the following block:"
   ]
  },
  {
   "cell_type": "code",
   "execution_count": null,
   "id": "69aa8258-190d-4480-b173-2f0f5f50e834",
   "metadata": {},
   "outputs": [],
   "source": [
    "{% extends \"base.html\" %}\n",
    "{% load static %}\n",
    "\n",
    "{% block page_title %}{{ title }}{% endblock page_title %}</title>\n",
    "\n",
    "{% block css_files %}\n",
    "    <link rel=\"stylesheet\" href=\"{% static \"video_outlet/movie_detail.css\" %}\">\n",
    "{% endblock css_files %}\n",
    "\n",
    "{% block content %}\n",
    "    <h1>{{ title }}</h1>\n",
    "    <h2>{{ main_act }}</h2>\n",
    "    <p>The movie has a rating of {{ raiting }}\n",
    "        {% if is_bestseller %}\n",
    "            and is bestseller.\n",
    "        {% else %}\n",
    "            but is not a bestseller.\n",
    "        {% endif %}\n",
    "    </p>\n",
    "{% endblock content %}"
   ]
  },
  {
   "cell_type": "markdown",
   "id": "ad7ce8c9-3dc8-416e-ab03-2157d323f96a",
   "metadata": {},
   "source": [
    "Your urls.py file should look like the following block:"
   ]
  },
  {
   "cell_type": "code",
   "execution_count": null,
   "id": "596e0ff3-10b0-4513-a945-c8a1a7b0bbf3",
   "metadata": {},
   "outputs": [],
   "source": [
    "from django.urls import path\n",
    "from . import views\n",
    "\n",
    "urlpatterns = [\n",
    "    path(\"\", views.index, name='vide_outlet_root'),\n",
    "    path('<int:movie_id>', views.movie_details, name='movie_detail_url')\n",
    "]"
   ]
  },
  {
   "cell_type": "markdown",
   "id": "540f60ab-5721-4a0d-9c65-a52d21441b61",
   "metadata": {},
   "source": [
    "Your movie_details view function should look like the following block:"
   ]
  },
  {
   "cell_type": "code",
   "execution_count": null,
   "id": "04757c70-aac7-49c7-9d5a-35fe7271dee0",
   "metadata": {},
   "outputs": [],
   "source": [
    "def movie_details(request, movie_id):\n",
    "    res = Movie.objects.get(id=movie_id)\n",
    "    print(res)\n",
    "    return render(request, 'video_outlet/movie_detail.html', {\n",
    "        'title':res.title,\n",
    "        'rating':res.rating,\n",
    "        'main_act':res.main_act,\n",
    "        'is_bestselling':res.is_bestselling\n",
    "    })"
   ]
  },
  {
   "cell_type": "markdown",
   "id": "ce3ad6d0-87a7-4470-86e7-65afebc8b422",
   "metadata": {},
   "source": [
    "One thing that I want to mention here is that you could use 'pk' instead of id which stands for primary key and will automatically pick the column which is primary key.<br><br>\n",
    "Also, if you use filter instead of get you will get an AtTributeError"
   ]
  },
  {
   "cell_type": "markdown",
   "id": "2a69e76e-903f-42ed-a802-685187fd6ccf",
   "metadata": {},
   "source": [
    "Now, if save everything and go to http://127.0.0.1:8000/2 for example, you should see some results."
   ]
  },
  {
   "cell_type": "markdown",
   "id": "0f53e6dc-40fb-4d9e-b408-04037662c8ae",
   "metadata": {},
   "source": [
    "#### Change index.html in a way that every movie is a list and it gets you to the movie_details template.\n",
    "\n",
    "Your index.html file should look like the following block:"
   ]
  },
  {
   "cell_type": "code",
   "execution_count": null,
   "id": "28130446-9234-4a0d-b434-9627ab162312",
   "metadata": {},
   "outputs": [],
   "source": [
    "{% extends \"base.html\" %}\n",
    "{% load static %}\n",
    "\n",
    "{% block page_title %}All Books{% endblock page_title %}</title>\n",
    "\n",
    "{% block css_files %}\n",
    "    <link rel=\"stylesheet\" href=\"{% static \"video_outlet/index.css\" %}\">\n",
    "{% endblock css_files %}\n",
    "\n",
    "{% block content %}\n",
    "    <ul>\n",
    "        {% for movie in movies %}\n",
    "            <li><a href=' {% url \"movie_detail_url\" movie.id %}'>{{ movie.title }} (Rating: {{ movie.rating }})</a></li>\n",
    "        {% endfor %}\n",
    "    </ul>\n",
    "{% endblock content %}"
   ]
  },
  {
   "cell_type": "markdown",
   "id": "dfde81f8-3e7d-4c9e-a30a-d7b33063a195",
   "metadata": {},
   "source": [
    "Fix the 404 Error!\n",
    "\n",
    "You view.py file should look like the following block:"
   ]
  },
  {
   "cell_type": "code",
   "execution_count": null,
   "id": "00f84f62-8a94-48d6-a07b-5e9d3c6ac6f6",
   "metadata": {},
   "outputs": [],
   "source": [
    "from django.shortcuts import render\n",
    "from .models import Movie\n",
    "from django.http import Http404\n",
    "\n",
    "def index(request):\n",
    "    res = Movie.objects.all()\n",
    "    return render(request, 'video_outlet/index.html',{\n",
    "        'movies':res\n",
    "    })\n",
    "\n",
    "def movie_details(request, movie_id):\n",
    "    try:\n",
    "        res = Movie.objects.get(id=movie_id)\n",
    "        return render(request, 'video_outlet/movie_detail.html', {\n",
    "            'title':res.title,\n",
    "            'rating':res.rating,\n",
    "            'main_act':res.main_act,\n",
    "            'is_bestselling':res.is_bestselling\n",
    "        })\n",
    "    except:\n",
    "        raise Http404()"
   ]
  },
  {
   "cell_type": "markdown",
   "id": "2dff3700-795a-4104-b5f8-dc4d85d968f5",
   "metadata": {},
   "source": [
    "What we have dont here for 404 Error, has a shortcut.<br>\n",
    "To use it first you need to import get_object_or_404 from django.shortcuts and then use it like the following block:"
   ]
  },
  {
   "cell_type": "code",
   "execution_count": null,
   "id": "2b8134ae-b386-432a-9000-03699117a2a4",
   "metadata": {},
   "outputs": [],
   "source": [
    "from django.shortcuts import render, get_object_or_404\n",
    "from .models import Movie\n",
    "\n",
    "def index(request):\n",
    "    res = Movie.objects.all()\n",
    "    return render(request, 'video_outlet/index.html',{\n",
    "        'movies':res\n",
    "    })\n",
    "\n",
    "def movie_details(request, movie_id):\n",
    "    res = get_object_or_404(Movie, id=movie_id)\n",
    "    return render(request, 'video_outlet/movie_detail.html', {\n",
    "        'title':res.title,\n",
    "        'rating':res.rating,\n",
    "        'main_act':res.main_act,\n",
    "        'is_bestselling':res.is_bestselling\n",
    "    })"
   ]
  },
  {
   "cell_type": "markdown",
   "id": "1bb44517-aa88-48e0-8c04-08017e8bcdce",
   "metadata": {},
   "source": [
    "I use the shortcut always."
   ]
  },
  {
   "cell_type": "markdown",
   "id": "3985b625-062f-4060-98b3-f2718d376952",
   "metadata": {},
   "source": [
    "In the next notebook I will explain another approach instead of using the url tag inside the templates for creating links.<br>"
   ]
  }
 ],
 "metadata": {
  "kernelspec": {
   "display_name": "Python 3 (ipykernel)",
   "language": "python",
   "name": "python3"
  },
  "language_info": {
   "codemirror_mode": {
    "name": "ipython",
    "version": 3
   },
   "file_extension": ".py",
   "mimetype": "text/x-python",
   "name": "python",
   "nbconvert_exporter": "python",
   "pygments_lexer": "ipython3",
   "version": "3.10.11"
  }
 },
 "nbformat": 4,
 "nbformat_minor": 5
}
