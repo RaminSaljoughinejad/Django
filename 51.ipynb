{
 "cells": [
  {
   "cell_type": "markdown",
   "id": "375ed868-d3ab-4834-9688-eb1c669aa1cb",
   "metadata": {},
   "source": [
    "### Lets apply and use what we have learned on the blog project (My_website)!\n",
    "\n",
    "Here are three pictures demonstrating what have in our project.\n",
    "\n",
    "<img src='images/11-blog1.png' width='100%'>\n",
    "<img src='images/12-blog2.png' width='100%'>\n",
    "<img src='images/13-blog3.png' width='100%'>"
   ]
  },
  {
   "cell_type": "markdown",
   "id": "c6de2abf-bf0c-468b-8378-0255695cf7be",
   "metadata": {},
   "source": [
    "If you remember we used some dummy (hardcoded) data for our posts.<br>\n",
    "Those data are stored in a list called all_posts inside our views.py file.<br>\n",
    "What we want to do here is to store those information in a database! and then used them to in our project!<br>\n",
    "\n",
    "Don't forget to create superuser!<br>\n",
    "\n",
    "You should be able to do the mentioned task! so try to it by yoursef first, and if you couldn't you can check the steps I provided in the following blocks.\n",
    "\n",
    "<br><br><br>\n",
    "\n",
    "1- Your models.py should look like the following block:"
   ]
  },
  {
   "cell_type": "code",
   "execution_count": null,
   "id": "df2fa1bc-1d77-4f61-af12-46357983a8e9",
   "metadata": {},
   "outputs": [],
   "source": [
    "from typing import Iterable\n",
    "from django.db import models\n",
    "from django.utils.text import slugify\n",
    "from django.core.validators import MinLengthValidator\n",
    "\n",
    "class Tag(models.Model):\n",
    "    caption = models.CharField(max_length=20)\n",
    "\n",
    "    def __str__(self):\n",
    "        return self.caption\n",
    "\n",
    "    class Meta:\n",
    "        verbose_name_plural = 'All Tags'\n",
    "\n",
    "class Author(models.Model):\n",
    "    first_name = models.CharField(max_length=100)\n",
    "    last_name = models.CharField(max_length=100)\n",
    "    email = models.EmailField()\n",
    "\n",
    "\n",
    "    def __str__(self):\n",
    "        return f\"{self.first_name} {self.last_name}\"\n",
    "\n",
    "\n",
    "    class Meta:\n",
    "        verbose_name_plural = 'All Authors'\n",
    "\n",
    "\n",
    "class Post(models.Model):\n",
    "    title = models.CharField(max_length=200, null=False)\n",
    "    slug = models.SlugField(unique=True, db_index=True)\n",
    "    date = models.DateField(auto_now=True)\n",
    "    image_name = models.CharField(max_length=200, null=True)\n",
    "    excerpt = models.CharField(max_length=300)\n",
    "    content = models.TextField(validators=[MinLengthValidator(10)])\n",
    "    author = models.ForeignKey(Author, null=True, on_delete=models.SET_NULL, related_name='posts')\n",
    "    tags = models.ManyToManyField(Tag)\n",
    "\n",
    "\n",
    "    def save(self, *args, **kwargs):\n",
    "        self.slug = slugify(self.title)\n",
    "        super().save(*args, **kwargs)\n",
    "\n",
    "\n",
    "    class Meta:\n",
    "        verbose_name_plural = 'All Posts'"
   ]
  },
  {
   "cell_type": "markdown",
   "id": "27137756-f1a6-4ace-8716-f18cfac79aab",
   "metadata": {},
   "source": [
    "2- Your admin.py should look like the following block:"
   ]
  },
  {
   "cell_type": "code",
   "execution_count": null,
   "id": "9fbc656d-7978-4454-a479-13f0866e0114",
   "metadata": {},
   "outputs": [],
   "source": [
    "from django.contrib import admin\n",
    "from .models import Author, Post, Tag\n",
    "\n",
    "\n",
    "class TagAdmin(admin.ModelAdmin):\n",
    "    list_display = ['caption']\n",
    "\n",
    "class AuthorAdmin(admin.ModelAdmin):\n",
    "    list_display = ['first_name', 'last_name', 'email']\n",
    "\n",
    "class PostAdmin(admin.ModelAdmin):\n",
    "    prepopulated_fields = {'slug':('title',)}\n",
    "    list_display = ['title', 'date', 'author']\n",
    "    list_filter = ('author', 'date', 'tags')\n",
    "\n",
    "\n",
    "admin.site.register(Tag, TagAdmin)\n",
    "admin.site.register(Author, AuthorAdmin)\n",
    "admin.site.register(Post, PostAdmin)"
   ]
  },
  {
   "cell_type": "markdown",
   "id": "b56ae0ed-df0e-47a1-9af7-601da3661718",
   "metadata": {},
   "source": [
    "3- Run the makemigrations and migrate command (if you dont have db.sqlite3 file, create it)."
   ]
  },
  {
   "cell_type": "code",
   "execution_count": null,
   "id": "5d3b63cb-0aaa-45b6-910d-d005407879ca",
   "metadata": {},
   "outputs": [],
   "source": [
    "python manage.py makemigrations\n",
    "python manage.py migrate"
   ]
  },
  {
   "cell_type": "markdown",
   "id": "48ecf370-c54b-4f33-81df-82198a2f3c55",
   "metadata": {},
   "source": [
    "4- Create a Supter-User"
   ]
  },
  {
   "cell_type": "code",
   "execution_count": null,
   "id": "47a6adfb-c829-4aee-a91e-b85bf0b52226",
   "metadata": {},
   "outputs": [],
   "source": [
    "python manage.py createsuperuser"
   ]
  },
  {
   "cell_type": "markdown",
   "id": "5a469a11-45cf-4271-a6bb-babad45fb216",
   "metadata": {},
   "source": [
    "5- Run delevelopment server, and then request admin page.<br>\n",
    "6- Inside the admin page, check if everything is working fine.<br>\n",
    "7- Add a number of authors using the admin page.<br>\n",
    "8- Add a few tags in the tag model using the admin page.<br>\n",
    "9- Use the dummy (hard coded) data you have in the views.pt file and add some posts to the post model using the admin page."
   ]
  },
  {
   "cell_type": "markdown",
   "id": "1a515031-8535-4626-b4f0-35d43a2abe88",
   "metadata": {},
   "source": [
    "### Lets work on the vies.py and templates.\n",
    "\n",
    "1- Delete the all posts list from the views.py\n",
    "2- Import data-models\n",
    "\n",
    "### Now, Modify the view functions to send the proper data to the templates.\n",
    "1- Lets start with index function:"
   ]
  },
  {
   "cell_type": "code",
   "execution_count": null,
   "id": "73503077-8787-4330-af61-7e947eee1b1b",
   "metadata": {},
   "outputs": [],
   "source": [
    "def index(request):\n",
    "    latest_posts = Post.objects.all().order_by('-date')[:3]\n",
    "    return render(request, \"blog/index.html\", {\n",
    "        \"posts\":latest_posts\n",
    "    })"
   ]
  },
  {
   "cell_type": "markdown",
   "id": "bb0d59fe-5481-4e4d-887c-7198a4f7c0e8",
   "metadata": {},
   "source": [
    "You might think the code that we wrote here is inefficient, because we are loading all the posts from the database, order them and then use slicing to get the first three.<br>\n",
    "You are wrong ofc. Django is smart,  It converts our code into an optimized SQL query, fetching only the necessary data – in this case, the first three rows. This approach ensures that our application remains fast and scalable, even with large datasets."
   ]
  },
  {
   "cell_type": "markdown",
   "id": "a04fb2d0-d1fe-4fa5-ac99-cb182e619c76",
   "metadata": {},
   "source": [
    "If you save everything and rty to acceess 127.0.0.1:8000 you will get an error! can you guess why?<br>\n",
    "\n",
    "Let me explain it:\n",
    "Open you models.py file and check the attributes name of your Post mode. Now Navigate to your post.html file (inside includes) and check the key names that you used. Do they match?<br>\n",
    "Fix them.\n",
    "\n",
    "You post.html file should look like the following block:"
   ]
  },
  {
   "cell_type": "markdown",
   "id": "7b6a0c3e-97fb-48ad-aafc-3fcba9801e26",
   "metadata": {},
   "source": [
    "{% load static %}\n",
    "\n",
    "<li>\n",
    "    <article class='post'>\n",
    "        <a href=\" {% url \"blog-post-detail\" post.slug %}\">\n",
    "            <img src=\"{% static \"blog/images/\"|add:post.image_name %}\" alt=\"{{ post.title }}\">\n",
    "            <div class=\"post__content\">\n",
    "                <h3>{{ post.title }}</h3>\n",
    "                <p>{{ post.excerpt }}</p>\n",
    "            </div>\n",
    "        </a>\n",
    "    </article>\n",
    "</li>"
   ]
  },
  {
   "cell_type": "markdown",
   "id": "ecb9bece-1c92-42ee-b0a8-7dc828782218",
   "metadata": {},
   "source": [
    "2- Fix all the other view functions and heir corresponding template.\n",
    "\n",
    "Your views.py file should look like the following block:"
   ]
  },
  {
   "cell_type": "code",
   "execution_count": null,
   "id": "acdc8acb-7b5a-4715-a061-a1eef04bbfd1",
   "metadata": {},
   "outputs": [],
   "source": [
    "from django.shortcuts import render\n",
    "from .models import Tag, Author, Post\n",
    "\n",
    "def index(request):\n",
    "    latest_posts = Post.objects.all().order_by('-date')[:3]\n",
    "    return render(request, \"blog/index.html\", {\n",
    "        \"posts\":latest_posts\n",
    "    })\n",
    "\n",
    "def posts(request):\n",
    "    all_posts = Post.objects.all().order_by('-date')\n",
    "    return render(request, \"blog/all-posts.html\", {\n",
    "        \"all_posts\": all_posts\n",
    "    })\n",
    "\n",
    "def post_detail(request, slug):\n",
    "    post = Post.objects.get(slug=slug)\n",
    "    return render(request, \"blog/post-detail.html\", {\n",
    "        \"post\":post\n",
    "    }) "
   ]
  },
  {
   "cell_type": "markdown",
   "id": "067aa1b0-18ed-46be-807d-09245ab1ad9b",
   "metadata": {},
   "source": [
    "#### Fix the 404 error aswell."
   ]
  },
  {
   "cell_type": "code",
   "execution_count": null,
   "id": "ded5d2ed-4ce4-4cdd-bd74-dd7103abbfae",
   "metadata": {},
   "outputs": [],
   "source": [
    "from django.shortcuts import render, get_object_or_404\n",
    "from .models import Tag, Author, Post\n",
    "\n",
    "def index(request):\n",
    "    latest_posts = Post.objects.all().order_by('-date')[:3]\n",
    "    return render(request, \"blog/index.html\", {\n",
    "        \"posts\":latest_posts\n",
    "    })\n",
    "\n",
    "def posts(request):\n",
    "    all_posts = Post.objects.all().order_by('-date')\n",
    "    return render(request, \"blog/all-posts.html\", {\n",
    "        \"all_posts\": all_posts\n",
    "    })\n",
    "\n",
    "def post_detail(request, slug):\n",
    "    post = get_object_or_404(Post, slug=slug)\n",
    "    return render(request, \"blog/post-detail.html\", {\n",
    "        \"post\":post\n",
    "    }) "
   ]
  },
  {
   "cell_type": "markdown",
   "id": "1cd0c8b4-bd71-4928-a366-d7ed54b15b47",
   "metadata": {},
   "source": [
    "#### In the next notebook we are going to add more details to our blog project."
   ]
  }
 ],
 "metadata": {
  "kernelspec": {
   "display_name": "Python 3 (ipykernel)",
   "language": "python",
   "name": "python3"
  },
  "language_info": {
   "codemirror_mode": {
    "name": "ipython",
    "version": 3
   },
   "file_extension": ".py",
   "mimetype": "text/x-python",
   "name": "python",
   "nbconvert_exporter": "python",
   "pygments_lexer": "ipython3",
   "version": "3.10.11"
  }
 },
 "nbformat": 4,
 "nbformat_minor": 5
}
