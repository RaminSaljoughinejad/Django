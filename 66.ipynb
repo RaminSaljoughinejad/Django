{
 "cells": [
  {
   "cell_type": "markdown",
   "id": "54cc463b",
   "metadata": {},
   "source": [
    "### Chapter 9 - Working With Files:\n",
    "\n",
    "\n",
    "This chapter is about File Uploads and File Storage and we are going to learn:\n",
    "- How does file uploads and file storage work?\n",
    "- Adding File Uploads\n",
    "- Serving Stored Files (e.g., user profile images)"
   ]
  },
  {
   "cell_type": "markdown",
   "id": "03d298e3",
   "metadata": {},
   "source": [
    "What you need to understand and do before we start:\n",
    "\n",
    "- We are going to continue working on the FEEDBACK project\n",
    "- Create a new app inside the project called profiles, and provide it with at least one template (follow the best practices for templates and satatic folder).\n",
    "- Inside the root template of the profiles project:\n",
    "    - Create a form that holds an input with type of file.\n",
    "    - Also add a button to this form\n",
    "    - Style the page in the way that you desire.\n",
    "- Create a urls.py file and inside it define the root url\n",
    "- Add the new app name inside the INSTALLED_APP\n",
    "- Define and add the app url in your project root urls file [path('profiles', include('profiles.urls'))]\n",
    "\n",
    "Here is all the code I added:"
   ]
  },
  {
   "cell_type": "markdown",
   "id": "dffcb61f",
   "metadata": {},
   "source": [
    "profiles -> urls.py"
   ]
  },
  {
   "cell_type": "code",
   "execution_count": null,
   "id": "309e53b9",
   "metadata": {},
   "outputs": [],
   "source": [
    "from django.urls import path\n",
    "from . import views\n",
    "\n",
    "urlpatterns = [\n",
    "    path('', views.IndexView.as_view(), name='profiles-root-url')\n",
    "]"
   ]
  },
  {
   "cell_type": "markdown",
   "id": "3996587c",
   "metadata": {},
   "source": [
    "profiles -> views.py"
   ]
  },
  {
   "cell_type": "code",
   "execution_count": null,
   "id": "6651d9ba",
   "metadata": {},
   "outputs": [],
   "source": [
    "from django.shortcuts import render\n",
    "from django.views import View\n",
    "\n",
    "\n",
    "class IndexView(View):\n",
    "    def get(self, request):\n",
    "        return render(request, 'profiles/index.html')\n",
    "    def post(self, request):\n",
    "        pass"
   ]
  },
  {
   "cell_type": "markdown",
   "id": "6fa2aac8",
   "metadata": {},
   "source": [
    "Root Project -> settings.py -> INSTALLED_APPS"
   ]
  },
  {
   "cell_type": "code",
   "execution_count": null,
   "id": "a9bb46a9",
   "metadata": {},
   "outputs": [],
   "source": [
    "INSTALLED_APPS = [\n",
    "    'reviews',\n",
    "    'profiles',\n",
    "    'django.contrib.admin',\n",
    "    'django.contrib.auth',\n",
    "    'django.contrib.contenttypes',\n",
    "    'django.contrib.sessions',\n",
    "    'django.contrib.messages',\n",
    "    'django.contrib.staticfiles',\n",
    "]"
   ]
  },
  {
   "cell_type": "markdown",
   "id": "ce163e9c",
   "metadata": {},
   "source": [
    "Root Project -> urls.py"
   ]
  },
  {
   "cell_type": "markdown",
   "id": "e39573ad",
   "metadata": {},
   "source": [
    "urlpatterns = [\n",
    "    path('admin/', admin.site.urls),\n",
    "    path('', include('reviews.urls')),\n",
    "    path('profiles/', include('profiles.urls'))\n",
    "]"
   ]
  },
  {
   "cell_type": "markdown",
   "id": "fd54076e",
   "metadata": {},
   "source": [
    "profiles -> index.html"
   ]
  },
  {
   "cell_type": "code",
   "execution_count": null,
   "id": "f1579bb6",
   "metadata": {
    "vscode": {
     "languageId": "html"
    }
   },
   "outputs": [],
   "source": [
    "{% extends \"base.html\" %}\n",
    "{% load static %}\n",
    "\n",
    "{% block page_title %}Create a Profile{% endblock page_title %}\n",
    "\n",
    "{% block css_files %}\n",
    "    <link rel=\"stylesheet\" href=\"{% static \"profiles/index.css\" %}\">\n",
    "{% endblock css_files %}\n",
    "\n",
    "{% block content %}\n",
    "    <div class='main-wrapper'>\n",
    "        <form action=\"\">\n",
    "            <input type=\"file\">\n",
    "            <button>Upload</button>\n",
    "        </form>\n",
    "    </div>\n",
    "{% endblock content %}"
   ]
  },
  {
   "cell_type": "markdown",
   "id": "bc870d8b",
   "metadata": {
    "vscode": {
     "languageId": "html"
    }
   },
   "source": [
    "profiles -> index.css"
   ]
  },
  {
   "cell_type": "code",
   "execution_count": null,
   "id": "6e129cb2",
   "metadata": {
    "vscode": {
     "languageId": "css"
    }
   },
   "outputs": [],
   "source": [
    ".main-wrapper{\n",
    "    width:30rem;\n",
    "    max-width: 30rem;\n",
    "    color:white;\n",
    "    border:1px solid rgb(93, 83, 83);\n",
    "    padding:3rem;\n",
    "    margin:5rem auto 0 auto;\n",
    "    border-radius: 8px;\n",
    "}\n",
    ".main-wrapper input,\n",
    ".main-wrapper button{\n",
    "    display:block;\n",
    "}\n",
    ".main-wrapper input[type='file']{\n",
    "    width:90%;\n",
    "    margin:auto;\n",
    "    font-size: 1.2rem;\n",
    "}\n",
    ".main-wrapper button{\n",
    "    margin:2rem auto 0 auto;\n",
    "    width:90%;\n",
    "    height:2.5rem;\n",
    "    font-size: 1.3rem;\n",
    "    background-color:rgb(61, 130, 235);\n",
    "    color:white;\n",
    "    border:1px solid rgb(61, 130, 235);\n",
    "    border-radius: 8px;\n",
    "}\n",
    ".main-wrapper button:hover,\n",
    ".main-wrapper button:focus{\n",
    "    background-color:rgb(26, 82, 165);\n",
    "    border-color:rgb(26, 82, 165);\n",
    "}"
   ]
  },
  {
   "cell_type": "markdown",
   "id": "fb7c6dc9",
   "metadata": {},
   "source": [
    "In the next notebook we will start working on the profiles app."
   ]
  }
 ],
 "metadata": {
  "kernelspec": {
   "display_name": "Python 3",
   "language": "python",
   "name": "python3"
  },
  "language_info": {
   "codemirror_mode": {
    "name": "ipython",
    "version": 3
   },
   "file_extension": ".py",
   "mimetype": "text/x-python",
   "name": "python",
   "nbconvert_exporter": "python",
   "pygments_lexer": "ipython3",
   "version": "3.10.11"
  }
 },
 "nbformat": 4,
 "nbformat_minor": 5
}
