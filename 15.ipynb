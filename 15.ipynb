{
 "cells": [
  {
   "cell_type": "markdown",
   "id": "cefda464-0251-4c89-a0db-07d48e55329c",
   "metadata": {},
   "source": [
    "### The Django Template Language (DTL)\n",
    "\n",
    "DTL helps us to enhance HTML files to create dynamic pages.<br>\n",
    "\n",
    "So, the idea is that we have standard HTML syntax combined with special DTL syntax.<br>\n",
    "\n",
    "Up to this point we only have Static pages. Now, lets make it Dynamic by using our dictionary values placed inside the template.<br><br>\n",
    "\n",
    "\n",
    "To do this we need to pass a third argument to our render function (if you still use the render_to_string function, then it would be the second argument to that function).<br>\n",
    "\n",
    "This argument needs to be a dictionary, and inside it we can setup key, value pairs, and these key, value pairs we can then reference inside our template file.<br>\n",
    "\n",
    "So, add the third argument and asign a ke named 'text' with the value you desire from the _dict dictionary.\n",
    "\n",
    "Your url_handler_int function should be look like the folowing:"
   ]
  },
  {
   "cell_type": "code",
   "execution_count": null,
   "id": "be8f1765-0af8-47dc-8d09-961dedc9f101",
   "metadata": {},
   "outputs": [],
   "source": [
    "def url_handler_int(request,  exercise):\n",
    "    if exercise in _dict:\n",
    "        return render(request, 'Python_Fundamentals\\exercise.html', {'text':_dict[exercise]})\n",
    "    else:\n",
    "        return HttpResponseNotFound(\"<h1>This Page Does Not Exists<h1>\")"
   ]
  },
  {
   "cell_type": "markdown",
   "id": "2843915e-67be-416b-981b-b574e5ab66eb",
   "metadata": {},
   "source": [
    "Now, if you referesh your browser, you don't see any difference, and the reason is because you, up to this point, only sent the value to your template file, but you haven't fixed the template itself to show this value.<br>\n",
    "\n",
    "Lets fix it...<br>\n",
    "Go to your html file, and use {{ text }} where ever you find suitable to display the value of the 'text' key.\n",
    "\n",
    "Your htm file should look somthing like the folowing block:"
   ]
  },
  {
   "cell_type": "raw",
   "id": "2fd3c4e7-bda7-47ad-a618-c5ada3359714",
   "metadata": {},
   "source": [
    "<!DOCTYPE html>\n",
    "<html lang=\"en\">\n",
    "<head>\n",
    "    <meta charset=\"UTF-8\">\n",
    "    <meta name=\"viewport\" content=\"width=device-width, initial-scale=1.0\">\n",
    "    <title>Exercise</title>\n",
    "</head>\n",
    "<body>\n",
    "    <h1>This is the first exercise</h1>\n",
    "    <h2>{{ text }}</h2>\n",
    "</body>\n",
    "</html> "
   ]
  },
  {
   "cell_type": "markdown",
   "id": "9161bd1e-454d-4c93-b48b-5bb3824d2daa",
   "metadata": {},
   "source": [
    "Please inspect the webpage or check its source code to have a better understanding of what you did here."
   ]
  },
  {
   "cell_type": "markdown",
   "id": "ccf37a92-dba3-4083-8763-e28fcf0cc36f",
   "metadata": {},
   "source": [
    "## Exercise:\n",
    "Do the necessary modifications to both the views.py and your html file so that the title of the page and the h1 tag show the exercise number."
   ]
  },
  {
   "cell_type": "markdown",
   "id": "21a9f4b2-4d07-43ec-bc78-57bbe26ece69",
   "metadata": {},
   "source": [
    "### Solution:\n",
    "\n",
    "Views.py file:"
   ]
  },
  {
   "cell_type": "code",
   "execution_count": null,
   "id": "03fe8c6d-3fc4-4e48-9618-71c8430dc906",
   "metadata": {},
   "outputs": [],
   "source": [
    "def url_handler_int(request,  exercise):\n",
    "    if exercise in _dict:\n",
    "        return render(request, 'Python_Fundamentals\\exercise.html', {'text':_dict[exercise], 'ex_num': exercise})\n",
    "    else:\n",
    "        return HttpResponseNotFound(\"<h1>This Page Does Not Exists<h1>\")"
   ]
  },
  {
   "cell_type": "markdown",
   "id": "4177e993-c443-439c-aefa-3ad27fe6cf34",
   "metadata": {},
   "source": [
    "html file"
   ]
  },
  {
   "cell_type": "raw",
   "id": "98b9ea85-cee1-430f-bd89-2f7ba902a3f7",
   "metadata": {},
   "source": [
    "<!DOCTYPE html>\n",
    "<html lang=\"en\">\n",
    "<head>\n",
    "    <meta charset=\"UTF-8\">\n",
    "    <meta name=\"viewport\" content=\"width=device-width, initial-scale=1.0\">\n",
    "    <title>E-{{ ex_num }}</title>\n",
    "</head>\n",
    "<body>\n",
    "    <h1>Exercise {{ ex_num }}</h1>\n",
    "    <h2>{{ text }}</h2>\n",
    "</body>\n",
    "</html> "
   ]
  }
 ],
 "metadata": {
  "kernelspec": {
   "display_name": "Python 3 (ipykernel)",
   "language": "python",
   "name": "python3"
  },
  "language_info": {
   "codemirror_mode": {
    "name": "ipython",
    "version": 3
   },
   "file_extension": ".py",
   "mimetype": "text/x-python",
   "name": "python",
   "nbconvert_exporter": "python",
   "pygments_lexer": "ipython3",
   "version": "3.10.11"
  }
 },
 "nbformat": 4,
 "nbformat_minor": 5
}
