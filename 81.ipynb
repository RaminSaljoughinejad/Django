{
 "cells": [
  {
   "cell_type": "markdown",
   "id": "3d6a24ce",
   "metadata": {},
   "source": [
    "### Chapter 12 - User Authentication & Other DataBases:\n",
    "\n",
    "In this chapter we are going to start a brand new project called 'OverTheHorizon'.<br>\n",
    "This project is going to be similar with the blog project to some extends, but you are going to learn a number of new things in it.<br>\n",
    "\n",
    "In this project, you will learn how to create a dynamic web application that supports multiple user roles, including readers, authors, and administrators. Readers can browse, Like and leave comment on articles, authors can contribute and manage their own content, and administrators can oversee the entire platform, ensuring the smooth operation and integrity of the site.<br>\n",
    "\n",
    "You are also going to learn that how you can use other Database Management Systems like MySQL.<br>"
   ]
  },
  {
   "cell_type": "markdown",
   "id": "a3f0be36",
   "metadata": {
    "vscode": {
     "languageId": "powershell"
    }
   },
   "source": [
    "0. Before we start, you can go ahead and open the 'end of the chapter' files and run this chapter project to have a better understanding of what we are going to built.<br>"
   ]
  },
  {
   "cell_type": "markdown",
   "id": "c55715a3",
   "metadata": {},
   "source": [
    "1. Lets start by creating a virtual environment:"
   ]
  },
  {
   "cell_type": "code",
   "execution_count": null,
   "id": "a4be9974",
   "metadata": {
    "vscode": {
     "languageId": "powershell"
    }
   },
   "outputs": [],
   "source": [
    "python -m virtualenv venv"
   ]
  },
  {
   "cell_type": "markdown",
   "id": "ad7d19de",
   "metadata": {
    "vscode": {
     "languageId": "powershell"
    }
   },
   "source": [
    "2. Activate the virtualenv"
   ]
  },
  {
   "cell_type": "code",
   "execution_count": null,
   "id": "3a30e9f9",
   "metadata": {
    "vscode": {
     "languageId": "powershell"
    }
   },
   "outputs": [],
   "source": [
    "venv\\Scripts\\activate"
   ]
  },
  {
   "cell_type": "markdown",
   "id": "32d16100",
   "metadata": {
    "vscode": {
     "languageId": "powershell"
    }
   },
   "source": [
    "3. Now, we need to install Django on our virtualenv (we will install more packages later)"
   ]
  },
  {
   "cell_type": "code",
   "execution_count": null,
   "id": "51421f2d",
   "metadata": {
    "vscode": {
     "languageId": "powershell"
    }
   },
   "outputs": [],
   "source": [
    "python -m pip install --upgrade pip\n",
    "\n",
    "python -m pip install --upgrade django"
   ]
  },
  {
   "cell_type": "markdown",
   "id": "cf3689f3",
   "metadata": {
    "vscode": {
     "languageId": "powershell"
    }
   },
   "source": [
    "4. Create a new django-project called 'OverTheHorizon'"
   ]
  },
  {
   "cell_type": "code",
   "execution_count": null,
   "id": "64524396",
   "metadata": {
    "vscode": {
     "languageId": "powershell"
    }
   },
   "outputs": [],
   "source": [
    "django-admin startproject OverTheHorizon"
   ]
  },
  {
   "cell_type": "markdown",
   "id": "48ce3828",
   "metadata": {
    "vscode": {
     "languageId": "powershell"
    }
   },
   "source": [
    "5. Navigate to the prject folder"
   ]
  },
  {
   "cell_type": "code",
   "execution_count": null,
   "id": "e4ed4ea4",
   "metadata": {
    "vscode": {
     "languageId": "powershell"
    }
   },
   "outputs": [],
   "source": [
    "cd OverTheHorizon"
   ]
  },
  {
   "cell_type": "markdown",
   "id": "2b295048",
   "metadata": {
    "vscode": {
     "languageId": "powershell"
    }
   },
   "source": [
    "6. Create an app inside the project called 'blog'"
   ]
  },
  {
   "cell_type": "markdown",
   "id": "825cc324",
   "metadata": {},
   "source": [
    "python manage.py startapp blog"
   ]
  },
  {
   "cell_type": "markdown",
   "id": "42654ec0",
   "metadata": {
    "vscode": {
     "languageId": "powershell"
    }
   },
   "source": [
    "7. Open Visual Studio Code using the virtualenv"
   ]
  },
  {
   "cell_type": "code",
   "execution_count": null,
   "id": "f986ceea",
   "metadata": {
    "vscode": {
     "languageId": "powershell"
    }
   },
   "outputs": [],
   "source": [
    "code ."
   ]
  },
  {
   "cell_type": "markdown",
   "id": "1f420afe",
   "metadata": {
    "vscode": {
     "languageId": "powershell"
    }
   },
   "source": [
    "8. Start the development server and check if everything works just fine by visiting 'localhost:8000'"
   ]
  },
  {
   "cell_type": "code",
   "execution_count": null,
   "id": "c4fdae7e",
   "metadata": {
    "vscode": {
     "languageId": "powershell"
    }
   },
   "outputs": [],
   "source": [
    "python manage.py runserver"
   ]
  },
  {
   "cell_type": "markdown",
   "id": "ebaae257",
   "metadata": {
    "vscode": {
     "languageId": "powershell"
    }
   },
   "source": [
    "9. Navigate to settings.py and add the app name in the INSTALLED_APPS list"
   ]
  },
  {
   "cell_type": "code",
   "execution_count": null,
   "id": "d158edef",
   "metadata": {},
   "outputs": [],
   "source": [
    "INSTALLED_APPS = [\n",
    "    'blog',\n",
    "    'django.contrib.admin',\n",
    "    'django.contrib.auth',\n",
    "    'django.contrib.contenttypes',\n",
    "    'django.contrib.sessions',\n",
    "    'django.contrib.messages',\n",
    "    'django.contrib.staticfiles',\n",
    "]"
   ]
  },
  {
   "cell_type": "markdown",
   "id": "815c3380",
   "metadata": {},
   "source": [
    "10. Navigate to main urls.py file and define the blog url as the root of the website"
   ]
  },
  {
   "cell_type": "code",
   "execution_count": null,
   "id": "70bc5623",
   "metadata": {},
   "outputs": [],
   "source": [
    "from django.contrib import admin\n",
    "from django.urls import path, include\n",
    "\n",
    "urlpatterns = [\n",
    "    path('admin/', admin.site.urls),\n",
    "    path('', include('blog.urls'))\n",
    "]"
   ]
  },
  {
   "cell_type": "markdown",
   "id": "213e5ba9",
   "metadata": {},
   "source": [
    "11. Navigate to blog app and create a file called urls.py and define the root-path view inside it"
   ]
  },
  {
   "cell_type": "code",
   "execution_count": null,
   "id": "837f2cf7",
   "metadata": {},
   "outputs": [],
   "source": [
    "from django.urls import path\n",
    "from . import views\n",
    "\n",
    "urlpatterns = [\n",
    "    path('', views.IndexView.as_view(), name='blog-root-url')\n",
    "]"
   ]
  },
  {
   "cell_type": "markdown",
   "id": "a36cb293",
   "metadata": {},
   "source": [
    "12. Open vies.py file and create a simple TemplateView class called IndexView (leave it empty for now)"
   ]
  },
  {
   "cell_type": "code",
   "execution_count": null,
   "id": "e267495b",
   "metadata": {},
   "outputs": [],
   "source": [
    "from django.shortcuts import render\n",
    "from django.views.generic import TemplateView\n",
    "\n",
    "class IndexView(TemplateView):\n",
    "    pass"
   ]
  },
  {
   "cell_type": "markdown",
   "id": "b7866955",
   "metadata": {},
   "source": [
    "13. Follow the best practices and create the templates and static folder for both the app and main project, also create the needed html and css files (dont forget about base tempalte).\n",
    "<br>\n"
   ]
  },
  {
   "cell_type": "markdown",
   "id": "5a14a9bc",
   "metadata": {},
   "source": [
    "14. Open settings.py and add the templates folder in the TEMPLATES list<br>\n",
    "<img src='images/14-OverTheHorizon1.png' width=\"250px\">"
   ]
  },
  {
   "cell_type": "code",
   "execution_count": null,
   "id": "6cfc2eda",
   "metadata": {},
   "outputs": [],
   "source": [
    "TEMPLATES = [\n",
    "    {\n",
    "        'BACKEND': 'django.template.backends.django.DjangoTemplates',\n",
    "        'DIRS': [\n",
    "            BASE_DIR / 'templates'\n",
    "        ],\n",
    "        'APP_DIRS': True,\n",
    "        'OPTIONS': {\n",
    "            'context_processors': [\n",
    "                'django.template.context_processors.debug',\n",
    "                'django.template.context_processors.request',\n",
    "                'django.contrib.auth.context_processors.auth',\n",
    "                'django.contrib.messages.context_processors.messages',\n",
    "            ],\n",
    "        },\n",
    "    },\n",
    "]"
   ]
  },
  {
   "cell_type": "markdown",
   "id": "bc8c7978",
   "metadata": {},
   "source": [
    "15. Scroll to the bottom of settings.py and define the STATICFILES_DIRS list"
   ]
  },
  {
   "cell_type": "code",
   "execution_count": null,
   "id": "69dc8743",
   "metadata": {},
   "outputs": [],
   "source": [
    "STATICFILES_DIRS = [\n",
    "    BASE_DIR / 'static'\n",
    "]"
   ]
  },
  {
   "cell_type": "markdown",
   "id": "c715fea7",
   "metadata": {},
   "source": [
    "16. Configure the base.html template so that it contains the standard html structure and also the needed DTL-blocks"
   ]
  },
  {
   "cell_type": "code",
   "execution_count": null,
   "id": "7af452ca",
   "metadata": {
    "vscode": {
     "languageId": "html"
    }
   },
   "outputs": [],
   "source": [
    "{% load static %}\n",
    "<!DOCTYPE html>\n",
    "<html lang=\"en\">\n",
    "<head>\n",
    "    <meta charset=\"UTF-8\">\n",
    "    <meta name=\"viewport\" content=\"width=device-width, initial-scale=1.0\">\n",
    "    <title>{% block page_title %}{% endblock page_title %}</title>\n",
    "    <link rel=\"stylesheet\" href=\"{% static \"base.css\" %}\">\n",
    "    {% block css_files %}{% endblock css_files %}\n",
    "</head>\n",
    "<body>\n",
    "    {% block content %}{% endblock content %}\n",
    "</body>\n",
    "</html>"
   ]
  },
  {
   "cell_type": "markdown",
   "id": "1876b76b",
   "metadata": {},
   "source": [
    "17. Extend the index.html tempalte from base.html and type something in the content block"
   ]
  },
  {
   "cell_type": "code",
   "execution_count": null,
   "id": "94ae6c89",
   "metadata": {
    "vscode": {
     "languageId": "html"
    }
   },
   "outputs": [],
   "source": [
    "{% extends \"base.html\" %}\n",
    "{% load static %}\n",
    "\n",
    "{% block page_title %}{% endblock page_title %}\n",
    "\n",
    "{% block css_files %}\n",
    "    <link rel=\"stylesheet\" href=\"{% static \"blog/index.css\" %}\">\n",
    "{% endblock css_files %}\n",
    "\n",
    "{% block content %}This works{% endblock content %}"
   ]
  },
  {
   "cell_type": "markdown",
   "id": "0ba0275f",
   "metadata": {},
   "source": [
    "18. Navigate to views.py file and add template_name to the IndexView class."
   ]
  },
  {
   "cell_type": "code",
   "execution_count": null,
   "id": "f33407d7",
   "metadata": {},
   "outputs": [],
   "source": [
    "class IndexView(TemplateView):\n",
    "    template_name = 'blog/index.html'"
   ]
  },
  {
   "cell_type": "markdown",
   "id": "1135abcd",
   "metadata": {},
   "source": [
    "19. Restart the development server and revisit localhost:8000 to make sure that everything works"
   ]
  },
  {
   "cell_type": "code",
   "execution_count": null,
   "id": "aa39e7e5",
   "metadata": {
    "vscode": {
     "languageId": "powershell"
    }
   },
   "outputs": [],
   "source": [
    "python manage.py runserver"
   ]
  },
  {
   "cell_type": "markdown",
   "id": "00a08678",
   "metadata": {
    "vscode": {
     "languageId": "powershell"
    }
   },
   "source": [
    "20. Navigate to 'bog/static/blog' :\n",
    "    - Create a folder called 'assets'\n",
    "    - Open the 'Provided Assests' folder and then go to 'Chapter 12' folder\n",
    "    - Copy everything form this folder and paste them in the 'assets' folder you created"
   ]
  },
  {
   "cell_type": "markdown",
   "id": "c3f6f403",
   "metadata": {
    "vscode": {
     "languageId": "powershell"
    }
   },
   "source": [
    "21. Here is the css code I wrote for the base template (I will provide you with all the css code you need for this project)."
   ]
  },
  {
   "cell_type": "code",
   "execution_count": null,
   "id": "b556b31c",
   "metadata": {
    "vscode": {
     "languageId": "css"
    }
   },
   "outputs": [],
   "source": [
    "*{\n",
    "    margin:0;\n",
    "    padding:0;\n",
    "}\n",
    "body{\n",
    "    background-color:#0D1117;\n",
    "}"
   ]
  },
  {
   "cell_type": "markdown",
   "id": "8de09851",
   "metadata": {},
   "source": [
    "22. We are going to use bootstrap for creating this project\n",
    "    - Lets start with adding bootstrap to our project template (base.html)\n",
    "    - Add the following 5 lines of code to the base.html template just before the line that links the base.css to the template"
   ]
  },
  {
   "cell_type": "code",
   "execution_count": null,
   "id": "15625e88",
   "metadata": {
    "vscode": {
     "languageId": "html"
    }
   },
   "outputs": [],
   "source": [
    "<link rel=\"stylesheet\" href=\"https://cdn.jsdelivr.net/npm/bootstrap@4.6.2/dist/css/bootstrap.min.css\">\n",
    "<script src=\"https://cdn.jsdelivr.net/npm/jquery@3.7.1/dist/jquery.slim.min.js\"></script>\n",
    "<script src=\"https://cdn.jsdelivr.net/npm/popper.js@1.16.1/dist/umd/popper.min.js\"></script>\n",
    "<script src=\"https://cdn.jsdelivr.net/npm/bootstrap@4.6.2/dist/js/bootstrap.bundle.min.js\"></script>\n",
    "<link rel=\"stylesheet\" href=\"https://cdn.jsdelivr.net/npm/bootstrap-icons@1.5.0/font/bootstrap-icons.css\">"
   ]
  },
  {
   "cell_type": "markdown",
   "id": "4d31fe5c",
   "metadata": {},
   "source": [
    "23. Lets add a Collapsable navbar to our project\n",
    "    - If you check the following block, you will see that the code for the navbar is really long!\n",
    "    - Lets create a file (navbar.html) for the navbar and then just include it inside our base.html template just before the content block"
   ]
  },
  {
   "cell_type": "code",
   "execution_count": null,
   "id": "d43a90e8",
   "metadata": {
    "vscode": {
     "languageId": "html"
    }
   },
   "outputs": [],
   "source": [
    "<nav class=\"navbar navbar-expand-md bg-dark navbar-dark\">\n",
    "  <!-- Brand -->\n",
    "  <a class=\"navbar-brand\" href=\"#\">OverTheHorizon</a>\n",
    "\n",
    "  <!-- Toggler/collapsibe Button -->\n",
    "  <button class=\"navbar-toggler\" type=\"button\" data-toggle=\"collapse\" data-target=\"#collapsibleNavbar\">\n",
    "    <span class=\"navbar-toggler-icon\"></span>\n",
    "  </button>\n",
    "\n",
    "  <!-- Navbar links -->\n",
    "  <div class=\"collapse navbar-collapse\" id=\"collapsibleNavbar\">\n",
    "    <!-- Left Side Items -->\n",
    "    <ul class=\"navbar-nav\">\n",
    "      <li class=\"nav-item\">\n",
    "        <a class=\"nav-link\" href=\"#\"><i class=\"bi bi-box-arrow-in-left\"></i>Login</a>\n",
    "      </li>\n",
    "      <li class=\"nav-item\">\n",
    "        <a class=\"nav-link\" href=\"#\"><i class=\"bi bi-plus\"></i>Register</a>\n",
    "      </li>\n",
    "    </ul>\n",
    "    <!-- Right Side Items -->\n",
    "    <ul class=\"navbar-nav ml-auto\">\n",
    "      <li class=\"nav-item\">\n",
    "        <a class=\"nav-link\" href=\"#\">Authors</a>\n",
    "      </li>\n",
    "      <li class=\"nav-item\">\n",
    "        <a class=\"nav-link\" href=\"#\">Archive</a>\n",
    "      </li>\n",
    "      <li class=\"nav-item\">\n",
    "        <a class=\"nav-link\" href=\"#\">Home</a>\n",
    "      </li>\n",
    "    </ul>\n",
    "  </div>\n",
    "</nav>"
   ]
  },
  {
   "cell_type": "markdown",
   "id": "cf1df17b",
   "metadata": {},
   "source": [
    "The body of your base.html template should look like the following block:"
   ]
  },
  {
   "cell_type": "code",
   "execution_count": null,
   "id": "90b90d71",
   "metadata": {
    "vscode": {
     "languageId": "html"
    }
   },
   "outputs": [],
   "source": [
    "<body class='bg1 text-white'>\n",
    "    {% include \"navbar.html\" %}\n",
    "    {% block content %}{% endblock content %}\n",
    "</body>"
   ]
  },
  {
   "cell_type": "markdown",
   "id": "fd087fed",
   "metadata": {
    "vscode": {
     "languageId": "html"
    }
   },
   "source": [
    "Add the following css code to the base.css file to adjust the items of the menu to the right side of the screen"
   ]
  },
  {
   "cell_type": "code",
   "execution_count": null,
   "id": "aa6ec2b4",
   "metadata": {
    "vscode": {
     "languageId": "css"
    }
   },
   "outputs": [],
   "source": [
    ".ml-auto .dropdown-menu {\n",
    "    left: auto !important;\n",
    "    right: 0px;\n",
    "}"
   ]
  },
  {
   "cell_type": "markdown",
   "id": "c249b23e",
   "metadata": {},
   "source": [
    "Save everything, reload the page and check if everything works."
   ]
  },
  {
   "cell_type": "markdown",
   "id": "41435280",
   "metadata": {},
   "source": [
    "We will get back and work on the navbar later when we get to user authentication"
   ]
  },
  {
   "cell_type": "markdown",
   "id": "3d4ce96f",
   "metadata": {},
   "source": [
    "In the next notebook we will work on index.html template and also and 3 more templates."
   ]
  }
 ],
 "metadata": {
  "kernelspec": {
   "display_name": "Python 3",
   "language": "python",
   "name": "python3"
  },
  "language_info": {
   "codemirror_mode": {
    "name": "ipython",
    "version": 3
   },
   "file_extension": ".py",
   "mimetype": "text/x-python",
   "name": "python",
   "nbconvert_exporter": "python",
   "pygments_lexer": "ipython3",
   "version": "3.10.11"
  }
 },
 "nbformat": 4,
 "nbformat_minor": 5
}
