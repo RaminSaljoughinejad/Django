{
 "cells": [
  {
   "cell_type": "markdown",
   "id": "54aee5ec-13b4-4299-8024-5f57d2296361",
   "metadata": {},
   "source": [
    "### Chapter 5: Administrative Section\n",
    "\n",
    "When we started using databases, most of the things that we have done happend in the interactive shell.<br>\n",
    "While this is ofc something we can do, it is not a convenient way; in addition if you later deploy your site on an actual server you may not want to actually connect to that server to be able to intract with the sell, you would probebly want a sort of graphical user interface to work with.<br>\n",
    "Here is where the django admin feature comes in.<br>\n",
    "\n",
    "If you navigate to the urls.py file in the root of your project and not in an app, you will see that there is path already define:"
   ]
  },
  {
   "cell_type": "code",
   "execution_count": null,
   "id": "5d122d7d-e051-49b4-b34d-e3adf5d9bf8f",
   "metadata": {},
   "outputs": [],
   "source": [
    "path('admin', admin.site.urls)"
   ]
  },
  {
   "cell_type": "markdown",
   "id": "c0c37f22-1fa9-4a26-870c-8e1e15bc800a",
   "metadata": {},
   "source": [
    "To access the Django administrative section, you'll need to navigate to a specific URL: /admin. Simply append this path to your website's base URL. For instance, if your website is hosted at http://example.com, the administrative section's URL would be http://example.com/admin.\n",
    "\n",
    "Upon reaching this URL, you'll encounter a login page. It's crucial to note that the administrative interface you see is not intended for regular users; it's exclusively designed for administrative tasks and management purposes.\n",
    "\n",
    "Before proceeding further, it's important to emphasize that the administrative panel is strictly for administrative use and should not be accessed or utilized by regular users.\n",
    "\n",
    "So, how do you gain access? To log in, you must first create a superuser account. Initially, this superuser account doesn't exist in your Django application. To create it, you'll need to run a command within your project environment. Open your terminal or command prompt, navigate to your Django project directory, and execute the following command: "
   ]
  },
  {
   "cell_type": "code",
   "execution_count": null,
   "id": "1c97d309-3e40-4ed7-9f8e-70a6bb7557d3",
   "metadata": {},
   "outputs": [],
   "source": [
    "python manage.py createsuperuser"
   ]
  },
  {
   "cell_type": "markdown",
   "id": "57cbdad5-b819-4ec1-a7dd-48a3d1441b8c",
   "metadata": {},
   "source": [
    "You will be asked for a username, email, and password.\n",
    "\n",
    "After that you just need to rerun the server and use the loging cridentials you just provided to login."
   ]
  },
  {
   "cell_type": "markdown",
   "id": "2aa6d274-4cff-4de3-bd20-1e8df23513a8",
   "metadata": {},
   "source": [
    "In this new page you can see, add, update, or even delete users.\n",
    "\n",
    "Putting this aside, in the next notebook you will learn how to use the administrative section to see your database and the data inside it."
   ]
  },
  {
   "cell_type": "code",
   "execution_count": null,
   "id": "dec1c5cb-f48c-4991-9f03-b88418e26181",
   "metadata": {},
   "outputs": [],
   "source": []
  }
 ],
 "metadata": {
  "kernelspec": {
   "display_name": "Python 3 (ipykernel)",
   "language": "python",
   "name": "python3"
  },
  "language_info": {
   "codemirror_mode": {
    "name": "ipython",
    "version": 3
   },
   "file_extension": ".py",
   "mimetype": "text/x-python",
   "name": "python",
   "nbconvert_exporter": "python",
   "pygments_lexer": "ipython3",
   "version": "3.10.11"
  }
 },
 "nbformat": 4,
 "nbformat_minor": 5
}
