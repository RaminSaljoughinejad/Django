{
 "cells": [
  {
   "cell_type": "code",
   "execution_count": null,
   "id": "4636be9d-2f88-4234-9802-03916a02ecd5",
   "metadata": {},
   "outputs": [],
   "source": []
  }
 ],
 "metadata": {
  "kernelspec": {
   "display_name": "",
   "name": ""
  },
  "language_info": {
   "name": ""
  }
 },
 "nbformat": 4,
 "nbformat_minor": 5
}
