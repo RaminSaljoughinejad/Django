{
 "cells": [
  {
   "cell_type": "markdown",
   "id": "27e06c5d",
   "metadata": {},
   "source": [
    "### Chapter 10 - Sessions:\n",
    "\n",
    "In this Chapter we are going to learn:\n",
    "1. What are 'Sessions'?\n",
    "2. Using Sessions\n",
    "\n",
    "\n",
    "- you are going to continue working on the FEEDBACK project.\n",
    "    - you are going to work on the reviews app\n",
    "<br><br>\n",
    "You are going to add an special feature here in the 'review-detail.html' template:\n",
    "- You want to have a button under the review, and on that button you want to say 'Favorite'\n",
    "- The button is there for me choose my favorite review! so when i click it that review should become my favorite! and if I already have a favorite review, it should get replaced.\n",
    "- Every website has more than 1 visitor! and this button, this favorite review thing should be visitor-dependent, meaning that it should hold and show the favorite review for every individual user.\n",
    "\n",
    "Add the button to the template<br>\n",
    "\n",
    "Your review-detail.html tempalte should look like the following block:"
   ]
  },
  {
   "cell_type": "markdown",
   "id": "a0cd50e8",
   "metadata": {},
   "source": [
    "{% extends \"base.html\" %}\n",
    "{% load static %}\n",
    "\n",
    "{% block page_title %}Review Detail{% endblock page_title %}\n",
    "\n",
    "{% block css_files %}\n",
    "    <link rel=\"stylesheet\" href=\"{% static \"reviews/review-detail.css\" %}\">\n",
    "{% endblock css_files %}\n",
    "\n",
    "{% block content %}\n",
    "    <div class='main-wrapper'>\n",
    "        <h1>User: {{ review.user_name }}</h1>\n",
    "        <h3>Rating: {{ review.rating }}</h3>\n",
    "        <p>Feedback: {{ review.review_text }}</p>\n",
    "        <button>Favorite</button>\n",
    "    </div>\n",
    "{% endblock content %}"
   ]
  },
  {
   "cell_type": "markdown",
   "id": "60847340",
   "metadata": {},
   "source": [
    "### What are Sessions:\n",
    "\n",
    "A session is a ongoing connection between a cilent (browser) and server.<br>\n",
    "Ongoing means a continuess connection which does NOT end, even if the browser is closed or the client computer is shutdown/restarted.<br>\n",
    "In other words, a session, is a long-term connection between a client and server.<br><br>\n",
    "Please Understand that this connection can be cleared, deleted, or reset. And this decision is up to the developer! The developer decides, that how long a session should continue or in better words LIVE.<br>\n",
    "<br>\n",
    "Sessions are about storing data, and data stored by sessions persists as long as the session is active or until it is cleared by the developer.<br>\n",
    "<br>\n",
    "An example for data that could be stored in a session, would be the user authentication status, which is something that you have already seen in the admin area! Remember that we loged in? The session is what that keeps us loged in and if there wasn't a session! the website would have forgoten us the moment we refereshed the webpage or navigated to another.<br><br>\n",
    "\n",
    "\n",
    "In terms of sessions, what the server does is that it stores the session data, plus an identifier which help us to have mutiple sessions for multiple visitors of the website.<br>\n",
    "The session data + the identifiers are tipicaly stored in a database, but they could be stored anywhere, for example inside a file.<br>\n",
    "The client (browser) stores the Session-ID as a cookie on itself, so that it can send it to the server in future visits<br>\n",
    "The server uses the Session-ID provided by the client browser to identify the session and send that session specific data to the client, or do what ever it has to do with that client (keep it loged in and provide it access to data which is only for logedin users)<br>\n",
    "\n",
    "You have probebly came to the conclusion that working with sessions requires alot of coding and thinking, and you would be right if you dont use a framework like django to handle sessions.<br>\n",
    "Django already does all the heavy coding for us, django will automaticaly create that cookie, send it to the client, and store the session in the database.<br>\n",
    "You and I as the developers, just need to configure how the session should behaive (e.g., how long the session should live), and then we can write data to that session and read data from it.<br>"
   ]
  },
  {
   "cell_type": "markdown",
   "id": "8a611649",
   "metadata": {},
   "source": [
    "In the next notebook we will continue our project"
   ]
  }
 ],
 "metadata": {
  "kernelspec": {
   "display_name": "Python 3",
   "language": "python",
   "name": "python3"
  },
  "language_info": {
   "codemirror_mode": {
    "name": "ipython",
    "version": 3
   },
   "file_extension": ".py",
   "mimetype": "text/x-python",
   "name": "python",
   "nbconvert_exporter": "python",
   "pygments_lexer": "ipython3",
   "version": "3.10.11"
  }
 },
 "nbformat": 4,
 "nbformat_minor": 5
}
