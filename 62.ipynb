{
 "cells": [
  {
   "cell_type": "markdown",
   "id": "1aecf91f",
   "metadata": {},
   "source": [
    "Class-based Views:\n",
    "\n",
    "Instead of defining views as functions you could define classes for them.<br>\n",
    "\n",
    "Lets see how...<br>\n",
    "\n"
   ]
  }
 ],
 "metadata": {
  "kernelspec": {
   "display_name": "Python 3",
   "language": "python",
   "name": "python3"
  },
  "language_info": {
   "codemirror_mode": {
    "name": "ipython",
    "version": 3
   },
   "file_extension": ".py",
   "mimetype": "text/x-python",
   "name": "python",
   "nbconvert_exporter": "python",
   "pygments_lexer": "ipython3",
   "version": "3.10.11"
  }
 },
 "nbformat": 4,
 "nbformat_minor": 5
}
