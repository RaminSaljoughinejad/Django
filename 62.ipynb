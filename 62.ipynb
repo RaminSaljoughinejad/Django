{
 "cells": [
  {
   "cell_type": "markdown",
   "id": "1aecf91f",
   "metadata": {},
   "source": [
    "Class-based Views:\n",
    "\n",
    "Instead of defining views as functions you could define classes for them.<br>\n",
    "\n",
    "Lets see how...<br>\n",
    "\n",
    "1. Import View from django.views\n",
    "2. Define class called IndexView and extend it from View\n",
    "- With classes, you need to define methods that carry the name the http method you want to support. This is also, the main reason that you want to switch to a class-based view.<br>\n",
    "In our previous index function we had to check the method of request using an if statement to see if it was a post or get, in classes you just need to define a get and a post method, and django will automaticaly call the appropriate method on our behaf depending on the request.<br>\n",
    "Both methods need to get self and request as their input arguments, and then inside them, you just need to do what ever you desire (just copy what you had in your if statement's true-block and false-block).<br>\n",
    "<br>\n",
    "Your IndexView class should look like the following block:"
   ]
  },
  {
   "cell_type": "code",
   "execution_count": null,
   "id": "3f725400",
   "metadata": {},
   "outputs": [],
   "source": [
    "from django.shortcuts import render\n",
    "from django.http import HttpResponseRedirect\n",
    "from .forms import ReviewForm\n",
    "from django.views import View\n",
    "\n",
    "class IndexView(View):\n",
    "    def get(self, request):\n",
    "        form = ReviewForm()\n",
    "        return render(request, 'reviews/index.html',{\n",
    "            'form':form\n",
    "        })\n",
    "        \n",
    "    def post(self, request):\n",
    "        form = ReviewForm(request.POST)\n",
    "        if form.is_valid():\n",
    "            form.save()\n",
    "            return HttpResponseRedirect('/results')\n",
    "        self.get(request)"
   ]
  },
  {
   "cell_type": "markdown",
   "id": "70b7219c",
   "metadata": {},
   "source": [
    "Now, you can delete the index-view function that you had.<br>\n",
    "\n",
    "What left is to update your urls.py file:\n",
    "- Instead pointing at 'views.index' you need to point to 'views.IndexView.as_view()'<br>\n",
    "The .as_view method will tell django that this class should be looked at as a view!<br><br>\n",
    "\n",
    "Now, if you save everything and go to 'localhost:8000' you will see that everything still works."
   ]
  },
  {
   "cell_type": "markdown",
   "id": "9a7b65e6",
   "metadata": {},
   "source": [
    "If you search for django class-based views, you will find django documentation.\n",
    "    \n",
    "<a href='https://docs.djangoproject.com/en/5.0/topics/class-based-views/'>Django Class-Based Views Documentation</a>"
   ]
  },
  {
   "cell_type": "markdown",
   "id": "5ac728fc",
   "metadata": {},
   "source": [
    "Depending on what you want to do in your view you could inherit from pre-built views which are avalible in the django documentation.<br>\n",
    "We are going to use other form of views in later notebooks.<br>"
   ]
  },
  {
   "cell_type": "markdown",
   "id": "603a1c40",
   "metadata": {},
   "source": [
    "### End of Chapter Seven!"
   ]
  }
 ],
 "metadata": {
  "kernelspec": {
   "display_name": "Python 3",
   "language": "python",
   "name": "python3"
  },
  "language_info": {
   "codemirror_mode": {
    "name": "ipython",
    "version": 3
   },
   "file_extension": ".py",
   "mimetype": "text/x-python",
   "name": "python",
   "nbconvert_exporter": "python",
   "pygments_lexer": "ipython3",
   "version": "3.10.11"
  }
 },
 "nbformat": 4,
 "nbformat_minor": 5
}
