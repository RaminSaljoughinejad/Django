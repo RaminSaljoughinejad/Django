{
 "cells": [
  {
   "cell_type": "markdown",
   "id": "08c26500",
   "metadata": {},
   "source": [
    "### Handling File Uploads:\n",
    "\n",
    "The first thing that we need to do is to handle form submition:<br>\n",
    "1. In your index.html template, find the form tag and add an action attribute and point at '/profiles/'\n",
    "    - Since in the root projects url file we defined our path as 'profiles/' you need to add the '/' at the end of your address for the action attribute.\n",
    "2. Also, set the method for this form to POST\n",
    "3. Now, since you have a form with a file input, you need to add a third attribute called enctype.\n",
    "    - The enctype attribute value needs to be set to 'multipart/form-data'\n",
    "    - specifies how the form data should be encoded when submitting it to the server. The enctype='multipart/form-data' value is used when you need to upload files along with other form data.\n",
    "    - When you set enctype='multipart/form-data', the browser breaks the form data into different parts. Each part has its own content type and content disposition headers, making it possible to handle different types of data appropriately.\n",
    "4. Now, you need to give the file input a name so that you can later target it ['image'].\n",
    "5. Navigate to views.py and lets provide the post method with some code.\n",
    "    - You can now access the file using request.FILES['image']\n",
    "\n",
    "For the moment just print the request.FILES['image'] and then just redirect to the same url.\n",
    "\n",
    "Your view.py file should look like the following block:"
   ]
  },
  {
   "cell_type": "code",
   "execution_count": null,
   "id": "fe47882e",
   "metadata": {},
   "outputs": [],
   "source": [
    "from django.shortcuts import render\n",
    "from django.views import View\n",
    "from django.http import HttpResponseRedirect\n",
    "\n",
    "class IndexView(View):\n",
    "    def get(self, request):\n",
    "        return render(request, 'profiles/index.html')\n",
    "    \n",
    "    def post(self, request):\n",
    "        print(request.FILES['image'])\n",
    "        return HttpResponseRedirect('profiles/')"
   ]
  },
  {
   "cell_type": "markdown",
   "id": "fc27fe72",
   "metadata": {},
   "source": [
    "Your form should look like the following block:"
   ]
  },
  {
   "cell_type": "markdown",
   "id": "8357f406",
   "metadata": {},
   "source": [
    "<form action=\"/profiles/\" method='POST' enctype='multipart/form-data'>\n",
    "    <input type=\"file\" name='image'>\n",
    "    <button>Upload</button>\n",
    "</form>"
   ]
  },
  {
   "cell_type": "markdown",
   "id": "c33ae6ae",
   "metadata": {},
   "source": [
    "If you save everything, reload the page and upload a file, you will get a CSRF error.<br>\n",
    "\n",
    "You should know how to fix this by now, go ahead and fix it.\n",
    "\n",
    "Your form should look like the following now:"
   ]
  },
  {
   "cell_type": "code",
   "execution_count": null,
   "id": "ccc7f3b3",
   "metadata": {
    "vscode": {
     "languageId": "html"
    }
   },
   "outputs": [],
   "source": [
    "<form action=\"/profiles/\" method='POST' enctype='multipart/form-data'>\n",
    "    {% csrf_token %}\n",
    "    <input type=\"file\" name='image'>\n",
    "    <button>Upload</button>\n",
    "</form>"
   ]
  },
  {
   "cell_type": "markdown",
   "id": "a48effb7",
   "metadata": {},
   "source": [
    "Save everything and reload again...\n",
    "\n",
    "If you check the terminal you will see the name of the uploaded file.\n",
    "\n",
    "\n",
    "If you search for Django uploaded file, you will find django documention for uploaded files and upload Handlers.\n",
    "\n",
    "Link: <a href='https://docs.djangoproject.com/en/5.0/ref/files/uploads/'>Django Uploaded Files and Upload Handlers Documention</a>\n",
    "\n",
    "\n"
   ]
  },
  {
   "cell_type": "markdown",
   "id": "c41ccb97",
   "metadata": {},
   "source": [
    "In the documention, you can see everthing regarding file uploads.\n",
    "\n",
    "\n",
    "In the next notebook we will work on saving uploaded files.<br>"
   ]
  }
 ],
 "metadata": {
  "kernelspec": {
   "display_name": "Python 3",
   "language": "python",
   "name": "python3"
  },
  "language_info": {
   "codemirror_mode": {
    "name": "ipython",
    "version": 3
   },
   "file_extension": ".py",
   "mimetype": "text/x-python",
   "name": "python",
   "nbconvert_exporter": "python",
   "pygments_lexer": "ipython3",
   "version": "3.10.11"
  }
 },
 "nbformat": 4,
 "nbformat_minor": 5
}
