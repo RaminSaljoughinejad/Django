{
 "cells": [
  {
   "cell_type": "markdown",
   "id": "93d8a937-f76c-4831-8eb5-8aa7a28deabd",
   "metadata": {},
   "source": [
    "### Adding New Details:\n",
    "\n",
    "\n",
    "- The first thing that i want to do is to make the author name clickable! so when someone clicks on it the mailto application gets called.\n",
    "- The second thing to is to show the tags of a post under its title on post-detail.html page.\n",
    "\n",
    "\n",
    "### Making author names clickable:\n",
    "1. Navigate to post-detail.html page\n",
    "2. Add the 'a' tag around the authors name.\n",
    "3. Use the mailto:{{ post.author.email }} as the href for the a tag.\n",
    "4. Navigate to post-detail.css and style the a tag to white.\n",
    "\n",
    "### Showing tags under the post title:\n",
    "1. If you use a for loop to go through the post.tags! you will get an error! because the tags attribute is not just a simple field! its a many-to-many relation.\n",
    "2. To fix the problem navigate to views.py, and inside your post-detail view function, add a new key:value pare to send to the template.\n",
    "3. You can name the key what ever you want but the value is post.tags.all()\n",
    "4. Now, if you go to post-detail.html and use a for loop to iterate throught the new key, you will be able to see the tags.\n",
    "\n",
    "Your view.py file should look like the following block:"
   ]
  },
  {
   "cell_type": "code",
   "execution_count": null,
   "id": "ac170e1b-fb26-4176-9ff6-dd1dc6b1f7f7",
   "metadata": {},
   "outputs": [],
   "source": [
    "from django.shortcuts import render, get_object_or_404\n",
    "from .models import Tag, Author, Post\n",
    "\n",
    "def index(request):\n",
    "    latest_posts = Post.objects.all().order_by('-date')[:3]\n",
    "    return render(request, \"blog/index.html\", {\n",
    "        \"posts\":latest_posts\n",
    "    })\n",
    "\n",
    "def posts(request):\n",
    "    all_posts = Post.objects.all().order_by('-date')\n",
    "    return render(request, \"blog/all-posts.html\", {\n",
    "        \"all_posts\": all_posts\n",
    "    })\n",
    "\n",
    "def post_detail(request, slug):\n",
    "    post = get_object_or_404(Post, slug=slug)\n",
    "    return render(request, \"blog/post-detail.html\", {\n",
    "        \"post\":post,\n",
    "        \"post_tags\":post.tags.all()\n",
    "    }) "
   ]
  },
  {
   "cell_type": "markdown",
   "id": "bae882c3-3a7d-4208-86ea-ff22f29e6aa1",
   "metadata": {},
   "source": [
    "Your post-detail.html file should look like th following block:"
   ]
  },
  {
   "cell_type": "markdown",
   "id": "91c631c3-9428-49e6-b3e5-6540b3c0bef7",
   "metadata": {},
   "source": [
    "{% extends \"base.html\" %}\n",
    "{% load static %}\n",
    "\n",
    "{% block title %}{{ post.title }}{% endblock %}\n",
    "\n",
    "{% block css_files %}\n",
    "    <link rel=\"stylesheet\" href=\"{% static \"blog/post-detail.css\" %}\">\n",
    "{% endblock %}\n",
    "\n",
    "{% block content %}\n",
    "    <section id='summary'>\n",
    "        <h2>{{ post.title }}</h2>\n",
    "        <p>\n",
    "            {% for tag in post_tags %}\n",
    "                <span class='tag'>{{ tag.caption }} </span>\n",
    "            {% endfor %}\n",
    "        </p>\n",
    "        <article>\n",
    "            <img src=\"{% static \"blog/images/\"|add:post.image_name %}\" alt=\"{{ post.title }}\">\n",
    "            <address>By <a href='mailto:{{ post.author.email }}'>{{ post.author }}</a></address>\n",
    "            <div>\n",
    "                Last Update on <time>{{ post.date|date:\"d M Y\" }}</time>\n",
    "            </div>\n",
    "        </article>\n",
    "    </section>\n",
    "    <main>\n",
    "        <p>\n",
    "            {{ post.content }}\n",
    "        </p>\n",
    "    </main>\n",
    "{% endblock %}"
   ]
  },
  {
   "cell_type": "markdown",
   "id": "7acdf9fc-2ac0-4751-a8d8-dedac6a86eda",
   "metadata": {},
   "source": [
    "### End of Chapter 6"
   ]
  },
  {
   "cell_type": "code",
   "execution_count": null,
   "id": "707f808b-c49a-446b-9fc8-d37e633fbcdb",
   "metadata": {},
   "outputs": [],
   "source": [
    "115"
   ]
  }
 ],
 "metadata": {
  "kernelspec": {
   "display_name": "Python 3 (ipykernel)",
   "language": "python",
   "name": "python3"
  },
  "language_info": {
   "codemirror_mode": {
    "name": "ipython",
    "version": 3
   },
   "file_extension": ".py",
   "mimetype": "text/x-python",
   "name": "python",
   "nbconvert_exporter": "python",
   "pygments_lexer": "ipython3",
   "version": "3.10.11"
  }
 },
 "nbformat": 4,
 "nbformat_minor": 5
}
