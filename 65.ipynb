{
 "cells": [
  {
   "cell_type": "markdown",
   "id": "b1d73870",
   "metadata": {},
   "source": [
    "### More into class-based views:\n",
    "\n",
    "\n",
    "We do have views which are made for form handling, the reason is that handling forms is so common that django created a number of views just for handling them.<br>\n",
    "    \n",
    "\n",
    "When it gets to forms, you alwyas have to handle post and get requests if you use the general View class.<br>\n",
    "\n",
    "### FormView:<br>\n",
    "We are going to change the IndexView class at this point.<br>\n",
    "1. Modify your IndexView class so instead of inheriting from View class in Inherits from FormView\n",
    "    - You need to import FormView from django.views.generic.edit\n",
    "2. Define a class attribute called form_class which holds the name of form class it should handle (ReviewForm).\n",
    "3. Define another class attribute called template_name to set the name of the template that handles the looks of the page ('reviews/index.html')\n",
    "4. Delete the get method! You dont need it anymore, what you have done so far will take care of it.\n",
    "5. If you comment the post method, save everything and relod the page. The looks of the form works perfectly, infact if you inspect the page and remove the required option from the inputs and then click send, you will see that django is telling you that there is a problem with the input you provided; the important thing at this moment is that you cant submit the form to the database. You may ask why? well, django requires a success-url which you haven't provide.\n",
    "6. Defiona new class attribute called success_url and put the \"/results\" (url path) in it.\n",
    "7. Now delete the post method, save everything and check if everything works, but there is a big problem! the data is not added to the database. What is the reason? easy, django doesnt know what to do with the data, mybe you want to write it in a file, database or just print it on the console.\n",
    "8. To fix the problem, you need to define a method called form_valid, this method has two input arguments, self and form.\n",
    "\n",
    "Your IndexView class should look like the following block:"
   ]
  },
  {
   "cell_type": "code",
   "execution_count": null,
   "id": "ad1d7cdc",
   "metadata": {},
   "outputs": [],
   "source": [
    "from django.views.generic.edit import FormView\n",
    "\n",
    "class IndexView(FormView):\n",
    "    form_class = ReviewForm\n",
    "    template_name = \"reviews/index.html\"\n",
    "    success_url = \"/results\"\n",
    "\n",
    "    def form_valid(self, form):\n",
    "        form.save()\n",
    "        return super().form_valid(form)"
   ]
  },
  {
   "cell_type": "markdown",
   "id": "80c32a71",
   "metadata": {},
   "source": [
    "What we just did wasn't the shortest way of handling forms, infact there are other ways which are even shorter. lets learn one of them:\n",
    "\n",
    "1. Instead of FormView, import CreateView from django.views.geberic.edit\n",
    "2. Inherit from it\n",
    "3. You don't need the form class anymore! this class uses the model soley and nothing else. so delete the form_class attribute.\n",
    "4. Define a new class-attribute called model and pass the model to it (Review).\n",
    "5. Now you need to define another class attribute called fields and pass the fields names to it '__all__';\n",
    "Please understand that you could still use the form_class alongside model attribute if you do not want to specify the fields names and want it to follow what you have done in you form class.\n",
    "Please note that if you use fields attribute to specify the fields names, then you can not control your form for example for giving it labels and specific error messages. (I highly recommend using form_class).\n",
    "6. You can now delete the form_valid method (it is being done automaticaly by django).\n",
    "\n",
    "\n",
    "Your IndexView class should look like the following block:"
   ]
  },
  {
   "cell_type": "code",
   "execution_count": null,
   "id": "d49bba75",
   "metadata": {},
   "outputs": [],
   "source": [
    "from django.views.generic.edit import CreateView\n",
    "\n",
    "class IndexView(CreateView):\n",
    "    model = Review\n",
    "    form_class = ReviewForm\n",
    "    template_name = \"reviews/index.html\"\n",
    "    success_url = \"/results\""
   ]
  },
  {
   "cell_type": "markdown",
   "id": "2b65bff3",
   "metadata": {},
   "source": [
    "Beside the CreateView, we also have the UpdateView and DeleteView.\n",
    "We do not dive into them just yet, but they kinda work in the same way.\n",
    "\n",
    "we are going to see these views later."
   ]
  },
  {
   "cell_type": "markdown",
   "id": "388b60bb",
   "metadata": {},
   "source": [
    "End of Chapter 8!"
   ]
  }
 ],
 "metadata": {
  "kernelspec": {
   "display_name": "Python 3",
   "language": "python",
   "name": "python3"
  },
  "language_info": {
   "codemirror_mode": {
    "name": "ipython",
    "version": 3
   },
   "file_extension": ".py",
   "mimetype": "text/x-python",
   "name": "python",
   "nbconvert_exporter": "python",
   "pygments_lexer": "ipython3",
   "version": "3.10.11"
  }
 },
 "nbformat": 4,
 "nbformat_minor": 5
}
