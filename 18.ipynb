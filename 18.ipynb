{
 "cells": [
  {
   "cell_type": "markdown",
   "id": "d7a6db0e-1ac3-455b-a602-9cffc4f3053f",
   "metadata": {},
   "source": [
    "### If Tag:\n",
    "\n",
    "The if tag is going to help us introduce conditions inside DTL. As you are already familiar with the if statement inside the python I won't go through details about this statement.<br>\n",
    "\n",
    "So, lets use it inside an example:<br><br>\n",
    "\n",
    "Navigate to your views.py file and add a new exercise inside your _dict, but set the new excersice value to None.\n",
    "If you now try to acces the new excerside url you will see that not only the name of it on the root url is None, but when you click on its link you will get to a page where it shows None as its description.<br>\n",
    "YES, it should be like this! it is not behaving odd!...But, what if we wanted to show a fixed string when ever we had None as the value?<br>\n",
    "To do this, we can use the if tag<br>\n",
    "Here is the syntax for the if tag... remember this tag too needs an ending section."
   ]
  },
  {
   "cell_type": "code",
   "execution_count": null,
   "id": "6fe007a2-b296-49c7-9ba1-03e5baf93bb7",
   "metadata": {},
   "outputs": [],
   "source": [
    "{% if condition1 and condition2 or condittion3 ... %}\n",
    "{% elif condition4 and/or ... %}\n",
    "{% elif condition5 and/or ... %}\n",
    "...\n",
    "{% else %}\n",
    "{% endif %}"
   ]
  },
  {
   "cell_type": "markdown",
   "id": "7b8b9866-ee25-477f-90ab-bec9991ae1b8",
   "metadata": {},
   "source": [
    "<span style='color:blue;'>Please understand that not only you can use >, <, <=, >= for the conditions inside the if tag, you can also use 'is', 'not', and 'in' just like the python itself.<br></span>"
   ]
  },
  {
   "cell_type": "markdown",
   "id": "f0df74cb-0588-4fe6-a450-a2a13f69379a",
   "metadata": {},
   "source": [
    "Now try to fix both the index.html and exercise.html files so that if the value is None we show 'Not implemented' string instead.<br>\n",
    "<br>\n",
    "Your index.html file should look something like the following block:"
   ]
  },
  {
   "cell_type": "code",
   "execution_count": null,
   "id": "2ea91c52-0bea-4276-bb74-5c8b80eaadb9",
   "metadata": {},
   "outputs": [],
   "source": [
    "<!DOCTYPE html>\n",
    "<html lang=\"en\">\n",
    "<head>\n",
    "    <meta charset=\"UTF-8\">\n",
    "    <meta name=\"viewport\" content=\"width=device-width, initial-scale=1.0\">\n",
    "    <title></title>\n",
    "</head>\n",
    "<body>\n",
    "    <ul>\n",
    "    {% for key, value in exercises.items %}\n",
    "        {% if value%}\n",
    "            <li><a href='{% url 'py_fun_int' key %}'>{{ value|title }}</a></li>\n",
    "        {% else %}\n",
    "            <li><a href='{% url 'py_fun_int' key %}'>Not implemented</a></li>\n",
    "        {% endif %}\n",
    "    {% endfor %}\n",
    "    </ul>\n",
    "</body>\n",
    "</html> "
   ]
  },
  {
   "cell_type": "markdown",
   "id": "0c31f428-ddf8-42a7-8841-e5caeb0965f1",
   "metadata": {},
   "source": [
    "Your exercise.html file should look something like the following block:"
   ]
  },
  {
   "cell_type": "code",
   "execution_count": null,
   "id": "b3a2e012-94ac-41eb-90fb-0cae2546f6b0",
   "metadata": {},
   "outputs": [],
   "source": [
    "<!DOCTYPE html>\n",
    "<html lang=\"en\">\n",
    "<head>\n",
    "    <meta charset=\"UTF-8\">\n",
    "    <meta name=\"viewport\" content=\"width=device-width, initial-scale=1.0\">\n",
    "    <title>E-{{ ex_num }}</title>\n",
    "</head>\n",
    "<body>\n",
    "    <h1>Exercise {{ ex_num }}</h1>\n",
    "    {% if text %}\n",
    "        <h2>{{ text }}</h2>\n",
    "    {% else %}\n",
    "        <h2>Not Implemented</h2>\n",
    "    {% endif %}\n",
    "</body>\n",
    "</html> "
   ]
  },
  {
   "cell_type": "markdown",
   "id": "d7d0151e-84c5-4297-a42d-a4decc81b280",
   "metadata": {},
   "source": [
    "In the next notebook we are going to learn about template inheritance."
   ]
  }
 ],
 "metadata": {
  "kernelspec": {
   "display_name": "Python 3 (ipykernel)",
   "language": "python",
   "name": "python3"
  },
  "language_info": {
   "codemirror_mode": {
    "name": "ipython",
    "version": 3
   },
   "file_extension": ".py",
   "mimetype": "text/x-python",
   "name": "python",
   "nbconvert_exporter": "python",
   "pygments_lexer": "ipython3",
   "version": "3.10.11"
  }
 },
 "nbformat": 4,
 "nbformat_minor": 5
}
