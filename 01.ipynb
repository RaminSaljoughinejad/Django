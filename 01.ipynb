{
 "cells": [
  {
   "cell_type": "markdown",
   "id": "85db83a0-8ec3-4a72-845b-6133576e3fc6",
   "metadata": {},
   "source": [
    "### App folders and files explanation.\n",
    "The following shows what you should expect after creating your project.<br>\n",
    "To make the concept easier to understand, let's call the project \"Pythonic.\"<br><br>\n",
    "|-- Pythonic\n",
    "<ul style='list-style: none;'>\n",
    "    <li>&#8627;  Pythonic</li>\n",
    "    <ul style='list-style: none;'>\n",
    "        <li>__init__</li>\n",
    "        <li>asgi</li>\n",
    "        <li>settings</li>\n",
    "        <li>urls</li>\n",
    "        <li>wsgi</li>\n",
    "    </ul>\n",
    "    <li>&#8627;  manage.py</li>\n",
    "</ul>"
   ]
  },
  {
   "cell_type": "markdown",
   "id": "8376ea8f-88e9-4eb2-8856-4557d07eacf7",
   "metadata": {},
   "source": [
    "### Creating A New App"
   ]
  },
  {
   "cell_type": "code",
   "execution_count": 1,
   "id": "e2cc0fb5-d6d3-4c1c-adad-e0b45e63ff8b",
   "metadata": {},
   "outputs": [],
   "source": [
    "#python manage.py startapp [App Name] "
   ]
  },
  {
   "cell_type": "markdown",
   "id": "f5aa47e1-8992-4e59-a14e-177f98e61834",
   "metadata": {},
   "source": [
    "|-- Pythonic\n",
    "<ul style='list-style: none;'>\n",
    "    <li>&#8627;  Python_Fundamentals</li>\n",
    "    <ul style='list-style: none;'>\n",
    "        <li>&#8627;   migrations</li>\n",
    "        <ul style='list-style: none;'>\n",
    "            <li>__init__</li>\n",
    "        </ul>\n",
    "        <li>__init__</li>\n",
    "        <li>admin</li>\n",
    "        <li>apps</li>\n",
    "        <li>models</li>\n",
    "        <li>tests</li>\n",
    "        <li>views</li>\n",
    "    </ul>\n",
    "    <li>&#8627;  Pythonic</li>\n",
    "    <ul style='list-style: none;'>\n",
    "        <li>__init__</li>\n",
    "        <li>asgi</li>\n",
    "        <li>settings</li>\n",
    "        <li>urls</li>\n",
    "        <li>wsgi</li>\n",
    "    </ul>\n",
    "    <li>&#8627;  manage.py</li>\n",
    "</ul>"
   ]
  },
  {
   "cell_type": "markdown",
   "id": "573e62be-f003-4898-95d4-0cac0cead6f4",
   "metadata": {},
   "source": [
    "### Explaining the files and folders inside the new app:"
   ]
  },
  {
   "cell_type": "markdown",
   "id": "7ce682e3-6e47-4062-bd81-dc415642c4bd",
   "metadata": {},
   "source": [
    "\n",
    "- The <span style='color:red'>migration</span> folder contains a file called <span style='color:blue;'>__init__.py</span>, which is empty and not important at the moment. It will be used later when we use databases and modules.\n",
    "- The <span style='color:red'>admin</span> file will become important later when we start working with the builtin administrative area.\n",
    "- The <span style='color:red'>app</span> file is what that configures this app. The app name is stored in this file and is considered important when we want to connect this app to other apps or to the main project.\n",
    "- The <span style='color:red'>models</span> file too will become important when we start using database and data models in our project.\n",
    "- The <span style='color:red'>test</span> file will help us with automated testing and unit tesing the app (something we do not cover in this class)\n",
    "- The <span style='color:red'>views</span> file is where we write some logic to determine what to show to the user! This is an important file, and we are goind to start with working on it. "
   ]
  }
 ],
 "metadata": {
  "kernelspec": {
   "display_name": "Python 3 (ipykernel)",
   "language": "python",
   "name": "python3"
  },
  "language_info": {
   "codemirror_mode": {
    "name": "ipython",
    "version": 3
   },
   "file_extension": ".py",
   "mimetype": "text/x-python",
   "name": "python",
   "nbconvert_exporter": "python",
   "pygments_lexer": "ipython3",
   "version": "3.10.11"
  }
 },
 "nbformat": 4,
 "nbformat_minor": 5
}
