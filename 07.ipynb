{
 "cells": [
  {
   "cell_type": "markdown",
   "id": "6a6c6ffc-d659-4212-ab1e-537e1aad3e47",
   "metadata": {},
   "source": [
    "### Redirection\n",
    "\n",
    "Imagen a case where you want to redirect a request made on an specific url to a new address! Although that you can achieve this by calling a view function inside the current view function you can also use HttpResponseRedirect to this.\n",
    "\n",
    "Lets make something more meaningful and useful.\n",
    "Lets say that I want to redirect '\\intro' to \\1 and '\\final' to \\53 so people can see the first and last exercise page.\n",
    "\n",
    "First, import HttpResponseRedirect from django.http\n",
    "Then, modify the views file, check the value that the identifier holds and redirect to a desired url (use a dictionary to store redirections and urls).\n",
    "\n",
    "in the HttpResponseRedirect() you need to pass a string containing the app name and the desired url in the following syntax '/[App Name]/[desired url]'\n",
    "\n",
    "Your views file should looks like the following in the end."
   ]
  },
  {
   "cell_type": "code",
   "execution_count": null,
   "id": "6208dc65-28a3-43b0-ab83-80bb90ac9afa",
   "metadata": {},
   "outputs": [],
   "source": [
    "from django.shortcuts import render\n",
    "from django.http import HttpResponse, HttpResponseNotFound, HttpResponseRedirect\n",
    "\n",
    "\n",
    "_dict = {\n",
    "    1:'Variables!',\n",
    "    2:'If-Statements',\n",
    "    3:'Loops',\n",
    "    53:'This is the last notebook of this course.'\n",
    "}\n",
    "\n",
    "_redirections = {\n",
    "    'intro':'1',\n",
    "    'final':'53'\n",
    "}\n",
    "\n",
    "# Create your views here.\n",
    "def url_handler_str(request,  exercise):\n",
    "    if exercise in _redirections:\n",
    "        return HttpResponseRedirect('/Python_Fundamentals/'+_redirections[exercise])\n",
    "    return HttpResponse(f\"The url is looking for '{exercise}' address and is a string.\")\n",
    "\n",
    "\n",
    "def url_handler_int(request,  exercise):\n",
    "    if exercise in _dict:\n",
    "        return HttpResponse(_dict[exercise])\n",
    "    else:\n",
    "        return HttpResponseNotFound(\"This Page Does Not Exists\")"
   ]
  },
  {
   "cell_type": "markdown",
   "id": "15e87fac-6ab2-4984-9e2e-08bbcc0567ba",
   "metadata": {},
   "source": [
    "What we did here with the redirect response is not a good practice because we are hardcoding the name of the app into our url! This may cause problems later on when we change the app name or if we change the url pattern in the project urls file.<br>\n",
    "\n",
    "To make it easier to understand. lets make this change and see the results.\n",
    "\n",
    "Go to your projects urls file and change the path of your app by adding or removing a character from it.<br>\n",
    "For example if your path is <span style='color:blue;'>path(\"Python_Fundamentals/\", include('Python_Fundamentals.urls'))</span> change it to <span style='color:blue;'>path(\"Python_Fundamental/\", include('Python_Fundamentals.urls'))</span> and save it.\n",
    "\n",
    "Now if you try to go http://127.0.0.1:8000/Python_Fundamentals/1 you will get a NotFound Error. However if you change the url to http://127.0.0.1:8000/Python_Fundamental/1 you will get a correct response.\n",
    "\n",
    "Do you see the problem?\n",
    "\n",
    "Try to access the following url http://127.0.0.1:8000/Python_Fundamental/intro<br>\n",
    "This url is supposed to redirect you to the first notebook.\n",
    "\n",
    "However, as you can see, you are getting a NotFound Error although that you used the correct url!\n",
    "\n",
    "Why is that?? the reason is that the view function with the HttpResponseRedirect is using a hardcoded url for your app name! and if you check the url in your browser now, you will see that it contains the letter 's' that we deleted earlier.\n",
    "\n",
    "You should see the following url in your browser  ->  http://127.0.0.1:8000/Python_Fundamentals/1\n",
    "\n",
    "So, how are we supposed to fix this?\n",
    "\n",
    "By using Dynamic Path Construction which we are going to discuss in the next notebook."
   ]
  }
 ],
 "metadata": {
  "kernelspec": {
   "display_name": "Python 3 (ipykernel)",
   "language": "python",
   "name": "python3"
  },
  "language_info": {
   "codemirror_mode": {
    "name": "ipython",
    "version": 3
   },
   "file_extension": ".py",
   "mimetype": "text/x-python",
   "name": "python",
   "nbconvert_exporter": "python",
   "pygments_lexer": "ipython3",
   "version": "3.10.11"
  }
 },
 "nbformat": 4,
 "nbformat_minor": 5
}
