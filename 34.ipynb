{
 "cells": [
  {
   "cell_type": "markdown",
   "id": "65c423c8-7f0a-4e02-9324-45a7eef65a37",
   "metadata": {},
   "source": [
    "### Deleting Data from Database ( Deleting a row! ):\n",
    "\n",
    "How?<br>\n",
    "Create an object form the desired row using objects.all[index] and then run the delete method on the object. You dont need to run the save method after this.<br>\n",
    "Please, think twice before you delete something... you can NOT undo this action.<br>\n",
    "Lets delete the last harry potter book:"
   ]
  },
  {
   "cell_type": "code",
   "execution_count": null,
   "id": "dea7407b-be40-4c37-ba48-f339e0d1c39e",
   "metadata": {},
   "outputs": [],
   "source": [
    "hp7 = Movie.objects.all()[6]\n",
    "hp7.delete()"
   ]
  },
  {
   "cell_type": "markdown",
   "id": "de7f9822-385f-4111-98b3-a33261b00020",
   "metadata": {},
   "source": [
    "After running the delete method, Django will give you a text response.<br>"
   ]
  },
  {
   "cell_type": "code",
   "execution_count": null,
   "id": "c8fe6663-48eb-49d4-a947-6e5ec9218dc4",
   "metadata": {},
   "outputs": [],
   "source": [
    "(1, {'video_outlet.Movie': 1})"
   ]
  },
  {
   "cell_type": "markdown",
   "id": "bc0e0318-e00f-409b-bd7a-a1c6489b26f4",
   "metadata": {},
   "source": [
    "Lets learn something new...\n",
    "\n",
    "So far we used class.objects.all[index] to select specific row! This method is not a practical method because you would need to know the index of the row that you want to select<br>\n",
    "\n",
    "What if you didn't know the index ond only know a field of that row? (for example you know the title of the movie)<br>\n",
    "\n",
    "Well, there is a filtering feature in django that lets you do that, but before we do it, go ahead and add more movies to the database (different titles and values).<br>\n",
    "\n",
    "While we are on adding new rows to the database... let me explain a new way that you can use to add new rows<br>\n",
    "\n",
    "So far when you wanted to add a new row to the database, you had to create an object from it, set the individual values for it and then use the save method to add it to the database.<br>\n",
    "\n",
    "There is another way to. Please undertands that I am not claming that this new approach is better than the pervious one, its just another approach.<br>\n",
    "Here is the syntax for this approach...<br>"
   ]
  },
  {
   "cell_type": "code",
   "execution_count": null,
   "id": "1b269fd0-cc31-48db-b5ba-980d1645d345",
   "metadata": {},
   "outputs": [],
   "source": [
    "class.objects.create(filed1=value1, field2=value2, ..., fieldn = valueN)"
   ]
  },
  {
   "cell_type": "markdown",
   "id": "d0d934a4-aedf-47a9-b331-14f99c1d62c0",
   "metadata": {},
   "source": [
    "Here are what I added to the database:"
   ]
  },
  {
   "cell_type": "code",
   "execution_count": null,
   "id": "be0cac70-3e74-4bbe-af9d-20007e859a33",
   "metadata": {},
   "outputs": [],
   "source": [
    "Movie.objects.create(title='The Girl Next Door', rating=6, main_act='Elisha Cuthbert', is_bestselling=False)\n",
    "Movie.objects.create(title='The Proposal', rating=6, main_act='Sandra Bullock', is_bestselling=False)\n",
    "Movie.objects.create(title='The Back-up Plan', rating=5, main_act='Jennifer Lopez', is_bestselling=False)\n",
    "Movie.objects.create(title='The Dictator', rating=6, main_act='Sacha Baron Cohen', is_bestselling=True)"
   ]
  },
  {
   "cell_type": "code",
   "execution_count": null,
   "id": "7b683eca-2df7-4cab-8ce9-d612867b394d",
   "metadata": {},
   "outputs": [],
   "source": [
    "for i in Movie.objects.all():\n",
    "    ...:     print(i)"
   ]
  },
  {
   "cell_type": "markdown",
   "id": "1ee7261a-88a4-4938-9206-54478fdf5f09",
   "metadata": {},
   "source": [
    "title:Harry Potter 1 - The philosopher's ston, rating:7, Main Actor/actress:Daniel Radcliffe, Best Seller\n",
    "title:Harry Potter 2 - Chamber of Secrets, rating:8, Main Actor/actress:Daniel Radcliffe, Best Seller\n",
    "title:Harry Potter 3 - The Prisoner of Azkaban, rating:8, Main Actor/actress:Daniel Radcliffe, Best Seller\n",
    "title:Harry Potter 4 - The Goblet of Fire, rating:9, Main Actor/actress:Daniel Radcliffe, Best Seller\n",
    "title:Harry Potter 5 - The Order of the Phoenix, rating:9, Main Actor/actress:Daniel Radcliffe, Best Seller\n",
    "title:Harry Potter 6 - The Half Blood Prince, rating:9, Main Actor/actress:Daniel Radcliffe, Best Seller\n",
    "title:The Girl Next Door, rating:6, Main Actor/actress:Elisha Cuthbert\n",
    "title:The Proposal, rating:6, Main Actor/actress:Sandra Bullock\n",
    "title:The Back-up Plan, rating:5, Main Actor/actress:Jennifer Lopez\n",
    "title:The Dictator, rating:6, Main Actor/actress:Sacha Baron Cohen, Best Seller"
   ]
  },
  {
   "cell_type": "markdown",
   "id": "b6049f28-c831-47ce-8e02-e548985e3a92",
   "metadata": {},
   "source": [
    "### Lets get back to the filtering feature....\n",
    "\n",
    "1- Get Method:<br>\n",
    "\n",
    "To use this feature we need to use the get method on the class.object, the syntax would be like the following block:"
   ]
  },
  {
   "cell_type": "code",
   "execution_count": null,
   "id": "8ee452af-2733-4f84-8eaf-797cce9a7924",
   "metadata": {},
   "outputs": [],
   "source": [
    "class.objects.get(condition)"
   ]
  },
  {
   "cell_type": "markdown",
   "id": "8f1a0a70-f8ca-4b60-9fec-43e0f3978f5d",
   "metadata": {},
   "source": [
    "Lets have an example, lets select all the row where the rating is equal to 7:"
   ]
  },
  {
   "cell_type": "code",
   "execution_count": null,
   "id": "81ddd05a-6505-49ff-9062-5c8bb040ac2c",
   "metadata": {},
   "outputs": [],
   "source": [
    "Movie.objects.get(rating=7)"
   ]
  },
  {
   "cell_type": "markdown",
   "id": "8eb660e3-970d-4af6-a667-fb885442be61",
   "metadata": {},
   "source": [
    "<Movie: title:Harry Potter 1 - The philosopher's ston, rating:7, Main Actor/actress:Daniel Radcliffe, Best Seller>"
   ]
  },
  {
   "cell_type": "markdown",
   "id": "591f4e34-d6b4-4eea-bc9e-b09941fbb3d8",
   "metadata": {},
   "source": [
    "Please note that the get method can only return 1 row  and if there are more rows with the condition being True for them, you will get an error.<br>\n",
    "It means that you should use a condition which is only True for one row in the table.<br>"
   ]
  },
  {
   "cell_type": "code",
   "execution_count": null,
   "id": "1804358e-c471-4c2d-9ade-508df27c17a8",
   "metadata": {},
   "outputs": [],
   "source": [
    "Movie.objects.get(is_bestselling=True)"
   ]
  },
  {
   "cell_type": "markdown",
   "id": "355f1e2f-bfe1-459c-9e46-17174a086af4",
   "metadata": {},
   "source": [
    "Error -> MultipleObjectsReturned: get() returned more than one Movie -- it returned 7!"
   ]
  },
  {
   "cell_type": "code",
   "execution_count": null,
   "id": "a9f33484-2303-408a-aead-a045ee4225e3",
   "metadata": {},
   "outputs": [],
   "source": [
    "Please Also note that you can only use the if-equal operator for the condition part and you are NOT allowed to use other operators like >, <, >=, <=<br>"
   ]
  },
  {
   "cell_type": "code",
   "execution_count": null,
   "id": "dbf20c66-b381-4f15-83fb-9429054add0c",
   "metadata": {},
   "outputs": [],
   "source": [
    "Movie.objects.get(rating<7)"
   ]
  },
  {
   "cell_type": "code",
   "execution_count": null,
   "id": "4202d3ef-876b-43b3-9d13-c073373d3c71",
   "metadata": {},
   "outputs": [],
   "source": [
    "NameError: name 'rating' is not defined"
   ]
  },
  {
   "cell_type": "markdown",
   "id": "aaa8ecd1-52ea-4c3d-9bab-f763ec4a7612",
   "metadata": {},
   "source": [
    "2- Filter Method:\n",
    "\n",
    "The filter method, unnlike get, can return multiple results.<br>\n",
    "\n",
    "The syntax would be like the following block: "
   ]
  },
  {
   "cell_type": "code",
   "execution_count": null,
   "id": "0e3b9d5d-32cd-40c5-a92a-7984f0cac8c6",
   "metadata": {},
   "outputs": [],
   "source": [
    "class.objects.filter(condition)"
   ]
  },
  {
   "cell_type": "markdown",
   "id": "266fe223-5dbf-4c70-97b1-9d442f1dd2a2",
   "metadata": {},
   "source": [
    "Lets have an example, lets select the rows where the movies are best_selling<br>"
   ]
  },
  {
   "cell_type": "code",
   "execution_count": null,
   "id": "3b0fc5ca-8fbf-4312-9b89-818ad29bba66",
   "metadata": {},
   "outputs": [],
   "source": [
    "Movie.objects.filter(is_bestselling=True)"
   ]
  },
  {
   "cell_type": "markdown",
   "id": "2a0ec9e6-e75c-4b0b-b288-d36f69c60066",
   "metadata": {},
   "source": [
    "<QuerySet [<Movie: title:Harry Potter 1 - The philosopher's ston, rating:7, Main Actor/actress:Daniel Radcliffe, Best Seller>, <Movie: title:Harry Potter 2 - Chamber of Secrets, rating:8, Main Actor/actress:Daniel Radcliffe, Best Seller>, <Movie: title:Harry Potter 3 - The Prisoner of Azkaban, rating:8, Main Actor/actress:Daniel Radcliffe, Best Seller>, <Movie: title:Harry Potter 4 - The Goblet of Fire, rating:9, Main Actor/actress:Daniel Radcliffe, Best Seller>, <Movie: title:Harry Potter 5 - The Order of the Phoenix, rating:9, Main Actor/actress:Daniel Radcliffe, Best Seller>, <Movie: title:Harry Potter 6 - The Half Blood Prince, rating:9, Main Actor/actress:Daniel Radcliffe, Best Seller>, <Movie: title:The Dictator, rating:6, Main Actor/actress:Sacha Baron Cohen, Best Seller>]>"
   ]
  },
  {
   "cell_type": "markdown",
   "id": "57e07faf-30d8-47cf-b64d-4138adacc77a",
   "metadata": {},
   "source": [
    "Messy results! lets give it a better styling:"
   ]
  },
  {
   "cell_type": "code",
   "execution_count": null,
   "id": "5b7751cf-c421-487f-9c6d-88f3d8818b56",
   "metadata": {},
   "outputs": [],
   "source": [
    "for row in Movie.objects.filter(is_bestselling=True):\n",
    "    print(row)"
   ]
  },
  {
   "cell_type": "code",
   "execution_count": null,
   "id": "19a1d4ee-922a-4747-be06-98e9aec36ed1",
   "metadata": {},
   "outputs": [],
   "source": [
    "title:Harry Potter 1 - The philosopher's ston, rating:7, Main Actor/actress:Daniel Radcliffe, Best Seller\n",
    "title:Harry Potter 2 - Chamber of Secrets, rating:8, Main Actor/actress:Daniel Radcliffe, Best Seller\n",
    "title:Harry Potter 3 - The Prisoner of Azkaban, rating:8, Main Actor/actress:Daniel Radcliffe, Best Seller\n",
    "title:Harry Potter 4 - The Goblet of Fire, rating:9, Main Actor/actress:Daniel Radcliffe, Best Seller\n",
    "title:Harry Potter 5 - The Order of the Phoenix, rating:9, Main Actor/actress:Daniel Radcliffe, Best Seller\n",
    "title:Harry Potter 6 - The Half Blood Prince, rating:9, Main Actor/actress:Daniel Radcliffe, Best Seller\n",
    "title:The Dictator, rating:6, Main Actor/actress:Sacha Baron Cohen, Best Seller"
   ]
  },
  {
   "cell_type": "markdown",
   "id": "8c0f1f13-4066-4abf-bb73-8264b53d0e90",
   "metadata": {},
   "source": [
    "Note: in both, get and filter method you could have more than 1 condition, just seprate them by a comma.<br>\n",
    "Here is an example:"
   ]
  },
  {
   "cell_type": "code",
   "execution_count": null,
   "id": "5b2003b6-41da-4f97-b664-55bed255738d",
   "metadata": {},
   "outputs": [],
   "source": [
    "Movie.objects.filter(is_bestselling=True, rating=7)"
   ]
  },
  {
   "cell_type": "markdown",
   "id": "3a128af9-c94d-47aa-9613-eb65427ea099",
   "metadata": {},
   "source": [
    "Please understand that again you are not allowed to use any operation but the if-equal with the filter method.<br>\n",
    "\n",
    "Could tell me why we cant use any other operators?<br>\n",
    "\n",
    "Well, you are using python code, and the rating is being considered an argument we are passing for the filter and get method.<br>\n",
    "\n",
    "Lets put this aside...<br>\n",
    "How are we supposed to fix this?<br>\n",
    "\n",
    "### Filed lookups:\n",
    "\n",
    "Well, Django has foreseen this problem and created special parameter names for this. These names are considered as a sort of modifiers that will get passed with the argument to the method and will tell django that tou want a different operator than the if-equal.\n",
    "\n",
    "Here are some examples:"
   ]
  },
  {
   "cell_type": "code",
   "execution_count": null,
   "id": "ded47d66-f036-4395-b5a9-eef6b008d8b1",
   "metadata": {},
   "outputs": [],
   "source": [
    "Movie.objects.filter(rating__lt=7)  # __lt   =  lower than\n",
    "Movie.objects.filter(rating__lte=7) # __lte  =  lower than or equal to\n",
    "Movie.objects.filter(rating__gt=7)  # __gt   =  greater than\n",
    "Movie.objects.filter(rating__gte=7) # __gte  =  greater than or equal to"
   ]
  },
  {
   "cell_type": "markdown",
   "id": "017dd7be-90cc-4ff1-8ed1-2990a97503ce",
   "metadata": {},
   "source": [
    "If you search for 'djnago filters, making queries', you will see a link to making queries and there there would a full list of these 'Filed lookups' in a field lookups reference.<br>\n",
    "Link: <a style='text-decoration:underline' href='https://docs.djangoproject.com/en/5.0/ref/models/querysets/#field-lookups'>Field Lookups Reference</a>"
   ]
  },
  {
   "cell_type": "markdown",
   "id": "f2b236ca-e08d-493d-833f-fbb4d7531e30",
   "metadata": {},
   "source": [
    "Let me mention something here,\n",
    "\n",
    "So far we used the filter and get method to select row(s) that satisfy a cetrain condition(s), but what if we wanted to seleted row(s) that either satisfied condition1 or condition2 ?<br> \n",
    "\n",
    "Django has foreseen this too! althought that you can't do it righaway! you need to import the Q class from django.db.models<br>\n",
    "The Q class will let you write queries that can contain 'or's and not only 'and's<br>\n",
    "\n",
    "Here is an example of using it:"
   ]
  },
  {
   "cell_type": "code",
   "execution_count": null,
   "id": "6cccccf8-f845-41a6-af62-79f019f9fd7d",
   "metadata": {},
   "outputs": [],
   "source": [
    "from django.db.models import Q\n",
    "\n",
    "Movie.objects.filter(Q(rating__lt=3) | Q(is_bestselling=True))"
   ]
  },
  {
   "cell_type": "markdown",
   "id": "5a40a966-8749-4082-abee-c57f593ca914",
   "metadata": {},
   "source": [
    "The query we wrote above tells django to select the rows where the rating is less than 3 or where the best_selling is equal to True."
   ]
  },
  {
   "cell_type": "markdown",
   "id": "a2d36850-4376-4c6f-88e2-15ce52c5ef60",
   "metadata": {},
   "source": [
    "Please note that if you also want to ahve the and operator! you just need to use , instead of the | operator.\n",
    "Here is an example:"
   ]
  },
  {
   "cell_type": "code",
   "execution_count": null,
   "id": "62154282-068f-4c7f-b7ab-a975a9c9e48e",
   "metadata": {},
   "outputs": [],
   "source": [
    "Movie.objects.filter(Q(rating__lt=3) | Q(is_bestselling=True), Q(main_act='Daniel Radcliffe'))"
   ]
  },
  {
   "cell_type": "markdown",
   "id": "f1496911-42d1-477b-8539-85321043e7f4",
   "metadata": {},
   "source": [
    "You could also get ride of Q when using and condition. But you should understand if you want to get ride of Q class! you need to use it as the last condition!<br>\n",
    "Here is an example:"
   ]
  },
  {
   "cell_type": "code",
   "execution_count": null,
   "id": "d0d33461-05d2-42af-8ff6-0a03d42120e4",
   "metadata": {},
   "outputs": [],
   "source": [
    "Movie.objects.filter(Q(rating__lt=3) | Q(is_bestselling=True), main_act='Daniel Radcliffe')  #Allowed! True\n",
    "Movie.objects.filter(Q(rating__lt=3), main_act='Daniel Radcliffe' | Q(is_bestselling=True), ) # ERROR! NOT TRUE!"
   ]
  },
  {
   "cell_type": "markdown",
   "id": "c2d7918e-36d6-4118-a14f-f1ef9efa4973",
   "metadata": {},
   "source": [
    "In the next notebook I want to talk about performace of these queries.<br>"
   ]
  }
 ],
 "metadata": {
  "kernelspec": {
   "display_name": "Python 3 (ipykernel)",
   "language": "python",
   "name": "python3"
  },
  "language_info": {
   "codemirror_mode": {
    "name": "ipython",
    "version": 3
   },
   "file_extension": ".py",
   "mimetype": "text/x-python",
   "name": "python",
   "nbconvert_exporter": "python",
   "pygments_lexer": "ipython3",
   "version": "3.10.11"
  }
 },
 "nbformat": 4,
 "nbformat_minor": 5
}
