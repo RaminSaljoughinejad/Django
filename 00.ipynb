{
 "cells": [
  {
   "cell_type": "markdown",
   "id": "4f93ed53-bae0-4039-b611-c3afbd9d27bd",
   "metadata": {},
   "source": [
    "### Installing Django"
   ]
  },
  {
   "cell_type": "code",
   "execution_count": 1,
   "id": "f6521dc6-1aeb-43f7-a766-d02744ca67a2",
   "metadata": {},
   "outputs": [],
   "source": [
    "#python -m pip install --upgrade django"
   ]
  },
  {
   "cell_type": "markdown",
   "id": "fd05434d-7fde-4254-8c52-705d19e2c1c0",
   "metadata": {},
   "source": [
    "### Creating a New Project"
   ]
  },
  {
   "cell_type": "code",
   "execution_count": 2,
   "id": "3cc1ae05-2578-4f5d-b910-cf20bc02a225",
   "metadata": {},
   "outputs": [],
   "source": [
    "#django-admin startproject [project name]"
   ]
  },
  {
   "cell_type": "markdown",
   "id": "1761f0fb-85ee-4e38-a67d-2fa139347471",
   "metadata": {},
   "source": [
    "The 'startproject' command, creates a folder with the given [project name] and inside it, it creates an app again with the same name of the project.\n",
    "inside the project folder, there would be one another file called 'manage.py' which is used for managing the project tasks, for instance running a local server."
   ]
  },
  {
   "cell_type": "markdown",
   "id": "932bc3fd-34d9-4a48-b629-cd53cc9c1080",
   "metadata": {},
   "source": [
    "### Running Django Server"
   ]
  },
  {
   "cell_type": "code",
   "execution_count": 3,
   "id": "fcc12c10-39cf-4dab-bed6-e30f06daf278",
   "metadata": {},
   "outputs": [],
   "source": [
    "#python manage.py runserver"
   ]
  },
  {
   "cell_type": "markdown",
   "id": "eb3bd18d-10c8-41ce-ae2b-61ccff9df705",
   "metadata": {},
   "source": [
    "You can shutdown the running server by pressing Ctrl+C"
   ]
  }
 ],
 "metadata": {
  "kernelspec": {
   "display_name": "Python 3 (ipykernel)",
   "language": "python",
   "name": "python3"
  },
  "language_info": {
   "codemirror_mode": {
    "name": "ipython",
    "version": 3
   },
   "file_extension": ".py",
   "mimetype": "text/x-python",
   "name": "python",
   "nbconvert_exporter": "python",
   "pygments_lexer": "ipython3",
   "version": "3.10.11"
  }
 },
 "nbformat": 4,
 "nbformat_minor": 5
}
