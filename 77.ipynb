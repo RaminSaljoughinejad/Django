{
 "cells": [
  {
   "cell_type": "markdown",
   "id": "1377286b",
   "metadata": {},
   "source": [
    " ### Form Submition:\n",
    "\n",
    " 1. Navigate to you post-detail.html template\n",
    " 2. Set the method of the comment form to POST\n",
    " 3. The action?\n",
    "    - We want to send the form to the same page but this time with a post request!\n",
    "    - So use the url tag and provide it with the name of the url.\n",
    "    - you should also send post.slug to the url\n",
    "\n",
    "Your form should look like the following block:"
   ]
  },
  {
   "cell_type": "code",
   "execution_count": null,
   "id": "881f4f3d",
   "metadata": {
    "vscode": {
     "languageId": "html"
    }
   },
   "outputs": [],
   "source": [
    "<form action='{% url \"blog-post-detail\" post.slug %}' method=\"post\">"
   ]
  },
  {
   "cell_type": "markdown",
   "id": "33fd6a68",
   "metadata": {
    "vscode": {
     "languageId": "html"
    }
   },
   "source": [
    "At the moment we dont have a way of handeling the PostDetailView.\n",
    "\n",
    "4. To fix this we need to redefine our PostDetailView\n",
    "    - instead of extending it from DetailView, extend it from View\n",
    "    - Define post and get method\n",
    "    - Delete the get_context... method\n",
    "    - Manulay handle post and get\n",
    "\n",
    "Your PostDetailView should look like the following block:"
   ]
  },
  {
   "cell_type": "code",
   "execution_count": null,
   "id": "1308e0a6",
   "metadata": {},
   "outputs": [],
   "source": [
    "from django.shortcuts import render\n",
    "from .fomrs import CommentForm\n",
    "from .models import Post\n",
    "from django.http import HttpResponseRedirect\n",
    "from django.urls import reverse\n",
    "\n",
    "class PostDetailView(View):\n",
    "    model = Post\n",
    "    template_name = \"blog/post-detail.html\"\n",
    "\n",
    "    def get(self, request, slug):\n",
    "        post = Post.objects.get(slug = slug)\n",
    "        return render(request, 'blog/post-detail.html', {\n",
    "            'post':post,\n",
    "            'post_tags': post.tags.all(),\n",
    "            'form':CommentForm()\n",
    "        })\n",
    "\n",
    "    def post(self, request, slug):\n",
    "        comment_form = CommentForm(request.POST)\n",
    "        if comment_form.is_valid():\n",
    "            comment_form.save()\n",
    "            return HttpResponseRedirect(reverse('blog-post-detail', args=[slug]))\n",
    "        \n",
    "        post = Post.objects.get(slug = slug)\n",
    "        return render(request, 'blog/post-detail.html', {\n",
    "            'post':post,\n",
    "            'post_tags': post.tags.all(),\n",
    "            'form':comment_form\n",
    "        })"
   ]
  },
  {
   "cell_type": "markdown",
   "id": "dfc38b62",
   "metadata": {},
   "source": [
    "We have a problem here:\n",
    "\n",
    "Since we do not use the whole fomr to construct our form in the template (the post field is excluded), we can not save it the way it is and we need to modify it before saving it<br>\n",
    "\n",
    "We can fix this by adding an extra input argument to the .save method.<br>\n",
    "This extra input argument is called commit and we pass False.<br>\n",
    "This tells django that instead of saving the form to the database, it has to create an object from it (pass it to a new variable).<br>\n",
    "Now, we can edit it before saving it to the database.<br>\n",
    "To do this you just need to pass the post to it like it is an atrribute of the new object form.<br>\n",
    "\n",
    "Your PostDetailView should look like the following block:"
   ]
  },
  {
   "cell_type": "code",
   "execution_count": null,
   "id": "36550ed7",
   "metadata": {},
   "outputs": [],
   "source": [
    "class PostDetailView(View):\n",
    "    model = Post\n",
    "    template_name = \"blog/post-detail.html\"\n",
    "\n",
    "    def get(self, request, slug):\n",
    "        post = Post.objects.get(slug = slug)\n",
    "        return render(request, 'blog/post-detail.html', {\n",
    "            'post':post,\n",
    "            'post_tags': post.tags.all(),\n",
    "            'form':CommentForm()\n",
    "        })\n",
    "\n",
    "    def post(self, request, slug):\n",
    "        comment_form = CommentForm(request.POST)\n",
    "        post = Post.objects.get(slug = slug)\n",
    "\n",
    "        if comment_form.is_valid():\n",
    "            comment = comment_form.save(commit=False)\n",
    "            comment.post = post\n",
    "            comment.save()\n",
    "            return HttpResponseRedirect(reverse('blog-post-detail', args=[slug]))\n",
    "        return render(request, 'blog/post-detail.html', {\n",
    "            'post':post,\n",
    "            'post_tags': post.tags.all(),\n",
    "            'form':comment_form\n",
    "        })"
   ]
  },
  {
   "cell_type": "markdown",
   "id": "bc369ef2",
   "metadata": {},
   "source": [
    "Now, everything should work just fine...<br>\n",
    "The only thing that we need to do is to display the comments under each post.<br>\n",
    "We will do it in the next notebook<br>\n",
    "\n",
    "\n",
    "Before we move to the next notebook modify the admin.py file so that we can see all the comments in the administrative section.<br>"
   ]
  }
 ],
 "metadata": {
  "kernelspec": {
   "display_name": "Python 3",
   "language": "python",
   "name": "python3"
  },
  "language_info": {
   "codemirror_mode": {
    "name": "ipython",
    "version": 3
   },
   "file_extension": ".py",
   "mimetype": "text/x-python",
   "name": "python",
   "nbconvert_exporter": "python",
   "pygments_lexer": "ipython3",
   "version": "3.10.11"
  }
 },
 "nbformat": 4,
 "nbformat_minor": 5
}
