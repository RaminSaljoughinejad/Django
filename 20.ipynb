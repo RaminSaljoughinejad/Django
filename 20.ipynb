{
 "cells": [
  {
   "cell_type": "markdown",
   "id": "6e6ac82e-d880-4475-8b74-ed8b529fb5f4",
   "metadata": {},
   "source": [
    "Includes (Partialls)\n",
    "\n",
    "Parshals are a part of the inheritance subject, but in parshals we do not have a base template that we use to inject data into.<br>\n",
    "Parshals are html snipits, templete snipits which we could be reuse in different templates.<br>\n",
    "\n",
    "An example could be a navigation bar.<br>\n",
    "Lets create a navigation bar for our app, so we do not need to use the back button on the browser to navigate back to the previous page.<br>\n",
    "This navigation bar could also include other links too.<br>\n",
    "\n",
    "1- Create a folder inside te templates/Python_Fundamentals folder and name it what ever you want (I will call it includes).<br>\n",
    "2- Inside it create a file called 'header.html' and inside it create a a navigation bar using html.<br>\n",
    "\n",
    "Your file should look something like the following block:"
   ]
  },
  {
   "cell_type": "code",
   "execution_count": null,
   "id": "2e06d36b-350e-4930-b7c4-7389db552561",
   "metadata": {},
   "outputs": [],
   "source": [
    "<header>\n",
    "    <nav>\n",
    "        <a href=''>All Exercises</a>\n",
    "    </nav>\n",
    "</header>"
   ]
  },
  {
   "cell_type": "markdown",
   "id": "983f7583-96bd-42e5-8cc9-5ffaa10149e4",
   "metadata": {},
   "source": [
    "3- Now, you need to add this file into your other template files.<br>\n",
    "Use the include tag iside your template files. Please Understand that this include has nothing to with the include function we used in the urls.py file.<br>\n",
    "The Syntax is as follows:"
   ]
  },
  {
   "cell_type": "code",
   "execution_count": null,
   "id": "941d5978-2700-4ca0-800c-0b51aaacd40d",
   "metadata": {},
   "outputs": [],
   "source": [
    "{% include template_name(with relative path) %}"
   ]
  },
  {
   "cell_type": "markdown",
   "id": "9c342d6c-37cf-48a6-9ed3-b81bed16fbf0",
   "metadata": {},
   "source": [
    "Your exercise.html file should looks like the following block:"
   ]
  },
  {
   "cell_type": "code",
   "execution_count": null,
   "id": "821c4319-9942-4915-bb30-176b32340836",
   "metadata": {},
   "outputs": [],
   "source": [
    "{% extends \"base.html\" %}\n",
    "\n",
    "    <title>E-{{ ex_num }}</title>\n",
    "\n",
    "    {% block content %}\n",
    "\n",
    "        {% include \"Python_Fundamentals/includes/header.html\" %}\n",
    "\n",
    "        <h1>Exercise {{ ex_num }}</h1>\n",
    "        {% if text %}\n",
    "            <h2>{{ text }}</h2>\n",
    "        {% else %}\n",
    "            <h2>Not Implemented</h2>\n",
    "        {% endif %}\n",
    "    {% endblock content %}"
   ]
  },
  {
   "cell_type": "markdown",
   "id": "aab94460-14ae-41bb-b012-700452735ef2",
   "metadata": {},
   "source": [
    "Now, if you save everything and go an exercise page you will see the navigation bar."
   ]
  },
  {
   "cell_type": "markdown",
   "id": "89a73876-3f49-4cb9-badd-62691efbb1d5",
   "metadata": {},
   "source": [
    "Do the same thing for the index.html file."
   ]
  },
  {
   "cell_type": "markdown",
   "id": "d6d00018-68b7-4ba7-b244-d16067b390bf",
   "metadata": {},
   "source": [
    "Here is a picture of how the files and folders should be in your project."
   ]
  },
  {
   "cell_type": "markdown",
   "id": "d067dd86-efd1-450e-bde4-b62ae011267b",
   "metadata": {},
   "source": [
    "<img src='Images/3- tree1.png' width=\"200px;\"/>"
   ]
  },
  {
   "cell_type": "markdown",
   "id": "d1595223-9a30-40b3-a0c2-2263c67bde08",
   "metadata": {},
   "source": [
    "### Excersice:\n",
    "Fix the navigation url so when we click on the link! it gets us back to the root url.\n",
    "\n",
    "\n",
    "Solution:<br>\n",
    "1- Navigate to the urls.py in your app folder and give a name to the root url.<br>\n",
    "2- Navigate to the header.html file and create the link using the url tag.<br>\n",
    "\n",
    "Your urls.py file should look something like the following block:"
   ]
  },
  {
   "cell_type": "code",
   "execution_count": null,
   "id": "c0087a37-4867-4b19-94b6-21fda87c39a0",
   "metadata": {},
   "outputs": [],
   "source": [
    "from django.urls import path\n",
    "from . import views\n",
    "\n",
    "urlpatterns = [\n",
    "    path(\"\", views.index, name='python_fundamentals_root'),\n",
    "    path(\"<int:exercise>\", views.url_handler_int, name=\"py_fun_int\"),\n",
    "    path(\"<str:exercise>\", views.url_handler_str, name='py_fun')\n",
    "]"
   ]
  },
  {
   "cell_type": "markdown",
   "id": "b5d5fea3-ebf1-4d22-8e2c-ae6b33efba27",
   "metadata": {},
   "source": [
    "Your header.html file should look something like the following block:"
   ]
  },
  {
   "cell_type": "code",
   "execution_count": null,
   "id": "5c66f372-f23d-41c2-96c7-d03f739b1204",
   "metadata": {},
   "outputs": [],
   "source": [
    "<header>\n",
    "    <nav style='background-color:lightblue;'>\n",
    "        <a href='{% url \"python_fundamentals_root\" %}'>All Challenges</a>\n",
    "    </nav>\n",
    "</header>"
   ]
  },
  {
   "cell_type": "markdown",
   "id": "485c545e-977a-4077-8d64-546d3994f73c",
   "metadata": {},
   "source": [
    "Something you should know is that the include tag has access to all the variables and data inside the html files that you latter include it.<br>\n",
    "Another thing to know is that you can pass specific values for the included template using the with keyword.<br>\n",
    "The syntax for this would be as follows:"
   ]
  },
  {
   "cell_type": "code",
   "execution_count": null,
   "id": "90f25fbb-13ea-41e3-9c02-ac7ad5a8246a",
   "metadata": {},
   "outputs": [],
   "source": [
    "{% include \"Python_Fundamentals/includes/header.html\" with key=value %}"
   ]
  },
  {
   "cell_type": "markdown",
   "id": "e731d29e-0cbe-4f87-8b19-4b5e235b6724",
   "metadata": {},
   "source": [
    "Lets make an example:<br>\n",
    "We, want to to pass a variable to the header.html so we know which page is requesting this include at the moment.<br>\n",
    "<br>\n",
    "1- Navigate to the exercise.html file and modify the include tag so you send a variable called calling_page and give it the value of excerise.\n",
    "2- Do the same thing for the index.html file but this time pass Root as the value.\n",
    "3- Navigate to the header.html and after the header use the following code: {{ calling_page }}\n",
    "4- save everything and relog the page. You will see the changes."
   ]
  },
  {
   "cell_type": "markdown",
   "id": "39df3b48-9ce2-4c43-891d-09a4278f2278",
   "metadata": {},
   "source": [
    "Your header.html file should look something like the following block:"
   ]
  },
  {
   "cell_type": "code",
   "execution_count": null,
   "id": "b431e2e3-b0d5-4171-896f-9e826b24eeba",
   "metadata": {},
   "outputs": [],
   "source": [
    "<header>\n",
    "    <nav style='background-color:lightblue;'>\n",
    "        <a href='{% url \"python_fundamentals_root\" %}'>All Challenges</a>\n",
    "    </nav>\n",
    "</header>\n",
    "{{ calling_page }}"
   ]
  },
  {
   "cell_type": "markdown",
   "id": "3616c5d4-2dc2-4d1f-9a3a-edae34645bb6",
   "metadata": {},
   "source": [
    "Your index.html file should look something like the following block:"
   ]
  },
  {
   "cell_type": "code",
   "execution_count": null,
   "id": "79909474-42bd-4fc2-b47f-e8b13beca13b",
   "metadata": {},
   "outputs": [],
   "source": [
    "{% extends \"base.html\" %}\n",
    "\n",
    "    {% block page_title %}\n",
    "        All Exercises\n",
    "    {% endblock page_title %}\n",
    "\n",
    "    {% block content %}\n",
    "\n",
    "        {% include \"Python_Fundamentals/includes/header.html\"  with calling_page='Root' %}\n",
    "        <ul>\n",
    "        {% for key, value in exercises.items %}\n",
    "            {% if value%}\n",
    "                <li><a href='{% url 'py_fun_int' key %}'>{{ value|title }}</a></li>\n",
    "            {% else %}\n",
    "                <li><a href='{% url 'py_fun_int' key %}'>Not implemented</a></li>\n",
    "            {% endif %}\n",
    "        {% endfor %}\n",
    "        </ul>\n",
    "    {% endblock  %}"
   ]
  },
  {
   "cell_type": "markdown",
   "id": "2682616d-eeab-4627-882b-4406d62e4445",
   "metadata": {},
   "source": [
    "Your exercise.html file should look something like the following block:"
   ]
  },
  {
   "cell_type": "code",
   "execution_count": null,
   "id": "0396ea9a-992e-4f3f-889c-9630892992ad",
   "metadata": {},
   "outputs": [],
   "source": [
    "{% extends \"base.html\" %}\n",
    "\n",
    "    <title>E-{{ ex_num }}</title>\n",
    "\n",
    "    {% block content %}\n",
    "\n",
    "        {% include \"Python_Fundamentals/includes/header.html\" with calling_page='exercise' %}\n",
    "\n",
    "        <h1>Exercise {{ ex_num }}</h1>\n",
    "        {% if text %}\n",
    "            <h2>{{ text }}</h2>\n",
    "        {% else %}\n",
    "            <h2>Not Implemented</h2>\n",
    "        {% endif %}\n",
    "    {% endblock content %}"
   ]
  },
  {
   "cell_type": "markdown",
   "id": "860e31a2-482c-4859-a28a-ab40a06ace3d",
   "metadata": {},
   "source": [
    "Delete all the with segments that you added bacause we are not going to use them for now!"
   ]
  }
 ],
 "metadata": {
  "kernelspec": {
   "display_name": "Python 3 (ipykernel)",
   "language": "python",
   "name": "python3"
  },
  "language_info": {
   "codemirror_mode": {
    "name": "ipython",
    "version": 3
   },
   "file_extension": ".py",
   "mimetype": "text/x-python",
   "name": "python",
   "nbconvert_exporter": "python",
   "pygments_lexer": "ipython3",
   "version": "3.10.11"
  }
 },
 "nbformat": 4,
 "nbformat_minor": 5
}
