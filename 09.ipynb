{
 "cells": [
  {
   "cell_type": "markdown",
   "id": "e8d2a9f9-bd3f-44ac-a96a-6a5936b1ca0a",
   "metadata": {},
   "source": [
    "### Working With The Responses\n",
    "So far all the responses that we have are just plain text. So how are we suppose to send html responses?"
   ]
  },
  {
   "cell_type": "markdown",
   "id": "89f313d2-0898-4c8b-b243-a37b25ca25e3",
   "metadata": {},
   "source": [
    "### Solution: String Interpolation (F-String)\n",
    "\n",
    "Open your views file, and using f-string send the resposes that you want but this time inside an html tag like heading tag family.\n",
    "\n",
    "Your views file should looks like this in the end."
   ]
  },
  {
   "cell_type": "code",
   "execution_count": null,
   "id": "d0f3cac0-5977-4b12-b921-3dbb6336c37d",
   "metadata": {},
   "outputs": [],
   "source": [
    "from django.shortcuts import render\n",
    "from django.http import HttpResponse, HttpResponseNotFound, HttpResponseRedirect\n",
    "from django.urls import reverse\n",
    "\n",
    "_dict = {\n",
    "    1:'Variables!',\n",
    "    2:'If-Statements',\n",
    "    3:'Loops',\n",
    "    53:'This is the last notebook of this course.'\n",
    "}\n",
    "\n",
    "_redirections = {\n",
    "    'intro':'1',\n",
    "    'final':'53'\n",
    "}\n",
    "\n",
    "# Create your views here.\n",
    "def url_handler_str(request,  exercise):\n",
    "    if exercise in _redirections:\n",
    "        return HttpResponseRedirect(reverse('py_fun',args=[_redirections[exercise]]))\n",
    "    return HttpResponse(f\"The url is looking for '{exercise}' address and is a string.\")\n",
    "\n",
    "\n",
    "def url_handler_int(request,  exercise):\n",
    "    if exercise in _dict:\n",
    "        return HttpResponse(f\"<h1>{_dict[exercise]}</h1>\")\n",
    "    else:\n",
    "        return HttpResponseNotFound(\"<h1>This Page Does Not Exists<h1>\")"
   ]
  },
  {
   "cell_type": "markdown",
   "id": "7618c320-a664-4029-8f38-2486e5da36c4",
   "metadata": {},
   "source": [
    "Check the webpage source code to have a better understanding."
   ]
  }
 ],
 "metadata": {
  "kernelspec": {
   "display_name": "Python 3 (ipykernel)",
   "language": "python",
   "name": "python3"
  },
  "language_info": {
   "codemirror_mode": {
    "name": "ipython",
    "version": 3
   },
   "file_extension": ".py",
   "mimetype": "text/x-python",
   "name": "python",
   "nbconvert_exporter": "python",
   "pygments_lexer": "ipython3",
   "version": "3.10.11"
  }
 },
 "nbformat": 4,
 "nbformat_minor": 5
}
