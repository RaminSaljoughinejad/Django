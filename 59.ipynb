{
 "cells": [
  {
   "cell_type": "markdown",
   "id": "76e3954b-1478-4d8c-8826-bdb1611366bf",
   "metadata": {
    "vscode": {
     "languageId": "python"
    }
   },
   "source": [
    "### Saveing the data in a model:\n",
    "\n",
    "1. Create a model and give it a name.\n",
    "2. Create the needed fields, and set their arguments to what you want.\n",
    "3. Modify the admin.py file so you can manage the model in your administrative section.\n",
    "\n",
    "Your models.py file should look like the following block:"
   ]
  },
  {
   "cell_type": "code",
   "execution_count": null,
   "id": "6da7148a",
   "metadata": {},
   "outputs": [],
   "source": [
    "from django.db import models\n",
    "from django.core.validators import MinValueValidator, MaxValueValidator\n",
    "\n",
    "class Review(models.Model):\n",
    "    user_name = models.CharField(max_length=100)\n",
    "    review_text = models.TextField()\n",
    "    rating = models.IntegerField(validators=[MinValueValidator(0), MaxValueValidator(10)])\n",
    "\n",
    "    def __str__(self):\n",
    "        return f'Review by {self.user_name} - Rating: {self.rating}'\n",
    "    \n",
    "    class Meta:\n",
    "        verbose_name_plural = 'All Reviews'"
   ]
  },
  {
   "cell_type": "markdown",
   "id": "ac8aa574",
   "metadata": {},
   "source": [
    "Your admin.py file should look like the following block:"
   ]
  },
  {
   "cell_type": "markdown",
   "id": "48f28c8c",
   "metadata": {},
   "source": [
    "from django.contrib import admin\n",
    "from .models import Review\n",
    "# Register your models here.\n",
    "\n",
    "\n",
    "class ReviewAdmin(admin.ModelAdmin):\n",
    "    list_display = ('user_name', 'rating')\n",
    "    list_filter = ['rating']\n",
    "\n",
    "admin.site.register(Review, ReviewAdmin)"
   ]
  },
  {
   "cell_type": "markdown",
   "id": "fd4c258d",
   "metadata": {},
   "source": [
    "Save everything, makemigrations, and migrate."
   ]
  },
  {
   "cell_type": "markdown",
   "id": "830443a2",
   "metadata": {},
   "source": [
    "Now, you can go to the views.py and use the data which is provided by the user and save them in the database.<br>\n",
    "\n",
    "Please note that you need to do it after validationg the form<br>\n",
    "\n",
    "Your views.py file should look like the following block:"
   ]
  },
  {
   "cell_type": "code",
   "execution_count": null,
   "id": "4ca73320",
   "metadata": {},
   "outputs": [],
   "source": [
    "from django.shortcuts import render\n",
    "from django.http import HttpResponseRedirect\n",
    "from .forms import ReviewForm\n",
    "from .models import Review\n",
    "\n",
    "def index(request):\n",
    "    if request.method =='POST':\n",
    "        form = ReviewForm(request.POST)\n",
    "        if form.is_valid():\n",
    "            review = Review(user_name=form.cleaned_data['user_name'],\n",
    "                            review_text=form.cleaned_data['review_text'],\n",
    "                            rating=form.cleaned_data['rating'])\n",
    "            review.save()\n",
    "            return HttpResponseRedirect('/results')\n",
    "    else:\n",
    "        form = ReviewForm()\n",
    "    return render(request, 'reviews/index.html',{\n",
    "        'form':form\n",
    "    })\n",
    "\n",
    "\n",
    "def res(request):\n",
    "    return render(request, 'reviews/res.html')"
   ]
  },
  {
   "cell_type": "markdown",
   "id": "24746048",
   "metadata": {},
   "source": [
    "Now save everything, reload the page, and submit the form. Then check the admin page to see if evrything works correctly.<br>"
   ]
  },
  {
   "cell_type": "markdown",
   "id": "17d8d495",
   "metadata": {},
   "source": [
    "There is one thing I want to talk about here!\n",
    "\n",
    "You may have concluded that in our future projects, we are going to create forms and models as pairs for atleast 90% of cases! This is so common that django has built a feature where it generated forms based on models! You can use this feature in you advantage to write less code.<br>\n",
    "\n",
    "How does it work?<br>\n",
    "Let me explain it step by step:<br>\n",
    "1. Navigate to your forms.py file\n",
    "2. Delete or comment your ReviewForm class\n",
    "3. Create a new ReviewForm class and extend it from forms.Model.Form\n",
    "4. Now, you need to connect it to a model.\n",
    "    - Create a Meta class inside your ReviewForm class\n",
    "    - Create an attribute inside it called model and set it to the Review model (You need to mport your model)\n",
    "    - You might have a field that should not be included inside the form, hence you need specify all the fields that you wish to be included in the form,\n",
    "        - Create an attribute called fields and set it to a list of all the fields name that you want to be included (name of the fields should be entered as strings).\n",
    "        - If you want to add all the fields, you dont need to name them all, instead you can use a special identifier named '__all__' which is a string for the fields attribute.\n",
    "        - If you want to include all the fields, except for one or two, you could use exclude insted of fields and set to to list of all fields that you want to exclude.\n",
    "\n",
    "Your forms.py file should look like the following block:"
   ]
  },
  {
   "cell_type": "code",
   "execution_count": null,
   "id": "ce304a71",
   "metadata": {},
   "outputs": [],
   "source": [
    "from django import forms\n",
    "from .models import Review\n",
    "\n",
    "class ReviewForm(forms.ModelForm):\n",
    "    class Meta:\n",
    "        model = Review\n",
    "        # fields = '__all__'\n",
    "        fields = ['user_name', 'review_text', 'rating']\n",
    "        # exclude = ['field1', 'field2', ...]"
   ]
  },
  {
   "cell_type": "markdown",
   "id": "f8308feb",
   "metadata": {},
   "source": [
    "Save everything and reload the page to see the changes.<br>"
   ]
  },
  {
   "cell_type": "markdown",
   "id": "fc8c00cc",
   "metadata": {},
   "source": [
    "You might have noticed that you have lost your labels! it is due to the fact that django is now creating your fields and not you.<br>\n",
    "\n",
    "Don't worry, in the next notebook you will learn how to configure an auto generated form."
   ]
  }
 ],
 "metadata": {
  "kernelspec": {
   "display_name": "Python 3",
   "language": "python",
   "name": "python3"
  },
  "language_info": {
   "codemirror_mode": {
    "name": "ipython",
    "version": 3
   },
   "file_extension": ".py",
   "mimetype": "text/x-python",
   "name": "python",
   "nbconvert_exporter": "python",
   "pygments_lexer": "ipython3",
   "version": "3.10.11"
  }
 },
 "nbformat": 4,
 "nbformat_minor": 5
}
