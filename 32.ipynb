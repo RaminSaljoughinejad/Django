{
 "cells": [
  {
   "cell_type": "markdown",
   "id": "979b2bc8-b0b4-44e6-b168-e273a7225b0a",
   "metadata": {},
   "source": [
    "### Inserting Data to The Database:\n",
    "\n",
    "Instead of building a website and then running the codes. Lets learn the core concept of data insertion in the terminal. Ofc, later in the project we will do it inside the website.<br>\n",
    "\n",
    "\n",
    "1- Open terminal and navigate to your projects root directory where manage.pt file is located.<br>\n",
    "2- Run the following command, which will run an enhanced Interactive Python which you can use to work with django project and database.<br>"
   ]
  },
  {
   "cell_type": "code",
   "execution_count": null,
   "id": "82a2c0a8-1f00-4232-be84-9ba1a8e4fd66",
   "metadata": {},
   "outputs": [],
   "source": [
    "python manage.py shell"
   ]
  },
  {
   "cell_type": "markdown",
   "id": "cf2ef1b0-e0d5-4af7-b082-e9740fe2be3b",
   "metadata": {},
   "source": [
    "3- import the Movie model from video_outlet.models using the following command:"
   ]
  },
  {
   "cell_type": "code",
   "execution_count": null,
   "id": "dac71158-f87c-4a86-98ca-0f8abf51a6d0",
   "metadata": {},
   "outputs": [],
   "source": [
    "from video_outlet.models import Movie"
   ]
  },
  {
   "cell_type": "markdown",
   "id": "5b97d0ac-e7eb-418a-8cef-99b62cf9621f",
   "metadata": {},
   "source": [
    "The above command imports the Movie data model and lets you interact with it.\n",
    "\n",
    "4- Now lets create a movie called \"harry_potter\" and give it a title and rating<br>"
   ]
  },
  {
   "cell_type": "code",
   "execution_count": null,
   "id": "f42ccec8-4b3e-4993-bd87-741b87d17b12",
   "metadata": {},
   "outputs": [],
   "source": [
    "harry_potter = Movie(title=\"Harry Potter 1 - The philosopher's ston\", rating=7)"
   ]
  },
  {
   "cell_type": "markdown",
   "id": "bc41d42e-84cd-43a4-9b79-98ce110d7658",
   "metadata": {},
   "source": [
    "Running the abive command does not make any changes to the databse, and only creates us an object which will be later considered as a row.<br>\n",
    "\n",
    "To apply it and add it to the database table, you need t run the save method on the object we just created.<br>"
   ]
  },
  {
   "cell_type": "code",
   "execution_count": null,
   "id": "27b571e4-5aec-4169-a5eb-dd6cb02166e4",
   "metadata": {},
   "outputs": [],
   "source": [
    "harry_potter.save()"
   ]
  },
  {
   "cell_type": "markdown",
   "id": "9f25cab6-d0e6-43f4-a779-c7913d16c4fb",
   "metadata": {},
   "source": [
    "Add a few more movies to the table."
   ]
  },
  {
   "cell_type": "code",
   "execution_count": null,
   "id": "58fefccd-c5f2-4724-859a-ad2ef1301513",
   "metadata": {},
   "outputs": [],
   "source": [
    "harry_potter = Movie(title=\"Harry Potter 2 - Chamber of Secrets\", rating=8)\n",
    "harry_potter.save()\n",
    "harry_potter = Movie(title=\"Harry Potter 3 - The Prisoner of Azkaban\", rating=8)\n",
    "harry_potter.save()\n",
    "harry_potter = Movie(title=\"Harry Potter 4 - The Goblet of Fire\", rating=9)\n",
    "harry_potter.save()\n",
    "harry_potter = Movie(title=\"Harry Potter 5 - The Order of the Phoenix\", rating=9)\n",
    "harry_potter.save()\n",
    "harry_potter = Movie(title=\"Harry Potter 6 - The Half Blood Prince\", rating=9)\n",
    "harry_potter.save()\n",
    "harry_potter = Movie(title=\"Harry Potter 7 - The Deathly Hallows\", rating=10)\n",
    "harry_potter.save()"
   ]
  },
  {
   "cell_type": "markdown",
   "id": "0dc5be4d-8961-41e4-a0b6-b8cba03ed8a0",
   "metadata": {},
   "source": [
    "### How can we see the changes that we make to the database?<br>\n",
    "\n",
    "To see the changes we made to the database we can write a query<br>\n",
    "\n",
    "To do that you need the class name (Movie), and run the objects command it (the object command) then could be used to run other commands on.<br>\n",
    "For instance the all command, which will retrive all the rows from the table."
   ]
  },
  {
   "cell_type": "code",
   "execution_count": null,
   "id": "af131e7a-347e-48ac-9a7c-8069ce175d1e",
   "metadata": {},
   "outputs": [],
   "source": [
    "Movie.objects.all()"
   ]
  },
  {
   "cell_type": "raw",
   "id": "f49d1d1d-45a7-4de3-beef-79f508d8c71d",
   "metadata": {},
   "source": [
    "Out: <QuerySet [<Movie: Movie object (1)>, <Movie: Movie object (2)>, <Movie: Movie object (3)>, <Movie: Movie object (4)>, <Movie: Movie object (5)>, <Movie: Movie object (6)>, <Movie: Movie object (7)>]>"
   ]
  },
  {
   "cell_type": "markdown",
   "id": "02f9cdf3-25f3-4816-8931-d1f012ea9d8c",
   "metadata": {},
   "source": [
    "Hmm, what we see here is just a number of objects! We can't see whats inside them like this!<br>\n",
    "\n",
    "Let me explain why we couldn't see what was inside the objects.<br>\n",
    "As i mentioned earlier, data models are just some objects. Remmeber object oriented programming lessions from our python course?<br>\n",
    "If you dont remember them, please go back and check those sessions videos.<br>\n",
    "\n",
    "Lets say that we have created a class in python! and then created an instance from it.<br>\n",
    "What would happend if i print that object?<br>\n",
    "Exactly!.. python will tell me that this is an object of a class and is stored in a place in the memory!<br>\n",
    "It does not print the attributes inside that object!<br>\n",
    "\n",
    "Remember how we could fix this?<br>\n",
    "\n",
    "The \\__str__ method!<br>\n",
    "\n",
    "If you want to be able to see what is inside a row of your table! you need to define the \\__str__ magical method and return what it holds.<br>\n",
    "\n",
    "### Lets do this:\n",
    "\n",
    "1- Navigate to models.py file and inside your Movie class define the \\__str__ method.<br>"
   ]
  },
  {
   "cell_type": "code",
   "execution_count": null,
   "id": "41982fd0-1c86-4b5e-92d4-1d02d20e4ad4",
   "metadata": {},
   "outputs": [],
   "source": [
    "def __str__(self):\n",
    "    return f\"title:{self.title}, rating:{self.rating}\""
   ]
  },
  {
   "cell_type": "markdown",
   "id": "daa3063e-6d61-4fe8-9eb6-f580e9c869dd",
   "metadata": {},
   "source": [
    "2- Now, to see if it works, first you need to quit the shell and restart it. Then you need to run the objects.all command on the Movie model.<br>"
   ]
  },
  {
   "cell_type": "code",
   "execution_count": null,
   "id": "c4e81d61-ed70-49e2-9f45-4b8034716748",
   "metadata": {},
   "outputs": [],
   "source": [
    "Movie.objects.all()"
   ]
  },
  {
   "cell_type": "raw",
   "id": "04a4e292-5c9a-406b-ba68-4f7e2d364209",
   "metadata": {},
   "source": [
    "<QuerySet [<Movie: title:Harry Potter 1 - The philosopher's ston, rating:7>, <Movie: title:Harry Potter 2 - Chamber of Secrets, rating:8>, <Movie: title:Harry Potter 3 - The Prisoner of Azkaban, rating:8>, <Movie: title:Harry Potter 4 - The Goblet of Fire, rating:9>, <Movie: title:Harry Potter 5 - The Order of the Phoenix, rating:9>, <Movie: title:Harry Potter 6 - The Half Blood Prince, rating:9>, <Movie: title:Harry Potter 7 - The Deathly Hallows, rating:10>]>"
   ]
  },
  {
   "cell_type": "markdown",
   "id": "a3f1dda6-a2e1-4655-a465-0d9e9f62cca3",
   "metadata": {},
   "source": [
    "If you are getting an error telling you that Movie is not define, it means that you forgot to import it..."
   ]
  },
  {
   "cell_type": "code",
   "execution_count": null,
   "id": "2df73c0c-48f9-40d1-8416-f7c9f40af980",
   "metadata": {},
   "outputs": [],
   "source": [
    "from video_outlet.models import Movie"
   ]
  },
  {
   "cell_type": "markdown",
   "id": "d5ef59a8-2b40-4109-9b98-52ff156629b0",
   "metadata": {},
   "source": [
    "Please make sure that you understand why we didnt run the makemigration or migration command after adding the str magical method<br>\n",
    "The reason is because we did't make any changes to the stracture of the table.<br>\n",
    "\n",
    "Please also understant that we could make changes to the stracture of the table!<br>\n",
    "Infact, lets do this, lets change something in the stracture of the table (data model)<br>\n",
    "But, what change?<br>\n",
    "Lets make a constraint for the rating field!<br>\n",
    "I want to make the integerFiled to do not accept values less than 1 and over 10!<br>\n",
    "To do that, we need to add a validatior to our field! (check the validator reference from the datafield page for more information).<br>\n",
    "The validators that we need to use are the min and max validators.<br>\n",
    "\n",
    "To use them...<br>\n",
    "1- Navigate to your models.py file and import MinValueValidator and MaxValueValidator from django.core.validators\n",
    "2- Now use these validators as method-arguments inside the IntegerField method.\n",
    "\n",
    "Your models.py file should look like the followng block:"
   ]
  },
  {
   "cell_type": "code",
   "execution_count": null,
   "id": "f572beca-dc4a-4cb6-9299-ab16457f7914",
   "metadata": {},
   "outputs": [],
   "source": [
    "from django.db import models\n",
    "from django.core.validators import MinValueValidator, MaxValueValidator\n",
    "# Create your models here.\n",
    "\n",
    "\n",
    "class Movie(models.Model):\n",
    "    title = models.CharField(max_length=50)\n",
    "    rating = models.IntegerField( validators=[MinValueValidator(1), MaxValueValidator(10)] )\n",
    "    main_act = models.CharField(max_length=100)\n",
    "    is_bestselling = models.BooleanField()\n",
    "    \n",
    "    def __str__(self):\n",
    "        return f\"title:{self.title}, rating:{self.rating}\""
   ]
  },
  {
   "cell_type": "markdown",
   "id": "15766109-3e13-4ab2-a66c-bb6808c5871a",
   "metadata": {},
   "source": [
    "Lets make another structural change...<br>\n",
    "Lets add two new column.<br>\n",
    "1- Add a new column called main_act with charField data type and maxlength of 100<br>\n",
    "2- Add a new column called is_bestselling with BooleanField data<br>"
   ]
  },
  {
   "cell_type": "code",
   "execution_count": null,
   "id": "07f9e215-4718-42ac-933a-03ea54c157ce",
   "metadata": {},
   "outputs": [],
   "source": [
    "main_act = models.CharField(max_length=100)\n",
    "is_bestselling = models.BooleanField()"
   ]
  },
  {
   "cell_type": "markdown",
   "id": "111d39bb-ce85-4e1a-b359-ed8d355adb99",
   "metadata": {},
   "source": [
    "If you save the models.py file! it only changes the file and not the database.<br>\n",
    "\n",
    "To update the database we need django to reach the dabase and update the table.<br>\n",
    "\n",
    "To do that run the following command in your project direcotry where your manage.py file is located.<br>"
   ]
  },
  {
   "cell_type": "code",
   "execution_count": null,
   "id": "58dd3c9e-34a2-432c-bb20-638813c06a2c",
   "metadata": {},
   "outputs": [],
   "source": [
    "python manage.py makemigrations"
   ]
  },
  {
   "cell_type": "markdown",
   "id": "680bfc58-8967-4297-a10b-84c08f6e8e4a",
   "metadata": {},
   "source": [
    "You will get a prompt.<br>\n",
    "This prompt is telling you that since your table has already have some rows in it, adding a new column (main_act) which is non-nullable with no default value is not gonna work...<br>\n",
    "The prompt also provides you with two options!<br>\n",
    "The first option will let you provide a default value for this column! and the second one stops the migrations and let you go to models.py to add a default value for the new column so that you can get back later and write the makemigrations command.<br>\n",
    "\n",
    "Select option 2 and get back to models.py<br>\n",
    "Now u can either use default argument=value or null=True. (null is the same as None (not empty but nothing)).<br>\n",
    "You could also you blank = True which means that this cell could be empty for some rows.<br>\n",
    "add them to your data model.<br>\n",
    "\n",
    "Your models.py file should look like the following block:"
   ]
  },
  {
   "cell_type": "code",
   "execution_count": null,
   "id": "5183b98d-5268-4aed-9662-0ee6eaa12e0a",
   "metadata": {},
   "outputs": [],
   "source": [
    "from django.db import models\n",
    "from django.core.validators import MinValueValidator, MaxValueValidator\n",
    "# Create your models here.\n",
    "\n",
    "\n",
    "class Movie(models.Model):\n",
    "    title = models.CharField(max_length=50)\n",
    "    rating = models.IntegerField(validators=[MinValueValidator(1), MaxValueValidator(10)])\n",
    "    main_act= models.CharField(null=True, max_length=100)\n",
    "    is_bestselling = models.BooleanField(default=False)\n",
    "\n",
    "    def __str__(self):\n",
    "        return f\"title:{self.title}, rating:{self.rating}\""
   ]
  },
  {
   "cell_type": "markdown",
   "id": "84fd5991-f19f-423a-9887-36ef1bb0d1a1",
   "metadata": {},
   "source": [
    "Now you can run the makemigrations command.<br>"
   ]
  },
  {
   "cell_type": "code",
   "execution_count": null,
   "id": "cbf63084-6791-44f4-ae5b-7301807f28df",
   "metadata": {},
   "outputs": [],
   "source": [
    "python manage.py makemigrations"
   ]
  },
  {
   "cell_type": "markdown",
   "id": "725f07e5-ddc8-4922-ac20-23422e7d537c",
   "metadata": {},
   "source": [
    "Now, if you go to migrations folder inside your app, you we see that a new file is created! inside it you will the the steps that django has to take in order to make the changes to the table.<br>\n",
    "We don care about the changes, but there is something here that I want to mention.<br>\n",
    "If you check the fill you will see that the dependencies list has now have mentioned 0001_initial as the dependent migration, meaning that in order to run this migration django has to run the 0001_initial migration successfully<br>\n",
    "Django can also use these dependencies to roll back any changes.<br>"
   ]
  },
  {
   "cell_type": "markdown",
   "id": "b2138e51-08e0-4f36-9c36-e17f7aa86938",
   "metadata": {},
   "source": [
    "Now you can run the migrate command to tell django to make the changes on the dabase.<br>"
   ]
  },
  {
   "cell_type": "code",
   "execution_count": null,
   "id": "b609c0f6-0f2f-40e3-8761-e31a7169c778",
   "metadata": {},
   "outputs": [],
   "source": [
    "python manage.py migrate"
   ]
  },
  {
   "cell_type": "markdown",
   "id": "e4a88eee-0eca-456c-b4ab-b949552cffdb",
   "metadata": {},
   "source": [
    "Get back to the shell and run the object.all command (Don't forget to import Movie)"
   ]
  },
  {
   "cell_type": "raw",
   "id": "2032faf7-2ef4-476f-996e-95736ebe74bf",
   "metadata": {},
   "source": [
    "<QuerySet [<Movie: title:Harry Potter 1 - The philosopher's ston, rating:7>, <Movie: title:Harry Potter 2 - Chamber of Secrets, rating:8>, <Movie: title:Harry Potter 3 - The Prisoner of Azkaban, rating:8>, <Movie: title:Harry Potter 4 - The Goblet of Fire, rating:9>, <Movie: title:Harry Potter 5 - The Order of the Phoenix, rating:9>, <Movie: title:Harry Potter 6 - The Half Blood Prince, rating:9>, <Movie: title:Harry Potter 7 - The Deathly Hallows, rating:10>]>"
   ]
  },
  {
   "cell_type": "markdown",
   "id": "37c949a8-433d-4155-b7f4-b6964604a68a",
   "metadata": {},
   "source": [
    "No changes! right! Can you tell me why?<br>\n",
    "You forgot to update the \\__str__ method!"
   ]
  },
  {
   "cell_type": "code",
   "execution_count": null,
   "id": "61b9b9e6-5043-45d9-86ac-04ff1e90bd29",
   "metadata": {},
   "outputs": [],
   "source": [
    "def __str__(self):\n",
    "    return f\"title:{self.title}, rating:{self.rating}, Main Actor/actress:{self.main_act}{', Best Seller' if self.is_bestselling else ''}\""
   ]
  },
  {
   "cell_type": "markdown",
   "id": "6feadf1d-d34b-4cd2-8c76-aa9aeaa2ee3c",
   "metadata": {},
   "source": [
    "Get back to the shell and run the object.all command (Don't forget to import Movie)"
   ]
  },
  {
   "cell_type": "raw",
   "id": "1edea31c-b7f3-4253-b3de-cb567f0bae17",
   "metadata": {},
   "source": [
    "<QuerySet [<Movie: title:Harry Potter 1 - The philosopher's ston, rating:7, Main Actor/actress:None>, <Movie: title:Harry Potter 2 - Chamber of Secrets, rating:8, Main Actor/actress:None>, <Movie: title:Harry Potter 3 - The Prisoner of Azkaban, rating:8, Main Actor/actress:None>, <Movie: title:Harry Potter 4 - The Goblet of Fire, rating:9, Main Actor/actress:None>, <Movie: title:Harry Potter 5 - The Order of the Phoenix, rating:9, Main Actor/actress:None>, <Movie: title:Harry Potter 6 - The Half Blood Prince, rating:9, Main Actor/actress:None>, <Movie: title:Harry Potter 7 - The Deathly Hallows, rating:10, Main Actor/actress:None>]>"
   ]
  },
  {
   "cell_type": "markdown",
   "id": "ba62e1f9-08ed-4672-bee2-28951b79a121",
   "metadata": {},
   "source": [
    "Just a Note: As yuo can see the object.all() will return a list! and you can select them with their index.<br>\n",
    "Try the following comman..."
   ]
  },
  {
   "cell_type": "code",
   "execution_count": null,
   "id": "f7c5260c-aeca-4371-b319-997db7efbf44",
   "metadata": {},
   "outputs": [],
   "source": [
    "Movie.objects.all()[1].rating"
   ]
  },
  {
   "cell_type": "code",
   "execution_count": null,
   "id": "bd946ff4-509f-44d6-9ef7-bf5d8e754e9c",
   "metadata": {},
   "outputs": [],
   "source": [
    "8"
   ]
  },
  {
   "cell_type": "markdown",
   "id": "3e3f84d6-b7fb-45be-a8b5-dec733530d39",
   "metadata": {},
   "source": [
    "#### In the next notebook you will elarn how to update row(s) in the database."
   ]
  }
 ],
 "metadata": {
  "kernelspec": {
   "display_name": "Python 3 (ipykernel)",
   "language": "python",
   "name": "python3"
  },
  "language_info": {
   "codemirror_mode": {
    "name": "ipython",
    "version": 3
   },
   "file_extension": ".py",
   "mimetype": "text/x-python",
   "name": "python",
   "nbconvert_exporter": "python",
   "pygments_lexer": "ipython3",
   "version": "3.10.11"
  }
 },
 "nbformat": 4,
 "nbformat_minor": 5
}
