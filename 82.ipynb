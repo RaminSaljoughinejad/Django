{
 "cells": [
  {
   "cell_type": "markdown",
   "id": "5b9787aa",
   "metadata": {},
   "source": [
    "1. Lets add more templates to our project:\n",
    "\n",
    "- Add the following templates inside your blog app (also add their css files to the static folder):\n",
    "    - archive.html\n",
    "    - authors.html\n",
    "    - about.html\n",
    "- Add a 404 template to your root template\n",
    "- Define the needed urls for these newly created templates\n",
    "- Define a set of class-based views for the template (we will work on them later)"
   ]
  },
  {
   "cell_type": "markdown",
   "id": "67417a02",
   "metadata": {},
   "source": [
    "Your blog's app urls.py file should look like the following block:"
   ]
  },
  {
   "cell_type": "code",
   "execution_count": null,
   "id": "a03ac42a",
   "metadata": {},
   "outputs": [],
   "source": [
    "from django.urls import path\n",
    "from . import views\n",
    "\n",
    "urlpatterns = [\n",
    "    path('', views.IndexView.as_view(), name='blog-root-url'),\n",
    "    path('archive', views.ArchiveView.as_view(), name='blog-archive-url'),\n",
    "    path('authors', views.AuthorsView.as_view(), name='blog-authors-url'),\n",
    "    path('about', views.AboutView.as_view(), name='blog-about-url')\n",
    "]"
   ]
  },
  {
   "cell_type": "markdown",
   "id": "35dde75e",
   "metadata": {},
   "source": [
    "Your blog's app views.py file should look like the following block:"
   ]
  },
  {
   "cell_type": "code",
   "execution_count": null,
   "id": "2d3f93bf",
   "metadata": {},
   "outputs": [],
   "source": [
    "from django.shortcuts import render\n",
    "from django.views import View\n",
    "from django.views.generic import TemplateView, ListView\n",
    "\n",
    "class IndexView(TemplateView):\n",
    "    template_name = 'blog/index.html'\n",
    "\n",
    "class ArchiveView(ListView):\n",
    "    pass\n",
    "\n",
    "class AuthorsView(ListView):\n",
    "    pass\n",
    "\n",
    "class AboutView(TemplateView):\n",
    "    template_name = 'blog/about.html'"
   ]
  },
  {
   "cell_type": "markdown",
   "id": "da8f937e",
   "metadata": {},
   "source": [
    "2. Navigate to navbar.html template and fix all the links that are in the navbar using url tag from DTL.<br>"
   ]
  },
  {
   "cell_type": "code",
   "execution_count": null,
   "id": "0092b38c",
   "metadata": {
    "vscode": {
     "languageId": "html"
    }
   },
   "outputs": [],
   "source": [
    "<nav class=\"navbar navbar-expand-md bg-dark navbar-dark\">\n",
    "    <!-- Brand -->\n",
    "    <a class=\"navbar-brand\" href=\"{% url \"blog-about-url\" %}\">OTH</a>\n",
    "\n",
    "    <!-- Toggler/collapsibe Button -->\n",
    "    <button class=\"navbar-toggler\" type=\"button\" data-toggle=\"collapse\" data-target=\"#collapsibleNavbar\">\n",
    "        <span class=\"navbar-toggler-icon\"></span>\n",
    "    </button>\n",
    "\n",
    "    <!-- Navbar links -->\n",
    "    <div class=\"collapse navbar-collapse\" id=\"collapsibleNavbar\">\n",
    "        <!-- Left Side Items -->\n",
    "        <ul class=\"navbar-nav\">\n",
    "            <li class=\"nav-item\">\n",
    "                <a class=\"nav-link\" href=\"#\"><i class=\"bi bi-box-arrow-in-left\"></i>Login</a>\n",
    "            </li>\n",
    "            <li class=\"nav-item\">\n",
    "                <a class=\"nav-link\" href=\"#\"><i class=\"bi bi-plus\"></i>Register</a>\n",
    "            </li>\n",
    "        </ul>\n",
    "        <!-- Right Side Items -->\n",
    "        <ul class=\"navbar-nav ml-auto\">\n",
    "            <li class=\"nav-item\">\n",
    "                <a class=\"nav-link\" href=\"{% url \"blog-authors-url\" %}\">Authors</a>\n",
    "            </li>\n",
    "            <li class=\"nav-item\">\n",
    "                <a class=\"nav-link\" href=\"{% url \"blog-archive-url\" %}\">Archive</a>\n",
    "            </li>\n",
    "            <li class=\"nav-item\">\n",
    "                <a class=\"nav-link\" href=\"{% url \"blog-root-url\" %}\">Home</a>\n",
    "            </li>\n",
    "        </ul>\n",
    "    </div>\n",
    "</nav>"
   ]
  },
  {
   "cell_type": "markdown",
   "id": "47a6ec07",
   "metadata": {},
   "source": [
    "3. Lets work on index.html template:<br>\n",
    "\n",
    "    - Add a div element with the 'container' class inside the 'content' block\n",
    "        - This container is going to hold two images, that we use as external links."
   ]
  },
  {
   "cell_type": "code",
   "execution_count": null,
   "id": "3e3f5f1a",
   "metadata": {
    "vscode": {
     "languageId": "html"
    }
   },
   "outputs": [],
   "source": [
    "<div class=\"container mt-3\">\n",
    "    <div class=\"row height-50\">\n",
    "        <a class=\"col-lg bg-danger text-decoration-none text-white-50 d-flex logo-text-wrapper border border-dark rounded-start\" role='button'>\n",
    "            <img class='d-inline ml-3 youtube' src='{% static \"blog/assets/youtube-logo.svg\" %}' alt='Youtube Logo'>\n",
    "            <h4 class='d-inline col text-right'>Follow us on Youtube</h4>\n",
    "        </a>\n",
    "        <a class=\"col bg-secondary text-decoration-none text-black-50 d-flex logo-text-wrapper border border-dark rounded-end\" role='button'>\n",
    "            <img class='d-inline ml-3 x-social'  src='{% static \"blog/assets/x-social-logo.svg\" %}' alt='X Logo'>\n",
    "            <h4 class='d-inline col text-right'>Follow us on X (Twitter)</h4>\n",
    "        </a>\n",
    "    </div>\n",
    "</div>"
   ]
  },
  {
   "cell_type": "markdown",
   "id": "c3e2bea8",
   "metadata": {
    "vscode": {
     "languageId": "css"
    }
   },
   "source": [
    ".height-50 h4{\n",
    "    height:100px;\n",
    "}\n",
    ".logo-text-wrapper h4{\n",
    "    padding-top:35px;\n",
    "}\n",
    ".logo-text-wrapper .youtube{\n",
    "    width:80px;\n",
    "}\n",
    ".logo-text-wrapper .x-social{\n",
    "    width:50px;\n",
    "}\n",
    ".rounded-end{\n",
    "    border-top-right-radius: 6px;\n",
    "    border-bottom-right-radius: 6px;\n",
    "}\n",
    ".rounded-start{\n",
    "    border-top-left-radius: 6px;\n",
    "    border-bottom-left-radius: 6px;\n",
    "}"
   ]
  },
  {
   "cell_type": "markdown",
   "id": "db2d138f",
   "metadata": {
    "vscode": {
     "languageId": "html"
    }
   },
   "source": [
    "- Add antoher div element with the 'container' class again\n",
    "    - Inside it add two divs with 'row' class\n",
    "        - Each row has 2 divs inside it, and they all have col class\n",
    "        - Also one of the divs in a row has col-md-9 and the other has col-md-3"
   ]
  },
  {
   "cell_type": "markdown",
   "id": "36c20079",
   "metadata": {},
   "source": [
    "<div class=\"container mt-3 bg-dark p-4\">\n",
    "    <div class=\"row\">\n",
    "        <div class=\"col-md-9 bg-primary\">1</div>\n",
    "        <div class=\"col-md-3 bg-success\">2</div>\n",
    "    </div>\n",
    "    <div class=\"row mt-2\">\n",
    "        <div class=\"col-md-3 bg-danger\">2</div>\n",
    "        <div class=\"col-md-9 bg-warning\">1</div>\n",
    "    </div>\n",
    "</div>"
   ]
  },
  {
   "cell_type": "markdown",
   "id": "7557d60d",
   "metadata": {
    "vscode": {
     "languageId": "css"
    }
   },
   "source": [
    "### User-Authentication:\n",
    "\n",
    "Do you remember the administrative area that had a login page?<br>\n",
    "Django aready has a user-managemnt system that we can use. If we use this system then we do not need to be worried about anything, and django itself will take care of everything.<br><br>\n",
    "You have the option of creating your own user-management system or install 3rd-party systems avalible for user management.<br>\n",
    "    "
   ]
  },
  {
   "cell_type": "markdown",
   "id": "c3ba5c19",
   "metadata": {},
   "source": [
    "- Lets start with the django-user-management system:\n",
    "    1. Create a new app called accounts [python manage.py startapp accounts]<br>\n",
    "    2. Add the new app in INSTALLED_APP list<br>\n",
    "    3. Navigate to main urls.py<br>\n",
    "        - Add a new path 'accounts/' to urlpatterns<br>\n",
    "        - This path is NOT going to point at your new app<br>\n",
    "        - Instead, this app is going to include 'django.contrib.auth.urls'<br>\n",
    "            - This is a builtin app created by django! you could see this address in INSTALLED_APP list<br>\n",
    "            - If you press CTRL and then click on this address you will get to the auth urls.py file<br>\n",
    "                - If you check this urls.py file you will see that a number of urls are predefined for you, also there are a number of views that are predefined.<br>\n",
    "                - If you CTRL+click on a view, for example LoginView, you will get to the views.py file of the auth app, there you can see the code inside the LoginView, There is a template_name, can you see it?<br>\n",
    "                - This template is not defined! and the name is just there to tell you where you are supposed to create it if you want a Login page. ['registration/login.html']<br>\n",
    "        - Inside the accounts app, create a template folder and inside it create a subfolder called registration.\n",
    "        - Inside the registration subfolder create a new template called 'login.html'\n",
    "            - Create a form with POST method, and then use {{ form }} to generate the form, also add a button with type='submit'\n",
    "            - Please note that you could put the registration inside your main template folder\n",
    "\n",
    "\n",
    "Your main urls.py file should look like the following block:"
   ]
  },
  {
   "cell_type": "code",
   "execution_count": null,
   "id": "67f314ff",
   "metadata": {},
   "outputs": [],
   "source": [
    "from django.contrib import admin\n",
    "from django.urls import path, include\n",
    "\n",
    "urlpatterns = [\n",
    "    path('admin/', admin.site.urls),\n",
    "    path('', include('blog.urls')),\n",
    "    path('accounts/', include('django.contrib.auth.urls'))\n",
    "]"
   ]
  },
  {
   "cell_type": "markdown",
   "id": "07e74284",
   "metadata": {},
   "source": [
    "Your main login.html template should look like the following block:"
   ]
  },
  {
   "cell_type": "code",
   "execution_count": null,
   "id": "115e3eb4",
   "metadata": {},
   "outputs": [],
   "source": [
    "{% extends \"base.html\" %}\n",
    "{% load static %}\n",
    "\n",
    "{% block page_title %}{% endblock page_title %}\n",
    "\n",
    "{% block css_files %}\n",
    "    <link rel=\"stylesheet\" href=\"{% static \"registration/login.css\" %}\">\n",
    "{% endblock css_files %}\n",
    "\n",
    "{% block content %}\n",
    "    <form action=\"\" method='POST'>\n",
    "        {% csrf_token %}\n",
    "        {{ form.as_p }}\n",
    "        <button type=\"submit\">Log In</button>\n",
    "    </form>\n",
    "{% endblock content %}"
   ]
  },
  {
   "cell_type": "markdown",
   "id": "d9334525",
   "metadata": {},
   "source": [
    "lets style the form using bootstrap:"
   ]
  },
  {
   "cell_type": "markdown",
   "id": "92413dbe",
   "metadata": {},
   "source": [
    "<div class=\"d-flex justify-content-center\">\n",
    "    <div class='bg-dark p-5 rounded m-5'>\n",
    "        <div class='text-center mb-5 pl-5 pr-5'>\n",
    "            <div class='w250'></div>\n",
    "            <h1 class=\"display-3 bi bi-door-open\"></h1>\n",
    "        </div>\n",
    "        <hr class='bg-white'>\n",
    "        <form action=\"\" method='POST'>\n",
    "            {% csrf_token %}\n",
    "            <div class=\"form-group\">\n",
    "                {{ form.username.label_tag }}\n",
    "                {{ form.username }}\n",
    "            </div>\n",
    "            <div class=\"form-group\">\n",
    "                {{ form.password.label_tag }}\n",
    "                {{ form.password }}\n",
    "            </div>\n",
    "            <button class='form-control btn btn-success' type=\"submit\">Log In</button>\n",
    "        </form>\n",
    "    </div>\n",
    "</div>"
   ]
  },
  {
   "cell_type": "code",
   "execution_count": null,
   "id": "0285dfab",
   "metadata": {
    "vscode": {
     "languageId": "css"
    }
   },
   "outputs": [],
   "source": [
    "body{\n",
    "    color:white;\n",
    "}\n",
    ".form-group label{\n",
    "    display:block;\n",
    "}\n",
    ".form-group input{\n",
    "    width:100%;\n",
    "}\n",
    ".w250{\n",
    "    width:250px;\n",
    "}"
   ]
  },
  {
   "cell_type": "markdown",
   "id": "a712666f",
   "metadata": {
    "vscode": {
     "languageId": "css"
    }
   },
   "source": [
    "There is one more setting that you need to do, but let me explain why:\n",
    "- If you go back to main urls.py and CTRL+click on the account url and then navigate to the views of that url bu again CTRL+click on the LoginView, you will see that in that class view, when the login is done the view tries to redirect to a url which is stored in the setting.py<br>\n",
    "- Find this line to see it -> return resolve_url(settings.LOGIN_REDIRECT_URL) \n",
    "\n",
    "This url does not exists in our settings.py and hence we need to define it at the bottom of our settings.py file<br>\n",
    "What should be the address you might ask!<br>\n",
    "Any url! usually its the main web page of the website! (use the url name)."
   ]
  },
  {
   "cell_type": "code",
   "execution_count": null,
   "id": "7ffb8f14",
   "metadata": {},
   "outputs": [],
   "source": [
    "LOGIN_REDIRECT_URL = 'blog-root-url'"
   ]
  },
  {
   "cell_type": "markdown",
   "id": "4468c174",
   "metadata": {},
   "source": [
    "Before you login, you need to run a few commands! otherwise you can login or use django session.<br>"
   ]
  },
  {
   "cell_type": "code",
   "execution_count": null,
   "id": "906a6751",
   "metadata": {},
   "outputs": [],
   "source": [
    "python manage.py makemigrations\n",
    "\n",
    "python manage.pt migrate\n",
    "\n",
    "python manage.py createsuperuser"
   ]
  },
  {
   "cell_type": "markdown",
   "id": "9e2582c5",
   "metadata": {},
   "source": [
    "Now you can login using your superuser!\n",
    "\n",
    "Lets me explain a few things:\n",
    "- From the moment you login, django knows you in all the pages.\n",
    "- Django takes care of everything! you dont need to do anything.\n",
    "- If you want you can edit your views to show your users that they are loged in."
   ]
  },
  {
   "cell_type": "markdown",
   "id": "a917d8dd",
   "metadata": {},
   "source": [
    "In the next notebook, we will show our user that their are loged in."
   ]
  }
 ],
 "metadata": {
  "kernelspec": {
   "display_name": "Python 3",
   "language": "python",
   "name": "python3"
  },
  "language_info": {
   "codemirror_mode": {
    "name": "ipython",
    "version": 3
   },
   "file_extension": ".py",
   "mimetype": "text/x-python",
   "name": "python",
   "nbconvert_exporter": "python",
   "pygments_lexer": "ipython3",
   "version": "3.10.11"
  }
 },
 "nbformat": 4,
 "nbformat_minor": 5
}
