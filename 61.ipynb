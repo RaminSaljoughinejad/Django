{
 "cells": [
  {
   "cell_type": "markdown",
   "id": "2e3e3444",
   "metadata": {},
   "source": [
    "### Saving Forms directly to the database:\n",
    "\n",
    "\n",
    "When you use auto generated forms based on data-models, you do not need to create an instance of you model when you want to use it in your views.py file.\n",
    "\n",
    "In the next block is the code that you must have in your view.py file!<nt>\n",
    "Take a look at it:"
   ]
  },
  {
   "cell_type": "code",
   "execution_count": null,
   "id": "d16a17d8",
   "metadata": {},
   "outputs": [],
   "source": [
    "from django.shortcuts import render\n",
    "from django.http import HttpResponseRedirect\n",
    "from .forms import ReviewForm\n",
    "from .models import Review\n",
    "\n",
    "def index(request):\n",
    "    if request.method =='POST':\n",
    "        form = ReviewForm(request.POST)\n",
    "        if form.is_valid():\n",
    "            review = Review(user_name=form.cleaned_data['user_name'],\n",
    "                            review_text=form.cleaned_data['review_text'],\n",
    "                            rating=form.cleaned_data['rating'])\n",
    "            review.save()\n",
    "            return HttpResponseRedirect('/results')\n",
    "    else:\n",
    "        form = ReviewForm()\n",
    "    return render(request, 'reviews/index.html',{\n",
    "        'form':form\n",
    "    })\n",
    "\n",
    "\n",
    "def res(request):\n",
    "    return render(request, 'reviews/res.html')"
   ]
  },
  {
   "cell_type": "markdown",
   "id": "343874bf",
   "metadata": {},
   "source": [
    "On line 10, as you can see we created an instance of our model and then gaved it the values we wanted.<br>\n",
    "As i said earlier, when you use auto-generated forms then you do not need to do this.<br>\n",
    "Instead, after validating your form you can simply call your form and call save on that.<br>\n",
    "\n",
    "Your views.py file should look like the following block:"
   ]
  },
  {
   "cell_type": "code",
   "execution_count": null,
   "id": "239611c7",
   "metadata": {},
   "outputs": [],
   "source": [
    "from django.shortcuts import render\n",
    "from django.http import HttpResponseRedirect\n",
    "from .forms import ReviewForm\n",
    "\n",
    "def index(request):\n",
    "    if request.method =='POST':\n",
    "        form = ReviewForm(request.POST)\n",
    "        if form.is_valid():\n",
    "            from.save()\n",
    "            return HttpResponseRedirect('/results')\n",
    "    else:\n",
    "        form = ReviewForm()\n",
    "    return render(request, 'reviews/index.html',{\n",
    "        'form':form\n",
    "    })\n",
    "\n",
    "\n",
    "def res(request):\n",
    "    return render(request, 'reviews/res.html')"
   ]
  },
  {
   "cell_type": "markdown",
   "id": "cc02ac36",
   "metadata": {},
   "source": [
    "Note: saving a form is not only for inserting new values to the database, you could also use it to update data.<br>\n",
    "\n",
    "To do that, first you need to have an object instace of the row that you want to update! you can do it by using .objects.get() and then you need to pass it where you instantaite your form! (pass it as a second argument called instance)<br>\n",
    "\n",
    "\n",
    "Here is an example (please understand that this is a hypotethical senario and you are not suppose to do it to our project):"
   ]
  },
  {
   "cell_type": "code",
   "execution_count": null,
   "id": "1cdaa3d6",
   "metadata": {},
   "outputs": [],
   "source": [
    "from django.shortcuts import render\n",
    "from django.http import HttpResponseRedirect\n",
    "from .forms import ReviewForm\n",
    "from .models import Review\n",
    "\n",
    "def index(request):\n",
    "    if request.method =='POST':\n",
    "        existing_model = Review.objects.get(pk=1)\n",
    "        form = ReviewForm(request.POST, instance=existing_model)\n",
    "        if form.is_valid():\n",
    "            from.save()\n",
    "            return HttpResponseRedirect('/results')\n",
    "    else:\n",
    "        form = ReviewForm()\n",
    "    return render(request, 'reviews/index.html',{\n",
    "        'form':form\n",
    "    })\n",
    "\n",
    "\n",
    "def res(request):\n",
    "    return render(request, 'reviews/res.html')"
   ]
  }
 ],
 "metadata": {
  "kernelspec": {
   "display_name": "Python 3",
   "language": "python",
   "name": "python3"
  },
  "language_info": {
   "codemirror_mode": {
    "name": "ipython",
    "version": 3
   },
   "file_extension": ".py",
   "mimetype": "text/x-python",
   "name": "python",
   "nbconvert_exporter": "python",
   "pygments_lexer": "ipython3",
   "version": "3.10.11"
  }
 },
 "nbformat": 4,
 "nbformat_minor": 5
}
