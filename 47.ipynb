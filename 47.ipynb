{
 "cells": [
  {
   "cell_type": "markdown",
   "id": "33acee66-9b03-4aea-9931-fbe9205cc07c",
   "metadata": {},
   "source": [
    "### One-to-One Relation:\n",
    "\n",
    "lets say that every actor has a favorite_movie, now, since every movie has only one main_actor, the relation between these two is a one-to-one relation.<br>\n",
    "An actor has only one favorite movie and a movie has only one main actor.<br>\n",
    "\n",
    "One thing you should understand here is that a field can only have one relation! which means that our main_act field which is already a foregn key can not be used for another relation.<br>\n",
    "\n",
    "Considering what I said we can not make the mentioned relation, so lets create a new one.<br>\n",
    "Lets say that we want to create a new data-model called address, and also we want to add the address field to the Actor model.<br>\n",
    "In the case where every actor has only one address, and an address is only for one actor, the relation is a one-to-one relation.<br>\n",
    "\n",
    "Lets create this relation:<br>\n",
    "1- Create a data-model called Address with the following attributes and rules:<br>\n",
    "- street = models.CharField(max_length=80)\n",
    "- postal_code = models.CharField(max_length=12)\n",
    "- city = models.CharField(max_length=50)\n",
    "\n",
    "2- Add the address attribute to the Actor class.<br>\n",
    "\n",
    "Now, you need to create the relation but you should understand that it does not matter in which class the relation is being created! you can do it in both of them, but always try to pick the one that makes more sence, and to me it is the actor class because I can make the relation better in my head.<br>\n",
    "\n",
    "3- Set the address attribute to model.OneToOneField() and provide it with the Address class name.<br>\n",
    "4- Also, just like the previouse retation that we created for the main_act, we need to tell django that what should happen if the related model gets deleted ('on_delete').<br>\n",
    "5- Please note that you could provide the field with a related_name and set it to something like but as it is a one-to-one relation it is not needed.<br>\n",
    "\n",
    "Your models.py file should look like the following block:"
   ]
  },
  {
   "cell_type": "code",
   "execution_count": null,
   "id": "89dd16d3-3eba-4b3c-b169-363646298b92",
   "metadata": {},
   "outputs": [],
   "source": [
    "from django.db import models\n",
    "from django.core.validators import MinValueValidator, MaxValueValidator\n",
    "from django.urls import reverse\n",
    "from django.utils.text import slugify\n",
    "\n",
    "class Address(models.Model):\n",
    "    streetstreet = models.CharField(max_length=80)\n",
    "    postal_code = models.CharField(max_length=12)\n",
    "    city = models.CharField(max_length=50)\n",
    "\n",
    "class Actor(models.Model):\n",
    "    first_name = models.CharField(max_length=100)\n",
    "    last_name  = models.CharField(max_length=100)\n",
    "    address = models.OneToOneField(Address, on_delete=models.CASCADE)\n",
    "\n",
    "    def full_name(self):\n",
    "        return f\"{self.first_name} {self.last_name}\"\n",
    "    \n",
    "    def __str__(self):\n",
    "        return self.full_name()\n",
    "\n",
    "class Movie(models.Model):\n",
    "    title = models.CharField(max_length=50)\n",
    "    rating = models.IntegerField(validators=[MinValueValidator(1), MaxValueValidator(10)])\n",
    "    main_act= models.ForeignKey(Actor, on_delete=models.CASCADE, null=True, related_name='movies')\n",
    "    is_bestselling = models.BooleanField(default=False)\n",
    "    slug = models.SlugField(default='', null=False, db_index=True)\n",
    " \n",
    "    def get_absolute_url(self):\n",
    "        return reverse(\"movie_detail_url\", args=[self.slug])\n",
    "\n",
    "    def __str__(self):\n",
    "        return f\"title:{self.title}, rating:{self.rating}, Main Actor/actress:{self.main_act}{', Best Seller' if self.is_bestselling else ''}\""
   ]
  },
  {
   "cell_type": "markdown",
   "id": "c2d74807-ca29-4a8a-8fcb-fb5cf54ca430",
   "metadata": {},
   "source": [
    "You need to run makemigrations...<br>\n",
    "This, ofc, will raise an error!<br>\n",
    "Why? well, django is wondering that what value it should put for address field of the existing actors.\n",
    "\n",
    "To fix this, just quit the command, get back to your model and add null=True to the address field."
   ]
  },
  {
   "cell_type": "code",
   "execution_count": null,
   "id": "c5ddafb0-b772-4ef7-a45d-39b0b85880fb",
   "metadata": {},
   "outputs": [],
   "source": [
    "address = models.OneToOneField(Address, on_delete=models.CASCADE, null=True)"
   ]
  },
  {
   "cell_type": "markdown",
   "id": "38515d67-a3f6-423f-89cd-2b60945e34b2",
   "metadata": {},
   "source": [
    "Now, you can run makemigrations and then migrate to finilize the changes."
   ]
  },
  {
   "cell_type": "markdown",
   "id": "ce314eda-f452-4392-b827-a9be754333e7",
   "metadata": {},
   "source": [
    "In the next notebook, once again we use the shell to see our models and also get a better understanding of our data and relations."
   ]
  }
 ],
 "metadata": {
  "kernelspec": {
   "display_name": "Python 3 (ipykernel)",
   "language": "python",
   "name": "python3"
  },
  "language_info": {
   "codemirror_mode": {
    "name": "ipython",
    "version": 3
   },
   "file_extension": ".py",
   "mimetype": "text/x-python",
   "name": "python",
   "nbconvert_exporter": "python",
   "pygments_lexer": "ipython3",
   "version": "3.10.11"
  }
 },
 "nbformat": 4,
 "nbformat_minor": 5
}
