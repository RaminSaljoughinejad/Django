{
 "cells": [
  {
   "cell_type": "markdown",
   "id": "b7bc2d19",
   "metadata": {},
   "source": [
    "### Serving Upload Files:\n",
    "\n",
    "\n",
    "Lets see how we can use uploaded files in our templates:\n",
    "\n",
    "1. Create a new template and its styling file (I named them 'user_profiles.html' and 'user_profiles.css'). \n",
    "\n",
    "Here is the code for my user_profiles.html:"
   ]
  },
  {
   "cell_type": "code",
   "execution_count": null,
   "id": "cec78697",
   "metadata": {
    "vscode": {
     "languageId": "html"
    }
   },
   "outputs": [],
   "source": [
    "{% extends \"base.html\" %}\n",
    "{% load static %}\n",
    "\n",
    "{% block page_title %}User Profiles{% endblock page_title %}User Profiles\n",
    "\n",
    "{% block css_files %}\n",
    "    <link rel=\"stylesheet\" href=\"{% static \"profiles/user_profiles.css\" %}\">\n",
    "{% endblock css_files %}\n",
    "\n",
    "{% block content %}\n",
    "    <div class='main-wrapper'>\n",
    "        <ul>\n",
    "\n",
    "        </ul>\n",
    "    </div>\n",
    "{% endblock content %}"
   ]
  },
  {
   "cell_type": "markdown",
   "id": "73520135",
   "metadata": {},
   "source": [
    "Lets create a view that fetches all the images paths and show them as links to the user.\n",
    "\n",
    "1. Navigate to your views.py file and create a view.\n",
    "\n",
    "Your views.py file should look like the following block:"
   ]
  },
  {
   "cell_type": "code",
   "execution_count": null,
   "id": "96a681e4",
   "metadata": {},
   "outputs": [],
   "source": [
    "from django.shortcuts import render\n",
    "from django.views import View\n",
    "from django.views.generic.edit import CreateView\n",
    "from django.views.generic import ListView\n",
    "from django.http import HttpResponseRedirect\n",
    "from .forms import ProfileForm\n",
    "from .models import UserProfile\n",
    "\n",
    "class IndexView(CreateView):\n",
    "    template_name = 'profiles/index.html'\n",
    "    model = UserProfile\n",
    "    fields = '__all__'\n",
    "    success_url = '/profiles'\n",
    "\n",
    "class AllProfilesView(ListView):\n",
    "    template_name = 'profiles/user_profiles.html'\n",
    "    model = UserProfile\n",
    "    context_object_name = 'paths'"
   ]
  },
  {
   "cell_type": "markdown",
   "id": "b83cdb1f",
   "metadata": {},
   "source": [
    "2. Modify yout template to show the images in img tags.\n",
    "    - You may wonder how are we supposed to construct the paths! they aint static addresses so we can not use {% static %}.\n",
    "    - Thanks to django, all those uploaded files are being managed by models.\n",
    "    - You can use path [path.image.path] to see the path on the server or url [path.image.url] to show the image on the web browser\n",
    "    - You need to use the url\n",
    "Your template should look like the following block:"
   ]
  },
  {
   "cell_type": "code",
   "execution_count": null,
   "id": "c38c5bd8",
   "metadata": {
    "vscode": {
     "languageId": "html"
    }
   },
   "outputs": [],
   "source": [
    "{% extends \"base.html\" %}\n",
    "{% load static %}\n",
    "\n",
    "{% block page_title %}Create a Profile{% endblock page_title %}\n",
    "\n",
    "{% block css_files %}\n",
    "    <link rel=\"stylesheet\" href=\"{% static \"profiles/index.css\" %}\">\n",
    "{% endblock css_files %}\n",
    "\n",
    "{% block content %}\n",
    "    <div class='main-wrapper'>\n",
    "        <form action=\"/profiles/\" method='POST' enctype='multipart/form-data'>\n",
    "            {% csrf_token %}\n",
    "            {{ form }}\n",
    "            <button>Upload</button>\n",
    "        </form>\n",
    "    </div>\n",
    "{% endblock content %}"
   ]
  },
  {
   "cell_type": "markdown",
   "id": "6aff30dc",
   "metadata": {
    "vscode": {
     "languageId": "html"
    }
   },
   "source": [
    "If you save and reload the page you will see no images! but why is that?<br>\n",
    "\n",
    "Inspect the page to see if you can understand the problem<br>\n",
    "\n",
    "\n",
    "Yes, the address is not complete.<br>\n",
    "\n",
    "How to fix it?<br>\n",
    "\n",
    "1. Navigate to settings.py file and after MEDIA_ROOT, define a new variable called MEDIA_URL\n",
    "    - This will tell django that the files containing this url are accessable from anywhere outside the server.\n",
    "    - pass '/anything-here/' to MEDIA_URL\n",
    "    - Pelase understand that you can type anything in between the two '/'\n",
    "\n",
    "Your settings.py file should look like the following block:"
   ]
  },
  {
   "cell_type": "code",
   "execution_count": null,
   "id": "a10bed06",
   "metadata": {},
   "outputs": [],
   "source": [
    "MEDIA_URL = '/user-media/'"
   ]
  },
  {
   "cell_type": "markdown",
   "id": "680c501c",
   "metadata": {
    "vscode": {
     "languageId": "html"
    }
   },
   "source": [
    "2. Navigate to urls.py file (the main urls.py file of your project! the one which is next to settings.py)\n",
    "    - Add a '+ static()' after urlpatters = [...]\n",
    "    - To be able to use the static function you need to import it from django.conf.urls.static\n",
    "    - You also need to import settings from django.conf, this allows you to access MEDIA_URL\n",
    "    - the static function is there to tell django which files are supposed to be exposed to the outside world!\n",
    "    - The static function needs 2 input arguments:\n",
    "        - The first one: settings.MEDIA_URL\n",
    "        - The second one which is a key-argument called document_root: need to point to settings.MEDIA_ROOT (the folder where you store the actual files on the server).\n",
    "Your urls.py file should look like the following block:"
   ]
  },
  {
   "cell_type": "code",
   "execution_count": null,
   "id": "56844086",
   "metadata": {},
   "outputs": [],
   "source": [
    "from django.contrib import admin\n",
    "from django.urls import path, include\n",
    "from django.conf.urls.static import static\n",
    "from django.conf import settings\n",
    "\n",
    "urlpatterns = [\n",
    "    path('admin/', admin.site.urls),\n",
    "    path('', include('reviews.urls')),\n",
    "    path('profiles/', include('profiles.urls'))\n",
    "] + static(settings.MEDIA_URL, document_root=settings.MEDIA_ROOT)"
   ]
  },
  {
   "cell_type": "markdown",
   "id": "21026142",
   "metadata": {},
   "source": [
    "Now, Save everything and try to reload the page! Everything should work just fine<br>\n",
    "\n",
    "Noe: Dont forget to inspect the web page to see the MEDIA_URL path at the begining of every image path<br>"
   ]
  },
  {
   "cell_type": "markdown",
   "id": "94773244",
   "metadata": {},
   "source": [
    "### End of Chapter 9!"
   ]
  }
 ],
 "metadata": {
  "kernelspec": {
   "display_name": "Python 3",
   "language": "python",
   "name": "python3"
  },
  "language_info": {
   "codemirror_mode": {
    "name": "ipython",
    "version": 3
   },
   "file_extension": ".py",
   "mimetype": "text/x-python",
   "name": "python",
   "nbconvert_exporter": "python",
   "pygments_lexer": "ipython3",
   "version": "3.10.11"
  }
 },
 "nbformat": 4,
 "nbformat_minor": 5
}
