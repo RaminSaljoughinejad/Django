{
 "cells": [
  {
   "cell_type": "markdown",
   "id": "dba21612",
   "metadata": {},
   "source": [
    "### Chapter 13 - Custom User Model:\n",
    "\n",
    "The biggest problem with the auth.user is that it is very hard to modify once you migrate, also in django documentation it is said that we should avoid any changes.<br>\n",
    "\n",
    "The solution is to use a CustomUser model.<br>\n",
    "Please understand that in order to use a CustomUser model you should be in the early stage of you project, meaning that you shouldnt have done any migrations otherwise it is almost imposible to achieve.<br>\n",
    "\n",
    "So, lets start with a new project:\n",
    "\n",
    "### BookStore:\n",
    "1. Create a new django project called 'BookStore'\n",
    "2. Add a new app called 'accounts' to the project\n",
    "3. Add the new add to the INSTALLED_APP list (settings.py)\n",
    "4. Navigate to account.models.py\n",
    "5. From django.contrib.auth.models import AbstractUser\n",
    "6. Create a new model called CustomUser and extend it from AbstractUser class"
   ]
  },
  {
   "cell_type": "code",
   "execution_count": null,
   "id": "3562f321",
   "metadata": {},
   "outputs": [],
   "source": [
    "from django.contrib.auth.models import AbstractUser\n",
    "\n",
    "class CustomUser(AbstractUser):\n",
    "    pass"
   ]
  },
  {
   "cell_type": "markdown",
   "id": "8de90cfd",
   "metadata": {},
   "source": [
    "Now we need to tell django that it should use this model instead of its existing auth model\n",
    "\n",
    "7. Navigate to settings.py and add a new variable called AUTH_USER_MODEL and pass 'accounts.CustomUser' to it"
   ]
  },
  {
   "cell_type": "code",
   "execution_count": null,
   "id": "8b5cb07e",
   "metadata": {},
   "outputs": [],
   "source": [
    "AUTH_USER_MODEL = 'accounts.CustomUser'"
   ]
  },
  {
   "cell_type": "markdown",
   "id": "10692006",
   "metadata": {},
   "source": [
    "Lets talk about AbstractUser Class:\n",
    "\n",
    "The abstract user class is a class that already has some fields in it, you can use it and also add more fields to it.\n",
    "\n",
    "Here are the fields included in the AbstractUser class:\n",
    "\n",
    "- username: A string field for the username, which is unique.\n",
    "- first_name: A string field for the user's first name.\n",
    "- last_name: A string field for the user's last name.\n",
    "- email: An email field for the user's email address.\n",
    "- password: A string field for storing the hashed password.\n",
    "- groups: A many-to-many relationship to the Group model, representing the groups the user belongs to.\n",
    "- user_permissions: A many-to-many relationship to the Permission model, representing the permissions granted to the user.\n",
    "- is_staff: A boolean field indicating whether the user can access the admin site.\n",
    "- is_active: A boolean field indicating whether the user account is active.\n",
    "- is_superuser: A boolean field indicating whether the user has all permissions without explicitly assigning them.\n",
    "- last_login: A datetime field for the last time the user logged in.\n",
    "- date_joined: A datetime field for when the user account was created."
   ]
  },
  {
   "cell_type": "markdown",
   "id": "8a347e54",
   "metadata": {},
   "source": [
    "Now lets add a new field to it just for seeing how it is:"
   ]
  },
  {
   "cell_type": "code",
   "execution_count": null,
   "id": "47f20867",
   "metadata": {},
   "outputs": [],
   "source": [
    "from django.db import models\n",
    "from django.contrib.auth.models import AbstractUser\n",
    "\n",
    "class CustomUser(AbstractUser):\n",
    "    age = models.PositiveIntegerField()"
   ]
  },
  {
   "cell_type": "markdown",
   "id": "c6e2aa21",
   "metadata": {},
   "source": [
    "PositiveIntegerField only accepts Possitive values"
   ]
  },
  {
   "cell_type": "markdown",
   "id": "868dc960",
   "metadata": {},
   "source": [
    "Before we mode on, lets talk about the difference between AbstractUser and AbstractBaseUser classes:\n",
    "\n",
    "\n",
    "### BastractUser: \n",
    "\n",
    "In Django, both AbstractUser and AbstractBaseUser are classes used to create custom user models, but they serve different purposes and offer different levels of customization. Here’s a detailed comparison of the two:\n",
    "AbstractUser\n",
    "\n",
    "- Purpose:\n",
    "\n",
    "    - AbstractUser is a more complete and feature-rich base class for creating custom user models.\n",
    "    - It provides all the fields and methods commonly needed for a user model out of the box.\n",
    "\n",
    "- Fields:\n",
    "\n",
    "    - Includes common fields such as username, first_name, last_name, email, password, groups, user_permissions, is_staff, is_active, is_superuser, last_login, and date_joined.\n",
    "\n",
    "- Use Case:\n",
    "\n",
    "    - Use AbstractUser if you need to extend the default Django user model with additional fields or methods, but want to retain all the built-in functionality.\n",
    "\n",
    "### AbstractBaseUser\n",
    "\n",
    "- Purpose:\n",
    "\n",
    "    - AbstractBaseUser provides the bare minimum for a custom user model, offering a lot more flexibility for defining a completely custom user model.\n",
    "    - It includes only the core authentication functionality, without any of the fields or methods provided by AbstractUser.\n",
    "\n",
    "- Fields:\n",
    "\n",
    "    - Includes only the password, last_login, and is_active fields.\n",
    "    - Requires you to define additional fields such as username or email, and manage user authentication and permissions more manually.\n",
    "\n",
    "- Use Case:\n",
    "\n",
    "    - Use AbstractBaseUser if you need to build a custom user model from scratch, with completely different fields and authentication logic than what is provided by Django’s default user model."
   ]
  },
  {
   "cell_type": "markdown",
   "id": "d46c756c",
   "metadata": {},
   "source": [
    "### Now lets add some constraints to our model:"
   ]
  },
  {
   "cell_type": "code",
   "execution_count": null,
   "id": "dec06d79",
   "metadata": {},
   "outputs": [],
   "source": [
    "from django.db import models\n",
    "from django.contrib.auth.models import AbstractUser\n",
    "\n",
    "class CustomUser(AbstractUser):\n",
    "    age = models.PositiveIntegerField(null=True, blank=True) "
   ]
  },
  {
   "cell_type": "markdown",
   "id": "94b4e06e",
   "metadata": {},
   "source": [
    "In Django, null and blank are two model field options that control different aspects of data validation and database schema.<br>\n",
    "\n",
    "Null is for database and none is for the form that user is going to fillin.\n",
    "\n",
    "Please understand that for a charfield a \"\" is considered blank but not null."
   ]
  },
  {
   "cell_type": "markdown",
   "id": "126c46cd",
   "metadata": {},
   "source": [
    "### CustomUser Forms:\n",
    "\n",
    "Now that we created our CustomUser-class we need to work on its form! Why? because if we don't django will use its own predefined form.<br>\n",
    "The predefiened form will be used by django in both adminstrative area and signups. We obviously don't want that and we want our own forms to be desiplayed. This we can style the admin area in the way that we want.<br>\n",
    "\n",
    "In general, what we are oing to do is to extend the predefined forms and modify them:<br>\n",
    "What you need to understand here is that there are two forms that we are going to extend and modify, 'UserCreationForm' and 'UseChangeForm', the first form is used when we want to create (signup) a new user and the second one is for adminstrative area.<be>\n",
    "<br>\n",
    "1. Create a file called forms.py in your accounts app.\n",
    "2. Create a class called CustomCreationForm inside it\n",
    "3. From django.contrib.auth.forms import UserCreationForm\n",
    "4. Extend your class from UserCreationForm\n",
    "5. Create a Meta class inside it to modify its behaviour\n",
    "6. Create a class-attribute inside your Meta class called 'model' and pass your CustomModel to it.\n",
    "7. Createa another class-attribute called fields and pass '__all__'\n",
    "- This will add the age field we added to our AbstractUser class to our form class."
   ]
  },
  {
   "cell_type": "code",
   "execution_count": null,
   "id": "802f17ab",
   "metadata": {},
   "outputs": [],
   "source": [
    "from django.contrib.auth.forms import UserCreationForm, UserChangeForm\n",
    "from .models import CustomUser\n",
    "\n",
    "class CustomUserCreationForm(UserCreationForm):\n",
    "    class Meta:\n",
    "        model = CustomUser\n",
    "        fields = '__all__'"
   ]
  },
  {
   "cell_type": "markdown",
   "id": "752ac47c",
   "metadata": {},
   "source": [
    "Now, lets extend and modify our UserChangeForm:\n",
    "\n",
    "8. Create a new class called CustomUserChangeForm and extend it from UserChangeForm\n",
    "9. Create a Meta class inside it and pass the model exactly like what you did for the CustomUserCreationForm class."
   ]
  },
  {
   "cell_type": "code",
   "execution_count": null,
   "id": "bdf86849",
   "metadata": {},
   "outputs": [],
   "source": [
    "class CustomUserChangeForm(UserChangeForm):\n",
    "    class Meta:\n",
    "        model = CustomUser\n",
    "        fields = '__all__'"
   ]
  },
  {
   "cell_type": "markdown",
   "id": "6461d85c",
   "metadata": {},
   "source": [
    "Sofar we have created our model and its forms. We have already informed django about the model but the thing is that django is not aware of the forms that we have created. To fix this:<br>\n",
    "<br>\n",
    "\n",
    "1. Navigate to accounts.admins.py\n",
    "2. From django.contrib.auth.admin import UserAdmin\n",
    "3. Create a new class called 'CustomUserAdmin' and extend it from UserAdmin\n",
    "4. Create a class-attribute called add_form and pass the CustomUserCreationForm to it (you need to import it first)\n",
    "5. Create another class-attribute called form and pass the CustomUserChangeForm to it\n",
    "6. Also, you need to add a third class-attribute called model and pass the CustomUser model to it.\n",
    "7. Don't forget to register your model.\n",
    "\n",
    "Your accounts.admin.py file should look like the following block:"
   ]
  },
  {
   "cell_type": "code",
   "execution_count": null,
   "id": "16c6d3c7",
   "metadata": {},
   "outputs": [],
   "source": [
    "from django.contrib import admin\n",
    "from django.contrib.auth.admin import UserAdmin\n",
    "from .forms import CustomUserCreationForm, CustomUserChangeForm\n",
    "from .models import CustomUser\n",
    "\n",
    "\n",
    "class CustomUserAdmin(UserAdmin):\n",
    "    add_form = CustomUserCreationForm\n",
    "    form = CustomUserChangeForm\n",
    "    model = CustomUser\n",
    "\n",
    "\n",
    "admin.site.register(CustomUser, CustomUserAdmin)"
   ]
  },
  {
   "cell_type": "markdown",
   "id": "74a849c3",
   "metadata": {},
   "source": [
    "Now, django knows what forms and models it has to use.<br>\n",
    "\n",
    "Now, we can use the makemigration and migrate command.<br>\n",
    "\n",
    "But, you should undertsand that you need to them only for your accounts app! and not the whole project.<br>"
   ]
  },
  {
   "cell_type": "code",
   "execution_count": null,
   "id": "1496b1e5",
   "metadata": {},
   "outputs": [],
   "source": [
    "python manage.py makemigrations accounts\n",
    "\n",
    "python manage.py migrate"
   ]
  },
  {
   "cell_type": "markdown",
   "id": "e6112237",
   "metadata": {},
   "source": [
    "Now, you need to create a super-user and run the server"
   ]
  },
  {
   "cell_type": "code",
   "execution_count": null,
   "id": "a5c617d9",
   "metadata": {
    "vscode": {
     "languageId": "powershell"
    }
   },
   "outputs": [],
   "source": [
    "python manage.py createsuperuser\n",
    "\n",
    "python manage.py runserver"
   ]
  },
  {
   "cell_type": "markdown",
   "id": "f8c2219d",
   "metadata": {
    "vscode": {
     "languageId": "powershell"
    }
   },
   "source": [
    "If you visit the admin page, login, and check the users table, you will notice that the 'age' column is not added! to fix this:<br>\n",
    "\n",
    "1. Navigate to accounts.admin.py and add a new class-attribute called fieldssets and pass 'UserAdmin.fieldsets + ((None, {'fields':('age',)}))"
   ]
  },
  {
   "cell_type": "code",
   "execution_count": null,
   "id": "b89f2f60",
   "metadata": {},
   "outputs": [],
   "source": [
    "class CustomUserAdmin(UserAdmin):\n",
    "    add_form = CustomUserCreationForm\n",
    "    form = CustomUserChangeForm\n",
    "    model = CustomUser\n",
    "    fieldsets = UserAdmin.fieldsets + (\n",
    "        (None, {'fields': ('age',)}),\n",
    "    )"
   ]
  },
  {
   "cell_type": "markdown",
   "id": "f8ca9f02",
   "metadata": {},
   "source": [
    "Now if you save and reload the page you will see that the age is added at the end of your page.<br>"
   ]
  },
  {
   "cell_type": "markdown",
   "id": "30e6b304",
   "metadata": {},
   "source": [
    "There is a problem! if you try to add a new user using the adminstrative area you will see that the form doesn not have the age field, to fix this:<br>\n",
    "add the following to your CustomUserAdmin class:"
   ]
  },
  {
   "cell_type": "code",
   "execution_count": null,
   "id": "1d3980fd",
   "metadata": {},
   "outputs": [],
   "source": [
    "add_fieldsets = UserAdmin.add_fieldsets + (\n",
    "        (None, {'fields': ('age',)}),\n",
    "    )"
   ]
  },
  {
   "cell_type": "markdown",
   "id": "59ad242d",
   "metadata": {},
   "source": [
    "In the next notebook we will continue working on our project"
   ]
  }
 ],
 "metadata": {
  "kernelspec": {
   "display_name": "Python 3",
   "language": "python",
   "name": "python3"
  },
  "language_info": {
   "codemirror_mode": {
    "name": "ipython",
    "version": 3
   },
   "file_extension": ".py",
   "mimetype": "text/x-python",
   "name": "python",
   "nbconvert_exporter": "python",
   "pygments_lexer": "ipython3",
   "version": "3.10.11"
  }
 },
 "nbformat": 4,
 "nbformat_minor": 5
}
