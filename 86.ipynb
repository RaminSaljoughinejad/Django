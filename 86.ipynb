{
 "cells": [
  {
   "cell_type": "code",
   "execution_count": null,
   "metadata": {},
   "outputs": [],
   "source": [
    "The biggest problem with the auth.user is that it is very hard to modify once you migrate, also in django documentation it is said that we should avoid any changes.<br>\n",
    "\n",
    "The solution is to use a CustomUser model.<br>\n",
    "Please understand that in order to use a CustomUser model you should be in the early stage of you project, meaning that you shouldnt have done any migrations otherwise it is almost imposible to achieve.<br>\n",
    "\n",
    "So, lets start with a new project:"
   ]
  }
 ],
 "metadata": {
  "kernelspec": {
   "display_name": "Python 3",
   "language": "python",
   "name": "python3"
  },
  "language_info": {
   "codemirror_mode": {
    "name": "ipython",
    "version": 3
   },
   "file_extension": ".py",
   "mimetype": "text/x-python",
   "name": "python",
   "nbconvert_exporter": "python",
   "pygments_lexer": "ipython3",
   "version": "3.10.11"
  }
 },
 "nbformat": 4,
 "nbformat_minor": 5
}
