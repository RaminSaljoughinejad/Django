{
 "cells": [
  {
   "cell_type": "markdown",
   "id": "dba21612",
   "metadata": {},
   "source": [
    "### Chapter 13 - Custom User Model:\n",
    "\n",
    "The biggest problem with the auth.user is that it is very hard to modify once you migrate, also in django documentation it is said that we should avoid any changes.<br>\n",
    "\n",
    "The solution is to use a CustomUser model.<br>\n",
    "Please understand that in order to use a CustomUser model you should be in the early stage of you project, meaning that you shouldnt have done any migrations otherwise it is almost imposible to achieve.<br>\n",
    "\n",
    "So, lets start with a new project:\n",
    "\n",
    "### BookStore:\n",
    "1. Create a new django project called 'BookStore'\n",
    "2. Add a new app called 'accounts' to the project\n",
    "3. Add the new add to the INSTALLED_APP list (settings.py)\n",
    "4. Navigate to account.models.py\n",
    "5. From django.contrib.auth.models import AbstractUser\n",
    "6. Create a new model called CustomUser and extend it from AbstractUser class"
   ]
  },
  {
   "cell_type": "code",
   "execution_count": null,
   "id": "3562f321",
   "metadata": {},
   "outputs": [],
   "source": [
    "from django.contrib.auth.models import AbstractUser\n",
    "\n",
    "class CustomUser(AbstractUser):\n",
    "    pass"
   ]
  },
  {
   "cell_type": "markdown",
   "id": "8de90cfd",
   "metadata": {},
   "source": [
    "Now we need to tell django that it should use this model instead of its existing auth model\n",
    "\n",
    "7. Navigate to settings.py and add a new variable called AUTH_USER_MODEL and pass 'accounts.CustomUser' to it"
   ]
  },
  {
   "cell_type": "code",
   "execution_count": null,
   "id": "8b5cb07e",
   "metadata": {},
   "outputs": [],
   "source": [
    "AUTH_USER_MODEL = 'accounts.CustomUser'"
   ]
  },
  {
   "cell_type": "markdown",
   "id": "10692006",
   "metadata": {},
   "source": []
  }
 ],
 "metadata": {
  "kernelspec": {
   "display_name": "Python 3",
   "language": "python",
   "name": "python3"
  },
  "language_info": {
   "codemirror_mode": {
    "name": "ipython",
    "version": 3
   },
   "file_extension": ".py",
   "mimetype": "text/x-python",
   "name": "python",
   "nbconvert_exporter": "python",
   "pygments_lexer": "ipython3",
   "version": "3.10.11"
  }
 },
 "nbformat": 4,
 "nbformat_minor": 5
}
