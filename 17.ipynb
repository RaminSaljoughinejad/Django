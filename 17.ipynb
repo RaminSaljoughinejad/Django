{
 "cells": [
  {
   "cell_type": "markdown",
   "id": "90094db5-4341-48cc-b1db-38329f0d9b5e",
   "metadata": {},
   "source": [
    "### Fixing The Links\n",
    "\n",
    "If you remember, before we use for the for tag! we used the reverse function inside the index function to create and reference our links!<br>\n",
    "However, usuing the reverse function is not avalible inside the DTL.<br>\n",
    "<br>\n",
    "What should we do?<br>\n",
    "Well, although that you can harcode the links, there is a better way which is using the url tag.<br>\n",
    "The reverse tag is the equivalent for the reverse function inside DTL.<br>\n",
    "The syntax of url tag is as follows:<br>"
   ]
  },
  {
   "cell_type": "code",
   "execution_count": null,
   "id": "dd4e81a9-94d4-4e7c-a072-a976a8060996",
   "metadata": {},
   "outputs": [],
   "source": [
    "{% url 'url-name(check urls.py for the name)' v1 v2 %}"
   ]
  },
  {
   "cell_type": "markdown",
   "id": "f1773559-1c79-4118-862c-89e291953876",
   "metadata": {},
   "source": [
    "or"
   ]
  },
  {
   "cell_type": "code",
   "execution_count": null,
   "id": "2606990c-fc89-412c-9f87-5917146e8559",
   "metadata": {},
   "outputs": [],
   "source": [
    "{% url 'url-name(check urls.py for the name)' args1=v1 args2=v2 %}"
   ]
  },
  {
   "cell_type": "markdown",
   "id": "17940a27-c22e-4094-b5d7-702f6570f208",
   "metadata": {},
   "source": [
    "You may have noticed that we are not able to use the values we have inside the excersised list to create proper links. Hence we need to make some modifications to our index function.<br>\n",
    "\n",
    "Let me explain why we couldnt create the links!<br>\n",
    "If you remember our urls are numbered and we used to create them using the keys inside our dictionary.<br>\n",
    "The problem is that we never sent those numbers to the template and now that we need them we cant know which number belongs to which url.<br>\n",
    "\n",
    "To fix this:<br>\n",
    "1- Navigate to yout views.py and inside the index function change the code so that you send the whole dictionary and not just a list of the values to as the response.<br>\n",
    "2- Inside your index.html use .items to iterate throught keys and values pers like you normaly do inside python.\n",
    "\n",
    "<span style='color:red'>Note: At the moment your integer view handle does not have a name, you need to go to your urls.py file and assign it with a name.</span>\n",
    "\n",
    "Your index function should look something like the following block:"
   ]
  },
  {
   "cell_type": "code",
   "execution_count": null,
   "id": "64526825-a0c8-4d5a-89b4-cf3c83b4c7ce",
   "metadata": {},
   "outputs": [],
   "source": [
    "def index(request):\n",
    "    return render(request, 'Python_Fundamentals/index.html', {\"exercises\": _dict})"
   ]
  },
  {
   "cell_type": "markdown",
   "id": "b5163c19-1155-42af-8483-83770a37a9da",
   "metadata": {},
   "source": [
    "Your index.html file should look something like the following block:"
   ]
  },
  {
   "cell_type": "code",
   "execution_count": null,
   "id": "21f34e9d-10eb-44b1-bf16-f3c1bce72050",
   "metadata": {},
   "outputs": [],
   "source": [
    "<!DOCTYPE html>\n",
    "<html lang=\"en\">\n",
    "<head>\n",
    "    <meta charset=\"UTF-8\">\n",
    "    <meta name=\"viewport\" content=\"width=device-width, initial-scale=1.0\">\n",
    "    <title></title>\n",
    "</head>\n",
    "<body>\n",
    "    <ul>\n",
    "    {% for key, value in exercises.items %}\n",
    "        <li><a href='{% url 'py_fun_int' key %}'>{{ value|title }}</a></li>\n",
    "    {% endfor %}\n",
    "    </ul>\n",
    "</body>\n",
    "</html> "
   ]
  },
  {
   "cell_type": "markdown",
   "id": "544efd00-1b3d-4784-af22-a41e73bad00f",
   "metadata": {},
   "source": [
    "Your urls.py file should look something like the following block:"
   ]
  },
  {
   "cell_type": "code",
   "execution_count": null,
   "id": "9246a16d-dd6b-4b6a-8d5b-3f851366efb2",
   "metadata": {},
   "outputs": [],
   "source": [
    "from django.urls import path\n",
    "from . import views\n",
    "\n",
    "urlpatterns = [\n",
    "    path(\"\", views.index),\n",
    "    path(\"<int:exercise>\", views.url_handler_int, name=\"py_fun_int\"),\n",
    "    path(\"<str:exercise>\", views.url_handler_str, name='py_fun')\n",
    "]"
   ]
  },
  {
   "cell_type": "markdown",
   "id": "cacea105-edd4-4827-9b8f-1e506a1a6bf7",
   "metadata": {},
   "source": [
    "Now if you save and rerun the page everything should work just fine.\n",
    "\n",
    "In the next notebook we are going to learn about the if tag!"
   ]
  }
 ],
 "metadata": {
  "kernelspec": {
   "display_name": "Python 3 (ipykernel)",
   "language": "python",
   "name": "python3"
  },
  "language_info": {
   "codemirror_mode": {
    "name": "ipython",
    "version": 3
   },
   "file_extension": ".py",
   "mimetype": "text/x-python",
   "name": "python",
   "nbconvert_exporter": "python",
   "pygments_lexer": "ipython3",
   "version": "3.10.11"
  }
 },
 "nbformat": 4,
 "nbformat_minor": 5
}
